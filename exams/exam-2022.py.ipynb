{
 "cells": [
  {
   "cell_type": "markdown",
   "id": "72ca3653",
   "metadata": {},
   "source": [
    "<!-- LTeX: language=fr -->\n",
    "Partiel Apprendre à programmer 2022\n",
    "==================================="
   ]
  },
  {
   "cell_type": "markdown",
   "id": "11ac09fb",
   "metadata": {},
   "source": [
    "## ATTENTION\n",
    "\n",
    "<small>Quelques rappels bien voyants, pour ne pas que vous les manquiez</small>\n",
    "\n",
    "- **PENSEZ À TESTER VOTRE NOTEBOOK/SCRIPT EN L'EXÉCUTANT AVANT DE LE RENDRE**\n",
    "  - si vous travaillez dans un notebook, vérifiez que ça marche aussi si vous faites « restart\n",
    "    kernel and run all »\n",
    "- **SAUVEGARDEZ RÉGULIÈREMENT VOTRE TRAVAIL**"
   ]
  },
  {
   "cell_type": "markdown",
   "id": "8bcffde4",
   "metadata": {},
   "source": [
    "## Consignes\n",
    "\n",
    "Ce partiel se présente comme une série de questions indépendantes. Pour chacune d'entre elles, vous\n",
    "devrez écrire un programme en Python. Vous avez plusieurs possibilités pour travailler :"
   ]
  },
  {
   "cell_type": "markdown",
   "id": "cf65c2ee",
   "metadata": {},
   "source": [
    "- Répondre directement dans ce notebook, sur le modèle des exercices que vous avez fait pendant le\n",
    "  semestre.\n",
    "- Vous pouvez écrire un script `.py`, soit dans un éditeur local (comme Thonny), soit en utilisant\n",
    "  <https://repl.it>. Dans ce cas, mettez toutes les programmes-réponses les uns à la suite des\n",
    "  autres en mettant les numéros de questions en commentaire comme ceci :\n",
    "\n",
    "```python\n",
    "# Question 1\n",
    "< Votre code pour répondre à la question 1 >\n",
    "\n",
    "# Question 2\n",
    "< Votre code pour répondre à la question 2 >\n",
    "\n",
    "…\n",
    "```"
   ]
  },
  {
   "cell_type": "markdown",
   "id": "7e14db66",
   "metadata": {},
   "source": [
    "- Enfin, si vous ne pouvez pas, pour une raison ou une autre, travailler sur machine, vous pouvez\n",
    "  également rendre vos réponses sur papier. On aura dans ce cas un peu plus d'indulgence à l'égard\n",
    "  des coquilles.\n",
    "\n",
    "À part si vous composez sur papier, votre rendu (notebook au format `ipynb` ou script `py`) à\n",
    "déposer sur Cours en Ligne (suivre le lien), ou à défaut à `<lgrobol@parisnanterre.fr>`.\n",
    "\n",
    "**Tous les documents, papiers et numériques sont autorisés.**\n",
    "\n",
    "**Toute communication est interdite pendant la durée de l'examen.**\n",
    "\n",
    "Vous avez deux heures. Bon courage."
   ]
  },
  {
   "cell_type": "markdown",
   "id": "099c5d2f",
   "metadata": {},
   "source": [
    "## Questions\n",
    "\n",
    "1\\. Écrire un programme qui affiche la chaîne de caractères `Université Paris Nanterre`."
   ]
  },
  {
   "cell_type": "code",
   "execution_count": null,
   "id": "75755435",
   "metadata": {},
   "outputs": [],
   "source": [
    "# Codez ici"
   ]
  },
  {
   "cell_type": "markdown",
   "id": "28a4496a",
   "metadata": {},
   "source": [
    "2\\. Construire et afficher une chaîne de caractères contenant `Stay chill` suivie de $1024$ fois\n",
    "`🧊`."
   ]
  },
  {
   "cell_type": "code",
   "execution_count": null,
   "id": "b1f50eca",
   "metadata": {},
   "outputs": [],
   "source": [
    "# Codez ici"
   ]
  },
  {
   "cell_type": "markdown",
   "id": "a27f4e8c",
   "metadata": {},
   "source": [
    "3\\. Écrire un programme qui calcule et affiche le résultat du calcul suivant $\\frac{2^{10}-1}{8}$."
   ]
  },
  {
   "cell_type": "code",
   "execution_count": null,
   "id": "78bcc82b",
   "metadata": {},
   "outputs": [],
   "source": [
    "# Codez ici"
   ]
  },
  {
   "cell_type": "markdown",
   "id": "9e29a60c",
   "metadata": {},
   "source": [
    "4\\. Créer une variable `j` contenant la chaîne de caractères `Aucune révolution n’aura lieu sans\n",
    "changement radical de l'idée qu'on se fait du réel`, puis, à l'aide d'une opération sur les chaînes\n",
    "de caractères, mettez le contenu de `j` en majuscules et stockez cette nouvelle chaîne dans une\n",
    "variable `b`. Enfin, affichez le contenu de `b`."
   ]
  },
  {
   "cell_type": "code",
   "execution_count": null,
   "id": "f65b3f11",
   "metadata": {},
   "outputs": [],
   "source": [
    "# Codez ici"
   ]
  },
  {
   "cell_type": "markdown",
   "id": "b327217e",
   "metadata": {},
   "source": [
    "5\\. Écrire un programme qui demande la saisie d'une chaîne de caractères, puis qui affiche `ok` si\n",
    "cette chaîne contient le mot « la » et affiche `nope` dans le cas contraire."
   ]
  },
  {
   "cell_type": "code",
   "execution_count": null,
   "id": "58f26d79",
   "metadata": {},
   "outputs": [],
   "source": [
    "# Codez ici"
   ]
  },
  {
   "cell_type": "markdown",
   "id": "1998cfc0",
   "metadata": {},
   "source": [
    "6\\. Écrire un programme qui demande la saisie d'un nombre, puis qui affiche la moitié de ce nombre."
   ]
  },
  {
   "cell_type": "code",
   "execution_count": null,
   "id": "9c91ac60",
   "metadata": {},
   "outputs": [],
   "source": [
    "# Codez ici"
   ]
  },
  {
   "cell_type": "markdown",
   "id": "35f36877",
   "metadata": {},
   "source": [
    "7\\.\n",
    "\n",
    "7.1 En utilisant uniquement les chaînes de caractères déjà définies (pas forcément toutes) dans la\n",
    "cellule-ci dessous, modifiez cette cellule pour afficher `l’environnement, c’est aussi ce que créent\n",
    "les sociétés`."
   ]
  },
  {
   "cell_type": "code",
   "execution_count": null,
   "id": "2da5dd3a",
   "metadata": {},
   "outputs": [],
   "source": [
    "lst = [\"l'\", \"c'est aussi ce que\", \"créent\", \"les\", \"sociétés\",  \"environnement\"]\n",
    "# Codez ici"
   ]
  },
  {
   "cell_type": "markdown",
   "id": "b34088f6",
   "metadata": {},
   "source": [
    "7.2 Même question avec la liste suivante"
   ]
  },
  {
   "cell_type": "code",
   "execution_count": null,
   "id": "c99a2616",
   "metadata": {},
   "outputs": [],
   "source": [
    "lst = [\"l'\", [[\"c'est aussi ce que\"]], \"créent\", [\"les\", \"sociétés\",  \"environnement\"]]\n",
    "# Codez ici"
   ]
  },
  {
   "cell_type": "markdown",
   "id": "8641a8b9",
   "metadata": {},
   "source": [
    "8\\. Afficher sur des lignes séparées les triples des nombres de la liste suivante, en écrivant une\n",
    "seule fois `print`."
   ]
  },
  {
   "cell_type": "code",
   "execution_count": null,
   "id": "29830b3e",
   "metadata": {},
   "outputs": [],
   "source": [
    "lst = [28, 2, 1901, 2, 7, -16]\n",
    "# Codez ici"
   ]
  },
  {
   "cell_type": "markdown",
   "id": "5f5fb4c6",
   "metadata": {},
   "source": [
    "9\\. Écrire un programme qui compte le nombre de mots commençant par les caractères `th` dans la\n",
    "liste suivante, puis affiche ce nombre"
   ]
  },
  {
   "cell_type": "code",
   "execution_count": null,
   "id": "e79f2869",
   "metadata": {},
   "outputs": [],
   "source": [
    "text = [ \"once\", \"a\", \"person\", \"acknowledges\", \"that\", \"they\", \"possess\", \"some\", \"form\", \"of\", \n",
    "\"privilege\", \",\", \"they\", \"are\", \"more\", \"likely\", \"to\", \"accept\", \"the\", \"reality\", \"that\", \"they\", \n",
    "\"are\", \"not\", \"in\", \"any\", \"way\", \"objective\", \"about\", \"the\", \"form\", \"of\", \"marginalization\", \n",
    "\"in\", \"question\"]\n",
    "# Codez ici"
   ]
  },
  {
   "cell_type": "markdown",
   "id": "65690953",
   "metadata": {},
   "source": [
    "10\\. Écrire un programme qui compte le nombre de voyelles dans le texte ci-dessous, puis affiche ce\n",
    "nombre"
   ]
  },
  {
   "cell_type": "code",
   "execution_count": null,
   "id": "62f56d12",
   "metadata": {},
   "outputs": [],
   "source": [
    "text = [ \"once\", \"a\", \"person\", \"acknowledges\", \"that\", \"they\", \"possess\", \"some\", \"form\", \"of\", \n",
    "\"privilege\", \",\", \"they\", \"are\", \"more\", \"likely\", \"to\", \"accept\", \"the\", \"reality\", \"that\", \"they\", \n",
    "\"are\", \"not\", \"in\", \"any\", \"way\", \"objective\", \"about\", \"the\", \"form\", \"of\", \"marginalization\", \n",
    "\"in\", \"question\"]\n",
    "voyelles = [\"a\", \"e\", \"i\", \"o\", \"u\", \"y\"]\n",
    "# Codez ici"
   ]
  },
  {
   "cell_type": "markdown",
   "id": "bab47d25",
   "metadata": {},
   "source": [
    "11\\. Écrire un programme qui stocke dans une liste tous les mots finissant par une voyelle dans le\n",
    "texte ci-dessous, puis affiche cette liste."
   ]
  },
  {
   "cell_type": "code",
   "execution_count": null,
   "id": "cbc669e0",
   "metadata": {},
   "outputs": [],
   "source": [
    "text = [ \"once\", \"a\", \"person\", \"acknowledges\", \"that\", \"they\", \"possess\", \"some\", \"form\", \"of\", \n",
    "\"privilege\", \",\", \"they\", \"are\", \"more\", \"likely\", \"to\", \"accept\", \"the\", \"reality\", \"that\", \"they\", \n",
    "\"are\", \"not\", \"in\", \"any\", \"way\", \"objective\", \"about\", \"the\", \"form\", \"of\", \"marginalization\", \n",
    "\"in\", \"question\"]\n",
    "voyelles = [\"a\", \"e\", \"i\", \"o\", \"u\", \"y\"]\n",
    "# Codez ici"
   ]
  },
  {
   "cell_type": "markdown",
   "id": "865a8e7d",
   "metadata": {},
   "source": [
    "12\\. Écrire une fonction `eizz` qui affiche la chaîne de caractères `Dress to kill`. Appeler cette\n",
    "fonction trois fois."
   ]
  },
  {
   "cell_type": "code",
   "execution_count": null,
   "id": "17dcd527",
   "metadata": {},
   "outputs": [],
   "source": [
    "# Coder ici"
   ]
  },
  {
   "cell_type": "markdown",
   "id": "6f21a67b",
   "metadata": {},
   "source": [
    "13\\. Écrire une fonction `mine` avec un argument `n`, supposé être un nombre entier positif, qui\n",
    "affiche le `n`-ième mot du texte suivant si un tel mot existe et affiche `ERREUR` si `n` est trop\n",
    "grand ou trop petit. Appeler cette fonction avec les valeurs `0`, `-1`, `15` et `2022` pour `n`."
   ]
  },
  {
   "cell_type": "code",
   "execution_count": null,
   "id": "58392794",
   "metadata": {},
   "outputs": [],
   "source": [
    "text = [ \"once\", \"a\", \"person\", \"acknowledges\", \"that\", \"they\", \"possess\", \"some\", \"form\", \"of\", \n",
    "\"privilege\", \",\", \"they\", \"are\", \"more\", \"likely\", \"to\", \"accept\", \"the\", \"reality\", \"that\", \"they\", \n",
    "\"are\", \"not\", \"in\", \"any\", \"way\", \"objective\", \"about\", \"the\", \"form\", \"of\", \"marginalization\", \n",
    "\"in\", \"question\"]\n",
    "# Codez ici"
   ]
  },
  {
   "cell_type": "markdown",
   "id": "737eaaa5",
   "metadata": {},
   "source": [
    "14\\. Écrire une fonction `ma_fonction` à deux arguments `a` et `b`, qui affiche `a` et renvoie\n",
    "`a+b`. Appeler cette fonction pour `a=15` et `b=12` et pour `a=\"Bonjour\"` et `b=[1,2,3]`."
   ]
  },
  {
   "cell_type": "code",
   "execution_count": null,
   "id": "066d5416",
   "metadata": {},
   "outputs": [],
   "source": [
    "# Coder ici"
   ]
  },
  {
   "cell_type": "markdown",
   "id": "8e9d9e12",
   "metadata": {},
   "source": [
    "15\\. Écrire une fonction `ta_fonction` à un argument `l`, supposé être une liste de chaînes de\n",
    "caractères, qui renvoie la plus longue chaîne de cette liste. Appeler cette fonction avec comme\n",
    "valeur pour `l` la liste `text` suivante."
   ]
  },
  {
   "cell_type": "code",
   "execution_count": null,
   "id": "6be9be85",
   "metadata": {},
   "outputs": [],
   "source": [
    "text = [ \"once\", \"a\", \"person\", \"acknowledges\", \"that\", \"they\", \"possess\", \"some\", \"form\", \"of\", \n",
    "\"privilege\", \",\", \"they\", \"are\", \"more\", \"likely\", \"to\", \"accept\", \"the\", \"reality\", \"that\", \"they\", \n",
    "\"are\", \"not\", \"in\", \"any\", \"way\", \"objective\", \"about\", \"the\", \"form\", \"of\", \"marginalization\", \n",
    "\"in\", \"question\"]\n",
    "# Coder ici"
   ]
  }
 ],
 "metadata": {
  "jupytext": {
   "formats": "ipynb,md",
   "split_at_heading": true
  },
  "kernelspec": {
   "display_name": "Python 3 (ipykernel)",
   "language": "python",
   "name": "python3"
  }
 },
 "nbformat": 4,
 "nbformat_minor": 5
}
