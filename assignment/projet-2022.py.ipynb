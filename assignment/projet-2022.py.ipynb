{
 "cells": [
  {
   "cell_type": "markdown",
   "id": "35af3b82",
   "metadata": {},
   "source": [
    "<!-- LTeX: language=fr -->\n",
    "\n",
    "Projet Apprendre à programmer 2022\n",
    "=================================="
   ]
  },
  {
   "cell_type": "markdown",
   "id": "b2d229e3",
   "metadata": {},
   "source": [
    "## Pratique\n",
    "\n",
    "- Projet à rendre le 3 mai 2022 *au plus tard*\n",
    "  - Si vous avez un problème, si vous êtes en retard, contactez-moi le plus tôt possible pour ce\n",
    "    qu'il est possible d'arranger.\n",
    "- Projet individuel ou par groupe de deux personnes.\n",
    "  - S'il y a un problème — quel qu'il soit — dans votre groupe, n'hésitez pas à m'en parler.\n",
    "- Rendu via la page Cours en Ligne du cours, ou en cas de problème par email à\n",
    "  [`lgrobol@parisnanterre.fr`](mailto:lgrobol@parisnanterre.fr)."
   ]
  },
  {
   "cell_type": "markdown",
   "id": "a86e1f44",
   "metadata": {},
   "source": [
    "## Principe\n",
    "\n",
    "Pour ce projet, vous allez réaliser un clone du jeu\n",
    "[Wordle](https://www.nytimes.com/games/wordle/index.html) (voir aussi [Le\n",
    "Mot](https://wordle.louan.me/), une version en français). Le principe de ce jeu est le suivant :\n",
    "\n",
    "- Vous avez six essais pour trouver un mot secret de six lettres.\n",
    "- Le mot secret est un mot courant, qui n'est pas un nom propre, choisi au hasard dans un lexique\n",
    "  prédéterminé.\n",
    "- À chaque essai, vous proposez un mot, qui doit être dans un lexique prédéterminé. Proposer un mot\n",
    "  qui n'est pas dans ce lexique ne compte pas comme un essai manqué.\n",
    "- Si le mot que vous avez proposé est le bon, vous avez gagné.\n",
    "  - La comparaison ne tient pas compte de la casse (`a` et `A` sont considérés somme la même lettre\n",
    "    par exemple)\n",
    "- Sinon, le jeu vous indique parmi les lettres du mot proposé lesquelles sont également présentes\n",
    "  dans le mot secret et pour chacune de celle-ci, si elle se trouve à la même place dans le mot\n",
    "  proposé et dans le mot secret.\n",
    "- Si au bout de six essais, vous n'avez pas trouvé le mot proposé, vous avez perdu.\n",
    "\n",
    "L'objectif de ce projet est de produire un script Python qui implémente les règles ci-dessus.\n",
    "\n",
    "Voici à quoi pourrait ressembler une partie où le mot à trouver était *attela*. Les saisies sont\n",
    "indiquées par `>`, une lettre bien placée est indiquée par `o`, une lettre présente, mais mal\n",
    "placée par `+` et une lettre fausse par `×` :\n",
    "\n",
    "```text\n",
    "Deviner un mot de 6 lettres\n",
    "Il reste 6 essais\n",
    "> trahir\n",
    "+×+×××\n",
    "Il reste 5 essais\n",
    "> paysan\n",
    "+××+×\n",
    "Il reste 4 essais\n",
    "atelle n'est pas un mot autorisé\n",
    "Il reste 4 essais\n",
    "> abaque\n",
    "o×+××+\n",
    "Il reste 3 essais\n",
    "> attire\n",
    "ooo××+\n",
    "Il reste 2 essais\n",
    "> attela\n",
    "oooooo\n",
    "Bravo !\n",
    "```"
   ]
  },
  {
   "cell_type": "markdown",
   "id": "fec714a9",
   "metadata": {},
   "source": [
    "## Consignes\n",
    "\n",
    "Pour ce projet, vous devrez donc rendre un script en Python qui implémente les règles ci-dessus.\n",
    "Vous pouvez le faire soit complètement par vos propres moyens, soit en répondant aux questions\n",
    "suivantes, voire en faisant un peu des deux. Pour aller plus loin, vous pouvez en plus essayer\n",
    "d'implémenter les [règles facultatives](#regles-facultatives).\n",
    "\n",
    "Vous pouvez travailler directement dans ce notebook pour répondre aux questions :\n",
    "\n",
    "- Soit dans Binder\n",
    "  - N'oubliez pas de bien télécharger votre travail sous forme de notebook.\n",
    "  - Vous pouvez rouvrir un notebook que vous avez téléchargé en allant dans « *File* » → « *Open* »\n",
    "    → « *Upload* »\n",
    "- Soit, si vous vous sentez à l'aise et que votre machine le permet, en utilisant Anaconda (voir par\n",
    "  exemple [ce\n",
    "  tutoriel](https://openclassrooms.com/fr/courses/4452741-decouvrez-les-librairies-python-pour-la-data-science/5559646-installez-jupyter-sur-votre-propre-ordinateur)).\n",
    "\n",
    "L'autre option — **que je vous recommande** —, c'est d'écrire un script en Python, soit dans un\n",
    "environnement de développement sur votre machine (comme Thonny) soit dans\n",
    "[repl.it](https://repl.it). Dans ce cas, écrivez simplement un script `.py` qui démarre le jeu quand\n",
    "on le lance. Vous pouvez indiquer les parties du code qui correspondent aux questions en écrivant\n",
    "des commentaires `#`."
   ]
  },
  {
   "cell_type": "markdown",
   "id": "1bc2f9fd",
   "metadata": {},
   "source": [
    "### 1. Comparer une proposition au mot secret\n",
    "\n",
    "Écrire une fonction `comparer`, avec comme arguments deux chaînes de caractères, `proposition` et\n",
    "`secret`. On suppose qu'elles sont toutes les deux uniquement composées de lettres minuscules et\n",
    "sont de même longueur.\n",
    "\n",
    "`comparer` doit renvoyer une chaîne de caractère de la même longueur que `proposition` et `secret`,\n",
    "chacun des caractères indiquant si le caractère correspondant dans `proposition` est bien placé\n",
    "(`o`), bien trouvé, mais mal placé (`+`), ou incorrect (`x`).\n",
    "\n",
    "Exemples :\n",
    "\n",
    "- `comparer(\"manger\", \"mordue\")` renvoie `'oxxx++'`\n",
    "- `comparer(\"chaton\", \"oberon\")` renvoie `'xxxxoo`\n",
    "- `comparer(\"tortue\", \"crepes\")` renvoie `'xx+xx+`\n",
    "\n",
    "Pour vous aider : un rappel sur deux façons de construire des chaînes de caractères"
   ]
  },
  {
   "cell_type": "code",
   "execution_count": null,
   "id": "ec9c7347",
   "metadata": {},
   "outputs": [],
   "source": [
    "s = \"abc\"\n",
    "print(s+\"d\")"
   ]
  },
  {
   "cell_type": "code",
   "execution_count": null,
   "id": "ba76f738",
   "metadata": {},
   "outputs": [],
   "source": [
    "l = [\"a\", \"b\", \"c\", \"d\"]\n",
    "print(str.join(\"\", l))"
   ]
  },
  {
   "cell_type": "code",
   "execution_count": null,
   "id": "08f15776",
   "metadata": {},
   "outputs": [],
   "source": []
  },
  {
   "cell_type": "markdown",
   "id": "5a41b0ab",
   "metadata": {},
   "source": [
    "### 2. Un tour de jeu\n",
    "\n",
    "Écrire une fonction `tour`, avec comme argument `secret`, une chaîne de caractères et `lexique`, une\n",
    "liste de chaînes de caractères. `tour` doit\n",
    "\n",
    "- Demander la saisie d'un mot, qui sera mis en minuscules et stocké dans une variable `proposition`\n",
    "- Si `proposition` n'est pas dans `lexique`, redemander une nouvelle saisie. Continuer jusqu'à ce\n",
    "  que `proposition` soit dans `lexique`. Là aussi, mettez bien cette saisie en minuscules.\n",
    "- Agir en fonction de `proposition`\n",
    "  - Si `proposition` est égal à `secret`, renvoyer `True`.\n",
    "  - Sinon, afficher le résultat de `comparer(proposition, secret)` et renvoyer `False`.\n",
    "  \n",
    "Pensez à tester votre fonction, par exemple avec `\"caisse\"` pour `secret` et `lexique = [\"caisse\",\n",
    "\"sieges\", \"bureau\", \"tables\", \"canapé\"]`. Pour le jeu final, on utilisera un vrai lexique.\n",
    "\n",
    "**Indice** : rappelez-vous que la boucle conditionnelle `while` existe."
   ]
  },
  {
   "cell_type": "code",
   "execution_count": null,
   "id": "819d66cb",
   "metadata": {},
   "outputs": [],
   "source": []
  },
  {
   "cell_type": "code",
   "execution_count": null,
   "id": "61ecdff4",
   "metadata": {},
   "outputs": [],
   "source": [
    "tour(\"caisse\", [\"caisse\", \"sieges\", \"bureau\", \"tables\", \"canapé\"])"
   ]
  },
  {
   "cell_type": "markdown",
   "id": "a9d550f3",
   "metadata": {},
   "source": [
    "### 3. La boucle principale\n",
    "\n",
    "Écrire une fonction `partie`, avec comme argument `lexique`, une liste de chaînes de caractères.\n",
    "`partie` doit\n",
    "\n",
    "- Choisir au hasard un mot dans `lexique` et le stocker dans une variable `secret`.\n",
    "- Appeler plusieurs fois `tour` :\n",
    "  - Si un appel à `tour` renvoie `True` (donc si le mot secret a été trouvé), afficher un message de\n",
    "    félicitation et s'arrêter.\n",
    "  - Si au bout de six tours la solution n'a pas été trouvé, afficher un message qui indique que la\n",
    "    partie est perdu et s'arrêter.\n",
    "- Après chaque tour, afficher le nombre d'essais restants.\n",
    "\n",
    "Pensez à tester votre fonction, par exemple avec `lexique = [\"caisse\", \"sieges\", \"bureau\", \"tables\",\n",
    "\"canapé\"]`.\n",
    "\n",
    "**Indices** :\n",
    "\n",
    "- Si **dans un premier temps**, vous ne trouvez pas comment choisir un mot au hasard, prenez\n",
    "  simplement le premier, afin de ne pas rester bloqué⋅e sur ce point (mais revenez-y).\n",
    "- La fonction `random.choice` qu'on a vue dans le cours peut vous aider."
   ]
  },
  {
   "cell_type": "code",
   "execution_count": null,
   "id": "e5badf54",
   "metadata": {},
   "outputs": [],
   "source": []
  },
  {
   "cell_type": "code",
   "execution_count": null,
   "id": "6378ade9",
   "metadata": {},
   "outputs": [],
   "source": [
    "partie([\"caisse\", \"sieges\", \"bureau\", \"tables\", \"canapé\"])"
   ]
  },
  {
   "cell_type": "markdown",
   "id": "caf8270c",
   "metadata": {},
   "source": [
    "### 4. Importer un lexique\n",
    "\n",
    "Écrire une fonction `lire_lexique`, avec comme argument un chemin vers un fichier. On suppose que le\n",
    "fichier en question existe et est un fichier texte qui contient une liste de mot, chaque mot étant\n",
    "sur une ligne. `lire_lexique` doit ouvrir ce fichier en mode lecture et lire son contenu afin de\n",
    "renvoyer une liste `lexique`, qui contiendra les mots autorisés pour le jeu.\n",
    "\n",
    "Pour tester, vous pouvez utiliser le fichier [`lexique.txt`](lexique.txt), qui se trouve dans le\n",
    "même dossier que ce notebook et que vous pouvez télécharger sur votre machine en suivant le lien\n",
    "précédent.\n",
    "\n",
    "Attention à bien retirer les caractères de fin de ligne `\"\\n\"`."
   ]
  },
  {
   "cell_type": "code",
   "execution_count": null,
   "id": "63b5034a",
   "metadata": {},
   "outputs": [],
   "source": []
  },
  {
   "cell_type": "code",
   "execution_count": null,
   "id": "f1fc009c",
   "metadata": {},
   "outputs": [],
   "source": [
    "lire_lexique(\"lexique.txt\")"
   ]
  },
  {
   "cell_type": "markdown",
   "id": "45fc46b7",
   "metadata": {},
   "source": [
    "### 5. Tout mettre ensemble\n",
    "\n",
    "Vous avez maintenant tout ce qu'il vous faut pour écrire un programme qui charge un lexique depuis\n",
    "un fichier prédéterminé et fait jouer une partie."
   ]
  },
  {
   "cell_type": "code",
   "execution_count": null,
   "id": "b965172d",
   "metadata": {},
   "outputs": [],
   "source": []
  },
  {
   "cell_type": "markdown",
   "id": "00dafacf",
   "metadata": {},
   "source": [
    "## Règles facultatives\n",
    "\n",
    "Les règles suivantes, qui sont présentes dans la plupart des versions existantes, sont facultatives.\n",
    "Assurez-vous d'avoir une version qui implémente les règles de base avant de vous y attaquer.\n",
    "\n",
    "- Le mot secret est choisi dans un lexique beaucoup plus petit que celui des mots autorisés et qui\n",
    "  ne contient que des mots très fréquents.\n",
    "  - Vous pouvez trouver par exemple sur <http://www.lexique.org> des lexiques du français avec les\n",
    "    fréquences d'usages des mots.\n",
    "- La comparaison entre le mot secret et le mot proposé ne tient compte ni de la casse, ni des\n",
    "  diacritiques. Ainsi `a` et `A` sont considérés comme la même lettre, et `é` et `e` également.\n",
    "- On indique les lettres bien trouvées et bien placées dans les mots proposés par un code couleur :\n",
    "  - Dans la version de base, 🟩 indique une lettre bien placée, 🟨 une lettre présente, mais mal\n",
    "    placée et ⬛ une lettre fausse.\n",
    "  - Dans une version adaptée aux personnes daltoniennes, 🟧 indique une lettre bien placée, 🟦 une\n",
    "    lettre présente, mais mal placée, et ⬛ une lettre fausse.\n",
    "  - Attention, il se peut que les emojis soient mal affichés dans Thonny.\n",
    "- En fin de partie, un résumé est affiché, donnant le déroulement de la partie avec les emojis\n",
    "  précédents, sans révéler le mot secret ou les propositions, afin de pouvoir être partagé sans\n",
    "  spoiler.\n",
    "- Le mot secret est déterminé par la date, ainsi on ne peut faire qu'une partie par jour. Attention\n",
    "  cependant à trouver une détermination qui ait l'air pseudo-aléatoire pour que le jeu soit plus\n",
    "  agréable. Par exemple, éviter de donner les mots par ordre alphabétique.\n",
    "- Quand une même lettre apparaît $n$ fois dans le mot proposé et $m$ fois dans le mot secret avec\n",
    "  $m<n$, elles sont traitées ainsi :\n",
    "\n",
    "  - Les $k$ occurrences bien placées de cette lettre sont signalés comme telles.\n",
    "  - Si $n-k>0$, les $n-k$ premières occurrences de cette lettre qui sont mal placées sont signalées\n",
    "    comme présentes, mais mal placées.\n",
    "  - Les occurrences restantes sont signalées comme fausses.\n",
    "\n",
    "  Exemples :\n",
    "  \n",
    "  - Mot secret *avions*, mot proposé *avares* : 🟧🟧⬛⬛⬛🟧\n",
    "  - Mot secret *marche*, mot proposé *aimant* : 🟦⬛🟦⬛⬛⬛"
   ]
  }
 ],
 "metadata": {
  "jupytext": {
   "formats": "ipynb,md",
   "split_at_heading": true
  },
  "kernelspec": {
   "display_name": "Python 3 (ipykernel)",
   "language": "python",
   "name": "python3"
  }
 },
 "nbformat": 4,
 "nbformat_minor": 5
}
