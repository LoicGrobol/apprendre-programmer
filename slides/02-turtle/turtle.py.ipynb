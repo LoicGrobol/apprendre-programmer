{
 "cells": [
  {
   "cell_type": "markdown",
   "id": "88f649eb",
   "metadata": {
    "lines_to_next_cell": 0
   },
   "source": [
    "<!-- LTeX: language=fr -->"
   ]
  },
  {
   "cell_type": "markdown",
   "id": "cf2cdbc2",
   "metadata": {
    "slideshow": {
     "slide_type": "slide"
    }
   },
   "source": [
    "Cours 2 : Dessiner avec `turtle`\n",
    "================================\n",
    "\n",
    "**Loïc Grobol** [<lgrobol@parisnanterre.fr>](mailto:lgrobol@parisnanterre.fr)\n",
    "\n",
    "2022-01-25"
   ]
  },
  {
   "cell_type": "markdown",
   "id": "767beac2",
   "metadata": {},
   "source": [
    "Dans ce notebook :\n",
    "\n",
    "- Utiliser une console interactive Python\n",
    "- Dessiner avec le module [`turtle`](https://docs.python.org/3/library/turtle.html)\n",
    "- Créer et exécuter des scripts Python avec [Thonny](https://thonny.org/)\n",
    "\n",
    "Matériel complémentaire : [une vidéo pertinente](https://youtu.be/FN2RM-CHkuI).\n",
    "\n",
    "Les exercices sont tirés du cours « Apprendre à programmer avec Python », donnée à l'Université\n",
    "Sorbonne Nouvelle par Marine Delaborde et Pascal Amsili, que je remercie très chaleureusement."
   ]
  },
  {
   "cell_type": "markdown",
   "id": "1870abf6",
   "metadata": {},
   "source": [
    "## Thonny\n",
    "\n",
    "[Thonny](https://thonny.org/) est un **environnement de programmation** Python à destination des\n",
    "débutant⋅es, mais complet et qui offre de nombreuses fonctionnalités utiles, y compris assez\n",
    "avancées.\n",
    "\n",
    "Si vous n'avez pas encore installé [Thonny](https://thonny.org/), faites-le tout de suite en suivant\n",
    "le lien dans cette phrase.\n",
    "\n",
    "Au démarrage de Thonny, la fenêtre affiche deux blocs, un bloc avec un onglet d'édition de texte\n",
    "dont on va bientôt parler, et un bloc nommé « Console » qui affiche quelque chose comme\n",
    "\n",
    "```text\n",
    "Python 3.10.1 (/usr/bin/python)\n",
    ">>> \n",
    "```\n",
    "\n",
    "Si vous cliquez dans ce bloc, vous verrez que votre curseur clignote après `>>>` (l'« invite de\n",
    "commande ») et que vous pouvez y entrer du texte.\n",
    "\n",
    "Tapez `print(\"Hello, world!\")` et appuyez sur entrée. Que se passe-t-il ?"
   ]
  },
  {
   "cell_type": "markdown",
   "id": "3bae2907",
   "metadata": {},
   "source": [
    "Ce bloc « Console » vous permet d'entrer des instructions en Python et de les voir directement\n",
    "exécutées, le résultat s'affichant en dessous de votre instruction, comme quand vous exécutez une\n",
    "cellule dans un notebook. C'est ce qu'on appelle une _**R**ead **E**val **P**rint **L**oop_ ou REPL."
   ]
  },
  {
   "cell_type": "markdown",
   "id": "6bf0aa98",
   "metadata": {},
   "source": [
    "Testez l'usage de la fonction `input()` en vous en servant pour stocker une valeur dans une variable\n",
    "nommée `spam`, puis affichez la valeur de `spam` avec la fonction `print()`."
   ]
  },
  {
   "cell_type": "markdown",
   "id": "a03172a7",
   "metadata": {},
   "source": [
    "## Turtle"
   ]
  },
  {
   "cell_type": "markdown",
   "id": "b863aa13",
   "metadata": {},
   "source": [
    "Entrez les commandes suivantes dans la console :\n",
    "\n",
    "```python\n",
    "from turtle import *\n",
    "shape(\"turtle\")\n",
    "```\n",
    "\n",
    "Que se passe-t-il ?"
   ]
  },
  {
   "cell_type": "markdown",
   "id": "d124c430",
   "metadata": {},
   "source": [
    "Entrez à présent\n",
    "\n",
    "```python\n",
    "forward(100)\n",
    "```\n",
    "\n",
    "Qu'est-ce qui a changé ?"
   ]
  },
  {
   "cell_type": "markdown",
   "id": "6d1e3969",
   "metadata": {},
   "source": [
    "Enfin, essayez\n",
    "\n",
    "```python\n",
    "left(90)\n",
    "forward(100)\n",
    "```"
   ]
  },
  {
   "cell_type": "markdown",
   "id": "3738ac75",
   "metadata": {},
   "source": [
    "Vous l'aurez compris, on peut ainsi dessiner avec Python et une adorable tortue. Voici quelques\n",
    "commandes de base :\n",
    "\n",
    "- `forward(d)` avance de d pixels\n",
    "- `backward(d)` recule de d pixels\n",
    "- `left(a)` pivote vers la gauche de a degrés\n",
    "- `right(a)` pivote vers la droite de a degrés\n",
    "- `up()` relève le crayon pour avancer sans dessiner\n",
    "- `down()` abaisse le crayon pour dessiner\n",
    "- `reset()` remet le dessin à zéro\n",
    "- `circle(r, a)` trace un arc de cercle de rayon `rayon` et d'angle `a` degrés. `a` est facultatif\n",
    "  et vaut `360` par défaut (soit un cercle entier)."
   ]
  },
  {
   "cell_type": "markdown",
   "id": "d1d4951e",
   "metadata": {},
   "source": [
    "## 🐢 Exo 🐢\n",
    "\n",
    "(Pour garder trace des instructions que vous utilisez, vous pouvez les copier-coller dans la zone\n",
    "d'édition de Thonny, au dessus de la console)."
   ]
  },
  {
   "cell_type": "markdown",
   "id": "304f489f",
   "metadata": {},
   "source": [
    "### Exercice 1\n",
    "\n",
    "Reproduire la forme suivante à l’aide des fonctions `turtle`. La ligne horizontale fait 100 pixels, la\n",
    "ligne verticale fait 50 pixels, l’angle est un angle droit :\n",
    "\n",
    "![Une ligne horizontale vers la droite avec au bout une ligne verticale vers le bas](images/ex1.png)"
   ]
  },
  {
   "cell_type": "markdown",
   "id": "2fbcf61a",
   "metadata": {},
   "source": [
    "### Exercice 2\n",
    "\n",
    "Reproduire la forme suivante à l’aide des fonctions `turtle` (les segments font respectivement 57,\n",
    "46 et 92 pixels) :\n",
    "\n",
    "![Un segment vers la droite, un vers le haut, un vers la gauche](images/ex2.png)"
   ]
  },
  {
   "cell_type": "markdown",
   "id": "1be67375",
   "metadata": {},
   "source": [
    "### Exercice 3\n",
    "\n",
    "Reproduire la forme suivante à l’aide des fonctions `turtle` (escalier montant dont les marches font\n",
    "(45×45 pixels)).\n",
    "\n",
    "![Escalier montant](images/ex3.png)"
   ]
  },
  {
   "cell_type": "markdown",
   "id": "47780f63",
   "metadata": {},
   "source": [
    "### Exercice 4\n",
    "\n",
    "Dessiner un carré de 96 pixels de côté.\n",
    "\n",
    "![Escalier montant](images/ex4.png)"
   ]
  },
  {
   "cell_type": "markdown",
   "id": "a49e2258",
   "metadata": {},
   "source": [
    "### Exercice 5\n",
    "\n",
    "Reproduire la forme suivante à l’aide des fonctions `turtle` (dimensions des segments : 76px)\n",
    "\n",
    "![Un carré « en position de losange »](images/ex5.png)"
   ]
  },
  {
   "cell_type": "markdown",
   "id": "7d458c43",
   "metadata": {},
   "source": [
    "## Scripts\n",
    "\n",
    "Un truc frustrant dans tout ça c'est de devoir écrire les instructions une par une et pas en bloc\n",
    "comme dans les notebooks.\n",
    "\n",
    "<small>En fait on peut, mais chut</small>\n",
    "\n",
    "Pourquoi on utiliserait pas un notebook alors ?\n",
    "\n",
    "Les notebooks c'est très bien pour faire des démonstrations ou du travail exploratoire, mais\n",
    "\n",
    "- Ça demande soit un accès à un service en ligne (Binder, Colab…) ou une installation en local assez\n",
    "  lourde.\n",
    "- Ce n'est pas exécutable de manière autonome.\n",
    "- Le format des fichiers n'est pas très ergonomique, ce qui apporte un certain nombre de\n",
    "  complications.\n",
    "- `turtle` n'y marche pas très bien 😠\n",
    "\n",
    "Un autre façon d'utiliser Python c'est avec des **scripts** : des fichiers contenant des programmes\n",
    "exécutables directement sur vos machines. Le volet d'édition de Thonny sert à écrire des scripts :\n",
    "essayez d'entrer les instructions suivantes dedans\n",
    "\n",
    "```python\n",
    "from turtle import *\n",
    "shape(\"turtle\")\n",
    "\n",
    "forward(100)\n",
    "right(90)\n",
    "forward(50)\n",
    "```\n",
    "\n",
    "Sauvegarder sur votre machine dans un fichier (l'extension conventionnelle est `.py`), puis cliquez\n",
    "sur le bouton ▶️.\n"
   ]
  },
  {
   "cell_type": "markdown",
   "id": "10a51275",
   "metadata": {},
   "source": [
    "Les notebooks et les scripts ont chacun leurs avantages et leurs inconvénients, mais il est\n",
    "important de savoir utiliser les deux. À l'avenir on alternera donc entre les deux pour vous y\n",
    "habituer."
   ]
  },
  {
   "cell_type": "markdown",
   "id": "3ec8197f",
   "metadata": {},
   "source": [
    "### Exercice 6\n",
    "\n",
    "Écrire un script Python qui reproduit la forme suivante à l’aide des fonctions `turtle` (dimensions\n",
    "des segments : 65px, 42px, 76px, 100px).\n",
    "\n",
    "![Une ligne en dents de scie vers la droite (nord-est, sud-est…)](images/ex6.png)"
   ]
  },
  {
   "cell_type": "markdown",
   "id": "0ce94691",
   "metadata": {},
   "source": [
    "### Exercice 7\n",
    "\n",
    "Dessiner avec `turtle` une maison d’enfant (sans perspective : un toit, une porte, une fenêtre, une\n",
    "cheminée)."
   ]
  },
  {
   "cell_type": "markdown",
   "id": "1ecfd29d",
   "metadata": {},
   "source": [
    "## Et après ?\n",
    "\n",
    "On retrouvera la tortue dans des prochaines séances. Quelques notes pour celleux qui voudraient\n",
    "aller plus loin tout de suite, la documentation complète de `turtle` avec toutes ses est disponible\n",
    "à <https://docs.python.org/fr/3/library/turtle.html>. Attention, elle ne prend pas trop de\n",
    "pincettes.\n",
    "\n",
    "Et qu'est-ce que c'est que cette histoire de `from turtle import *` ? C'est une histoire pour une\n",
    "prochaine fois."
   ]
  }
 ],
 "metadata": {
  "jupytext": {
   "formats": "ipynb,md",
   "split_at_heading": true
  },
  "kernelspec": {
   "display_name": "Python 3 (ipykernel)",
   "language": "python",
   "name": "python3"
  }
 },
 "nbformat": 4,
 "nbformat_minor": 5
}
