{
 "cells": [
  {
   "cell_type": "markdown",
   "id": "255bc3fc",
   "metadata": {
    "lines_to_next_cell": 0
   },
   "source": [
    "<!-- LTeX: language=fr -->"
   ]
  },
  {
   "cell_type": "markdown",
   "id": "1c46f3c1",
   "metadata": {
    "slideshow": {
     "slide_type": "slide"
    }
   },
   "source": [
    "Cours 7 : Compléments sur les boucles et les séquences\n",
    "======================================================\n",
    "\n",
    "**Loïc Grobol** [<lgrobol@parisnanterre.fr>](mailto:lgrobol@parisnanterre.fr)\n",
    "\n",
    "2022-02-22"
   ]
  },
  {
   "cell_type": "markdown",
   "id": "b9535b26",
   "metadata": {},
   "source": [
    "Dans ce notebook, des nouveaux outils pour travailler avec les boucles : les compteurs, les\n",
    "accumulateurs et la fonction `range`."
   ]
  },
  {
   "cell_type": "markdown",
   "id": "664098e4",
   "metadata": {},
   "source": [
    "## Boucles `for` : rappels\n",
    "\n",
    "Les boucles `for` permettent de parcourir une séquence, en considérant dans l'ordre chacun de ses\n",
    "éléments :"
   ]
  },
  {
   "cell_type": "code",
   "execution_count": null,
   "id": "41a41b23",
   "metadata": {},
   "outputs": [],
   "source": [
    "for lettre in \"pomme\":\n",
    "    print(lettre)"
   ]
  },
  {
   "cell_type": "markdown",
   "id": "cef2569b",
   "metadata": {},
   "source": [
    "On dit qu'on a **itéré** sur la séquence, ce qui est possible parce qu'une séquence est un\n",
    "**itérable**.\n",
    "\n",
    "Il n'y a d'ailleurs pas d'obligation d'utiliser les valeurs des éléments :"
   ]
  },
  {
   "cell_type": "code",
   "execution_count": null,
   "id": "21baa7ce",
   "metadata": {},
   "outputs": [],
   "source": [
    "for letter in \"apple\":\n",
    "    print(\"hello\")"
   ]
  },
  {
   "cell_type": "markdown",
   "id": "4e0eed96",
   "metadata": {},
   "source": [
    "C'est assez rare d'avoir à faire ça, mais si on le fait, par **convention**, on utilise souvent\n",
    "l'underscore `_` comme nom de variable de boucle, avec comme sens implicite « cette valeur ne sera\n",
    "pas utilisée »."
   ]
  },
  {
   "cell_type": "code",
   "execution_count": null,
   "id": "2c3732b5",
   "metadata": {},
   "outputs": [],
   "source": [
    "for _ in \"apple\":\n",
    "    print(\"hello\")"
   ]
  },
  {
   "cell_type": "markdown",
   "id": "a1a66fa7",
   "metadata": {},
   "source": [
    "On peut itérer sur des listes :"
   ]
  },
  {
   "cell_type": "code",
   "execution_count": null,
   "id": "f6741019",
   "metadata": {},
   "outputs": [],
   "source": [
    "indices = [0, 1, -1, -4]\n",
    "word = \"linguistics\"\n",
    "\n",
    "for index in indices:\n",
    "    print(word[index])"
   ]
  },
  {
   "cell_type": "markdown",
   "id": "7724d72c",
   "metadata": {},
   "source": [
    "Et imbriquer des boucles les unes dans les autres :"
   ]
  },
  {
   "cell_type": "code",
   "execution_count": null,
   "id": "618088ca",
   "metadata": {},
   "outputs": [],
   "source": [
    "cities = [\"NYC\", \"LA\", \"SF\"]\n",
    "\n",
    "for city in cities:\n",
    "    print(\"The current city is\", city)\n",
    "    for ch in city:\n",
    "        print(\"\\t\", ch)"
   ]
  },
  {
   "cell_type": "markdown",
   "id": "ed38e820",
   "metadata": {},
   "source": [
    "## Recette : compteurs\n",
    "\n",
    "Pour afficher l'**indice** de l'élément courant, on peut utiliser un **compteur** : une variable\n",
    "dont la valeur initiale sera $0$ et à laquelle on ajoutera $1$ (**incrémenter**) à chaque itération\n",
    "(« tour de boucle »)."
   ]
  },
  {
   "cell_type": "code",
   "execution_count": null,
   "id": "669fd517",
   "metadata": {},
   "outputs": [],
   "source": [
    "index = 0\n",
    "for lettre in \"linguistique\":\n",
    "    print(lettre, \" indice :\", index)\n",
    "    index = index + 1"
   ]
  },
  {
   "cell_type": "markdown",
   "id": "44bf3dee",
   "metadata": {},
   "source": [
    "On peut s'en servir pour compter les éléments d'une séquence qui vérifient une certaine condition.\n",
    "Par exemple :"
   ]
  },
  {
   "cell_type": "code",
   "execution_count": null,
   "id": "aeedfba1",
   "metadata": {
    "tags": [
     "skip-execution"
    ]
   },
   "outputs": [],
   "source": [
    "voyelles = [\"a\",\"e\",\"o\",\"i\",\"u\", \"y\", \"à\", \"â\", \"é\", \"è\", \"ê\", \"ë\", \"î\", \"ï\", \"ô\", \"ù\", \"ü\", \"ÿ\"]\n",
    "mot = input(\"Dis-moi un mot : \")\n",
    "\n",
    "compteur = 0\n",
    "for lettre in mot:\n",
    "    if lettre in voyelles:\n",
    "        compteur = compteur + 1\n",
    "print(compteur)"
   ]
  },
  {
   "cell_type": "markdown",
   "id": "563c7811",
   "metadata": {},
   "source": [
    "On peut aussi utiliser un compteur pour garder trace de l'indice de l'élément actuel dans la\n",
    "séquence sur laquelle on itère :\n",
    "\n",
    "Voici une liste d'états des États-Unis `states`, une liste des températures moyennes de\n",
    "ces états `temperatures` (données dans le même ordre), et une liste des états considérés comme\n",
    "faisant partie de la Nouvelle-Angleterre `new_england`."
   ]
  },
  {
   "cell_type": "code",
   "execution_count": null,
   "id": "55214440",
   "metadata": {},
   "outputs": [],
   "source": [
    "states = [\"Alabama\",\"Alaska\",\"Arizona\",\"Arkansas\",\"California\",\"Colorado\",\n",
    "  \"Connecticut\",\"Delaware\",\"Florida\",\"Georgia\",\"Hawaii\",\"Idaho\",\"Illinois\",\n",
    "  \"Indiana\",\"Iowa\",\"Kansas\",\"Kentucky\",\"Louisiana\",\"Maine\",\"Maryland\",\n",
    "  \"Massachusetts\",\"Michigan\",\"Minnesota\",\"Mississippi\",\"Missouri\",\"Montana\",\n",
    "  \"Nebraska\",\"Nevada\",\"New Hampshire\",\"New Jersey\",\"New Mexico\",\"New York\",\n",
    "  \"North Carolina\",\"North Dakota\",\"Ohio\",\"Oklahoma\",\"Oregon\",\"Pennsylvania\",\n",
    "  \"Rhode Island\",\"South Carolina\",\"South Dakota\",\"Tennessee\",\"Texas\",\"Utah\",\n",
    "  \"Vermont\",\"Virginia\",\"Washington\",\"West Virginia\",\"Wisconsin\",\"Wyoming\"]\n",
    "\n",
    "temperatures = [62.8, 26.6, 60.3, 60.4, 59.4, 45.1, 49, 55.3, 70.7, 63.5,\n",
    "                70, 44.4, 51.8, 51.7, 47.8, 54.3, 55.6, 66.4, 41, 54.2, \n",
    "                47.9, 44.4, 41.2, 63.4, 54.5, 42.7, 48.8, 49.9, 43.8, 52.7, \n",
    "                53.4, 45.4, 59, 40.4, 50.7, 59.6, 48.4, 48.8, 50.1, 62.4, \n",
    "                45.2, 57.6, 64.8, 48.6, 42.9, 55.1, 48.3, 51.8, 43.1, 42]\n",
    "\n",
    "new_england = [\"Maine\", \"Vermont\", \"New Hampshire\", \"Massachusetts\", \"Connecticut\",\n",
    "               \"Rhode Island\"]"
   ]
  },
  {
   "cell_type": "markdown",
   "id": "f8b06c08",
   "metadata": {},
   "source": [
    "La cellule ci-dessous calcule et affiche les températures moyennes des états de Nouvelle-Angleterre,\n",
    "en utilisant la variable `index` pour stocker l'indice de l'état en cours dans la liste `states` et\n",
    "pouvoir trouver son pendant dans la liste `temperatures` :"
   ]
  },
  {
   "cell_type": "code",
   "execution_count": null,
   "id": "acb91bc3",
   "metadata": {},
   "outputs": [],
   "source": [
    "index = 0\n",
    "for state in states:\n",
    "    if state in new_england:\n",
    "        print(state+\":\", temperatures[index])\n",
    "    index = index + 1"
   ]
  },
  {
   "cell_type": "markdown",
   "id": "1d5a2743",
   "metadata": {},
   "source": [
    "### Entraînement : compteurs et accumulateurs"
   ]
  },
  {
   "cell_type": "markdown",
   "id": "b97f8d59",
   "metadata": {},
   "source": [
    "#### 1. Compter les *stop words*\n",
    "\n",
    "Voici un paragraphe, segmenté en mots :"
   ]
  },
  {
   "cell_type": "code",
   "execution_count": null,
   "id": "2b8e5bb7",
   "metadata": {},
   "outputs": [],
   "source": [
    "paragraphe = [\"C'\", 'est', 'devenu', 'une', 'banalité', \"l'\", 'ordinateur', \"s'\", 'accapare', 'nos', 'bureaux', 'modifie', 'nos', 'modes', 'de', 'travail', 'envahit', 'nos', 'maisons', \"s'\", 'intègre', 'dans', 'les', 'objets', 'les', 'plus', 'quotidiens', 'et', 'nous', 'propose', 'des', 'loisirs', 'inédits', 'Il', 'est', 'même', 'à', \"l'\", 'origine', 'de', 'nouveaux', 'modes', 'de', 'sociabilité', 'et', \"d'\", 'une', 'nouvelle', 'économie', \"l'\", 'informatique', 'est', 'partout', 'Pourtant', \"l'\", 'ordinateur', 'lui', 'même', 'demeure', 'pour', 'beaucoup', 'une', 'énigme', 'un', 'objet', 'mystérieux', 'et', 'un', 'peu', 'magique', 'Le', 'terme', \"d'\", 'informaticien', 'semble', \"d'\", 'ailleurs', 'recouper', 'une', 'grande', 'diversité', 'de', 'métiers', 'et', \"d'\", 'occupations', 'réelles', 'allant', 'du', 'technicien', 'à', \"l'\", 'ingénieur', 'réseau', 'en', 'passant', 'par', 'le', 'webmaître', 'Quant', 'à', 'la', 'nature', 'du', 'travail', 'de', 'ceux', 'qui', 'font', 'de', 'la', 'recherche', 'en', 'informatique', \"c'\", 'est', 'sans', 'doute', 'à', 'en', 'juger', 'par', 'les', 'réactions', 'auxquelles', \"j'\", 'ai', 'moi', 'même', 'été', 'confrontée', 'une', 'mystère', 'encore', 'plus', 'épais', 'malgré', 'le', 'prestige', 'un', 'peu', 'mythique', 'que', 'conservent', 'des', 'projets', 'comme', 'ceux', 'de', 'la', 'robotique', 'ou', 'de', \"l'\", 'intelligence', 'artificielle', 'Ce', 'document', 'se', 'veut', 'en', 'partie', 'une', 'réponse', 'à', 'ceux', 'qui', 'se', 'demandent', 'quels', 'sont', 'les', 'fondements', 'de', \"l'\", 'informatique', 'Il', \"n'\", 'est', 'pas', 'conçu', 'pour', 'initier', 'au', 'maniement', 'pratique', 'des', 'ordinateurs', 'ce', \"n'\", 'est', 'pas', 'une', 'introduction', 'à', 'la', 'bureautique', 'Ce', \"n'\", 'est', 'pas', 'non', 'plus', 'un', 'manuel', 'technique', 'à', \"l'\", 'usage', 'de', 'ceux', 'qui', 'souhaitent', 'bricoler', 'leur', 'machine', 'favorite', 'Si', 'au', 'fil', 'des', 'pages', 'des', 'informations', 'utiles', 'à', 'ces', 'deux', 'catégories', \"d'\", 'utilisateurs', 'ou', 'aux', 'novices', 'pourront', 'être', 'glanées', 'vocabulaire', 'spécialisé', 'typologie', 'de', 'matériels', 'ordre', 'de', 'grandeurs', 'des', 'performances', 'des', 'machines', 'actuelles', 'tel', \"n'\", 'est', 'pas', 'son', 'objectif', 'premier', \"L'\", 'informatique', 'dont', 'il', 'sera', 'question', 'ici', 'est', 'une', 'discipline', 'scientifique', 'qui', 'en', 'tant', 'que', 'telle', 'a', 'ses', 'propres', 'questions', 'ses', 'propres', 'problèmes', 'et', 'dispose', 'pour', 'les', 'aborder', \"d'\", 'outils', 'et', 'de', 'méthodes', 'spécifiques', 'De', 'cette', 'discipline', 'on', 'abordera', 'les', 'fondements', 'théoriques', 'ainsi', 'que', 'quelques', 'réalisations', 'pratiques', 'mais', 'on', 'insistera', 'plus', 'sur', 'les', 'concepts', 'que', 'sur', 'la', 'technique', 'Cette', 'présentation', 'relève', 'donc', 'principalement', \"d'\", 'une', 'démarche', 'de', 'vulgarisation', 'scientifique', 'destinée', 'à', 'un', 'public', 'de', 'non', 'spécialistes', 'mais', 'qui', 'se', 'place', 'à', 'un', 'niveau', 'non', 'trivial', 'difficilement', 'trouvable', 'dans', 'les', 'manuels', 'habituellement', 'disponibles', \"J'\", 'ai', 'ici', 'essayé', 'de', 'décrire', 'de', 'façon', 'aussi', 'abordable', 'que', 'possible', 'ce', 'que', 'en', 'tant', \"qu'\", 'informaticienne', 'je', 'souhaite', 'que', \"l'\", 'honnête', 'homme', 'du', 'XXIème', 'siècle', 'sache', 'et', 'pense', 'de', 'ma', 'discipline', 'appelée', 'à', 'coup', 'sûr', 'à', 'un', 'grand', 'développement', 'dans', 'les', 'années', 'qui', 'viennent']"
   ]
  },
  {
   "cell_type": "markdown",
   "id": "9fa9fdca",
   "metadata": {},
   "source": [
    "À l'aide d'une boucle et d'un compteur, déterminer le nombre de mots de ce paragraphe qui\n",
    "appartiennent à la liste `stop_words` suivante."
   ]
  },
  {
   "cell_type": "code",
   "execution_count": null,
   "id": "e920865c",
   "metadata": {},
   "outputs": [],
   "source": [
    "stop_words = [\"le\", \"la\", \"les\", \"l'\", \"un\", \"une\", \"des\", \"de\", \"d'\", \"à\"]\n",
    "# Codez ici"
   ]
  },
  {
   "cell_type": "markdown",
   "id": "9ffd6095",
   "metadata": {},
   "source": [
    "### 2. Accumulateurs\n",
    "\n",
    "Voici une liste de nombres"
   ]
  },
  {
   "cell_type": "code",
   "execution_count": null,
   "id": "e0d283ac",
   "metadata": {},
   "outputs": [],
   "source": [
    "numb3rs = [2, 3, 6, 3, 8, 2, 10, 2, 8, 3, 7, 7, 3, 5, 2, 7, 7, 3, 7, 2, 7, 4, 3, 6, 3, 4, 10, 2, 4, 7, 3, 7, 7, 2, 3, 4, 1, 2, 7, 2, 8, 5, 2, 11, 2, 2, 3, 8, 8, 2, 12, 3, 7, 8, 2, 10, 3, 4, 7, 4, 8, 3, 6, 2, 5, 10, 2, 2, 3, 7, 2, 5, 2, 13, 6, 2, 8, 8, 3, 6, 9, 2, 7, 2, 2, 11, 7, 6, 2, 10, 1, 2, 9, 6, 2, 7, 3, 2, 9, 5, 1, 2, 6, 2, 7, 2, 4, 3, 4, 2, 2, 9, 2, 12, 2, 3, 4, 5, 1, 2, 5, 3, 3, 9, 10, 2, 2, 3, 4, 3, 10, 3, 7, 6, 4, 5, 6, 2, 8, 2, 3, 8, 3, 10, 3, 7, 5, 4, 2, 2, 9, 2, 2, 2, 12, 12, 2, 8, 2, 4, 2, 6, 3, 7, 1, 4, 3, 2, 9, 5, 4, 3, 10, 2, 2, 12, 2, 2, 3, 3, 5, 4, 7, 2, 9, 8, 3, 11, 2, 2, 3, 3, 3, 12, 1, 2, 11, 2, 2, 3, 3, 3, 4, 2, 6, 9, 1, 2, 5, 2, 4, 3, 10, 8, 4, 7, 8, 2, 2, 3, 3, 5, 3, 12, 6, 1, 3, 4, 10, 2, 12, 2, 3, 7, 8, 4, 7, 11, 10, 9, 2, 9, 5, 2, 9, 3, 12, 3, 8, 9, 3, 2, 3, 3, 3, 8, 7, 2, 12, 4, 2, 4, 8, 3, 3, 3, 10, 12, 3, 2, 4, 3, 5, 1, 3, 7, 9, 3, 7, 9, 2, 7, 4, 3, 7, 2, 6, 2, 2, 8, 11, 2, 5, 10, 2, 8, 3, 10, 10, 5, 3, 8, 12, 9, 4, 2, 9, 4, 3, 3, 8, 3, 3, 2, 9, 5, 12, 6, 4, 14, 2, 3, 8, 2, 13, 12, 8, 1, 2, 6, 2, 3, 12, 4, 3, 2, 5, 1, 2, 6, 3, 7, 13, 9, 4, 3, 7, 14, 11, 2, 2, 3, 6, 2, 7, 2, 5, 5, 9, 3, 8, 2, 3, 2, 4, 3, 15, 2, 8, 3, 2, 7, 5, 2, 6, 6, 5, 2, 5, 2, 2, 10, 7, 1, 4, 3, 1, 2, 5, 13, 4, 3, 6, 3, 8]"
   ]
  },
  {
   "cell_type": "markdown",
   "id": "81002974",
   "metadata": {},
   "source": [
    "À l'aide d'une boucle, calculer et afficher leur somme et leur moyenne"
   ]
  },
  {
   "cell_type": "code",
   "execution_count": null,
   "id": "50c96de3",
   "metadata": {},
   "outputs": [],
   "source": []
  },
  {
   "cell_type": "markdown",
   "id": "84873003",
   "metadata": {},
   "source": [
    "### 3. Max\n",
    "\n",
    "Voici la même liste de nombres"
   ]
  },
  {
   "cell_type": "code",
   "execution_count": null,
   "id": "c379e78d",
   "metadata": {},
   "outputs": [],
   "source": [
    "numb3rs = [2, 3, 6, 3, 8, 2, 10, 2, 8, 3, 7, 7, 3, 5, 2, 7, 7, 3, 7, 2, 7, 4, 3, 6, 3, 4, 10, 2, 4, 7, 3, 7, 7, 2, 3, 4, 1, 2, 7, 2, 8, 5, 2, 11, 2, 2, 3, 8, 8, 2, 12, 3, 7, 8, 2, 10, 3, 4, 7, 4, 8, 3, 6, 2, 5, 10, 2, 2, 3, 7, 2, 5, 2, 13, 6, 2, 8, 8, 3, 6, 9, 2, 7, 2, 2, 11, 7, 6, 2, 10, 1, 2, 9, 6, 2, 7, 3, 2, 9, 5, 1, 2, 6, 2, 7, 2, 4, 3, 4, 2, 2, 9, 2, 12, 2, 3, 4, 5, 1, 2, 5, 3, 3, 9, 10, 2, 2, 3, 4, 3, 10, 3, 7, 6, 4, 5, 6, 2, 8, 2, 3, 8, 3, 10, 3, 7, 5, 4, 2, 2, 9, 2, 2, 2, 12, 12, 2, 8, 2, 4, 2, 6, 3, 7, 1, 4, 3, 2, 9, 5, 4, 3, 10, 2, 2, 12, 2, 2, 3, 3, 5, 4, 7, 2, 9, 8, 3, 11, 2, 2, 3, 3, 3, 12, 1, 2, 11, 2, 2, 3, 3, 3, 4, 2, 6, 9, 1, 2, 5, 2, 4, 3, 10, 8, 4, 7, 8, 2, 2, 3, 3, 5, 3, 12, 6, 1, 3, 4, 10, 2, 12, 2, 3, 7, 8, 4, 7, 11, 10, 9, 2, 9, 5, 2, 9, 3, 12, 3, 8, 9, 3, 2, 3, 3, 3, 8, 7, 2, 12, 4, 2, 4, 8, 3, 3, 3, 10, 12, 3, 2, 4, 3, 5, 1, 3, 7, 9, 3, 7, 9, 2, 7, 4, 3, 7, 2, 6, 2, 2, 8, 11, 2, 5, 10, 2, 8, 3, 10, 10, 5, 3, 8, 12, 9, 4, 2, 9, 4, 3, 3, 8, 3, 3, 2, 9, 5, 12, 6, 4, 14, 2, 3, 8, 2, 13, 12, 8, 1, 2, 6, 2, 3, 12, 4, 3, 2, 5, 1, 2, 6, 3, 7, 13, 9, 4, 3, 7, 14, 11, 2, 2, 3, 6, 2, 7, 2, 5, 5, 9, 3, 8, 2, 3, 2, 4, 3, 15, 2, 8, 3, 2, 7, 5, 2, 6, 6, 5, 2, 5, 2, 2, 10, 7, 1, 4, 3, 1, 2, 5, 13, 4, 3, 6, 3, 8]"
   ]
  },
  {
   "cell_type": "markdown",
   "id": "e9db5bf3",
   "metadata": {},
   "source": [
    "À l'aide d'une boucle, déterminer le nombre le plus grand (le maximum) de cette liste"
   ]
  },
  {
   "cell_type": "code",
   "execution_count": null,
   "id": "d568124a",
   "metadata": {},
   "outputs": [],
   "source": []
  },
  {
   "cell_type": "markdown",
   "id": "40588d77",
   "metadata": {},
   "source": [
    "### 4. Le pot aux roses\n",
    "\n",
    "Voici quelques fonctions bien utiles :"
   ]
  },
  {
   "cell_type": "code",
   "execution_count": null,
   "id": "50e1a24c",
   "metadata": {},
   "outputs": [],
   "source": [
    "lst = [3, 6, 5, 12, -4]\n",
    "print(max(lst))\n",
    "print(min(lst))\n",
    "print(sum(lst))"
   ]
  },
  {
   "cell_type": "markdown",
   "id": "711d39a6",
   "metadata": {},
   "source": [
    "Pouvez-vous expliquer ce qu'elles font ?\n",
    "\n",
    "\n"
   ]
  },
  {
   "cell_type": "markdown",
   "id": "128b7d9a",
   "metadata": {},
   "source": [
    "#### 5. Min\n",
    "\n",
    "Voici une liste de noms"
   ]
  },
  {
   "cell_type": "code",
   "execution_count": null,
   "id": "53fa0632",
   "metadata": {},
   "outputs": [],
   "source": [
    "names = ['Nicole-Reine Lepaute', 'Ada Lovelace', 'Maria Mitchell', 'Anna Winlock', 'Henrietta Swan Leavitt', 'Beatrice Mabel Cave-Browne-Cave', 'Mary Clem', 'Edith Clarke', 'Grete Hermann', 'Johanna Piesch', 'Mavis Batey', 'Gertrude Blanch', 'Ruth Leach Amonette', 'Marlyn Meltzer', 'Jean Bartik', 'Irma Wyman', 'Kathleen Booth', 'Dorothy Vaughan', 'Grace Hopper', 'Evelyn Boyd Granville', 'Ida Rhodes', 'Kathleen Booth', 'Betty Holberton', 'Klára Dán von Neumann', 'Thelma Estrin', 'Annie Easley', 'Kateryna Iouchtchenko', 'Marguerite Frank', 'Grace Hopper', 'Kathleen Booth', 'Alice Recoque', 'Mary K. Hawes', 'Marion Créhange', 'Jean E. Sammet', 'Stephanie Shirley', 'Joan Ball', 'Sharla Boehm', 'Mary Allen Wilkes', 'Mary Kenneth Keller', 'Vera Molnár', 'Jean E. Sammet', 'Margaret Hamilton', 'Alexandra Illmer Forsythe', 'Drude Berntsen', 'Erna Schneider Hoover', 'Adele Goldberg', 'Karen Spärck Jones', 'Susan Nycum', 'Phyllis Fox', 'Elizabeth J. Feinler', 'Rózsa Péter', 'Carol Shaw', 'Sophie Wilson', 'Christiane Floyd', 'Lynn Conway', 'Carol Shaw', 'Ruzena Bajcsy', 'Ruth M. Davis', 'Roberta Williams', 'Lorinda Cherry', 'Roberta Williams', 'Susan Kare', 'Radia Perlman', 'Irma Wyman', 'Nancy Hafkin', 'Monica S. Lam', 'Anita Borg', 'Joëlle Coutaz', 'Rena Tangens', 'Éva Tardos', 'Frances Allen', 'Frances Brazier', 'Ruzena Bajcsy', 'Carol Bartz', 'Shafi Goldwasser', 'Barbara Liskov', 'Carolyn Gruyer', 'Mary Lou Jepsen', 'Xiaoyuan Tu', 'Anita Borg', 'Chieko Asakawa', 'Manuela M. Veloso', 'Meg Whitman', 'Marissa Mayer', 'Carly Fiorina', 'Sun Yafang', 'Noriko H. Arai', 'Ellen Spertus', 'Margaret Hamilton', 'Susan Elizabeth Black', 'Jeri Ellsworth', 'Safra Catz', 'Audrey Tang', 'Mary Lou Jepsen', 'Facebook', 'Xiaoyun Wang', 'Maria Klawe', 'Joanna Rutkowska', 'Frances Allen', 'Anne-Marie Kermarrec', 'Barbara Liskov', 'Carol Bartz', 'Farida Bedwei', 'Meg Whitman', 'Noriko H. Arai', 'Shikoh Gitau', 'Shafi Goldwasser', 'Ginni Rometty', 'Éva Tardos', 'Regina Honu', 'Christine Paulin-Mohring', 'Coraline Ada Ehmke', 'Kesha Shah', 'Audrey Tang', 'Kate Devlin', 'Michelle Simmons', 'Regina Honu', 'Gladys West']"
   ]
  },
  {
   "cell_type": "markdown",
   "id": "c4eb7e70",
   "metadata": {},
   "source": [
    "1\\. À l'aide d'une boucle, déterminer la longueur du nom le plus court de cette liste"
   ]
  },
  {
   "cell_type": "code",
   "execution_count": null,
   "id": "f9628bd6",
   "metadata": {},
   "outputs": [],
   "source": []
  },
  {
   "cell_type": "markdown",
   "id": "373bd842",
   "metadata": {},
   "source": [
    "2\\. À l'aide d'une boucle, déterminer le nom le plus court de cette liste"
   ]
  },
  {
   "cell_type": "code",
   "execution_count": null,
   "id": "f030023c",
   "metadata": {},
   "outputs": [],
   "source": []
  },
  {
   "cell_type": "markdown",
   "id": "82d86da2",
   "metadata": {},
   "source": [
    "## `range` : les intervalles entiers\n",
    "\n",
    "Comment faire pour afficher dix fois « Bonjour » ?\n",
    "\n",
    "Il y a une réponse simpliste : « je copie-colle `print(\"Hello\")` dix fois ».\n",
    "\n",
    "Mais ce n'est pas très satisfaisant, non ?\n",
    "\n",
    "Une solution avec la boucle `for` :"
   ]
  },
  {
   "cell_type": "code",
   "execution_count": null,
   "id": "a169c6e8",
   "metadata": {},
   "outputs": [],
   "source": [
    "for _ in [0, 1, 2, 3, 4, 5, 6, 7, 8, 9]:\n",
    "    print(\"Bonjour\")"
   ]
  },
  {
   "cell_type": "markdown",
   "id": "48c923b3",
   "metadata": {},
   "source": [
    "Mais ce n'est toujours pas très pratique d'écrire cette liste. Surtout pour ne rien en faire.\n",
    "Heureusement, il y a un outil pour nous faciliter la vie : la fonction `range` :"
   ]
  },
  {
   "cell_type": "code",
   "execution_count": null,
   "id": "6ebaa831",
   "metadata": {},
   "outputs": [],
   "source": [
    "for _ in range(10):\n",
    "    print(\"Bonjour\")"
   ]
  },
  {
   "cell_type": "markdown",
   "id": "fb8e8ad8",
   "metadata": {},
   "source": [
    "Pas mal, non ?"
   ]
  },
  {
   "cell_type": "code",
   "execution_count": null,
   "id": "d03a5e68",
   "metadata": {},
   "outputs": [],
   "source": [
    "for i in range(10):\n",
    "    print(i)"
   ]
  },
  {
   "cell_type": "markdown",
   "id": "fbe86ea8",
   "metadata": {},
   "source": [
    "Vous devinez ce que renvoie `range(10)` ? À votre avis que renverrait `range(16)` ?\n",
    "\n",
    "On teste ?"
   ]
  },
  {
   "cell_type": "code",
   "execution_count": null,
   "id": "7213602c",
   "metadata": {},
   "outputs": [],
   "source": [
    "lst = [0, 1, 2, 3, 4, 5, 6, 7, 8, 9]\n",
    "print(lst)"
   ]
  },
  {
   "cell_type": "code",
   "execution_count": null,
   "id": "e4bc33f1",
   "metadata": {},
   "outputs": [],
   "source": [
    "print(range(10))"
   ]
  },
  {
   "cell_type": "markdown",
   "id": "8232c7fc",
   "metadata": {},
   "source": [
    "Ah\n",
    "\n",
    "Ce n'est pas très informatif. Dans les temps anciens de la version 2 de Python, `range(n)` renvoyait\n",
    "la liste des entiers de $0$ à $n$. Depuis, les temps ont changé et `range` renvoie simplement un\n",
    "objet de type `range`."
   ]
  },
  {
   "cell_type": "code",
   "execution_count": null,
   "id": "5ef41cf9",
   "metadata": {},
   "outputs": [],
   "source": [
    "print(type(range(10)))"
   ]
  },
  {
   "cell_type": "markdown",
   "id": "1ecf519f",
   "metadata": {},
   "source": [
    "Vous pouvez itérer dessus :"
   ]
  },
  {
   "cell_type": "code",
   "execution_count": null,
   "id": "1010a0db",
   "metadata": {},
   "outputs": [],
   "source": [
    "for i in range(16):\n",
    "    print(i)"
   ]
  },
  {
   "cell_type": "markdown",
   "id": "e7e75448",
   "metadata": {},
   "source": [
    "Pourquoi `range` ne renvoie pas une liste ? Parce que ça ne servirait pas à grand-chose : vous\n",
    "connaissez déjà les valeurs des éléments d'un `range`, pas besoin d'indexer. En plus, ça permet\n",
    "d'éviter de stocker tous les éléments de la liste en mémoire, ça prend moins de place, votre machine\n",
    "est contente.\n",
    "\n",
    "Les objets de type `range` sont donc des objets pour lesquels il n'y pas d'opérations d'indexation,\n",
    "ce ne sont donc pas des **séquences**. En revanche on peut itérer dessus, ce sont donc des\n",
    "**itérables**.\n",
    "\n",
    "En plus de la borne supérieure, on peut aussi spécifier la borne inférieure :"
   ]
  },
  {
   "cell_type": "code",
   "execution_count": null,
   "id": "b8cfe614",
   "metadata": {},
   "outputs": [],
   "source": [
    "for i in range(-2, 16):\n",
    "    print(i)"
   ]
  },
  {
   "cell_type": "markdown",
   "id": "fac9dc8f",
   "metadata": {},
   "source": [
    "Les règles sont toujours les mêmes en Python : la borne inférieure est incluse, la borne supérieure\n",
    "est exclue."
   ]
  },
  {
   "cell_type": "code",
   "execution_count": null,
   "id": "e4c06001",
   "metadata": {},
   "outputs": [],
   "source": [
    "for value in range(512, 1024):\n",
    "    print(value)"
   ]
  },
  {
   "cell_type": "markdown",
   "id": "7577ac4c",
   "metadata": {},
   "source": [
    "Bon, mais si on veut **vraiment** la liste de ces nombres ?\n",
    "\n",
    "On peut l'obtenir en utilisant la fonction `list` :"
   ]
  },
  {
   "cell_type": "code",
   "execution_count": null,
   "id": "70055b2c",
   "metadata": {},
   "outputs": [],
   "source": [
    "print(\"L'objet range:\", range(10))\n",
    "print(\"La liste qui correspond:\", list(range(10)))"
   ]
  },
  {
   "cell_type": "markdown",
   "id": "667d2d93",
   "metadata": {},
   "source": [
    "Enfin, on peut également (mais c'est plus rarement utile) préciser le pas :"
   ]
  },
  {
   "cell_type": "code",
   "execution_count": null,
   "id": "c3a7455d",
   "metadata": {},
   "outputs": [],
   "source": [
    "for value in range(1, 10, 2):\n",
    "    print(value)"
   ]
  },
  {
   "cell_type": "markdown",
   "id": "eae71ae3",
   "metadata": {},
   "source": [
    "Un des usages très répandu de `range` est de permettre de parcourir à la fois une séquence et ses\n",
    "indices : au lieu de ça :"
   ]
  },
  {
   "cell_type": "code",
   "execution_count": null,
   "id": "44c73e41",
   "metadata": {},
   "outputs": [],
   "source": [
    "mot = \"linguistique\"\n",
    "index = 0\n",
    "for lettre in mot:\n",
    "    print(lettre, \" indice :\", index)\n",
    "    index = index + 1"
   ]
  },
  {
   "cell_type": "markdown",
   "id": "5a507887",
   "metadata": {},
   "source": [
    "on peut écrire ça :"
   ]
  },
  {
   "cell_type": "code",
   "execution_count": null,
   "id": "9e4e3be1",
   "metadata": {},
   "outputs": [],
   "source": [
    "mot = \"linguistique\"\n",
    "for i in range(len(mot)):\n",
    "    print(mot[i], \" indice :\", i)"
   ]
  },
  {
   "cell_type": "markdown",
   "id": "64fc967a",
   "metadata": {},
   "source": [
    "qui est plus compact, et un peu plus agréable (on a plus à gérer manuellement le compteur).\n",
    "\n",
    "Attention, ce n'est pas optimale et on verra mieux plus tard, mais pour l'instant on va s'en\n",
    "servir pour s'entraîner à manipuler des `range`."
   ]
  },
  {
   "cell_type": "markdown",
   "id": "6fffb413",
   "metadata": {},
   "source": [
    "## Exercices\n",
    "\n",
    "Répondre à ces exercices directement dans le notebook, le sauvegarder sous un nom de la forme\n",
    "`07_boucles_sequences_PRENOM_NOM.ipynb` (pour Morgan Lefeuvre par exemple, ce serait\n",
    "`07_boucles_sequences_Morgan_Lefeuvre.ipynb`) et me le transmettre avant dimanche 2022-03-06 au soir.\n",
    "(2022-02-06).\n",
    "\n",
    "- De préférence via [Cours en Ligne](https://coursenligne.parisnanterre.fr/course/view.php?id=7694)\n",
    "  (clé d'inscription `rossum`)\n",
    "- À défaut, par mail, à `<lgrobol@parisnanterre.fr>`\n",
    "\n",
    "Attention : **l'extension doit être `.ipynb`**.\n",
    "\n",
    "Cette fois-ci ils sont assez longs, ne vous y prenez pas au dernier moment et n'hésitez pas à\n",
    "revenir sur les cours et les corrigés précédents pour trouver des idées."
   ]
  },
  {
   "cell_type": "markdown",
   "id": "f4ae0d09",
   "metadata": {},
   "source": [
    "### Consonnes\n",
    "\n",
    "Voici une liste de voyelles"
   ]
  },
  {
   "cell_type": "code",
   "execution_count": null,
   "id": "8f496e65",
   "metadata": {},
   "outputs": [],
   "source": [
    "voyelles = [\"a\",\"e\",\"o\",\"i\",\"u\", \"y\", \"à\", \"â\", \"é\", \"è\", \"ê\", \"ë\", \"î\", \"ï\", \"ô\", \"ù\", \"ü\", \"ÿ\"]"
   ]
  },
  {
   "cell_type": "markdown",
   "id": "72a2f935",
   "metadata": {},
   "source": [
    "Écrire un programme qui demande la saisie d'un mot et affiche le nombre de consonnes (donc de lettre\n",
    "qui ne sont pas de voyelles) dans ce mot."
   ]
  },
  {
   "cell_type": "code",
   "execution_count": null,
   "id": "3d9e9f34",
   "metadata": {},
   "outputs": [],
   "source": []
  },
  {
   "cell_type": "markdown",
   "id": "4b3da939",
   "metadata": {},
   "source": [
    "### 🍄 Accumuler dans une liste 🍄\n",
    "\n",
    "Écrire un programme qui demande à l'utilisateurice de saisir les uns après les autres ses cinq\n",
    "aliments préférés. Stocker ces réponses dans une liste, puis affichez les éléments de cette liste,\n",
    "chacun sur une ligne."
   ]
  },
  {
   "cell_type": "code",
   "execution_count": null,
   "id": "f0407e3e",
   "metadata": {},
   "outputs": [],
   "source": []
  },
  {
   "cell_type": "markdown",
   "id": "41d5e48d",
   "metadata": {},
   "source": [
    "### ⚒️ N-grammes ⚒️\n",
    "\n",
    "Le concept de **n-gramme** est fondamental en TAL. Un n-gramme, c'st une suite de $n$ symboles. Par\n",
    "exemple dans le mot « banane », les 2-grammes (bigrammes) de caractères sont :\n",
    "\n",
    "- ba\n",
    "- an\n",
    "- na\n",
    "- ne\n",
    "\n",
    "Et dans le mot « linguiste », les 3-grammes (trigrammes) de caractères sont :\n",
    "\n",
    "- lin\n",
    "- ing\n",
    "- ngu\n",
    "- gui\n",
    "- uis\n",
    "- ist\n",
    "- ste\n",
    "\n",
    "1\\. Écrire un programme qui demande la saisie d'un mot et affiche tous les bigrammes de caractères\n",
    "de ce mot. Il vous faudra utiliser une boucle `for`, et probablement des outils parmi ceux qu'on a\n",
    "vu dans cette séance."
   ]
  },
  {
   "cell_type": "code",
   "execution_count": null,
   "id": "b58845a7",
   "metadata": {},
   "outputs": [],
   "source": []
  },
  {
   "cell_type": "markdown",
   "id": "c7ca36c8",
   "metadata": {},
   "source": [
    "2\\. Écrire un programme qui demande la saisie d'un mot et d'un entier `n`, puis affiche la liste des\n",
    "n-grammes de caractères de ce mot.\n",
    "\n",
    "Indices :\n",
    "\n",
    "- Attention aux cas particuliers : que faire des `n` premiers et derniers caractères du mot ? Que\n",
    "  faire si le mot fait moins de n caractères…"
   ]
  },
  {
   "cell_type": "code",
   "execution_count": null,
   "id": "d4c22de8",
   "metadata": {},
   "outputs": [],
   "source": []
  },
  {
   "cell_type": "markdown",
   "id": "266b14a3",
   "metadata": {},
   "source": [
    "### Réflexion\n",
    "\n",
    "Quelques questions sur votre travail :\n",
    "\n",
    "- Combien de temps avez-vous passé à faire ces exercices ?\n",
    "- Combien de temps avez-vous passé à relire le cours (ou les cours précédents) ?\n",
    "- Avez-vous l'impression d'avoir bien mémorisé les concepts et les techniques vus jusqu'ici ?\n",
    "- Qu'est-ce qui vous paraît le plus compliqué ?\n",
    "- À votre avis, pourquoi ?\n",
    "\n",
    "Merci de bien répondre à chacune de ces questions dans la cellule de texte ci-dessous (n'oubliez pas\n",
    "de l'exécuter avant de sauvegarder) : elles me permettent d'ajuster le cours en fonction de vos\n",
    "besoins, avec un peu de chance, elles devraient également vous aider à guider votre travail et à\n",
    "apprécier votre progression.\n",
    "\n",
    "\n",
    "\n"
   ]
  }
 ],
 "metadata": {
  "jupytext": {
   "formats": "ipynb,md",
   "split_at_heading": true
  },
  "kernelspec": {
   "display_name": "Python 3 (ipykernel)",
   "language": "python",
   "name": "python3"
  }
 },
 "nbformat": 4,
 "nbformat_minor": 5
}
