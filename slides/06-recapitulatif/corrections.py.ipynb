{
 "cells": [
  {
   "cell_type": "markdown",
   "id": "e4b3bb3b",
   "metadata": {
    "lines_to_next_cell": 0
   },
   "source": [
    "<!-- LTeX: language=fr -->"
   ]
  },
  {
   "cell_type": "markdown",
   "id": "f45eb7dc",
   "metadata": {
    "slideshow": {
     "slide_type": "slide"
    }
   },
   "source": [
    "Cours 6 : Corrections\n",
    "=====================\n",
    "\n",
    "**Loïc Grobol** [<lgrobol@parisnanterre.fr>](mailto:lgrobol@parisnanterre.fr)\n",
    "\n",
    "2022-02-22"
   ]
  },
  {
   "cell_type": "markdown",
   "id": "a9cf69bc",
   "metadata": {},
   "source": [
    "## Sorties"
   ]
  },
  {
   "cell_type": "markdown",
   "id": "d29e7335",
   "metadata": {},
   "source": [
    "> 1\\. Écrire dans la cellule ci-dessous un programme qui affiche votre nom complet, comme ceci :\n",
    "> \n",
    "> ```text\n",
    "> Loïc Grobol\n",
    "> ```"
   ]
  },
  {
   "cell_type": "code",
   "execution_count": null,
   "id": "9f99272e",
   "metadata": {},
   "outputs": [],
   "source": [
    "print(\"Loïc Grobol\")"
   ]
  },
  {
   "cell_type": "markdown",
   "id": "b16e62cf",
   "metadata": {},
   "source": [
    "> 2\\. Écrire dans la cellule ci-dessous un programme qui affiche votre année et votre lieu de\n",
    "> naissance, séparés par une ligne vide, comme ceci :\n",
    "> \n",
    "> ```text\n",
    "> 1991\n",
    "> \n",
    "> Orléans\n",
    "> ```"
   ]
  },
  {
   "cell_type": "code",
   "execution_count": null,
   "id": "9a2536aa",
   "metadata": {},
   "outputs": [],
   "source": [
    "print(\"1991\")\n",
    "print()\n",
    "print(\"Orléans\")"
   ]
  },
  {
   "cell_type": "markdown",
   "id": "b84374b4",
   "metadata": {},
   "source": [
    "## Types de base et opérations\n",
    "\n",
    "> 1\\. Affichez les résultats des calculs suivants : $2713+4096$, $\\frac{12-75}{3}$, $2^{10}$,\n",
    "> $(-1)^{45+766}$ et $(512-256)\\times\\left(-\\frac{3}{2}\\right)$."
   ]
  },
  {
   "cell_type": "code",
   "execution_count": null,
   "id": "1f76fe43",
   "metadata": {},
   "outputs": [],
   "source": [
    "print(2713+4096)\n",
    "print(12-75)\n",
    "print(2**10)\n",
    "print((-1)**(46+766))\n",
    "print((512-256)*(-3/2))"
   ]
  },
  {
   "cell_type": "markdown",
   "id": "12c3899d",
   "metadata": {},
   "source": [
    "Pour le dernier, on aurait aussi pu écrire `(512-256)*(-(3/2))`, mais comme\n",
    "$-\\frac{3}{2}=\\frac{-3}{2}$, ça revient au même.\n",
    "\n",
    "> 2\\. Construire et afficher une chaîne de caractères composée de $4096$ répétition des caractères\n",
    "> `UPX>*`."
   ]
  },
  {
   "cell_type": "code",
   "execution_count": null,
   "id": "90d23928",
   "metadata": {},
   "outputs": [],
   "source": [
    "print(4096*\"UPX>*\")"
   ]
  },
  {
   "cell_type": "markdown",
   "id": "90f8ccfb",
   "metadata": {},
   "source": [
    "> 3\\. Construire et afficher une chaîne de caractères contenant `This is fine` suivie de $1024$ fois\n",
    "> `🔥`."
   ]
  },
  {
   "cell_type": "code",
   "execution_count": null,
   "id": "1cff61e3",
   "metadata": {},
   "outputs": [],
   "source": [
    "print(\"This is fine\" + 1024*\"🔥\")"
   ]
  },
  {
   "cell_type": "markdown",
   "id": "aa0c8a63",
   "metadata": {},
   "source": [
    "> 4\\. Déterminer sans les exécuter les valeurs de retour des instructions suivantes, écrivez les\n",
    "> résultats dans la cellule de texte en-dessous.\n"
   ]
  },
  {
   "cell_type": "code",
   "execution_count": null,
   "id": "611a1253",
   "metadata": {},
   "outputs": [],
   "source": [
    "True or True"
   ]
  },
  {
   "cell_type": "code",
   "execution_count": null,
   "id": "b1a2fe3b",
   "metadata": {
    "lines_to_next_cell": 2
   },
   "outputs": [],
   "source": [
    "True or False"
   ]
  },
  {
   "cell_type": "code",
   "execution_count": null,
   "id": "7c5358af",
   "metadata": {},
   "outputs": [],
   "source": [
    "False and False"
   ]
  },
  {
   "cell_type": "code",
   "execution_count": null,
   "id": "15f355ff",
   "metadata": {},
   "outputs": [],
   "source": [
    "(False or True) and True"
   ]
  },
  {
   "cell_type": "code",
   "execution_count": null,
   "id": "11a38630",
   "metadata": {},
   "outputs": [],
   "source": [
    "False or (True and True)"
   ]
  },
  {
   "cell_type": "code",
   "execution_count": null,
   "id": "5f2dac4a",
   "metadata": {},
   "outputs": [],
   "source": [
    "(\"machin\" in \"truc\") and (1 + 1 == 2)"
   ]
  },
  {
   "cell_type": "code",
   "execution_count": null,
   "id": "ffe7538b",
   "metadata": {
    "lines_to_next_cell": 2
   },
   "outputs": [],
   "source": [
    "(\"a\" in \"apples\") or (1 + 1 == 5)"
   ]
  },
  {
   "cell_type": "code",
   "execution_count": null,
   "id": "fc4fc155",
   "metadata": {},
   "outputs": [],
   "source": [
    "(\"apples\" in \"a\") or (1 + 1 == 5)"
   ]
  },
  {
   "cell_type": "code",
   "execution_count": null,
   "id": "a4511a68",
   "metadata": {},
   "outputs": [],
   "source": [
    "((\"apple\" in \"apples\") and (1 + 1 == 3)) or (5 < 10)"
   ]
  },
  {
   "cell_type": "markdown",
   "id": "6c5113ad",
   "metadata": {},
   "source": [
    "## Opérations sur les chaînes de caractères"
   ]
  },
  {
   "cell_type": "markdown",
   "id": "cd7a1382",
   "metadata": {},
   "source": [
    "> 1\\. Mettre en minuscules la chaine de caractères `\"ILliil1ILiiIILLL!1lIÎï\"` et afficher le\n",
    "> résultat."
   ]
  },
  {
   "cell_type": "code",
   "execution_count": null,
   "id": "31e61221",
   "metadata": {},
   "outputs": [],
   "source": [
    "print(str.lower(\"ILliil1ILiiIILLL!1lIÎï\"))"
   ]
  },
  {
   "cell_type": "markdown",
   "id": "cd3dc1f0",
   "metadata": {},
   "source": [
    "> 2\\. Mettre en casse de titre la chaîne de caractères `Les maîtres de l'ombre` et afficher le\n",
    "> résultat."
   ]
  },
  {
   "cell_type": "code",
   "execution_count": null,
   "id": "714d3032",
   "metadata": {},
   "outputs": [],
   "source": [
    "print(str.title(\"Les maîtres de l'ombre\"))"
   ]
  },
  {
   "cell_type": "markdown",
   "id": "31bbef13",
   "metadata": {},
   "source": [
    "## Variables\n",
    "\n",
    "> 1\\. Compléter la cellule suivante afin d'afficher la valeur de la variable `spam`"
   ]
  },
  {
   "cell_type": "code",
   "execution_count": null,
   "id": "b7f6b867",
   "metadata": {},
   "outputs": [],
   "source": [
    "spam = \"spam, spam, lovely spam\"\n",
    "print(spam)"
   ]
  },
  {
   "cell_type": "code",
   "execution_count": null,
   "id": "5eb9bc0e",
   "metadata": {},
   "outputs": [],
   "source": [
    "type(spam)"
   ]
  },
  {
   "cell_type": "markdown",
   "id": "8e59c6e4",
   "metadata": {},
   "source": [
    "> 2\\. Créer une variable contenant la chaîne de caractère `\"Bonjour, tout le monde\"`"
   ]
  },
  {
   "cell_type": "code",
   "execution_count": null,
   "id": "b2c93a8a",
   "metadata": {},
   "outputs": [],
   "source": [
    "message = \"Bonjour, tout le monde\""
   ]
  },
  {
   "cell_type": "markdown",
   "id": "08f8d7ef",
   "metadata": {},
   "source": [
    "> 3\\. Stocker le résultat du calcul suivant dans une variable et afficher son résultat :\n",
    "> $\\frac{36}{5}$"
   ]
  },
  {
   "cell_type": "code",
   "execution_count": null,
   "id": "f0c8da66",
   "metadata": {},
   "outputs": [],
   "source": [
    "res = 36/5\n",
    "print(res)"
   ]
  },
  {
   "cell_type": "markdown",
   "id": "f77c9275",
   "metadata": {},
   "source": [
    "> 4\\.\n",
    ">\n",
    "> 1. Stocker $86$ dans une variable et $33$ dans une autre.\n",
    "> 2. Stocker la somme dans une autre variable et afficher le résultat.\n",
    "> 3. Afficher le type de la somme."
   ]
  },
  {
   "cell_type": "code",
   "execution_count": null,
   "id": "21dbf70a",
   "metadata": {},
   "outputs": [],
   "source": [
    "un_nombre = 86\n",
    "un_autre_nombre = 33\n",
    "la_somme = un_nombre + un_autre_nombre\n",
    "print(la_somme)\n",
    "print(type(la_somme))"
   ]
  },
  {
   "cell_type": "markdown",
   "id": "4ec9a667",
   "metadata": {},
   "source": [
    "> 5\\. Même chose que 4., mais avec les valeurs `\"py\"` et `\"thon\"`."
   ]
  },
  {
   "cell_type": "code",
   "execution_count": null,
   "id": "2dfe7d24",
   "metadata": {},
   "outputs": [],
   "source": [
    "une_chaine = \"py\"\n",
    "une_autre_chaine = \"thon\"\n",
    "la_concaténation = une_chaine + une_autre_chaine\n",
    "print(la_concaténation)\n",
    "print(type(la_concaténation))"
   ]
  },
  {
   "cell_type": "markdown",
   "id": "f148c512",
   "metadata": {},
   "source": [
    "## Entrées\n",
    "\n",
    "> 1\\. Demander la saisie d'un nombre et afficher son triple."
   ]
  },
  {
   "cell_type": "code",
   "execution_count": null,
   "id": "d11a611a",
   "metadata": {
    "tags": [
     "skip-execution"
    ]
   },
   "outputs": [],
   "source": [
    "entree = int(input(\"Dis-moi un nombre: \"))\n",
    "print(3*entree)"
   ]
  },
  {
   "cell_type": "markdown",
   "id": "a8ea1710",
   "metadata": {},
   "source": [
    "Attention à ne pas oublier le `int`.\n",
    "\n",
    "> 2\\. Demander la saisie d'une chaîne de caractères et l'afficher tout en majuscules."
   ]
  },
  {
   "cell_type": "code",
   "execution_count": null,
   "id": "d957f4e3",
   "metadata": {
    "tags": [
     "skip-execution"
    ]
   },
   "outputs": [],
   "source": [
    "entree = input(\"Dis-moi quelque chose: \")\n",
    "print(str.upper(entree))"
   ]
  },
  {
   "cell_type": "markdown",
   "id": "5808c526",
   "metadata": {},
   "source": [
    "> 3\\. Demander la saisie d'une chaîne de caractères. Afficher `True` si elle contient `spam` et\n",
    "> `False` sinon."
   ]
  },
  {
   "cell_type": "code",
   "execution_count": null,
   "id": "ccf52c29",
   "metadata": {
    "tags": [
     "skip-execution"
    ]
   },
   "outputs": [],
   "source": [
    "entree = input(\"Dis-moi quelque chose: \")\n",
    "print(\"spam\" in entree)"
   ]
  },
  {
   "cell_type": "markdown",
   "id": "a716292f",
   "metadata": {},
   "source": [
    "> 4\\. Écrire un programme qui demande à son utilisateurice son année de naissance et affiche l'âge\n",
    "> qu'aura cette personne en 2050."
   ]
  },
  {
   "cell_type": "code",
   "execution_count": null,
   "id": "a0ca76f7",
   "metadata": {
    "tags": [
     "skip-execution"
    ]
   },
   "outputs": [],
   "source": [
    "annee = int(input(\"Tu es né⋅e quand ? \"))\n",
    "age_2050 = 2050-annee\n",
    "print(\"En 2050, tu auras\", age_2050, \" ans\")"
   ]
  },
  {
   "cell_type": "markdown",
   "id": "fd6b1bb5",
   "metadata": {},
   "source": [
    "## Instruction conditionnelle `if`\n",
    "\n",
    "> 1\\. Écrire un programme qui affiche `trop petit` si le résultat du calcul $\\frac{2^{11}}{3}$ est\n",
    "> plus petit que $1000$ sans jamais afficher le résultat du calcul lui-même."
   ]
  },
  {
   "cell_type": "code",
   "execution_count": null,
   "id": "563315f0",
   "metadata": {},
   "outputs": [],
   "source": [
    "if (2**11)/3 < 1000:\n",
    "    print(\"trop petit\")"
   ]
  },
  {
   "cell_type": "markdown",
   "id": "63a04d5a",
   "metadata": {},
   "source": [
    "> 2\\. Demander la saisie d'une chaîne de caractères en posant la question `\"Voyelle ou\n",
    "> consonne ?\"`. Afficher `a` si la saisie est `\"voyelle\"`, `b` si la saisie est `\"consonne\"`.\n",
    "> N'affichez rien pour toute autre saisie."
   ]
  },
  {
   "cell_type": "code",
   "execution_count": null,
   "id": "9f811b72",
   "metadata": {
    "tags": [
     "skip-execution"
    ]
   },
   "outputs": [],
   "source": [
    "entree = input(\"Voyelle ou consonne ? \")\n",
    "if entree == \"voyelle\":\n",
    "    print(\"a\")\n",
    "elif entree == \"consonne\":\n",
    "    print(\"b\")"
   ]
  },
  {
   "cell_type": "markdown",
   "id": "8602f8b8",
   "metadata": {},
   "source": [
    "> 3\\. Demander la saisie d'une chaîne de caractères contenant un nombre. Afficher `🥶` si ce nombre\n",
    "> est inférieur à $5$, $😌$ s'il est entre $5$ et $16$ et $🥵$ sinon."
   ]
  },
  {
   "cell_type": "code",
   "execution_count": null,
   "id": "7c938ac5",
   "metadata": {
    "tags": [
     "skip-execution"
    ]
   },
   "outputs": [],
   "source": [
    "temp = int(input(\"Dis-moi une température: \"))\n",
    "if temp < 5:\n",
    "    print(\"🥶\")\n",
    "elif 5 <= temp < 16:\n",
    "    print(\"😌\")\n",
    "else:\n",
    "    print(\"🥵\")"
   ]
  },
  {
   "cell_type": "markdown",
   "id": "7e7a5458",
   "metadata": {},
   "source": [
    "On pouvait aussi écrire `5 <= temp and temp < 16` pour la deuxième condition ou l'échanger avec la\n",
    "condition `else`.\n",
    "\n",
    "> 4\\. Demandez à votre utilisateurice de saisir sa couleur préférée :\n",
    ">\n",
    "> - Si la réponse contient `rouge`, affichez `🟥!`.\n",
    "> - Si la réponse contient `vert`, affichez `🟩!`.\n",
    "> - Si la réponse contient `violet` ou `indigo`, affichez `💜!`.\n",
    "> - Si la réponse est n'importe quoi d'autre, demandez `Tu penses avoir bon goût ?`.\n",
    ">   - Si la réponse à cette deuxième question est `oui`, affichez `😂`\n",
    ">   - Sinon, affichez `👉👉`"
   ]
  },
  {
   "cell_type": "code",
   "execution_count": null,
   "id": "ba364925",
   "metadata": {
    "tags": [
     "skip-execution"
    ]
   },
   "outputs": [],
   "source": [
    "col = input(\"C'est quoi ta couleur préférée ? \")\n",
    "if \"rouge\" in col:\n",
    "    print(\"🟥!\")\n",
    "elif \"vert\" in col:\n",
    "    print(\"🟩!\")\n",
    "elif \"violet\" in col or \"indigo\" in col:\n",
    "    print(\"💜!\")\n",
    "else:\n",
    "    taste = input(\"Tu penses avoir bon goût ? \")\n",
    "    if taste == \"oui\":\n",
    "        print(\"😂\")\n",
    "    else:\n",
    "        print(\"👉👉\")"
   ]
  },
  {
   "cell_type": "markdown",
   "id": "9ed45f61",
   "metadata": {},
   "source": [
    "On pouvait utiliser `str.lower` pour rendre ça plus sympa."
   ]
  },
  {
   "cell_type": "markdown",
   "id": "533b3a3c",
   "metadata": {},
   "source": [
    "## Séquences et listes\n",
    "\n",
    "> 1\\. En utilisant uniquement les chaînes de caractères déjà définies (pas forcément toutes) dans la\n",
    "> cellule-ci dessous, modifiez cette cellule pour afficher `le nouveau monde tarde à apparaître`"
   ]
  },
  {
   "cell_type": "code",
   "execution_count": null,
   "id": "2f5e9fa9",
   "metadata": {},
   "outputs": [],
   "source": [
    "lst = [\" \", \"le\", \"nouveau\", \"monde\", \"tarde\", \"à\", \"apparaître\"]\n",
    "print(\n",
    "    lst[1] + lst[0]\n",
    "    + lst[2] + lst[0]\n",
    "    + lst[3] + lst[0]\n",
    "    + lst[4] + lst[0]\n",
    "    + lst[5] + lst[0]\n",
    "    + lst[6]\n",
    ")"
   ]
  },
  {
   "cell_type": "markdown",
   "id": "f364ffcc",
   "metadata": {},
   "source": [
    "En prenant un peu d'avance"
   ]
  },
  {
   "cell_type": "code",
   "execution_count": null,
   "id": "bec54081",
   "metadata": {},
   "outputs": [],
   "source": [
    "lst = [\" \", \"le\", \"nouveau\", \"monde\", \"tarde\", \"à\", \"apparaître\"]\n",
    "print(str.join(lst[0], lst[1:]))"
   ]
  },
  {
   "cell_type": "markdown",
   "id": "bf8dd4b7",
   "metadata": {},
   "source": [
    "> 2\\. Même question"
   ]
  },
  {
   "cell_type": "code",
   "execution_count": null,
   "id": "06dd4cb3",
   "metadata": {},
   "outputs": [],
   "source": [
    "lst = [\" \", \"le\", \"nouveau\", [\"monde\", \"tarde\", \"à\"], \"apparaître\"]\n",
    "print(\n",
    "    lst[1] + lst[0]\n",
    "    + lst[2] + lst[0]\n",
    "    + lst[3][0] + lst[0]\n",
    "    + lst[3][1] + lst[0]\n",
    "    + lst[3][2] + lst[0]\n",
    "    + lst[4]\n",
    ")"
   ]
  },
  {
   "cell_type": "markdown",
   "id": "ef729600",
   "metadata": {},
   "source": [
    "> 3\\. Même question"
   ]
  },
  {
   "cell_type": "code",
   "execution_count": null,
   "id": "4ee6ab8b",
   "metadata": {},
   "outputs": [],
   "source": [
    "lst = [\" \", \"le\", \"nouveau\", [\"monde\", [\"tarde\"], \"à\"], \"apparaître\"]\n",
    "print(\n",
    "    lst[1] + lst[0]\n",
    "    + lst[2] + lst[0]\n",
    "    + lst[3][0] + lst[0]\n",
    "    + lst[3][1][0] + lst[0]\n",
    "    + lst[3][2] + lst[0]\n",
    "    + lst[4]\n",
    ")"
   ]
  },
  {
   "cell_type": "markdown",
   "id": "337993c4",
   "metadata": {},
   "source": [
    "> 4\\. Même question"
   ]
  },
  {
   "cell_type": "code",
   "execution_count": null,
   "id": "d6e9d75c",
   "metadata": {},
   "outputs": [],
   "source": [
    "lst = [\" \", \"le\", \"nouveau\", \"apparaître monde tarde à\"]\n",
    "print(\n",
    "    lst[1] + lst[0]\n",
    "    + lst[2] + lst[0]\n",
    "    + lst[3][11:16] + lst[0]\n",
    "    + lst[3][17:22] + lst[0]\n",
    "    + lst[3][23] + lst[0]\n",
    "    + lst[3][:10] + lst[0]\n",
    ")"
   ]
  },
  {
   "cell_type": "markdown",
   "id": "7e9831d2",
   "metadata": {},
   "source": [
    "On pouvait aussi utiliser les espaces de `lst[3]` directement, par exemple `lst[3][:11]` au lieu de\n",
    "`lst[3][:10] + lst[0]`.\n",
    "\n",
    "Ou, en prenant beaucoup d'avance :"
   ]
  },
  {
   "cell_type": "code",
   "execution_count": null,
   "id": "fb1b4c3e",
   "metadata": {},
   "outputs": [],
   "source": [
    "lst = [\" \", \"le\", \"nouveau\", \"apparaître monde tarde à\"]\n",
    "lst2 = str.split(lst[3])\n",
    "print(str.join(lst[0], [*lst[1:3], *lst2[1:], lst2[0]]))"
   ]
  },
  {
   "cell_type": "markdown",
   "id": "e502fa93",
   "metadata": {},
   "source": [
    "> 5\\. Même question"
   ]
  },
  {
   "cell_type": "code",
   "execution_count": null,
   "id": "7b057911",
   "metadata": {},
   "outputs": [],
   "source": [
    "lst = [\" \", \"le\", [[[[\"nouveau\"]]]], \"apparaître monde tarde à\"]\n",
    "print(\n",
    "    lst[1] + lst[0]\n",
    "    + lst[2][0][0][0][0] + lst[0]\n",
    "    + lst[3][11:16] + lst[0]\n",
    "    + lst[3][17:22] + lst[0]\n",
    "    + lst[3][23] + lst[0]\n",
    "    + lst[3][:10] + lst[0]\n",
    ")"
   ]
  },
  {
   "cell_type": "markdown",
   "id": "9053d093",
   "metadata": {},
   "source": [
    "> 6\\. Même question en utilisant que des nombres négatifs ou nuls"
   ]
  },
  {
   "cell_type": "code",
   "execution_count": null,
   "id": "59878f5a",
   "metadata": {},
   "outputs": [],
   "source": [
    "lst = [\" \", \"le\", \"nouveau\", [\"monde\", \"tarde\", \"à\"], \"apparaître\"]\n",
    "print(\n",
    "    lst[-4] + lst[0]\n",
    "    + lst[-3] + lst[0]\n",
    "    + lst[-2][0] + lst[0]\n",
    "    + lst[-2][-2] + lst[0]\n",
    "    + lst[-2][-1] + lst[0]\n",
    "    + lst[-1]\n",
    ")"
   ]
  },
  {
   "cell_type": "markdown",
   "id": "415aa56a",
   "metadata": {},
   "source": [
    "> Bonus : en utilisant que des nombres strictement négatifs."
   ]
  },
  {
   "cell_type": "code",
   "execution_count": null,
   "id": "0f9a5453",
   "metadata": {},
   "outputs": [],
   "source": [
    "lst = [\" \", \"le\", \"nouveau\", [\"monde\", \"tarde\", \"à\"], \"apparaître\"]\n",
    "space = lst[::-1][-1]\n",
    "print(\n",
    "    lst[-4] + lst[-5]\n",
    "    + lst[-3] + lst[-5]\n",
    "    + lst[-2][-3] + lst[-5]\n",
    "    + lst[-2][-2] + lst[-5]\n",
    "    + lst[-2][-1] + lst[-5]\n",
    "    + lst[-1]\n",
    ")"
   ]
  },
  {
   "cell_type": "markdown",
   "id": "3d986dd2",
   "metadata": {},
   "source": [
    "## Édition de listes\n",
    "\n",
    "> 1\\. Modifiez la liste suivante à l'aide des instructions ci-dessus pour former l'alphabet latin"
   ]
  },
  {
   "cell_type": "code",
   "execution_count": null,
   "id": "47eca7ed",
   "metadata": {},
   "outputs": [],
   "source": [
    "lst = [\"a\", \"b\", \"c\", \"g\", \"g\", \"g\", \"h\", \"i\", \"j\", \"spam\", \"k\", \"l\", 1, \"m\", \"n\", \"o\", \"p\", \"q\", \"r\", \"s\", \"t\", \"v\"]\n",
    "lst.remove(\"g\")\n",
    "lst.remove(\"g\")\n",
    "lst.remove(\"spam\")\n",
    "lst.remove(1)\n",
    "lst.insert(3, \"f\")\n",
    "lst.insert(3, \"e\")\n",
    "lst.insert(3, \"d\")\n",
    "lst.insert(-1, \"u\")\n",
    "lst.extend([\"w\", \"x\", \"y\", \"z\"])\n",
    "print(lst)"
   ]
  },
  {
   "cell_type": "markdown",
   "id": "d364723d",
   "metadata": {},
   "source": [
    "## Boucles d'itération\n",
    "\n",
    "> 1\\. Afficher sur des lignes séparées les carrés de nombres de la liste suivante :"
   ]
  },
  {
   "cell_type": "code",
   "execution_count": null,
   "id": "771ab577",
   "metadata": {},
   "outputs": [],
   "source": [
    "lst = [1, 3, 1, 2, 10, -75]\n",
    "for elem in lst:\n",
    "    print(elem**2)"
   ]
  },
  {
   "cell_type": "markdown",
   "id": "692632da",
   "metadata": {},
   "source": [
    "> 2\\. En utilisant une boucle les mots suivants, chacun sur une ligne, en casse de titre (avec\n",
    "> `str.title`)"
   ]
  },
  {
   "cell_type": "code",
   "execution_count": null,
   "id": "fbca73f6",
   "metadata": {},
   "outputs": [],
   "source": [
    "words = [\"tRAIteMENT\", \"automAtique\", \"du\", \"langage\", \"à\", \"l'\", \"universitÉ\", \"paris\", \"nanterre\"]\n",
    "for mot in words:\n",
    "    print(str.title(mot))"
   ]
  },
  {
   "cell_type": "markdown",
   "id": "356f3547",
   "metadata": {},
   "source": [
    "> 3\\. Pour chacune des familles de langues indo-européennes de la liste suivante, demandez à\n",
    "> l'utilisateurice d'entrer une langue de la famille. Stockez ces entrées dans une liste et affichez\n",
    "> cette liste à la fin."
   ]
  },
  {
   "cell_type": "code",
   "execution_count": null,
   "id": "9707e05c",
   "metadata": {
    "tags": [
     "skip-execution"
    ]
   },
   "outputs": [],
   "source": [
    "familles = [\"Romanes\", \"Germaniques\", \"Balto-slaves\", \"Celtiques\", \"Indo-ariennes\"]\n",
    "langues = []\n",
    "for fam in familles:\n",
    "    lng = input(\"Entrer une langue \" + fam + \": \")\n",
    "    langues.append(lng)\n",
    "print(langues)"
   ]
  },
  {
   "cell_type": "markdown",
   "id": "404c63ed",
   "metadata": {},
   "source": [
    "## Consignes pour le rendu\n",
    "\n",
    "Répondre à ces exercices directement dans le notebook, le sauvegarder sous un nom de la forme\n",
    "`06_recapitulatif_PRENOM_NOM.ipynb` (pour Morgan Lefeuvre par exemple, ce serait\n",
    "`06_recapitulatif_Morgan_Lefeuvre.ipynb`) et me le transmettre avant dimanche soir prochain\n",
    "(2022-02-20).\n",
    "\n",
    "- De préférence via [Cours en Ligne](https://coursenligne.parisnanterre.fr/course/view.php?id=7694)\n",
    "  (clé d'inscription `rossum`)\n",
    "- À défaut, par mail, à `<lgrobol@parisnanterre.fr>`\n",
    "\n",
    "**Si vous avez plusieurs fichiers `ipynb`, mettez les dans un fichier zip pour pouvoir les déposer\n",
    "sur CEL.**"
   ]
  }
 ],
 "metadata": {
  "jupytext": {
   "formats": "ipynb,md",
   "split_at_heading": true
  },
  "kernelspec": {
   "display_name": "Python 3 (ipykernel)",
   "language": "python",
   "name": "python3"
  }
 },
 "nbformat": 4,
 "nbformat_minor": 5
}
