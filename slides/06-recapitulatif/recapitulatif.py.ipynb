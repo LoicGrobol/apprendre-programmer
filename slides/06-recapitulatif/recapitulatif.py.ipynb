{
 "cells": [
  {
   "cell_type": "markdown",
   "id": "fd557a16",
   "metadata": {
    "lines_to_next_cell": 0
   },
   "source": [
    "<!-- LTeX: language=fr -->"
   ]
  },
  {
   "cell_type": "markdown",
   "id": "f3f2b1dd",
   "metadata": {
    "slideshow": {
     "slide_type": "slide"
    }
   },
   "source": [
    "Cours 6 : TD récapitulatif\n",
    "==========================\n",
    "\n",
    "**Loïc Grobol** [<lgrobol@parisnanterre.fr>](mailto:lgrobol@parisnanterre.fr)\n",
    "\n",
    "2022-02-15"
   ]
  },
  {
   "cell_type": "markdown",
   "id": "1b444f35",
   "metadata": {},
   "source": [
    "Dans ce notebook\n",
    "\n",
    "- Des exercices.\n",
    "- Encore des exercices.\n",
    "- Toujours des exercices.\n",
    "- Non vraiment rien d'autre que des exercices.\n",
    "\n",
    "Il y a des rappels pour chacune des notions, mais n'hésitez pas à aller relire les cours précédents\n",
    "et les corrections des exercices."
   ]
  },
  {
   "cell_type": "markdown",
   "id": "399d2948",
   "metadata": {},
   "source": [
    "## Rappel : usage du notebook\n",
    "\n",
    "Si vous avez suivi le bon lien, ce document est un *notebook interactif*, il contient des cellules\n",
    "de texte et des cellules de code exécutable. Exécuter la  cellule courante (celle en surbrillance)\n",
    "se fait en utilisant « run cell » dans le menu « cell », en utilisant le bouton ▶️ de la barre\n",
    "d'outils ou en appuyant simultanément sur les touches <kbd>ctrl</kbd> (ou\n",
    "<kbd>cmd</kbd>/<kbd>⌘</kbd> pour les Macs) et <kbd>entrée</kbd>/<kbd>↲</kbd> de votre clavier.\n",
    "\n",
    "Testez : cliquez sur le texte écrit dans une police différente ci-dessous et exécutez-la avec\n",
    "chacune des méthodes proposées"
   ]
  },
  {
   "cell_type": "code",
   "execution_count": null,
   "id": "3d1037b1",
   "metadata": {},
   "outputs": [],
   "source": [
    "print(\"Salut à toi !\")"
   ]
  },
  {
   "cell_type": "markdown",
   "id": "9020da35",
   "metadata": {},
   "source": [
    "Si rien ne se passe, vous n'êtes probablement pas dans le bon environnement : cliquez sur le bouton\n",
    "suivant : [![Launch in Binder\n",
    "badge](https://mybinder.org/badge_logo.svg)](https://mybinder.org/v2/gh/LoicGrobol/apprendre-programmer/main?urlpath=tree/slides/06-recapitulatif/recapitulatif.py.md)."
   ]
  },
  {
   "cell_type": "markdown",
   "id": "001ff759",
   "metadata": {},
   "source": [
    "En cliquant sur les cellules de code, vous pouvez également modifier leur valeur : remplacez le\n",
    "point d'exclamation par un point d'interrogation dans la cellule suivante et exécutez-la pour voir\n",
    "ce qui se passe"
   ]
  },
  {
   "cell_type": "code",
   "execution_count": null,
   "id": "a75538ed",
   "metadata": {},
   "outputs": [],
   "source": [
    "print(\"Salut à toi !\")"
   ]
  },
  {
   "cell_type": "markdown",
   "id": "5a3f07ba",
   "metadata": {},
   "source": [
    "Vous pouvez aussi créer de nouvelles cellules, supprimer des cellules existantes et changer leur\n",
    "type (texte ou code) avec le menu « *edit* ».\n",
    "\n",
    "Les cellules de texte sont écrites en\n",
    "[Markdown](https://jupyter-notebook.readthedocs.io/en/stable/examples/Notebook/Working%20With%20Markdown%20Cells.html),\n",
    "ce qui vous permet de les formater. N'oubliez pas de sauvegarder vos modifications en les exécutant\n",
    "(comme les cellules de code).\n"
   ]
  },
  {
   "cell_type": "markdown",
   "id": "b6b85483",
   "metadata": {},
   "source": [
    "## Sorties\n",
    "\n",
    "> **Rappel** : la fonction `print` permet d'afficher des choses sur une nouvelle ligne. On utilise\n",
    "> une fonction en écrivant son nom, suivi d'un *argument* entre parenthèses :"
   ]
  },
  {
   "cell_type": "code",
   "execution_count": null,
   "id": "75979bec",
   "metadata": {},
   "outputs": [],
   "source": [
    "print(\"Bonjour, tout le monde !\")"
   ]
  },
  {
   "cell_type": "markdown",
   "id": "fa3f0919",
   "metadata": {},
   "source": [
    "> `print` peut aussi recevoir plusieurs arguments, auquel cas ils seront affichées sur la même\n",
    "> ligne, séparés par des espaces :"
   ]
  },
  {
   "cell_type": "code",
   "execution_count": null,
   "id": "c4c4c12c",
   "metadata": {},
   "outputs": [],
   "source": [
    "print(\"Hello,\", \"world\")"
   ]
  },
  {
   "cell_type": "markdown",
   "id": "cbad6719",
   "metadata": {},
   "source": [
    "> Si vous ne lui donnez pas d'argument, `print` affiche une ligne vide :"
   ]
  },
  {
   "cell_type": "code",
   "execution_count": null,
   "id": "21ac2da5",
   "metadata": {},
   "outputs": [],
   "source": [
    "print(\"Une ligne\")\n",
    "print()\n",
    "print(\"Une autre ligne\")"
   ]
  },
  {
   "cell_type": "markdown",
   "id": "ea565873",
   "metadata": {},
   "source": [
    "1\\. Écrire dans la cellule ci-dessous un programme qui affiche votre nom complet, comme ceci :\n",
    "\n",
    "```text\n",
    "Loïc Grobol\n",
    "```"
   ]
  },
  {
   "cell_type": "code",
   "execution_count": null,
   "id": "268eb8d5",
   "metadata": {},
   "outputs": [],
   "source": []
  },
  {
   "cell_type": "markdown",
   "id": "6ee811e0",
   "metadata": {},
   "source": [
    "2\\. Écrire dans la cellule ci-dessous un programme qui affiche votre année et votre lieu de\n",
    "naissance, séparés par une ligne vide, comme ceci :\n",
    "\n",
    "```text\n",
    "1991\n",
    "\n",
    "Orléans\n",
    "```"
   ]
  },
  {
   "cell_type": "code",
   "execution_count": null,
   "id": "227ba8ba",
   "metadata": {},
   "outputs": [],
   "source": []
  },
  {
   "cell_type": "markdown",
   "id": "62c2ad47",
   "metadata": {},
   "source": [
    "> **Note** : les espaces sont en général ignorées par Python, les lignes suivantes sont donc\n",
    "> équivalentes :"
   ]
  },
  {
   "cell_type": "code",
   "execution_count": null,
   "id": "afd1c9d3",
   "metadata": {},
   "outputs": [],
   "source": [
    "print(\"hello\", \"world\")\n",
    "print(\"hello\",\"world\")\n",
    "print (\"hello\", \"world\")\n",
    "print        (   \"hello\"  ,                                 \"world\"  )"
   ]
  },
  {
   "cell_type": "markdown",
   "id": "8c1b1c4f",
   "metadata": {},
   "source": [
    "> Par souci de lisibilité, on préfère la première forme. Attention en revanche, dans une chaîne de\n",
    "> caractères, une espace est une espace"
   ]
  },
  {
   "cell_type": "code",
   "execution_count": null,
   "id": "a66a3f03",
   "metadata": {},
   "outputs": [],
   "source": [
    "print(\"hello             world\")"
   ]
  },
  {
   "cell_type": "markdown",
   "id": "0235206c",
   "metadata": {},
   "source": [
    "## Types de base et opérations\n",
    "\n",
    "> **Rappel** : les données manipulées par Python sont **typée**. Vous pouvez déterminer le type\n",
    "> d'une donnée avec la fonction `type`"
   ]
  },
  {
   "cell_type": "code",
   "execution_count": null,
   "id": "b1b3caf3",
   "metadata": {},
   "outputs": [],
   "source": [
    "type(\"spam\")"
   ]
  },
  {
   "cell_type": "markdown",
   "id": "82994945",
   "metadata": {},
   "source": [
    "> Les types de base (en tout cas pour ce cours) sont :\n",
    ">\n",
    "> - Les nombres entiers (`int`) écrits avec des chiffres"
   ]
  },
  {
   "cell_type": "code",
   "execution_count": null,
   "id": "7c03e65f",
   "metadata": {},
   "outputs": [],
   "source": [
    "print(1)\n",
    "print(-2)\n",
    "print(0)\n",
    "print(2713)"
   ]
  },
  {
   "cell_type": "markdown",
   "id": "10aaed71",
   "metadata": {},
   "source": [
    "> - Les nombres à virgule flottant (`float`), écrits avec des chiffres et le séparateur décimal `.`"
   ]
  },
  {
   "cell_type": "code",
   "execution_count": null,
   "id": "aaa10d8b",
   "metadata": {
    "lines_to_next_cell": 2
   },
   "outputs": [],
   "source": [
    "print(3.14)\n",
    "print(-0.7)\n",
    "print(1.0)"
   ]
  },
  {
   "cell_type": "markdown",
   "id": "414d61cb",
   "metadata": {},
   "source": [
    "> - Les chaînes de caractères (`str`), écrites comme des suites caractères (unicode !) entre double\n",
    ">   quotes `\"` ou simple quotes `'`. Certains caractères doivent être écrits en utilisant une\n",
    ">   séquence d'échappement, par exemple, le retour à la ligne se note `\\n`. [La\n",
    ">   doc](https://docs.python.org/fr/3/reference/lexical_analysis.html#string-and-bytes-literals)\n",
    ">   vous donne la liste complète."
   ]
  },
  {
   "cell_type": "code",
   "execution_count": null,
   "id": "c6c6d30d",
   "metadata": {},
   "outputs": [],
   "source": [
    "print(\"Hello\")\n",
    "print(\"Python, je préférais quand c'était un 🐍\")\n",
    "print(\"1\")\n",
    "print(\"Cette chaîne cont\\nient un retour à la ligne.\")"
   ]
  },
  {
   "cell_type": "markdown",
   "id": "994ec3df",
   "metadata": {},
   "source": [
    "> - Les booléens (`bool`), qui ne sont que deux, `True` et `False`"
   ]
  },
  {
   "cell_type": "code",
   "execution_count": null,
   "id": "e6be2631",
   "metadata": {},
   "outputs": [],
   "source": [
    "print(True)\n",
    "print(False)"
   ]
  },
  {
   "cell_type": "markdown",
   "id": "c9a4ed85",
   "metadata": {},
   "source": [
    "> - Pour les nombres, les opérations utilisables sont `+`, `-`, `*` (multiplication), `/`, `//`\n",
    ">   (quotient), `%` (reste) et `**` (puissance) ; ainsi que les opérateurs de comparaison `<`, `>`,\n",
    ">   `<=` et `>=`, qui renvoient des booléens.\n",
    "> - Pour les chaînes de caractères, seules `+` (concaténation) et `*` (multiplication par un entier)\n",
    ">   sont définies, ainsi que les opérateurs `in` et `not in` qui testent respectivement l'inclusion\n",
    ">   d'une chaîne dans une autre et son contraire (et renvoient un booléen).\n",
    "> - Pour les booléens, les opérateurs logiques `and`, `or` et `not`.\n",
    "> - Les opérateurs `==` et `!=` qui testent respectivement l'égalité et la différence de deux\n",
    ">   valeurs sont définis pour tous les types en renvoient des booléens."
   ]
  },
  {
   "cell_type": "code",
   "execution_count": null,
   "id": "e342baaf",
   "metadata": {},
   "outputs": [],
   "source": [
    "1 == 1"
   ]
  },
  {
   "cell_type": "code",
   "execution_count": null,
   "id": "0436d9f1",
   "metadata": {},
   "outputs": [],
   "source": [
    "-3.0 != 4.2"
   ]
  },
  {
   "cell_type": "code",
   "execution_count": null,
   "id": "93de50a1",
   "metadata": {},
   "outputs": [],
   "source": [
    "\"hello\" != \"Hello\""
   ]
  },
  {
   "cell_type": "markdown",
   "id": "24dd9ec5",
   "metadata": {},
   "source": [
    "> - Partout en Python, on peut utiliser des parenthèses `(` `)` pour indiquer la priorité des\n",
    ">   opérations."
   ]
  },
  {
   "cell_type": "code",
   "execution_count": null,
   "id": "c599588f",
   "metadata": {},
   "outputs": [],
   "source": [
    "(3-2)*4"
   ]
  },
  {
   "cell_type": "code",
   "execution_count": null,
   "id": "54f47c8a",
   "metadata": {},
   "outputs": [],
   "source": [
    "3-2*4"
   ]
  },
  {
   "cell_type": "markdown",
   "id": "85688d71",
   "metadata": {},
   "source": [
    "> Partout où vous pouvez écrire une valeur littérale (comme `3`), vous pouvez également écrire une\n",
    "> expression contenant des opérateurs :"
   ]
  },
  {
   "cell_type": "code",
   "execution_count": null,
   "id": "cbd10d65",
   "metadata": {},
   "outputs": [],
   "source": [
    "print(3)\n",
    "print((2*6)/4)\n",
    "print(\"Hello, world!\")\n",
    "print(\"Hello, \" + \"world\")"
   ]
  },
  {
   "cell_type": "markdown",
   "id": "05c2312e",
   "metadata": {},
   "source": [
    "1\\. Affichez les résultats des calculs suivants : $2713+4096$, $\\frac{12-75}{3}$, $2^{10}$,\n",
    "$(-1)^{45+766}$ et $(512-256)\\times\\left(-\\frac{3}{2}\\right)$."
   ]
  },
  {
   "cell_type": "code",
   "execution_count": null,
   "id": "aff8195a",
   "metadata": {},
   "outputs": [],
   "source": []
  },
  {
   "cell_type": "markdown",
   "id": "999a6c31",
   "metadata": {},
   "source": [
    "2\\. Construire et afficher une chaîne de caractères composée de $4096$ répétition des caractères\n",
    "`UPX>*`."
   ]
  },
  {
   "cell_type": "code",
   "execution_count": null,
   "id": "cae69710",
   "metadata": {},
   "outputs": [],
   "source": []
  },
  {
   "cell_type": "markdown",
   "id": "b82cc381",
   "metadata": {},
   "source": [
    "3\\. Construire et afficher une chaîne de caractères contenant `This is fine` suivie de $1024$ fois\n",
    "`🔥`."
   ]
  },
  {
   "cell_type": "code",
   "execution_count": null,
   "id": "d4c08004",
   "metadata": {},
   "outputs": [],
   "source": []
  },
  {
   "cell_type": "markdown",
   "id": "d4c3c5d6",
   "metadata": {},
   "source": [
    "4\\. Déterminer sans les exécuter les valeurs de retour des instructions suivantes, écrivez les\n",
    "résultats dans la cellule de texte en-dessous.\n"
   ]
  },
  {
   "cell_type": "markdown",
   "id": "bc0fb295",
   "metadata": {},
   "source": [
    "1. \n",
    "\n",
    "   ```python\n",
    "   True or True\n",
    "   ```\n",
    "\n",
    "2. \n",
    "\n",
    "   ```python\n",
    "   True or False\n",
    "   ```\n",
    "\n",
    "3. \n",
    "\n",
    "   ```python\n",
    "   False and False\n",
    "   ```\n",
    "\n",
    "4. \n",
    "\n",
    "   ```python\n",
    "   (False or True) and True\n",
    "   ```\n",
    "\n",
    "5. \n",
    "\n",
    "   ```python\n",
    "   False or (True and True)\n",
    "   ```\n",
    "\n",
    "6. \n",
    "\n",
    "   ```python\n",
    "   (\"machin\" in \"truc\") and (1 + 1 == 2)\n",
    "   ```\n",
    "\n",
    "7. \n",
    "\n",
    "   ```python\n",
    "   (\"a\" in \"apples\") or (1 + 1 == 5)\n",
    "   ```\n",
    "\n",
    "8. \n",
    "\n",
    "   ```python\n",
    "   (\"apples\" in \"a\") or (1 + 1 == 5)\n",
    "   ```\n",
    "\n",
    "9. \n",
    "\n",
    "   ```python\n",
    "   ((\"apple\" in \"apples\") and (1 + 1 == 3)) or (5 < 10)\n",
    "   ```\n",
    "\n"
   ]
  },
  {
   "cell_type": "markdown",
   "id": "7c047cc2",
   "metadata": {},
   "source": [
    "1. \n",
    "2. \n",
    "3. \n",
    "4. \n",
    "5. \n",
    "6. \n",
    "7. \n",
    "8. \n",
    "9. "
   ]
  },
  {
   "cell_type": "markdown",
   "id": "419bb024",
   "metadata": {},
   "source": [
    "(N'oubliez pas de valider votre saisie avec <kbd>ctrl</kbd>/<kbd>cmd</kbd>+<kbd>entrée</kbd>)"
   ]
  },
  {
   "cell_type": "markdown",
   "id": "8acf832e",
   "metadata": {},
   "source": [
    "## Opérations sur les chaînes de caractères\n",
    "\n",
    "> **Rappel** : Plusieurs méthodes de manipulations de chaînes de caractères sont disponibles sous la\n",
    "> forme `str.méthode`. Notamment les méthodes de manipulation de casse (majuscules et minuscules)\n",
    "> `str.lower` (mettre en minuscules), `str.upper` (mettre en majuscules) et `str.title` (mettre en\n",
    "> casse de titre)."
   ]
  },
  {
   "cell_type": "code",
   "execution_count": null,
   "id": "91d87b01",
   "metadata": {
    "lines_to_next_cell": 2
   },
   "outputs": [],
   "source": [
    "print(str.upper(\"hElLo\"))\n",
    "print(str.lower(\"hElLo\"))\n",
    "print(str.title(\"hElLo\"))"
   ]
  },
  {
   "cell_type": "markdown",
   "id": "dd51c507",
   "metadata": {},
   "source": [
    "1\\. Mettre en minuscules la chaine de caractères `\"ILliil1ILiiIILLL!1lIÎï\"` et afficher le résultat."
   ]
  },
  {
   "cell_type": "code",
   "execution_count": null,
   "id": "6ee991ed",
   "metadata": {},
   "outputs": [],
   "source": []
  },
  {
   "cell_type": "markdown",
   "id": "90496ec6",
   "metadata": {},
   "source": [
    "2\\. Mettre en casse de titre la chaîne de caractères `Les maîtres de l'ombre` et afficher le\n",
    "résultat."
   ]
  },
  {
   "cell_type": "code",
   "execution_count": null,
   "id": "0c6244c2",
   "metadata": {},
   "outputs": [],
   "source": [
    "une_chaine = \"Je reconnais\"\n",
    "une_autre = \"l'existence de\"\n",
    "un_fruit = \"kiwi\"\n",
    "un_nombre = 4\n",
    "print(une_chaine, une_autre, 4*un_nombre, un_fruit)"
   ]
  },
  {
   "cell_type": "markdown",
   "id": "1578e212",
   "metadata": {},
   "source": [
    "## Variables\n",
    "\n",
    "> **Rappel** : une **variable** est un nom donné à une valeur. On crée une variable avec l'opérateur\n",
    "> d'affectation `=`"
   ]
  },
  {
   "cell_type": "code",
   "execution_count": null,
   "id": "0d452b82",
   "metadata": {},
   "outputs": [],
   "source": [
    "nom = \"Loïc\""
   ]
  },
  {
   "cell_type": "markdown",
   "id": "e0299808",
   "metadata": {},
   "source": [
    "> une variable peut être utilisée partout où on peut utiliser une valeur littérale :"
   ]
  },
  {
   "cell_type": "code",
   "execution_count": null,
   "id": "5f1f0c14",
   "metadata": {},
   "outputs": [],
   "source": [
    "print(nom)"
   ]
  },
  {
   "cell_type": "markdown",
   "id": "e2c819ee",
   "metadata": {},
   "source": [
    "> on peut ainsi utiliser une variable à chaque fois qu'on veut stocker une valeur (qui peut être le\n",
    "> résultat d'une expression) pour l'utiliser plus tard :"
   ]
  },
  {
   "cell_type": "code",
   "execution_count": null,
   "id": "8d20bbea",
   "metadata": {},
   "outputs": [],
   "source": [
    "nombre = 1024 * 256\n",
    "print(nombre)"
   ]
  },
  {
   "cell_type": "code",
   "execution_count": null,
   "id": "21237769",
   "metadata": {},
   "outputs": [],
   "source": [
    "message = \"This is fine.\"\n",
    "fire = \"🔥\" * 1024\n",
    "affiche = fire + message + fire\n",
    "print(affiche)"
   ]
  },
  {
   "cell_type": "markdown",
   "id": "9113c04b",
   "metadata": {},
   "source": [
    "> on peut également redéfinir une variable en affectant une deuxième fois au même nom"
   ]
  },
  {
   "cell_type": "code",
   "execution_count": null,
   "id": "667955ff",
   "metadata": {},
   "outputs": [],
   "source": [
    "nom = \"Université Paris X\"\n",
    "nom = \"Université Paris Ouest\"\n",
    "nom = \"Université Paris Nanterre\"\n",
    "print(nom)"
   ]
  },
  {
   "cell_type": "markdown",
   "id": "44fb17a0",
   "metadata": {},
   "source": [
    "1\\. Compléter la cellule suivante afin d'afficher la valeur de la variable `spam`"
   ]
  },
  {
   "cell_type": "code",
   "execution_count": null,
   "id": "f13aad75",
   "metadata": {},
   "outputs": [],
   "source": [
    "spam = \"spam, spam, lovely spam\"\n",
    "# Remplacer cette ligne (pas celle du dessus) par votre code"
   ]
  },
  {
   "cell_type": "markdown",
   "id": "500c2113",
   "metadata": {},
   "source": [
    "2\\. Créer une variable contenant la chaîne de caractère `\"Bonjour, tout le monde\"`"
   ]
  },
  {
   "cell_type": "code",
   "execution_count": null,
   "id": "f0c5c826",
   "metadata": {},
   "outputs": [],
   "source": []
  },
  {
   "cell_type": "markdown",
   "id": "53cff9fc",
   "metadata": {},
   "source": [
    "3\\. Stocker le résultat du calcul suivant dans une variable et afficher son résultat : $\\frac{36}{5}$"
   ]
  },
  {
   "cell_type": "code",
   "execution_count": null,
   "id": "79718272",
   "metadata": {},
   "outputs": [],
   "source": []
  },
  {
   "cell_type": "markdown",
   "id": "e26d40c9",
   "metadata": {},
   "source": [
    "4\\.\n",
    "\n",
    "1. Stocker $86$ dans une variable et $33$ dans une autre.\n",
    "2. Stocker la somme dans une autre variable et afficher le résultat.\n",
    "3. Afficher le type de la somme."
   ]
  },
  {
   "cell_type": "code",
   "execution_count": null,
   "id": "1259d4bf",
   "metadata": {},
   "outputs": [],
   "source": []
  },
  {
   "cell_type": "markdown",
   "id": "3e388631",
   "metadata": {},
   "source": [
    "5\\. Même chose que 4., mais avec les valeurs `\"py\"` et `\"thon\"`."
   ]
  },
  {
   "cell_type": "code",
   "execution_count": null,
   "id": "34356c49",
   "metadata": {},
   "outputs": [],
   "source": []
  },
  {
   "cell_type": "markdown",
   "id": "ed45cdaa",
   "metadata": {},
   "source": [
    "## Entrées\n",
    "\n",
    "> **Rappel** : la fonction `input` permet de demander d'entrer une valeur au clavier, la saisie\n",
    "> étant terminée en appuyant sur <kbd>entrée</kbd>. Essayez avec la cellule suivante. Attention,\n",
    "> tant que vous n'appuyez pas sur <kbd>entrée</kbd> pour terminer la saisie, vous ne pourrez pas\n",
    "> exécuter d'autres cellules."
   ]
  },
  {
   "cell_type": "code",
   "execution_count": null,
   "id": "82f69e36",
   "metadata": {
    "tags": [
     "skip-execution"
    ]
   },
   "outputs": [],
   "source": [
    "input()"
   ]
  },
  {
   "cell_type": "markdown",
   "id": "fddd3c54",
   "metadata": {},
   "source": [
    "> En général, on stocke cette entrée dans une variable pour en faire quelque chose"
   ]
  },
  {
   "cell_type": "code",
   "execution_count": null,
   "id": "ebaaf106",
   "metadata": {
    "tags": [
     "skip-execution"
    ]
   },
   "outputs": [],
   "source": [
    "print(\"Comment tu t'appelles ?\")\n",
    "nom = input()\n",
    "print(\"Salut, \", nom)"
   ]
  },
  {
   "cell_type": "markdown",
   "id": "66b8d1f3",
   "metadata": {},
   "source": [
    "> Attention, le résultat de `input` est toujours une chaîne de caractères. Si vous voulez la\n",
    "> convertir en nombre, il faut le faire explicitement. Ainsi, ceci ne marche pas :"
   ]
  },
  {
   "cell_type": "code",
   "execution_count": null,
   "id": "8564a67c",
   "metadata": {
    "tags": [
     "skip-execution"
    ]
   },
   "outputs": [],
   "source": [
    "print(\"Dis-moi un nombre\")\n",
    "nombre = input()\n",
    "print(\"Le double de ton nombre est \", 2*nombre)"
   ]
  },
  {
   "cell_type": "markdown",
   "id": "b0f1ccca",
   "metadata": {},
   "source": [
    "Mais cela oui :"
   ]
  },
  {
   "cell_type": "code",
   "execution_count": null,
   "id": "76d88c82",
   "metadata": {
    "tags": [
     "skip-execution"
    ]
   },
   "outputs": [],
   "source": [
    "print(\"Dis-moi un nombre\")\n",
    "nombre = int(input())\n",
    "print(\"Le double de ton nombre est \", 2*nombre)"
   ]
  },
  {
   "cell_type": "markdown",
   "id": "cb268e6d",
   "metadata": {},
   "source": [
    "> On peut aussi donner une chaîne de caractères comme argument à `input` pour ajouter un message à\n",
    "> la saisie :"
   ]
  },
  {
   "cell_type": "code",
   "execution_count": null,
   "id": "b35bade6",
   "metadata": {
    "tags": [
     "skip-execution"
    ]
   },
   "outputs": [],
   "source": [
    "nom = input(\"Comment tu t'appelles ?\")\n",
    "print(\"Salut, \", nom)"
   ]
  },
  {
   "cell_type": "markdown",
   "id": "c6597697",
   "metadata": {},
   "source": [
    "1\\. Demander la saisie d'un nombre et afficher son triple."
   ]
  },
  {
   "cell_type": "code",
   "execution_count": null,
   "id": "c8b80d20",
   "metadata": {},
   "outputs": [],
   "source": []
  },
  {
   "cell_type": "markdown",
   "id": "115c0909",
   "metadata": {},
   "source": [
    "2\\. Demander la saisie d'une chaîne de caractères et l'afficher tout en majuscules."
   ]
  },
  {
   "cell_type": "code",
   "execution_count": null,
   "id": "ccd9b55a",
   "metadata": {},
   "outputs": [],
   "source": []
  },
  {
   "cell_type": "markdown",
   "id": "1079d10d",
   "metadata": {},
   "source": [
    "3\\. Demander la saisie d'une chaîne de caractères. Afficher `True` si elle contient `spam` et\n",
    "`False` sinon."
   ]
  },
  {
   "cell_type": "code",
   "execution_count": null,
   "id": "dacf60cf",
   "metadata": {},
   "outputs": [],
   "source": []
  },
  {
   "cell_type": "markdown",
   "id": "f0a35fe7",
   "metadata": {},
   "source": [
    "4\\. Écrire un programme qui demande à son utilisateurice son année de naissance et affiche l'âge\n",
    "qu'aura cette personne en 2050."
   ]
  },
  {
   "cell_type": "code",
   "execution_count": null,
   "id": "4c5b2254",
   "metadata": {},
   "outputs": [],
   "source": []
  },
  {
   "cell_type": "markdown",
   "id": "f03039d7",
   "metadata": {},
   "source": [
    "## Instruction conditionnelle `if`\n",
    "\n",
    "> **Rappel** : l'instruction `if` permet de n'exécuter certaines instructions que si une si une\n",
    "> condition (un booléen) est vraie (`True`) :"
   ]
  },
  {
   "cell_type": "code",
   "execution_count": null,
   "id": "dbd59550",
   "metadata": {},
   "outputs": [],
   "source": [
    "if 1+1 == 2:\n",
    "   print(\"Ceci est exécuté\")\n",
    "\n",
    "if 1+1 == 3:\n",
    "   print(\"Mais pas cela\")"
   ]
  },
  {
   "cell_type": "markdown",
   "id": "62b3b622",
   "metadata": {},
   "source": [
    "> La condition peut-être n'import quelle expression dont le résultat est un booléen"
   ]
  },
  {
   "cell_type": "code",
   "execution_count": null,
   "id": "fe7a2f40",
   "metadata": {},
   "outputs": [],
   "source": [
    "if \"apple\" not in \"spam\":\n",
    "   print(\"Ceci est exécuté\")\n",
    "\n",
    "if True:\n",
    "   print(\"Ceci est exécuté, mais ce n'est pas très intéressant.\")\n",
    "\n",
    "a = 2\n",
    "\n",
    "if 2*a != 6:\n",
    "   print(\"Ceci est exécuté et c'est plutôt classe.\")"
   ]
  },
  {
   "cell_type": "markdown",
   "id": "24681536",
   "metadata": {},
   "source": [
    "> Les instructions qui sont exécutées conditionnellement sont celles du bloc qui suit `if`,\n",
    "> matérialisé par l'indentation (les lignes commençant par quatre espaces, que vous pouvez entrer\n",
    "> avec la touche <kbd>tab</kbd>/<kbd>⇄</kbd>) :"
   ]
  },
  {
   "cell_type": "code",
   "execution_count": null,
   "id": "f3587f40",
   "metadata": {},
   "outputs": [],
   "source": [
    "if 2+2 != 4:\n",
    "   print(\"Ceci n'est pas exécuté\")\n",
    "   print(\"Cela non plus\")"
   ]
  },
  {
   "cell_type": "markdown",
   "id": "73401c01",
   "metadata": {},
   "source": [
    "> On peut imbriquer les conditions les unes dans les autres, en augmentant l'indentation de quatre\n",
    "> espaces supplémentaires pour chaque niveau :"
   ]
  },
  {
   "cell_type": "code",
   "execution_count": null,
   "id": "a10f1b87",
   "metadata": {},
   "outputs": [],
   "source": [
    "if 2+2 == 4:\n",
    "   print(\"Ceci est exécuté\")\n",
    "   if 13 != 12:\n",
    "      print(\"Ceci également\")\n",
    "      if \"justice\" in \"partout\":\n",
    "         print(\"Mais pas ceci\")"
   ]
  },
  {
   "cell_type": "markdown",
   "id": "2ec28aa7",
   "metadata": {},
   "source": [
    "> L'instruction `elif` permet de tester des conditions supplémentaires si les précédentes ne sont\n",
    "> pas remplies"
   ]
  },
  {
   "cell_type": "code",
   "execution_count": null,
   "id": "93017f46",
   "metadata": {},
   "outputs": [],
   "source": [
    "if 2+1 != 3:\n",
    "   print(\"Non\")\n",
    "elif 3+2 == 12:\n",
    "   print(\"Toujours pas\")\n",
    "elif \"p\" in \"apples\":\n",
    "   print(\"Oui !\")"
   ]
  },
  {
   "cell_type": "markdown",
   "id": "61ddc3ce",
   "metadata": {},
   "source": [
    "> Et seulement si elles ne sont pas remplies :"
   ]
  },
  {
   "cell_type": "code",
   "execution_count": null,
   "id": "c77c08a0",
   "metadata": {},
   "outputs": [],
   "source": [
    "if 2+1 == 3:\n",
    "   print(\"Oui\")\n",
    "elif \"p\" in \"apples\":\n",
    "   print(\"Oui, mais trop tard\")"
   ]
  },
  {
   "cell_type": "markdown",
   "id": "3ec61089",
   "metadata": {},
   "source": [
    "> Enfin, `else` permet d'indiquer des instructions à exécuter si aucune des conditions précédentes\n",
    "> n'a été remplie :"
   ]
  },
  {
   "cell_type": "code",
   "execution_count": null,
   "id": "d1b4de0c",
   "metadata": {},
   "outputs": [],
   "source": [
    "if 2+1 != 3:\n",
    "   print(\"Non\")\n",
    "elif 3+2 == 12:\n",
    "   print(\"Toujours pas\")\n",
    "elif \"p\" in \"APPLES\":\n",
    "   print(\"Non !\")\n",
    "else:\n",
    "   print(\"Bon, ben tant pis\")"
   ]
  },
  {
   "cell_type": "markdown",
   "id": "6e6b1417",
   "metadata": {},
   "source": [
    "> Dans ces exercices on va souvent écrire des conditions qui portent sur une entrée de\n",
    "> l'utilisateurice (ce qui est plus intéressant que des conditions qui ne changent pas).\n",
    "> Rappelez-vous que vous pouvez utiliser `input` :"
   ]
  },
  {
   "cell_type": "code",
   "execution_count": null,
   "id": "efa026a5",
   "metadata": {
    "tags": [
     "skip-execution"
    ]
   },
   "outputs": [],
   "source": [
    "saisie = input(\"Dis-moi quelque chose\")\n",
    "if saisie == \"Le TAL, c'est génial\":\n",
    "   print(\"Incroyable, tu lis dans mes pensées !\")\n",
    "else:\n",
    "   print(\"ok,,,\")"
   ]
  },
  {
   "cell_type": "markdown",
   "id": "bfc4dc38",
   "metadata": {},
   "source": [
    "1\\. Écrire un programme qui affiche `trop petit` si le résultat du calcul $\\frac{2{^11}}{3}$ est\n",
    "plus petit que $1000$ sans jamais afficher le résultat du calcul lui-même."
   ]
  },
  {
   "cell_type": "code",
   "execution_count": null,
   "id": "8a34674b",
   "metadata": {},
   "outputs": [],
   "source": []
  },
  {
   "cell_type": "markdown",
   "id": "4b9e9029",
   "metadata": {},
   "source": [
    "2\\. Demander la saisie d'une chaîne de caractères en posant la question `\"Voyelle ou consonne ?\"`.\n",
    "Afficher `a` si la saisie est `\"voyelle\"`, `b` si la saisie est `\"consonne\"`. N'affichez rien pour\n",
    "toute autre saisie."
   ]
  },
  {
   "cell_type": "code",
   "execution_count": null,
   "id": "499913ae",
   "metadata": {},
   "outputs": [],
   "source": []
  },
  {
   "cell_type": "markdown",
   "id": "1566c0a5",
   "metadata": {},
   "source": [
    "3\\. Demander la saisie d'une chaîne de caractères contenant un nombre. Afficher `🥶` si ce nombre\n",
    "est inférieur à $5$, $😌$ s'il est entre $5$ et $16$ et $🥵$ sinon."
   ]
  },
  {
   "cell_type": "code",
   "execution_count": null,
   "id": "2a387a80",
   "metadata": {},
   "outputs": [],
   "source": []
  },
  {
   "cell_type": "markdown",
   "id": "4b347750",
   "metadata": {},
   "source": [
    "4\\. Demandez à votre utilisateurice de saisir sa couleur préférée :\n",
    "\n",
    "- Si la réponse contient `rouge`, affichez `🟥!`.\n",
    "- Si la réponse contient `vert`, affichez `🟩!`.\n",
    "- Si la réponse contient `violet` ou `indigo`, affichez `💜!`.\n",
    "- Si la réponse est n'importe quoi d'autre, demandez `Tu penses avoir bon goût ?`.\n",
    "  - Si la réponse à cette deuxième question est `oui`, affichez `😂`\n",
    "  - Sinon, affichez `👉👉`"
   ]
  },
  {
   "cell_type": "code",
   "execution_count": null,
   "id": "d69e6b87",
   "metadata": {},
   "outputs": [],
   "source": []
  },
  {
   "cell_type": "markdown",
   "id": "d8ad4a73",
   "metadata": {},
   "source": [
    "Utilisez `str.lower` pour comparer des chaînes sans tenir compte de la casse, comme ici :"
   ]
  },
  {
   "cell_type": "code",
   "execution_count": null,
   "id": "27452342",
   "metadata": {},
   "outputs": [],
   "source": [
    "mot = \"hELLo\"\n",
    "\n",
    "if str.lower(mot) == \"hello\":\n",
    "   print(\"Ceci s'affiche\")"
   ]
  },
  {
   "cell_type": "markdown",
   "id": "0a215a35",
   "metadata": {},
   "source": [
    "## Séquences et listes\n",
    "\n",
    "> **Rappel** : les chaînes de caractères sont composées de **caractères**, chacun ayant une\n",
    "> position. L'opération d'indexation permet d'accéder à la valeur de ces caractères en connaissant\n",
    "> leurs positions (en partant de `0`) :"
   ]
  },
  {
   "cell_type": "code",
   "execution_count": null,
   "id": "66bfcd94",
   "metadata": {},
   "outputs": [],
   "source": [
    "chn = \"Bonjour\"\n",
    "print(chn[0])\n",
    "print(chn[1])\n",
    "print(chn[2])\n",
    "print(chn[3])\n",
    "print(chn[4])\n",
    "print(chn[5])"
   ]
  },
  {
   "cell_type": "markdown",
   "id": "fe801421",
   "metadata": {},
   "source": [
    "> Cette propriété fait des chaînes de caractères des **séquences**. Il existe d'autres types de\n",
    "> séquences en Python, notamment les listes, qui contiennent des suites de valeurs de n'importe quel\n",
    "> type."
   ]
  },
  {
   "cell_type": "code",
   "execution_count": null,
   "id": "d980a617",
   "metadata": {},
   "outputs": [],
   "source": [
    "lst = [1, 3, 5, \"hello\", True, 3.14]\n",
    "print(lst[0])\n",
    "print(lst[4])\n",
    "print(lst[5])"
   ]
  },
  {
   "cell_type": "markdown",
   "id": "56952f37",
   "metadata": {},
   "source": [
    "> « n'importe quel type » signifie en particulier qu'une liste peut contenir une autre liste :"
   ]
  },
  {
   "cell_type": "code",
   "execution_count": null,
   "id": "44f4eaea",
   "metadata": {},
   "outputs": [],
   "source": [
    "lst = [1, 2, [\"hello\", \"world\"], True, 12]\n",
    "lst[2]"
   ]
  },
  {
   "cell_type": "markdown",
   "id": "122855c6",
   "metadata": {},
   "source": [
    "> ce qui n'empêche pas d'accéder aux éléments des listes internes :"
   ]
  },
  {
   "cell_type": "code",
   "execution_count": null,
   "id": "7d79423a",
   "metadata": {},
   "outputs": [],
   "source": [
    "lst = [1, 2, [\"hello\", \"world\"], True, 12]\n",
    "sublst = lst[2]\n",
    "print(sublst[0])\n",
    "\n",
    "# Ou en plus compact\n",
    "\n",
    "print(lst[2][0])"
   ]
  },
  {
   "cell_type": "markdown",
   "id": "f98dfd64",
   "metadata": {},
   "source": [
    "> Pour se faciliter la vie, quand on a une séquence on peut également accéder aux éléments en\n",
    "> partant de la fin :"
   ]
  },
  {
   "cell_type": "code",
   "execution_count": null,
   "id": "9fd3433e",
   "metadata": {},
   "outputs": [],
   "source": [
    "lst = [1, 2, [\"hello\", \"world\"], True, 12]\n",
    "print(lst[-1])\n",
    "print(\"Hello, world!\"[-2])"
   ]
  },
  {
   "cell_type": "markdown",
   "id": "5b423bb2",
   "metadata": {},
   "source": [
    "> Enfin, on peut extraire des sous-séquences :"
   ]
  },
  {
   "cell_type": "code",
   "execution_count": null,
   "id": "c9dd2de3",
   "metadata": {},
   "outputs": [],
   "source": [
    "lst = [\"a\", \"b\", \"c\", \"d\", \"e\", \"f\", \"g\"]\n",
    "print(lst[2])\n",
    "print(lst[5])\n",
    "print(lst[2:5])"
   ]
  },
  {
   "cell_type": "markdown",
   "id": "495f2c64",
   "metadata": {},
   "source": [
    "1\\. En utilisant uniquement les chaînes de caractères déjà définies (pas forcément toutes) dans la\n",
    "cellule-ci dessous, modifiez cette cellule pour afficher `le nouveau monde tarde à apparaître`"
   ]
  },
  {
   "cell_type": "code",
   "execution_count": null,
   "id": "12e176aa",
   "metadata": {},
   "outputs": [],
   "source": [
    "lst = [\" \", \"le\", \"nouveau\", \"monde\", \"tarde\", \"à\", \"apparaître\"]\n",
    "print()"
   ]
  },
  {
   "cell_type": "markdown",
   "id": "b7587198",
   "metadata": {},
   "source": [
    "2\\. Même question"
   ]
  },
  {
   "cell_type": "code",
   "execution_count": null,
   "id": "387f315e",
   "metadata": {},
   "outputs": [],
   "source": [
    "lst = [\" \", \"le\", \"nouveau\", [\"monde\", \"tarde\", \"à\"], \"apparaître\"]\n",
    "print()"
   ]
  },
  {
   "cell_type": "markdown",
   "id": "f810baaf",
   "metadata": {},
   "source": [
    "3\\. Même question"
   ]
  },
  {
   "cell_type": "code",
   "execution_count": null,
   "id": "17c95f96",
   "metadata": {},
   "outputs": [],
   "source": [
    "lst = [\" \", \"le\", \"nouveau\", [\"monde\", [\"tarde\"], \"à\"], \"apparaître\"]\n",
    "print()"
   ]
  },
  {
   "cell_type": "markdown",
   "id": "45bf9090",
   "metadata": {},
   "source": [
    "4\\. Même question"
   ]
  },
  {
   "cell_type": "code",
   "execution_count": null,
   "id": "e06054ce",
   "metadata": {},
   "outputs": [],
   "source": [
    "lst = [\" \", \"le\", \"nouveau\", \"apparaître monde tarde à\"]\n",
    "print()"
   ]
  },
  {
   "cell_type": "markdown",
   "id": "e02db458",
   "metadata": {},
   "source": [
    "5\\. Même question"
   ]
  },
  {
   "cell_type": "code",
   "execution_count": null,
   "id": "55c86602",
   "metadata": {},
   "outputs": [],
   "source": [
    "lst = [\" \", \"le\", [[[[\"nouveau\"]]]], \"apparaître monde tarde à\"]\n",
    "print()"
   ]
  },
  {
   "cell_type": "markdown",
   "id": "73b03756",
   "metadata": {},
   "source": [
    "6\\. Même question en utilisant que des nombres négatifs ou nuls"
   ]
  },
  {
   "cell_type": "code",
   "execution_count": null,
   "id": "eaa19d53",
   "metadata": {},
   "outputs": [],
   "source": [
    "lst = [\" \", \"le\", \"nouveau\", [\"monde\", \"tarde\", \"à\"], \"apparaître\"]\n",
    "print()"
   ]
  },
  {
   "cell_type": "markdown",
   "id": "8f1a9468",
   "metadata": {},
   "source": [
    "Bonus : en utilisant que des nombres strictement négatifs."
   ]
  },
  {
   "cell_type": "markdown",
   "id": "0fcb1e74",
   "metadata": {},
   "source": [
    "## Édition de listes\n",
    "\n",
    "> **Rappel** : à la différence des chaînes de caractères, les listes sont **mutables**. C'est-à-dire\n",
    "> qu'on peut modifier leurs éléments, en ajouter et en enlever :"
   ]
  },
  {
   "cell_type": "code",
   "execution_count": null,
   "id": "63e1e35b",
   "metadata": {},
   "outputs": [],
   "source": [
    "lst = [\"le\", \"nouveau\", \"monde\", \"tarde\", \"à\", \"apparaître\"]\n",
    "print(lst)\n",
    "lst[0] = \"Le\"\n",
    "print(lst)\n",
    "lst.append(\"naissent\")\n",
    "print(lst)\n",
    "lst.extend([\"Antonio Gramsci\", \"des monstre\"])\n",
    "print(lst)\n",
    "lst.insert(6, \"et dans ce clair-obscur\")\n",
    "print(lst)\n",
    "lst.pop(-2)\n",
    "print(lst)"
   ]
  },
  {
   "cell_type": "markdown",
   "id": "0566a720",
   "metadata": {},
   "source": [
    "1\\. Modifiez la liste suivante à l'aide des instructions ci-dessus pour former l'alphabet latin"
   ]
  },
  {
   "cell_type": "code",
   "execution_count": null,
   "id": "0bcded70",
   "metadata": {},
   "outputs": [],
   "source": [
    "lst = [\"a\", \"b\", \"c\", \"g\", \"g\", \"g\", \"h\", \"i\", \"j\", \"spam\", \"k\", \"l\", 1, \"m\", \"n\", \"o\", \"p\", \"q\", \"r\", \"s\", \"t\", \"v\"]"
   ]
  },
  {
   "cell_type": "markdown",
   "id": "e567dd7a",
   "metadata": {},
   "source": [
    "## Boucles d'itération\n",
    "\n",
    "> **Rappel** la structure de contrôle `for` permet de répéter l'exécution d'un bloc de code (c'est\n",
    "> donc une **boucle**) pour chacun des éléments d'une séquence (liste ou chaîne de caractères) :"
   ]
  },
  {
   "cell_type": "code",
   "execution_count": null,
   "id": "6c232293",
   "metadata": {},
   "outputs": [],
   "source": [
    "for elem in [1, 3, 1, 2]:\n",
    "   print(elem)\n",
    "   print(2*elem)"
   ]
  },
  {
   "cell_type": "markdown",
   "id": "d8306eec",
   "metadata": {},
   "source": [
    "> Comme les autres structures de contrôle, les boucles peuvent être imbriquées :"
   ]
  },
  {
   "cell_type": "code",
   "execution_count": null,
   "id": "301742e9",
   "metadata": {},
   "outputs": [],
   "source": [
    "for i in [1, 2, 3, 4]:\n",
    "   print(i)\n",
    "   for w in [\"tous\", \"les\", \"chats\", \"sont\", \"mignons\"]:\n",
    "      print(w)"
   ]
  },
  {
   "cell_type": "markdown",
   "id": "b7f77f13",
   "metadata": {},
   "source": [
    "> Une recette courante est de remplir une liste avec des saisies"
   ]
  },
  {
   "cell_type": "code",
   "execution_count": null,
   "id": "90a8835d",
   "metadata": {
    "tags": [
     "skip-execution"
    ]
   },
   "outputs": [],
   "source": [
    "couleurs = [\"noire\", \"blanche\", \"rouge\", \"verte\", \"bleue\"]\n",
    "voyelles = []\n",
    "for col in couleurs:\n",
    "   voy = input(\"Quelle voyelle est, \" + col + \" ?\")\n",
    "   voyelles.append(voy)\n",
    "print(\"Voici tes voyelles :\", voyelles)"
   ]
  },
  {
   "cell_type": "markdown",
   "id": "b7ee3873",
   "metadata": {},
   "source": [
    "1\\. Afficher sur des lignes séparées les carrés de nombres de la liste suivante :"
   ]
  },
  {
   "cell_type": "code",
   "execution_count": null,
   "id": "1a6dbe7f",
   "metadata": {},
   "outputs": [],
   "source": [
    "lst = [1, 3, 1, 2, 10, -75]"
   ]
  },
  {
   "cell_type": "markdown",
   "id": "3cec2451",
   "metadata": {},
   "source": [
    "2\\. En utilisant une boucle les mots suivants, chacun sur une ligne, en casse de titre (avec\n",
    "`str.title`)"
   ]
  },
  {
   "cell_type": "code",
   "execution_count": null,
   "id": "04ef2299",
   "metadata": {},
   "outputs": [],
   "source": [
    "words = [\"tRAIteMENT\", \"automAtique\", \"du\", \"langage\", \"à\", \"l'\", \"universitÉ\", \"paris\", \"nanterre\"]"
   ]
  },
  {
   "cell_type": "markdown",
   "id": "a7d46e9d",
   "metadata": {},
   "source": [
    "3\\. Pour chacune des familles de langues indo-européennes de la liste suivante, demandez à\n",
    "l'utilisateurice d'entrer une langue de la famille. Stockez ces entrées dans une liste et affichez\n",
    "cette liste à la fin."
   ]
  },
  {
   "cell_type": "code",
   "execution_count": null,
   "id": "ae3dc532",
   "metadata": {},
   "outputs": [],
   "source": [
    "familles = [\"Romanes\", \"Germaniques\", \"Balto-slaves\", \"Celtiques\", \"Indo-ariennes\"]"
   ]
  },
  {
   "cell_type": "markdown",
   "id": "396a3501",
   "metadata": {},
   "source": [
    "## Consignes pour le rendu\n",
    "\n",
    "Répondre à ces exercices directement dans le notebook, le sauvegarder sous un nom de la forme\n",
    "`06_recapitulatif_PRENOM_NOM.ipynb` (pour Morgan Lefeuvre par exemple, ce serait\n",
    "`06_recapitulatif_Morgan_Lefeuvre.ipynb`) et me le transmettre avant dimanche soir prochain\n",
    "(2022-02-20).\n",
    "\n",
    "- De préférence via [Cours en Ligne](https://coursenligne.parisnanterre.fr/course/view.php?id=7694)\n",
    "  (clé d'inscription `rossum`)\n",
    "- À défaut, par mail, à `<lgrobol@parisnanterre.fr>`\n",
    "\n",
    "**Si vous avez plusieurs fichiers `ipynb`, mettez les dans un fichier zip pour pouvoir les déposer\n",
    "sur CEL.**"
   ]
  }
 ],
 "metadata": {
  "jupytext": {
   "formats": "ipynb,md",
   "split_at_heading": true
  },
  "kernelspec": {
   "display_name": "Python 3 (ipykernel)",
   "language": "python",
   "name": "python3"
  }
 },
 "nbformat": 4,
 "nbformat_minor": 5
}
