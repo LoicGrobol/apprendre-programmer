{
 "cells": [
  {
   "cell_type": "markdown",
   "id": "9fa9d363",
   "metadata": {
    "lines_to_next_cell": 0
   },
   "source": [
    "<!-- LTeX: language=fr -->"
   ]
  },
  {
   "cell_type": "markdown",
   "id": "e3f7f636",
   "metadata": {
    "slideshow": {
     "slide_type": "slide"
    }
   },
   "source": [
    "Cours 11 : TD récapitulatif 2\n",
    "============================\n",
    "\n",
    "**Loïc Grobol** [<lgrobol@parisnanterre.fr>](mailto:lgrobol@parisnanterre.fr)\n",
    "\n",
    "2022-04-12"
   ]
  },
  {
   "cell_type": "markdown",
   "id": "d24c5bd4",
   "metadata": {},
   "source": [
    "Dans ce notebook\n",
    "\n",
    "- Des exercices.\n",
    "- Encore des exercices.\n",
    "- Toujours des exercices.\n",
    "- Basiquement la suite du [premier récapitulatif](../06-recapitulatif/recapitulatif.py.md)\n",
    "\n",
    "Il y a des rappels pour chacune des notions, mais n'hésitez pas à aller relire les cours précédents\n",
    "et les corrections des exercices.\n",
    "\n",
    "**Si vous révisez en autonomie : commencez par refaire [le premier\n",
    "récapitulatif](../06-recapitulatif/recapitulatif.py.md) et à revoir [sa\n",
    "correction](../06-recapitulatif/corrections.py.md).** En particulier sa section « utiliser un\n",
    "notebook » si vous avez des doutes."
   ]
  },
  {
   "cell_type": "markdown",
   "id": "6fd5ba41",
   "metadata": {},
   "source": [
    "## Compteurs et accumulateurs\n",
    "\n",
    "> Les **compteurs**, et plus largement les **accumulateurs** sont des recettes très fréquemment\n",
    "> utilisées en lien avec les boucles.\n",
    ">\n",
    "> Le plan est le suivant : on initialise une variable à une valeur de base, puis on parcourt un\n",
    "> itérable, en mettant à jour la variable en question à chaque itération. Pour un compteur, il\n",
    "> s'agit de… compter des éléments ou des occurrences.\n",
    ">\n",
    "> Voici la version la plus simple d'un compteur : ici la variable `compte` va nous servir à compter\n",
    "> tous les éléments de la liste `spam`."
   ]
  },
  {
   "cell_type": "code",
   "execution_count": null,
   "id": "5d4b2493",
   "metadata": {},
   "outputs": [],
   "source": [
    "spam = [4, \"n\", 7, 1, \"f\", 4]\n",
    "compte = 0\n",
    "for elem in spam:\n",
    "    compte = compte + 1\n",
    "print(\"Il y a\", compte, \"éléments dans spam.\")"
   ]
  },
  {
   "cell_type": "markdown",
   "id": "f60bd85b",
   "metadata": {},
   "source": [
    "> En pratique, on ne compte en général pas tous les éléments, mais seulement ceux qui vérifient une\n",
    "> certaine condition : ici les chaînes de plus de quatre caractères :"
   ]
  },
  {
   "cell_type": "code",
   "execution_count": null,
   "id": "a16e2dc3",
   "metadata": {},
   "outputs": [],
   "source": [
    "spam = [\"manger\", \"et\", \"dormir\", \"c'\", \"essentiel\"]\n",
    "compte = 0\n",
    "for elem in spam:\n",
    "    if len(elem) > 4:\n",
    "       compte = compte + 1\n",
    "print(compte)"
   ]
  },
  {
   "cell_type": "markdown",
   "id": "fe1683f9",
   "metadata": {},
   "source": [
    "> Les accumulateurs sont une version plus générale où on fait autre chose qu'ajouter $1$\n",
    "> (*incrémenter*) à la variable. Par exemple ici, on stocke dans `acc` la somme des longueurs des\n",
    "> mots de la liste :"
   ]
  },
  {
   "cell_type": "code",
   "execution_count": null,
   "id": "10b26234",
   "metadata": {},
   "outputs": [],
   "source": [
    "spam = [\"manger\", \"et\", \"dormir\", \"c'\", \"essentiel\"]\n",
    "acc = 0\n",
    "for elem in spam:\n",
    "    acc = acc + len(elem)\n",
    "print(acc)"
   ]
  },
  {
   "cell_type": "markdown",
   "id": "e6b45601",
   "metadata": {},
   "source": [
    "> Un accumulateur n'est pas nécessairement un nombre : ici par exemple, c'est une liste"
   ]
  },
  {
   "cell_type": "code",
   "execution_count": null,
   "id": "12b0cbd0",
   "metadata": {},
   "outputs": [],
   "source": [
    "spam = [\"manger\", \"et\", \"dormir\", \"c'\", \"essentiel\"]\n",
    "longs_mots = []\n",
    "for elem in spam:\n",
    "    if len(elem) > 4:\n",
    "       longs_mots.append(elem)\n",
    "print(longs_mots)"
   ]
  },
  {
   "cell_type": "markdown",
   "id": "d262d6d2",
   "metadata": {},
   "source": [
    "1\\.\n",
    "\n",
    "1.1 Écrire un programme qui compte le nombre de mots de moins de $4$ caractères dans la liste\n",
    "suivante, puis affiche ce nombre"
   ]
  },
  {
   "cell_type": "code",
   "execution_count": null,
   "id": "c4d59235",
   "metadata": {},
   "outputs": [],
   "source": [
    "paragraphe = [\"c'\", 'est', 'devenu', 'une', 'banalité', \"l'\", 'ordinateur', \"s'\", 'accapare', 'nos', 'bureaux', 'modifie', 'nos', 'modes', 'de', 'travail', 'envahit', 'nos', 'maisons', \"s'\", 'intègre', 'dans', 'les', 'objets', 'les', 'plus', 'quotidiens', 'et', 'nous', 'propose', 'des', 'loisirs', 'inédits', 'il', 'est', 'même', 'à', \"l'\", 'origine', 'de', 'nouveaux', 'modes', 'de', 'sociabilité', 'et', \"d'\", 'une', 'nouvelle', 'économie', \"l'\", 'informatique', 'est', 'partout', 'pourtant', \"l'\", 'ordinateur', 'lui', 'même', 'demeure', 'pour', 'beaucoup', 'une', 'énigme', 'un', 'objet', 'mystérieux', 'et', 'un', 'peu', 'magique']\n",
    "\n",
    "# Coder ici"
   ]
  },
  {
   "cell_type": "markdown",
   "id": "fa48e214",
   "metadata": {},
   "source": [
    "1.2 Même question pour les mots de plus de $6$ caractères"
   ]
  },
  {
   "cell_type": "code",
   "execution_count": null,
   "id": "3489c487",
   "metadata": {},
   "outputs": [],
   "source": [
    "paragraphe = [\"c'\", 'est', 'devenu', 'une', 'banalité', \"l'\", 'ordinateur', \"s'\", 'accapare', 'nos', 'bureaux', 'modifie', 'nos', 'modes', 'de', 'travail', 'envahit', 'nos', 'maisons', \"s'\", 'intègre', 'dans', 'les', 'objets', 'les', 'plus', 'quotidiens', 'et', 'nous', 'propose', 'des', 'loisirs', 'inédits', 'il', 'est', 'même', 'à', \"l'\", 'origine', 'de', 'nouveaux', 'modes', 'de', 'sociabilité', 'et', \"d'\", 'une', 'nouvelle', 'économie', \"l'\", 'informatique', 'est', 'partout', 'pourtant', \"l'\", 'ordinateur', 'lui', 'même', 'demeure', 'pour', 'beaucoup', 'une', 'énigme', 'un', 'objet', 'mystérieux', 'et', 'un', 'peu', 'magique']\n",
    "\n",
    "# Coder ici"
   ]
  },
  {
   "cell_type": "markdown",
   "id": "501877cb",
   "metadata": {},
   "source": [
    "2\\.\n",
    "\n",
    "2.1 Écrire un programme qui compte le nombre de températures supérieures à $50$ dans la liste\n",
    "`temperatures`, puis affiche ce nombre."
   ]
  },
  {
   "cell_type": "code",
   "execution_count": null,
   "id": "272abc67",
   "metadata": {},
   "outputs": [],
   "source": [
    "temperatures = [62.8, 26.6, 60.3, 60.4, 59.4, 45.1, 49, 55.3, 70.7, 63.5,\n",
    "                70, 44.4, 51.8, 51.7, 47.8, 54.3, 55.6, 66.4, 41, 54.2, \n",
    "                47.9, 44.4, 41.2, 63.4, 54.5, 42.7, 48.8, 49.9, 43.8, 52.7, \n",
    "                53.4, 45.4, 59, 40.4, 50.7, 59.6, 48.4, 48.8, 50.1, 62.4, \n",
    "                45.2, 57.6, 64.8, 48.6, 42.9, 55.1, 48.3, 51.8, 43.1, 42]\n",
    "\n",
    "# Coder ici"
   ]
  },
  {
   "cell_type": "markdown",
   "id": "87ea1c4a",
   "metadata": {},
   "source": [
    "2.2 Écrire un programme qui calcule la somme des températures de la liste `temperatures`, puis\n",
    "affiche ce nombre."
   ]
  },
  {
   "cell_type": "code",
   "execution_count": null,
   "id": "dffba21e",
   "metadata": {},
   "outputs": [],
   "source": [
    "temperatures = [62.8, 26.6, 60.3, 60.4, 59.4, 45.1, 49, 55.3, 70.7, 63.5,\n",
    "                70, 44.4, 51.8, 51.7, 47.8, 54.3, 55.6, 66.4, 41, 54.2, \n",
    "                47.9, 44.4, 41.2, 63.4, 54.5, 42.7, 48.8, 49.9, 43.8, 52.7, \n",
    "                53.4, 45.4, 59, 40.4, 50.7, 59.6, 48.4, 48.8, 50.1, 62.4, \n",
    "                45.2, 57.6, 64.8, 48.6, 42.9, 55.1, 48.3, 51.8, 43.1, 42]\n",
    "\n",
    "# Coder ici"
   ]
  },
  {
   "cell_type": "markdown",
   "id": "d7eaf420",
   "metadata": {},
   "source": [
    "2.3 Même question que 2.2, mais uniquement pour les températures de plus de $50$."
   ]
  },
  {
   "cell_type": "code",
   "execution_count": null,
   "id": "fcc555b0",
   "metadata": {},
   "outputs": [],
   "source": [
    "temperatures = [62.8, 26.6, 60.3, 60.4, 59.4, 45.1, 49, 55.3, 70.7, 63.5,\n",
    "                70, 44.4, 51.8, 51.7, 47.8, 54.3, 55.6, 66.4, 41, 54.2, \n",
    "                47.9, 44.4, 41.2, 63.4, 54.5, 42.7, 48.8, 49.9, 43.8, 52.7, \n",
    "                53.4, 45.4, 59, 40.4, 50.7, 59.6, 48.4, 48.8, 50.1, 62.4, \n",
    "                45.2, 57.6, 64.8, 48.6, 42.9, 55.1, 48.3, 51.8, 43.1, 42]\n",
    "\n",
    "# Coder ici"
   ]
  },
  {
   "cell_type": "markdown",
   "id": "6b1fee2d",
   "metadata": {},
   "source": [
    "3\\. Écrire un programme qui compte le nombre de mots commençant par une voyelle dans le paragraphe\n",
    "suivant, puis affiche ce nombre."
   ]
  },
  {
   "cell_type": "code",
   "execution_count": null,
   "id": "81aaf19e",
   "metadata": {},
   "outputs": [],
   "source": [
    "paragraphe = [\"c'\", 'est', 'devenu', 'une', 'banalité', \"l'\", 'ordinateur', \"s'\", 'accapare', 'nos', 'bureaux', 'modifie', 'nos', 'modes', 'de', 'travail', 'envahit', 'nos', 'maisons', \"s'\", 'intègre', 'dans', 'les', 'objets', 'les', 'plus', 'quotidiens', 'et', 'nous', 'propose', 'des', 'loisirs', 'inédits', 'il', 'est', 'même', 'à', \"l'\", 'origine', 'de', 'nouveaux', 'modes', 'de', 'sociabilité', 'et', \"d'\", 'une', 'nouvelle', 'économie', \"l'\", 'informatique', 'est', 'partout', 'pourtant', \"l'\", 'ordinateur', 'lui', 'même', 'demeure', 'pour', 'beaucoup', 'une', 'énigme', 'un', 'objet', 'mystérieux', 'et', 'un', 'peu', 'magique']\n",
    "voyelles = [\"a\",\"e\",\"o\",\"i\",\"u\", \"y\", \"à\", \"â\", \"é\", \"è\", \"ê\", \"ë\", \"î\", \"ï\", \"ô\", \"ù\", \"ü\", \"ÿ\"]\n",
    "\n",
    "# Coder ici"
   ]
  },
  {
   "cell_type": "markdown",
   "id": "73a54866",
   "metadata": {},
   "source": [
    "4\\. Écrire un programme qui stocke dans une liste `courts` tous les mots de moins de $6$ caractères\n",
    "de la liste `paragraphe`, puis affiche `courts`."
   ]
  },
  {
   "cell_type": "code",
   "execution_count": null,
   "id": "b46f6393",
   "metadata": {},
   "outputs": [],
   "source": [
    "paragraphe = [\"c'\", 'est', 'devenu', 'une', 'banalité', \"l'\", 'ordinateur', \"s'\", 'accapare', 'nos', 'bureaux', 'modifie', 'nos', 'modes', 'de', 'travail', 'envahit', 'nos', 'maisons', \"s'\", 'intègre', 'dans', 'les', 'objets', 'les', 'plus', 'quotidiens', 'et', 'nous', 'propose', 'des', 'loisirs', 'inédits', 'il', 'est', 'même', 'à', \"l'\", 'origine', 'de', 'nouveaux', 'modes', 'de', 'sociabilité', 'et', \"d'\", 'une', 'nouvelle', 'économie', \"l'\", 'informatique', 'est', 'partout', 'pourtant', \"l'\", 'ordinateur', 'lui', 'même', 'demeure', 'pour', 'beaucoup', 'une', 'énigme', 'un', 'objet', 'mystérieux', 'et', 'un', 'peu', 'magique']\n",
    "\n",
    "# Coder ici"
   ]
  },
  {
   "cell_type": "markdown",
   "id": "bf1234e7",
   "metadata": {},
   "source": [
    "## Dictionnaires\n",
    "\n",
    "> Les **dictionnaires** (`dict`) sont des structures de données qui partagent avec les listes la\n",
    "> notion d'accéder à un élément par un identifiant, une **clé**. Dans une liste, la clé d'un\n",
    "> élément est un nombre entier. C'est son **indice**, sa position :"
   ]
  },
  {
   "cell_type": "code",
   "execution_count": null,
   "id": "de1a6e75",
   "metadata": {},
   "outputs": [],
   "source": [
    "ma_liste = [1, 6, 2, 5, \"hello, world\"]\n",
    "v = ma_liste[4]\n",
    "print(v)"
   ]
  },
  {
   "cell_type": "markdown",
   "id": "27f691be",
   "metadata": {},
   "source": [
    "> Dans un dictionnaire, les clés peuvent être (presque) n'importe quoi :"
   ]
  },
  {
   "cell_type": "code",
   "execution_count": null,
   "id": "3cb0ee28",
   "metadata": {},
   "outputs": [],
   "source": [
    "mon_dict = {1: \"hello, world\", \"spam\": 18, \"c\": True}\n",
    "v = mon_dict[\"spam\"]\n",
    "print(v)"
   ]
  },
  {
   "cell_type": "markdown",
   "id": "0c4dd3a5",
   "metadata": {},
   "source": [
    "> On crée un dictionnaire comme ci-dessus en donnant entre accolades une série de couples `clé:\n",
    "> valeur`. On peut aussi modifier les éléments d'un dictionnaire :"
   ]
  },
  {
   "cell_type": "code",
   "execution_count": null,
   "id": "61720932",
   "metadata": {},
   "outputs": [],
   "source": [
    "mon_dict = {1: \"hello, world\", \"spam\": 18, \"c\": True}\n",
    "print(mon_dict)\n",
    "mon_dict[\"spam\"] = \"bidule\"\n",
    "print(mon_dict)"
   ]
  },
  {
   "cell_type": "markdown",
   "id": "3d292c00",
   "metadata": {},
   "source": [
    "> Ou en ajouter de nouveaux :"
   ]
  },
  {
   "cell_type": "code",
   "execution_count": null,
   "id": "5e924247",
   "metadata": {},
   "outputs": [],
   "source": [
    "mon_dict = {1: \"hello, world\", \"spam\": 18, \"c\": True}\n",
    "print(mon_dict)\n",
    "mon_dict[\"Apprendre à programmer\"] = \"Clairement le meilleur cours de la L3\"\n",
    "print(mon_dict)"
   ]
  },
  {
   "cell_type": "markdown",
   "id": "dca494fd",
   "metadata": {},
   "source": [
    "1\\.\n",
    "\n",
    "1.1 Écrire un programme qui affiche les éléments correspondant aux clés `poisson`, `verseau` et\n",
    "`balance` du dictionnaire `mon_dico`."
   ]
  },
  {
   "cell_type": "code",
   "execution_count": null,
   "id": "1b270f6b",
   "metadata": {},
   "outputs": [],
   "source": [
    "mon_dico = {\n",
    "    \"capricorne\": \"janvier\",\n",
    "    \"poisson\": \"février\",\n",
    "    \"taureau\": \"juin\",\n",
    "    \"balance\": \"pas bien\",\n",
    "    \"sagitaire\": \"avant de s'en servir\",\n",
    "    \"verseau\": \"mai\"\n",
    "}\n",
    "\n",
    "# Coder ici"
   ]
  },
  {
   "cell_type": "markdown",
   "id": "8df3c585",
   "metadata": {},
   "source": [
    "1.2 Écrire à la suite de la cellule suivante un programme qui modifie `mon_dico` pour donner pour la\n",
    "clé `\"capricorne\"` la valeur `\"août\"`, et pour ajouter la clé `\"bélier\"`, avec la valeur\n",
    "`\"octobre\"`."
   ]
  },
  {
   "cell_type": "code",
   "execution_count": null,
   "id": "927315a9",
   "metadata": {},
   "outputs": [],
   "source": [
    "mon_dico = {\n",
    "    \"capricorne\": \"janvier\",\n",
    "    \"poisson\": \"février\",\n",
    "    \"taureau\": \"juin\",\n",
    "    \"balance\": \"pas bien\",\n",
    "    \"sagitaire\": \"avant de s'en servir\",\n",
    "    \"verseau\": \"mai\"\n",
    "}\n",
    "\n",
    "# Coder ici"
   ]
  },
  {
   "cell_type": "markdown",
   "id": "040a8285",
   "metadata": {},
   "source": [
    "> La plupart des opérations sur les listes ont un équivalent pour les dictionnaires :"
   ]
  },
  {
   "cell_type": "code",
   "execution_count": null,
   "id": "e3fccaf6",
   "metadata": {},
   "outputs": [],
   "source": [
    "truc = {1: \"hello, world\", \"spam\": 18, \"c\": True}\n",
    "# Existence d'une clé\n",
    "print(\"spam\" in truc)\n",
    "# Existence d'une valeur\n",
    "print(\"hello, world\" in truc.values())\n",
    "# Itérer sur les clés\n",
    "print(\"Clés:\")\n",
    "for k in truc:\n",
    "    print(k)\n",
    "print(\"Valeurs:\")\n",
    "# Itérer sur les valeurs\n",
    "for v in truc.values():\n",
    "    print(v)\n",
    "print(\"-----\")\n",
    "# itérer sur les deux\n",
    "for cle, val in truc.items():\n",
    "    print(cle, \":\", val)"
   ]
  },
  {
   "cell_type": "markdown",
   "id": "62fb13a3",
   "metadata": {},
   "source": [
    "2\\.\n",
    "\n",
    "2.1 Écrire un programme qui compte le nombre de clés de plus de $5$ caractères dans le dictionnaire\n",
    "`geriadur` et affiche ce nombre"
   ]
  },
  {
   "cell_type": "code",
   "execution_count": null,
   "id": "15270c8a",
   "metadata": {},
   "outputs": [],
   "source": [
    "geriadur = {\n",
    "    \"Tour-tan\": \"Phare\",\n",
    "    \"Porz\": \"Port\",\n",
    "    \"Arvor\": \"Littoral\",\n",
    "    \"Argoat\": \"Intérieur des terres\",\n",
    "    \"Bro\": \"Pays\",\n",
    "    \"Enez\": \"Île\",\n",
    "    \"Kêr\": \"Ville\",\n",
    "    \"Ti\": \"Maison\",\n",
    "    \"Bihan\": \"Petit\",\n",
    "    \"Bras\": \"Grand\",\n",
    "    \"Krampouezh\": \"Crêpes\",\n",
    "    \"Plou\": \"Paroisse\",\n",
    "    \"Nevez\": \"Nouveau\",\n",
    "    \"Gwenn\": \"Blanc\",\n",
    "    \"Du\": \"Noir\",\n",
    "    \"Glaz\": \"Bleu\",\n",
    "    \"Gwer\": \"Vert\",\n",
    "    \"Melen\": \"Jaune\",\n",
    "    \"Ruz\": \"Rouge\",\n",
    "    \"Evaj\": \"Boisson\",\n",
    "}\n",
    "\n",
    "# Codez ici"
   ]
  },
  {
   "cell_type": "markdown",
   "id": "3f121993",
   "metadata": {},
   "source": [
    "2.2 Même question, mais pour les **valeurs** de plus de $7$ caractères."
   ]
  },
  {
   "cell_type": "code",
   "execution_count": null,
   "id": "e4d19d4e",
   "metadata": {},
   "outputs": [],
   "source": [
    "geriadur = {\n",
    "    \"Tour-tan\": \"Phare\",\n",
    "    \"Porz\": \"Port\",\n",
    "    \"Arvor\": \"Littoral\",\n",
    "    \"Argoat\": \"Intérieur des terres\",\n",
    "    \"Bro\": \"Pays\",\n",
    "    \"Enez\": \"Île\",\n",
    "    \"Kêr\": \"Ville\",\n",
    "    \"Ti\": \"Maison\",\n",
    "    \"Bihan\": \"Petit\",\n",
    "    \"Bras\": \"Grand\",\n",
    "    \"Krampouezh\": \"Crêpes\",\n",
    "    \"Plou\": \"Paroisse\",\n",
    "    \"Nevez\": \"Nouveau\",\n",
    "    \"Gwenn\": \"Blanc\",\n",
    "    \"Du\": \"Noir\",\n",
    "    \"Glaz\": \"Bleu\",\n",
    "    \"Gwer\": \"Vert\",\n",
    "    \"Melen\": \"Jaune\",\n",
    "    \"Ruz\": \"Rouge\",\n",
    "    \"Evaj\": \"Boisson\",\n",
    "}\n",
    "\n",
    "# Codez ici"
   ]
  },
  {
   "cell_type": "markdown",
   "id": "6ac3b22f",
   "metadata": {},
   "source": [
    "3\\. Écrire un programme qui crée un dictionnaire `rime` dont les clés sont les mots de la liste\n",
    "`vocab` et tel que pour chacun de ces mots, `w` `rime[w]` vaut `True` si `w` finit par une voyelle\n",
    "et `False` sinon."
   ]
  },
  {
   "cell_type": "code",
   "execution_count": null,
   "id": "c52f8926",
   "metadata": {},
   "outputs": [],
   "source": [
    "vocab = [\n",
    "    \"Brezhoneg\",\n",
    "    \"Demat\",\n",
    "    \"Kenavo\",\n",
    "    \"Trugarez\",\n",
    "    \"Laouenn\",\n",
    "    \"Marc'had\",\n",
    "    \"Biniou\",\n",
    "]\n",
    "\n",
    "# Coder ici"
   ]
  },
  {
   "cell_type": "markdown",
   "id": "52268d2d",
   "metadata": {},
   "source": [
    "**Indices** :\n",
    "\n",
    "- Il y a une liste de voyelles plus haut.\n",
    "- Pensez à utiliser une boucle."
   ]
  },
  {
   "cell_type": "markdown",
   "id": "f3499f36",
   "metadata": {},
   "source": [
    "## Fonctions\n",
    "\n",
    "> De la même façon qu'on a vu comment utiliser des variables pour stocker et réutiliser des valeurs,\n",
    "> une fonction est une façon de sauvegarder et de réutiliser un bloc d'instructions."
   ]
  },
  {
   "cell_type": "code",
   "execution_count": null,
   "id": "d1ae6c63",
   "metadata": {},
   "outputs": [],
   "source": [
    "def fun():\n",
    "    print(\"Bonjour tout le monde\")\n",
    "    print(\"Comment ça va ?\")\n",
    "\n",
    "fun()\n",
    "print(\"autre chose\")\n",
    "fun()\n",
    "fun()"
   ]
  },
  {
   "cell_type": "markdown",
   "id": "5002ce6f",
   "metadata": {},
   "source": [
    "> Si on veut transmettre une variable à une fonction, on peut le faire en lui donnant des\n",
    "> **arguments**, comme `val` dans la fonction `spam` ci-dessous :"
   ]
  },
  {
   "cell_type": "code",
   "execution_count": null,
   "id": "47d3d704",
   "metadata": {},
   "outputs": [],
   "source": [
    "def spam(val):\n",
    "    print(\"Tu m'as donné l'argument\", val)\n",
    "    print(\"Je sais pas quoi en faire, mais c'est sympa\")\n",
    "    print(\"Je vais le répéter\")\n",
    "    print(val)\n",
    "    print(\"Encore trois fois\")\n",
    "    for i in range(3):\n",
    "        print(val)\n",
    "\n",
    "spam(5)\n",
    "spam(-12)\n",
    "spam(\"helloooo\")"
   ]
  },
  {
   "cell_type": "markdown",
   "id": "a5873019",
   "metadata": {},
   "source": [
    "> Attention, les variables définies dans une fonction ne sont pas accessibles en dehors"
   ]
  },
  {
   "cell_type": "code",
   "execution_count": null,
   "id": "b8e30abc",
   "metadata": {
    "tags": [
     "raises-exception"
    ]
   },
   "outputs": [],
   "source": [
    "def egg(n):\n",
    "    m = n**2\n",
    "    # Ici m existe\n",
    "    print(\"m vaut\", m)\n",
    "\n",
    "egg(4)\n",
    "# Mais pas là\n",
    "print(\"m vaut\", m)"
   ]
  },
  {
   "cell_type": "markdown",
   "id": "15f8fb03",
   "metadata": {},
   "source": [
    "> En revanche, on peut exfiltrer une valeur hors de la fonction à l'aide de l'instruction `return`"
   ]
  },
  {
   "cell_type": "code",
   "execution_count": null,
   "id": "63f85703",
   "metadata": {
    "tags": [
     "raises-exception"
    ]
   },
   "outputs": [],
   "source": [
    "def egg(n):\n",
    "    m = n**2\n",
    "    print(\"m vaut\", m)\n",
    "    return m\n",
    "\n",
    "r = egg(4)\n",
    "print(\"r vaut\", r)"
   ]
  },
  {
   "cell_type": "markdown",
   "id": "0f42133c",
   "metadata": {},
   "source": [
    "> Dans ce cas on dit qu'on a **renvoyé** une valeur.\n",
    ">\n",
    "> Les fonctions que vous écrivez vous-même peuvent faire tout ce que les fonctions que vous utilisez\n",
    "> depuis le début de ce cours (`print`, `len`…) font. Voici par exemple une façon de réécrire la\n",
    "> fonction `len` :"
   ]
  },
  {
   "cell_type": "code",
   "execution_count": null,
   "id": "a898e863",
   "metadata": {},
   "outputs": [],
   "source": [
    "def longueur(seq):\n",
    "    resultat = 0\n",
    "    for elem in seq:\n",
    "        resultat = resultat + 1\n",
    "    return resultat\n",
    "\n",
    "print(longueur([1, 2, 3]))\n",
    "print(longueur([2, 7, 1, 3, 12, 15, 18]))\n",
    "print(longueur(\"bonjour\"))"
   ]
  },
  {
   "cell_type": "markdown",
   "id": "d25e77ef",
   "metadata": {},
   "source": [
    "Pensez à tester vos fonctions !\n",
    "\n",
    "1\\.\n",
    "\n",
    "1.1 Définir une fonction nommée `bonjour`, qui affiche `\"Bonjour\"`."
   ]
  },
  {
   "cell_type": "code",
   "execution_count": null,
   "id": "2dae3da1",
   "metadata": {},
   "outputs": [],
   "source": [
    "# Coder ici"
   ]
  },
  {
   "cell_type": "markdown",
   "id": "6839b52d",
   "metadata": {},
   "source": [
    "1.2 Définir une fonction nommée `salut`, qui demande la saisie d'un nom, puis affiche une salutation\n",
    "en fonction, par exemple `\"Salut, Morgan !`\" si le nom saisi est `\"Morgan\"`."
   ]
  },
  {
   "cell_type": "code",
   "execution_count": null,
   "id": "92762704",
   "metadata": {},
   "outputs": [],
   "source": [
    "# Coder ici"
   ]
  },
  {
   "cell_type": "markdown",
   "id": "aea1d8e8",
   "metadata": {},
   "source": [
    "2\\. Définir une fonction nommée `double`, qui accepte un argument et affiche son double."
   ]
  },
  {
   "cell_type": "code",
   "execution_count": null,
   "id": "f04f97d5",
   "metadata": {},
   "outputs": [],
   "source": [
    "# Coder ici"
   ]
  },
  {
   "cell_type": "markdown",
   "id": "0fbb4599",
   "metadata": {},
   "source": [
    "3\\. Définir une fonction nommée `somme` qui accepte deux arguments et affiche leur somme."
   ]
  },
  {
   "cell_type": "code",
   "execution_count": null,
   "id": "034f641e",
   "metadata": {},
   "outputs": [],
   "source": [
    "# Coder ici"
   ]
  },
  {
   "cell_type": "markdown",
   "id": "6adef8a6",
   "metadata": {},
   "source": [
    "4\\. Définir une fonction qui accepte un nombre comme argument et renvoie son double si ce nombre est\n",
    "positif et son carré s'il est négatif."
   ]
  },
  {
   "cell_type": "code",
   "execution_count": null,
   "id": "4b535597",
   "metadata": {},
   "outputs": [],
   "source": [
    "# Coder ici"
   ]
  },
  {
   "cell_type": "markdown",
   "id": "635caf5d",
   "metadata": {},
   "source": [
    "5\\. Définir une fonction qui accepte une chaîne de caractères comme argument et renvoie la chaîne\n",
    "mise en majuscule si elle commence par une voyelle, et `False` sinon."
   ]
  },
  {
   "cell_type": "code",
   "execution_count": null,
   "id": "444214c8",
   "metadata": {},
   "outputs": [],
   "source": [
    "# Coder ici"
   ]
  }
 ],
 "metadata": {
  "jupytext": {
   "formats": "ipynb,md",
   "split_at_heading": true
  },
  "kernelspec": {
   "display_name": "Python 3 (ipykernel)",
   "language": "python",
   "name": "python3"
  }
 },
 "nbformat": 4,
 "nbformat_minor": 5
}
