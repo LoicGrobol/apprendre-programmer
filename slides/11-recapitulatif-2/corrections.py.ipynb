{
 "cells": [
  {
   "cell_type": "markdown",
   "id": "a7b99fbb",
   "metadata": {
    "lines_to_next_cell": 0
   },
   "source": [
    "<!-- LTeX: language=fr -->"
   ]
  },
  {
   "cell_type": "markdown",
   "id": "8e07b596",
   "metadata": {
    "slideshow": {
     "slide_type": "slide"
    }
   },
   "source": [
    "Corrections TD récapitulatif 2\n",
    "==============================\n",
    "\n",
    "**Loïc Grobol** [<lgrobol@parisnanterre.fr>](mailto:lgrobol@parisnanterre.fr)\n",
    "\n",
    "2022-04-13"
   ]
  },
  {
   "cell_type": "markdown",
   "id": "5e1a3c0d",
   "metadata": {},
   "source": [
    "## Compteurs et accumulateurs\n",
    "\n",
    "1\\.\n",
    "\n",
    "1.1 Écrire un programme qui compte le nombre de mots de moins de $4$ lettres dans la liste suivante,\n",
    "puis affiche ce nombre"
   ]
  },
  {
   "cell_type": "code",
   "execution_count": null,
   "id": "9eeb258a",
   "metadata": {},
   "outputs": [],
   "source": [
    "paragraphe = [\"c'\", 'est', 'devenu', 'une', 'banalité', \"l'\", 'ordinateur', \"s'\", 'accapare', 'nos', 'bureaux', 'modifie', 'nos', 'modes', 'de', 'travail', 'envahit', 'nos', 'maisons', \"s'\", 'intègre', 'dans', 'les', 'objets', 'les', 'plus', 'quotidiens', 'et', 'nous', 'propose', 'des', 'loisirs', 'inédits', 'il', 'est', 'même', 'à', \"l'\", 'origine', 'de', 'nouveaux', 'modes', 'de', 'sociabilité', 'et', \"d'\", 'une', 'nouvelle', 'économie', \"l'\", 'informatique', 'est', 'partout', 'pourtant', \"l'\", 'ordinateur', 'lui', 'même', 'demeure', 'pour', 'beaucoup', 'une', 'énigme', 'un', 'objet', 'mystérieux', 'et', 'un', 'peu', 'magique']\n",
    "\n",
    "moins_de_quatre = 0\n",
    "for mot in paragraphe:\n",
    "    if len(mot) <= 4:\n",
    "        moins_de_quatre = moins_de_quatre + 1\n",
    "print(moins_de_quatre)"
   ]
  },
  {
   "cell_type": "markdown",
   "id": "38d7f667",
   "metadata": {},
   "source": [
    "1.2 Même question pour les mots de plus de $6$ lettres"
   ]
  },
  {
   "cell_type": "code",
   "execution_count": null,
   "id": "0c7c0fa9",
   "metadata": {},
   "outputs": [],
   "source": [
    "paragraphe = [\"c'\", 'est', 'devenu', 'une', 'banalité', \"l'\", 'ordinateur', \"s'\", 'accapare', 'nos', 'bureaux', 'modifie', 'nos', 'modes', 'de', 'travail', 'envahit', 'nos', 'maisons', \"s'\", 'intègre', 'dans', 'les', 'objets', 'les', 'plus', 'quotidiens', 'et', 'nous', 'propose', 'des', 'loisirs', 'inédits', 'il', 'est', 'même', 'à', \"l'\", 'origine', 'de', 'nouveaux', 'modes', 'de', 'sociabilité', 'et', \"d'\", 'une', 'nouvelle', 'économie', \"l'\", 'informatique', 'est', 'partout', 'pourtant', \"l'\", 'ordinateur', 'lui', 'même', 'demeure', 'pour', 'beaucoup', 'une', 'énigme', 'un', 'objet', 'mystérieux', 'et', 'un', 'peu', 'magique']\n",
    "\n",
    "plus_de_six = 0\n",
    "for mot in paragraphe:\n",
    "    if len(mot) >= 6:\n",
    "        plus_de_six = plus_de_six + 1\n",
    "print(plus_de_six)"
   ]
  },
  {
   "cell_type": "markdown",
   "id": "32cf0370",
   "metadata": {},
   "source": [
    "2\\.\n",
    "\n",
    "2.1 Écrire un programme qui compte le nombre de températures supérieures à $50$ dans la liste\n",
    "`temperatures`, puis affiche ce nombre."
   ]
  },
  {
   "cell_type": "code",
   "execution_count": null,
   "id": "88b576dc",
   "metadata": {},
   "outputs": [],
   "source": [
    "temperatures = [62.8, 26.6, 60.3, 60.4, 59.4, 45.1, 49, 55.3, 70.7, 63.5,\n",
    "                70, 44.4, 51.8, 51.7, 47.8, 54.3, 55.6, 66.4, 41, 54.2, \n",
    "                47.9, 44.4, 41.2, 63.4, 54.5, 42.7, 48.8, 49.9, 43.8, 52.7, \n",
    "                53.4, 45.4, 59, 40.4, 50.7, 59.6, 48.4, 48.8, 50.1, 62.4, \n",
    "                45.2, 57.6, 64.8, 48.6, 42.9, 55.1, 48.3, 51.8, 43.1, 42]\n",
    "\n",
    "total = 0\n",
    "for t in temperatures:\n",
    "    if t > 50.0:  # On pourrait aussi mettre 50, la différence c'est que 50.0 est un float, comme les températures\n",
    "        total = total + 1\n",
    "print(total)"
   ]
  },
  {
   "cell_type": "markdown",
   "id": "220a13f5",
   "metadata": {},
   "source": [
    "2.2 Écrire un programme qui calcule la somme des températures de la liste `temperatures`, puis\n",
    "affiche ce nombre."
   ]
  },
  {
   "cell_type": "code",
   "execution_count": null,
   "id": "93d3e061",
   "metadata": {},
   "outputs": [],
   "source": [
    "temperatures = [62.8, 26.6, 60.3, 60.4, 59.4, 45.1, 49, 55.3, 70.7, 63.5,\n",
    "                70, 44.4, 51.8, 51.7, 47.8, 54.3, 55.6, 66.4, 41, 54.2, \n",
    "                47.9, 44.4, 41.2, 63.4, 54.5, 42.7, 48.8, 49.9, 43.8, 52.7, \n",
    "                53.4, 45.4, 59, 40.4, 50.7, 59.6, 48.4, 48.8, 50.1, 62.4, \n",
    "                45.2, 57.6, 64.8, 48.6, 42.9, 55.1, 48.3, 51.8, 43.1, 42]\n",
    "\n",
    "somme = 0\n",
    "for t in temperatures:\n",
    "    somme = somme + t\n",
    "print(somme)"
   ]
  },
  {
   "cell_type": "markdown",
   "id": "5de43108",
   "metadata": {},
   "source": [
    "Ou sans boucle"
   ]
  },
  {
   "cell_type": "code",
   "execution_count": null,
   "id": "20c0b310",
   "metadata": {},
   "outputs": [],
   "source": [
    "print(sum(temperatures))"
   ]
  },
  {
   "cell_type": "markdown",
   "id": "338c5fd7",
   "metadata": {},
   "source": [
    "2.3 Même question que 2.2, mais uniquement pour les températures de plus de $50$."
   ]
  },
  {
   "cell_type": "code",
   "execution_count": null,
   "id": "12db9903",
   "metadata": {},
   "outputs": [],
   "source": [
    "temperatures = [62.8, 26.6, 60.3, 60.4, 59.4, 45.1, 49, 55.3, 70.7, 63.5,\n",
    "                70, 44.4, 51.8, 51.7, 47.8, 54.3, 55.6, 66.4, 41, 54.2, \n",
    "                47.9, 44.4, 41.2, 63.4, 54.5, 42.7, 48.8, 49.9, 43.8, 52.7, \n",
    "                53.4, 45.4, 59, 40.4, 50.7, 59.6, 48.4, 48.8, 50.1, 62.4, \n",
    "                45.2, 57.6, 64.8, 48.6, 42.9, 55.1, 48.3, 51.8, 43.1, 42]\n",
    "\n",
    "somme = 0\n",
    "for t in temperatures:\n",
    "    if t >= 50:\n",
    "        somme = somme + t\n",
    "print(somme)"
   ]
  },
  {
   "cell_type": "markdown",
   "id": "0194ffbe",
   "metadata": {},
   "source": [
    "3\\. Écrire un programme qui compte le nombre de mots commençant par une voyelle dans le paragraphe\n",
    "suivant, puis affiche ce nombre."
   ]
  },
  {
   "cell_type": "code",
   "execution_count": null,
   "id": "87274aed",
   "metadata": {},
   "outputs": [],
   "source": [
    "paragraphe = [\"c'\", 'est', 'devenu', 'une', 'banalité', \"l'\", 'ordinateur', \"s'\", 'accapare', 'nos', 'bureaux', 'modifie', 'nos', 'modes', 'de', 'travail', 'envahit', 'nos', 'maisons', \"s'\", 'intègre', 'dans', 'les', 'objets', 'les', 'plus', 'quotidiens', 'et', 'nous', 'propose', 'des', 'loisirs', 'inédits', 'il', 'est', 'même', 'à', \"l'\", 'origine', 'de', 'nouveaux', 'modes', 'de', 'sociabilité', 'et', \"d'\", 'une', 'nouvelle', 'économie', \"l'\", 'informatique', 'est', 'partout', 'pourtant', \"l'\", 'ordinateur', 'lui', 'même', 'demeure', 'pour', 'beaucoup', 'une', 'énigme', 'un', 'objet', 'mystérieux', 'et', 'un', 'peu', 'magique']\n",
    "voyelles = [\"a\",\"e\",\"o\",\"i\",\"u\", \"y\", \"à\", \"â\", \"é\", \"è\", \"ê\", \"ë\", \"î\", \"ï\", \"ô\", \"ù\", \"ü\", \"ÿ\"]\n",
    "\n",
    "compte = 0\n",
    "for mot in paragraphe:\n",
    "    if mot[0] in voyelles:\n",
    "        compte = compte + 1\n",
    "\n",
    "print(compte)"
   ]
  },
  {
   "cell_type": "markdown",
   "id": "00b7fe3a",
   "metadata": {},
   "source": [
    "4\\. Écrire un programme qui stocke dans une liste `courts` tous les mots de moins de $6$ lettres de\n",
    "la liste `paragraphe`, puis affiche `courts`."
   ]
  },
  {
   "cell_type": "code",
   "execution_count": null,
   "id": "ffad19b9",
   "metadata": {},
   "outputs": [],
   "source": [
    "paragraphe = [\"c'\", 'est', 'devenu', 'une', 'banalité', \"l'\", 'ordinateur', \"s'\", 'accapare', 'nos', 'bureaux', 'modifie', 'nos', 'modes', 'de', 'travail', 'envahit', 'nos', 'maisons', \"s'\", 'intègre', 'dans', 'les', 'objets', 'les', 'plus', 'quotidiens', 'et', 'nous', 'propose', 'des', 'loisirs', 'inédits', 'il', 'est', 'même', 'à', \"l'\", 'origine', 'de', 'nouveaux', 'modes', 'de', 'sociabilité', 'et', \"d'\", 'une', 'nouvelle', 'économie', \"l'\", 'informatique', 'est', 'partout', 'pourtant', \"l'\", 'ordinateur', 'lui', 'même', 'demeure', 'pour', 'beaucoup', 'une', 'énigme', 'un', 'objet', 'mystérieux', 'et', 'un', 'peu', 'magique']\n",
    "\n",
    "courts = []\n",
    "for mot in paragraphe:\n",
    "    if len(mot) <= 6:\n",
    "        courts.append(mot)\n",
    "\n",
    "print(courts)"
   ]
  },
  {
   "cell_type": "markdown",
   "id": "85916664",
   "metadata": {},
   "source": [
    "## Dictionnaires\n",
    "\n",
    "1\\.\n",
    "\n",
    "1.1 Écrire un programme qui affiche les éléments correspondant aux clés `poisson`, `verseau` et\n",
    "`balance` du dictionnaire `mon_dico`."
   ]
  },
  {
   "cell_type": "code",
   "execution_count": null,
   "id": "510c0a87",
   "metadata": {},
   "outputs": [],
   "source": [
    "mon_dico = {\n",
    "    \"capricorne\": \"janvier\",\n",
    "    \"poisson\": \"février\",\n",
    "    \"taureau\": \"juin\",\n",
    "    \"balance\": \"pas bien\",\n",
    "    \"sagitaire\": \"avant de s'en servir\",\n",
    "    \"verseau\": \"mai\"\n",
    "}\n",
    "\n",
    "print(mon_dico[\"capricorne\"])\n",
    "print(mon_dico[\"verseau\"])\n",
    "print(mon_dico[\"balance\"])"
   ]
  },
  {
   "cell_type": "markdown",
   "id": "25c14265",
   "metadata": {},
   "source": [
    "Ou en plus classe"
   ]
  },
  {
   "cell_type": "code",
   "execution_count": null,
   "id": "bb4ec590",
   "metadata": {},
   "outputs": [],
   "source": [
    "for signe in [\"capricorne\", \"verseau\", \"balance\"]:\n",
    "    print(mon_dico[signe])"
   ]
  },
  {
   "cell_type": "markdown",
   "id": "69f00abc",
   "metadata": {},
   "source": [
    "1.2 Écrire à la suite de la cellule suivante un programme qui modifie `mon_dico` pour donner pour la\n",
    "clé `\"capricorne\"` la valeur `\"août\"`, et pour ajouter la clé `\"bélier\"`, avec la valeur\n",
    "`\"octobre\"`."
   ]
  },
  {
   "cell_type": "code",
   "execution_count": null,
   "id": "d9f3dbc6",
   "metadata": {},
   "outputs": [],
   "source": [
    "mon_dico = {\n",
    "    \"capricorne\": \"janvier\",\n",
    "    \"poisson\": \"février\",\n",
    "    \"taureau\": \"juin\",\n",
    "    \"balance\": \"pas bien\",\n",
    "    \"sagitaire\": \"avant de s'en servir\",\n",
    "    \"verseau\": \"mai\"\n",
    "}\n",
    "\n",
    "mon_dico[\"capricorne\"] = \"août\"\n",
    "mon_dico[\"bélier\"] = \"octobre\""
   ]
  },
  {
   "cell_type": "markdown",
   "id": "44689620",
   "metadata": {},
   "source": [
    "2\\.\n",
    "\n",
    "2.1 Écrire un programme qui compte le nombre de clés de plus de $5$ caractères dans le dictionnaire\n",
    "`geriadur` et affiche ce nombre"
   ]
  },
  {
   "cell_type": "code",
   "execution_count": null,
   "id": "14df2e8d",
   "metadata": {},
   "outputs": [],
   "source": [
    "geriadur = {\n",
    "    \"Tour-tan\": \"Phare\",\n",
    "    \"Porz\": \"Port\",\n",
    "    \"Arvor\": \"Littoral\",\n",
    "    \"Argoat\": \"Intérieur des terres\",\n",
    "    \"Bro\": \"Pays\",\n",
    "    \"Enez\": \"Île\",\n",
    "    \"Kêr\": \"Ville\",\n",
    "    \"Ti\": \"Maison\",\n",
    "    \"Bihan\": \"Petit\",\n",
    "    \"Bras\": \"Grand\",\n",
    "    \"Krampouezh\": \"Crêpes\",\n",
    "    \"Plou\": \"Paroisse\",\n",
    "    \"Nevez\": \"Nouveau\",\n",
    "    \"Gwenn\": \"Blanc\",\n",
    "    \"Du\": \"Noir\",\n",
    "    \"Glaz\": \"Bleu\",\n",
    "    \"Gwer\": \"Vert\",\n",
    "    \"Melen\": \"Jaune\",\n",
    "    \"Ruz\": \"Rouge\",\n",
    "    \"Evaj\": \"Boisson\",\n",
    "}\n",
    "\n",
    "compte = 0\n",
    "for k in geriadur:\n",
    "    if len(k) >= 5:\n",
    "        compte = compte + 1\n",
    "\n",
    "print(compte)"
   ]
  },
  {
   "cell_type": "markdown",
   "id": "1778938e",
   "metadata": {},
   "source": [
    "2.2 Même question, mais pour les **valeurs** de plus de $7$ caractères."
   ]
  },
  {
   "cell_type": "code",
   "execution_count": null,
   "id": "dfc99269",
   "metadata": {},
   "outputs": [],
   "source": [
    "geriadur = {\n",
    "    \"Tour-tan\": \"Phare\",\n",
    "    \"Porz\": \"Port\",\n",
    "    \"Arvor\": \"Littoral\",\n",
    "    \"Argoat\": \"Intérieur des terres\",\n",
    "    \"Bro\": \"Pays\",\n",
    "    \"Enez\": \"Île\",\n",
    "    \"Kêr\": \"Ville\",\n",
    "    \"Ti\": \"Maison\",\n",
    "    \"Bihan\": \"Petit\",\n",
    "    \"Bras\": \"Grand\",\n",
    "    \"Krampouezh\": \"Crêpes\",\n",
    "    \"Plou\": \"Paroisse\",\n",
    "    \"Nevez\": \"Nouveau\",\n",
    "    \"Gwenn\": \"Blanc\",\n",
    "    \"Du\": \"Noir\",\n",
    "    \"Glaz\": \"Bleu\",\n",
    "    \"Gwer\": \"Vert\",\n",
    "    \"Melen\": \"Jaune\",\n",
    "    \"Ruz\": \"Rouge\",\n",
    "    \"Evaj\": \"Boisson\",\n",
    "}\n",
    "\n",
    "compte = 0\n",
    "for v in geriadur.values():\n",
    "    if len(v) >= 7:\n",
    "        compte = compte + 1\n",
    "\n",
    "print(compte)"
   ]
  },
  {
   "cell_type": "markdown",
   "id": "4e0dfe6c",
   "metadata": {},
   "source": [
    "3\\. Écrire un programme qui crée un dictionnaire `rime` dont les clés sont les mots de la liste\n",
    "`vocab` et tel que pour chacun de ces mots, `w` `rime[w]` vaut `True` si `w` finit par une voyelle et `False` sinon."
   ]
  },
  {
   "cell_type": "code",
   "execution_count": null,
   "id": "695721ff",
   "metadata": {},
   "outputs": [],
   "source": [
    "vocab = [\n",
    "    \"Brezhoneg\",\n",
    "    \"Demat\",\n",
    "    \"Kenavo\",\n",
    "    \"Trugarez\",\n",
    "    \"Laouenn\",\n",
    "    \"Marc'had\",\n",
    "    \"Biniou\",\n",
    "]\n",
    "\n",
    "rime = dict()\n",
    "\n",
    "for w in vocab:\n",
    "    rime[w] = w[-1] in voyelles\n",
    "\n",
    "print(rime)"
   ]
  },
  {
   "cell_type": "markdown",
   "id": "81147a93",
   "metadata": {},
   "source": [
    "## Fonctions"
   ]
  },
  {
   "cell_type": "markdown",
   "id": "58a9e9af",
   "metadata": {},
   "source": [
    "1\\.\n",
    "\n",
    "1.1 Définir une fonction nommée `bonjour`, qui affiche `\"Bonjour\"`."
   ]
  },
  {
   "cell_type": "code",
   "execution_count": null,
   "id": "02d302a6",
   "metadata": {},
   "outputs": [],
   "source": [
    "def bonjour():\n",
    "    print(\"Bonjour\")\n",
    "\n",
    "bonjour()"
   ]
  },
  {
   "cell_type": "markdown",
   "id": "74a8bf11",
   "metadata": {},
   "source": [
    "1.2 Définir une fonction nommée `salut`, qui demande la saisie d'un nom, puis affiche une salutation\n",
    "en fonction, par exemple `\"Salut, Morgan !`\" si le nom saisi est `\"Morgan\"`."
   ]
  },
  {
   "cell_type": "code",
   "execution_count": null,
   "id": "cefc48bc",
   "metadata": {
    "tags": [
     "skip-execution"
    ]
   },
   "outputs": [],
   "source": [
    "def salut():\n",
    "    nom = input(\"Quel est ton nom: \")\n",
    "    print(\"Salut,\", nom)\n",
    "\n",
    "salut()"
   ]
  },
  {
   "cell_type": "markdown",
   "id": "8786620d",
   "metadata": {},
   "source": [
    "2\\. Définir une fonction nommée `double`, qui accepte un argument et affiche son double."
   ]
  },
  {
   "cell_type": "code",
   "execution_count": null,
   "id": "7db76711",
   "metadata": {},
   "outputs": [],
   "source": [
    "def double(n):\n",
    "    print(2*n)\n",
    "\n",
    "double(43)\n",
    "double(-2)"
   ]
  },
  {
   "cell_type": "markdown",
   "id": "0b842bfa",
   "metadata": {},
   "source": [
    "3\\. Définir une fonction nommée `somme` qui accepte deux arguments et affiche leur somme."
   ]
  },
  {
   "cell_type": "code",
   "execution_count": null,
   "id": "c0c1230e",
   "metadata": {},
   "outputs": [],
   "source": [
    "def somme(a, b):\n",
    "    print(a+b)\n",
    "\n",
    "somme(5, 6)\n",
    "somme(13, 12)\n",
    "somme(\"hello\", \"world\")"
   ]
  },
  {
   "cell_type": "markdown",
   "id": "75ed8d9c",
   "metadata": {},
   "source": [
    "4\\. Définir une fonction qui accepte un nombre comme argument et renvoie son double si ce nombre est\n",
    "positif et son carré s'il est négatif."
   ]
  },
  {
   "cell_type": "code",
   "execution_count": null,
   "id": "8076f2ec",
   "metadata": {},
   "outputs": [],
   "source": [
    "def fun(n):\n",
    "    if n >= 0:\n",
    "        return 2*n\n",
    "    else:\n",
    "        return n**2\n",
    "\n",
    "print(fun(5))\n",
    "print(fun(-20))"
   ]
  },
  {
   "cell_type": "markdown",
   "id": "84d8f39f",
   "metadata": {},
   "source": [
    "5\\. Définir une fonction qui accepte une chaîne de caractères comme argument et renvoie la chaîne\n",
    "mise en majuscule si elle commence par une voyelle, et `False` sinon."
   ]
  },
  {
   "cell_type": "code",
   "execution_count": null,
   "id": "93d87d16",
   "metadata": {},
   "outputs": [],
   "source": [
    "def weird(chaine):\n",
    "    if chaine[0].lower() in voyelles:\n",
    "        return chaine.upper()\n",
    "    else:\n",
    "        return False\n",
    "\n",
    "print(weird(\"An Dro\"))\n",
    "print(weird(\"Hanter Dro\"))"
   ]
  }
 ],
 "metadata": {
  "jupytext": {
   "formats": "ipynb,md",
   "split_at_heading": true
  },
  "kernelspec": {
   "display_name": "Python 3 (ipykernel)",
   "language": "python",
   "name": "python3"
  }
 },
 "nbformat": 4,
 "nbformat_minor": 5
}
