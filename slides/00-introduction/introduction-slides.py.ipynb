{
 "cells": [
  {
   "cell_type": "markdown",
   "id": "aba2d874",
   "metadata": {
    "lines_to_next_cell": 0,
    "slideshow": {
     "slide_type": "skip"
    }
   },
   "source": [
    "<!-- LTeX: language=fr -->"
   ]
  },
  {
   "cell_type": "markdown",
   "id": "016e0d15",
   "metadata": {
    "lines_to_next_cell": 2,
    "slideshow": {
     "slide_type": "slide"
    }
   },
   "source": [
    "Apprendre à programmer : introduction\n",
    "=====================================\n",
    "\n",
    "**Loïc Grobol** [<lgrobol@parisnanterre.fr>](mailto:lgrobol@parisnanterre.fr)\n",
    "\n",
    "2022-01-18"
   ]
  },
  {
   "cell_type": "markdown",
   "id": "4a8d4abd",
   "metadata": {
    "slideshow": {
     "slide_type": "slide"
    }
   },
   "source": [
    "# Bonjour\n",
    "\n",
    "- Loïc Grobol (il/iel) [<loic.grobol@parisnanterre.fr>](mailto:loic.grobol@parisnanterre.fr)\n",
    "- PHILLIA / MoDyCo (Bâtiment Rémond, 4ème, bureau 404C)\n",
    "- *Office hours* le mardi après-midi, n'hésitez pas à passer y compris sans rendez-vous (mais je\n",
    "  préfère si vous m'envoyez un mail pour me prévenir)\n",
    "- De manière générale, n'hésitez pas à m'écrire"
   ]
  },
  {
   "cell_type": "markdown",
   "id": "b1f0c1ed",
   "metadata": {
    "slideshow": {
     "slide_type": "slide"
    }
   },
   "source": [
    "## Le cours"
   ]
  },
  {
   "cell_type": "markdown",
   "id": "16b91c79",
   "metadata": {
    "slideshow": {
     "slide_type": "subslide"
    }
   },
   "source": [
    "### Infos pratiques\n",
    "\n",
    "- **Quoi** « Apprendre à programmer », 4L6SC01P\n",
    "- **Où** Salle R05, bâtiment Ricœur, Université Paris Nanterre, 200 avenue de la République,\n",
    "  Nanterre\n",
    "- **Quand** 12 séances, les mardis de 10:30 à 12:30, du 17/01 au 18/04\n",
    "  - Voir [le calendrier de\n",
    "    l'université](https://etudiants.parisnanterre.fr/calendrier-universitaire-2021-2022-1018180.kjsp)\n",
    "    pour les dates de vacances.\n",
    "\n",
    "- → Travail sur machine systématique : amener de préférence un PC portable. Si c'est un problème,\n",
    "  venez m'en parler et on trouvera une solution.\n",
    "- → On peut s'en sortir avec une tablette, voire un smartphone, mais vous risquez de vraiment\n",
    "  peiner."
   ]
  },
  {
   "cell_type": "markdown",
   "id": "8b334fb5",
   "metadata": {
    "slideshow": {
     "slide_type": "subslide"
    }
   },
   "source": [
    "### Liens\n",
    "\n",
    "- La page du cours (slides, documents, nouvelles, consignes…)\n",
    "  - → <https://loicgrobol.github.io/apprendre-programmer>\n",
    "- Le dépôt GitHub (code source, compléments et historique)\n",
    "  - → <https://github.com/LoicGrobol/apprendre-programmer>"
   ]
  },
  {
   "cell_type": "markdown",
   "id": "0cd52aa7",
   "metadata": {
    "slideshow": {
     "slide_type": "subslide"
    }
   },
   "source": [
    "### Objectifs\n",
    "\n",
    "Connaissances :\n",
    "\n",
    "- Notion d'ordinateur, d'algorithme et de programme\n",
    "- Bases en langage Python :\n",
    "  - Notion de types primitifs : litéraux, expressions, variables\n",
    "  - Structures de données\n",
    "  - Fonctions, module et sous-programmes\n",
    "  - Lecture/écriture dans des fichiers"
   ]
  },
  {
   "cell_type": "markdown",
   "id": "48b73fe3",
   "metadata": {
    "slideshow": {
     "slide_type": "subslide"
    }
   },
   "source": [
    "Compétences :\n",
    "\n",
    "- Décrire un problème puis écrire un algorithme pour mettre en œuvre sa résolution.\n",
    "- Maîtriser les outils élémentaires de la programmation en langage Python.\n",
    "\n",
    "À la fin du semestre, vous serez les dignes héritièr⋅es d'Ada Lovelace, Alan Turing, Grace Hopper et\n",
    "John Backus."
   ]
  },
  {
   "cell_type": "markdown",
   "id": "cf997a97",
   "metadata": {
    "slideshow": {
     "slide_type": "subslide"
    }
   },
   "source": [
    "### Évaluation\n",
    "\n",
    "- Exercices en temps libre pendant le semestre\n",
    "- Examen final sous forme de TP noté\n",
    "- Mini-projet"
   ]
  }
 ],
 "metadata": {
  "jupytext": {
   "formats": "ipynb,md",
   "split_at_heading": true
  },
  "kernelspec": {
   "display_name": "Python 3 (ipykernel)",
   "language": "python",
   "name": "python3"
  }
 },
 "nbformat": 4,
 "nbformat_minor": 5
}
