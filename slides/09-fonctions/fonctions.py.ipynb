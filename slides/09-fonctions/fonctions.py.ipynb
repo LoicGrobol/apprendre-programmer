{
 "cells": [
  {
   "cell_type": "markdown",
   "id": "07a09a62",
   "metadata": {
    "lines_to_next_cell": 0
   },
   "source": [
    "<!-- LTeX: language=fr -->"
   ]
  },
  {
   "cell_type": "markdown",
   "id": "edf4372a",
   "metadata": {
    "slideshow": {
     "slide_type": "slide"
    }
   },
   "source": [
    "Cours 9 : Fonctions\n",
    "===================\n",
    "\n",
    "**Loïc Grobol** [<lgrobol@parisnanterre.fr>](mailto:lgrobol@parisnanterre.fr)\n",
    "\n",
    "2022-03-22"
   ]
  },
  {
   "cell_type": "markdown",
   "id": "aa98eea0",
   "metadata": {},
   "source": [
    "Dans ce notebook\n",
    "\n",
    "- On retrouve la tortue !\n",
    "- Écrire ses propres fonctions\n",
    "\n",
    "Les exercices sont tirés du cours « Apprendre à programmer avec Python », donnée à l'Université\n",
    "Sorbonne Nouvelle par Marine Delaborde et Pascal Amsili, que je remercie très chaleureusement."
   ]
  },
  {
   "cell_type": "markdown",
   "id": "4574d2f3",
   "metadata": {},
   "source": [
    "## Rappel chéloniens\n",
    "\n",
    "Le module Python `turtle` permet de dessiner simplement en Python, en contrôlant un agent qui laisse\n",
    "une trace sur une toile. `turtle` parce que ça fait comme une tortue qui aurait marché dans de la\n",
    "peinture.\n",
    "\n",
    "`turtle` ne marche pas vraiment dans l'interface Jupyter Notebook. Pour ce qui suit, vous devrez\n",
    "donc travailler soit dans un environnement de programmation Python local (par exemple\n",
    "[Thonny](https://thonny.org/)), soit avec l'environnement en ligne [repl.it](repl.it) (pensez à bien\n",
    "sélectionner le mode Python `turtle`). Pour le fonctionnement de Thonny, vous pouvez revenir au\n",
    "[cours 2](../02-turtle/turtle.py.md).\n",
    "\n",
    "Rappel : c'est en général plus agréable dans ce genre de cas d'utiliser des **scripts**: des\n",
    "fichiers textes avec l'extension `.py` qui contiennent des programmes. Vous pouvez les ouvrir dans\n",
    "Thonny (où ils s'affichent dans la zone d'édition) et les exécuter avec le bouton ▶️.\n",
    "\n",
    "Les commandes de base en `turtle` :\n",
    "\n",
    "- `forward(d)` avance de d pixels\n",
    "- `backward(d)` recule de d pixels\n",
    "- `left(a)` pivote vers la gauche de a degrés\n",
    "- `right(a)` pivote vers la droite de a degrés\n",
    "- `up()` relève le crayon pour avancer sans dessiner\n",
    "- `down()` abaisse le crayon pour dessiner\n",
    "- `reset()` remet le dessin à zéro\n",
    "- `circle(r, a)` trace un arc de cercle de rayon `rayon` et d'angle `a` degrés. `a` est facultatif\n",
    "  et vaut `360` par défaut (soit un cercle entier).\n",
    "- `pensize(e)` épaisseur du tracé (pixels)\n",
    "- `color(couleur)` couleur du tracé (par exemple `color(\"blue\")`)."
   ]
  },
  {
   "cell_type": "markdown",
   "id": "b26a71dd",
   "metadata": {},
   "source": [
    "## 🐢 Exo 🐢"
   ]
  },
  {
   "cell_type": "markdown",
   "id": "c4bd9723",
   "metadata": {},
   "source": [
    "### Exercice 1\n",
    "\n",
    "À l'aide des fonctions `turtle`, dessiner un carré de côté 100 pixels."
   ]
  },
  {
   "cell_type": "markdown",
   "id": "ce354f36",
   "metadata": {},
   "source": [
    "### Exercice 2\n",
    "\n",
    "Reproduire la forme suivante à l’aide des fonctions `turtle`. Le cercle fait 100 pixels de rayon. Le\n",
    "tracé est bleu et l’épaisseur du trait est de 3 pixels :\n",
    "\n",
    "![Un cercle traversé par une ligne verticale. Le tracé est en bleu](img/io.png)"
   ]
  },
  {
   "cell_type": "markdown",
   "id": "4ec566f0",
   "metadata": {},
   "source": [
    "### Exercice 3\n",
    "\n",
    "Reproduire la forme suivante à l’aide des fonctions `turtle`. Les segments font 60 pixels, le tracé\n",
    "est en vert et d'épaisseur 3 pixels.\n",
    "\n",
    "![Une croix grecque. Le tracé est en bleu](img/cross.png)"
   ]
  },
  {
   "cell_type": "markdown",
   "id": "62083780",
   "metadata": {},
   "source": [
    "### Exercice 4\n",
    "\n",
    "Reproduire la forme suivante à l’aide des fonctions `turtle`. Chaque carré mesure 60 pixels de côté\n",
    "et il y a 30 pixels entre les carrés.\n",
    "\n",
    "![Quatre carrés alignés sur une grille 2×2. Les carrés nord-ouest et sud-est sont bleus, les deux autres sont rouges.](img/squares.png)"
   ]
  },
  {
   "cell_type": "markdown",
   "id": "5c0f031b",
   "metadata": {},
   "source": [
    "## J'en ai marre de faire des copier-coller !\n",
    "\n",
    "Est-ce que vous avez trouvé ce dernier exercice **désagréable** ?\n",
    "\n",
    "---\n",
    "\n",
    "Moi oui ! On a du écrire quatre fois les mêmes instructions pour dessiner un carré. Certes on peut\n",
    "faire des copier-coller, mais c'est pénible. Et il se passe quoi si on a plus de carrés ?\n",
    "\n",
    "On aurait aussi peut-être pu s'en sortir avec une boucle, mais ça aurait été compliqué.\n",
    "\n",
    "En fait ce qu'il faudrait c'est une façon de sauvegarder une suite d'instructions et de pouvoir les\n",
    "exécuter quand on veux. Comme ça il ne nous serait plus resté que le code pour positionner la tortue\n",
    "au point de départ.\n",
    "\n",
    "Bonne nouvelle : ça existe, et vous l'utilisez déjà sans le savoir.\n",
    "\n",
    "---\n",
    "\n",
    "Ce qu'il nous faut, ce sont des **fonctions**."
   ]
  },
  {
   "cell_type": "markdown",
   "id": "07db9f42",
   "metadata": {},
   "source": [
    "## Les fonctions\n",
    "\n",
    "### De vieilles connaissances\n",
    "\n",
    "Vous connaissez déjà les fonctions"
   ]
  },
  {
   "cell_type": "code",
   "execution_count": null,
   "id": "5562ea0c",
   "metadata": {},
   "outputs": [],
   "source": [
    "print(\"Hello les potos !\")"
   ]
  },
  {
   "cell_type": "code",
   "execution_count": null,
   "id": "10058eea",
   "metadata": {
    "tags": [
     "skip-execution"
    ]
   },
   "outputs": [],
   "source": [
    "input()"
   ]
  },
  {
   "cell_type": "markdown",
   "id": "013393f2",
   "metadata": {},
   "source": [
    "Vous connaissez `len`."
   ]
  },
  {
   "cell_type": "code",
   "execution_count": null,
   "id": "b85b18a9",
   "metadata": {},
   "outputs": [],
   "source": [
    "len(\"hello\")"
   ]
  },
  {
   "cell_type": "code",
   "execution_count": null,
   "id": "caefed5c",
   "metadata": {},
   "outputs": [],
   "source": [
    "len([1, 2, 3])"
   ]
  },
  {
   "cell_type": "code",
   "execution_count": null,
   "id": "603088c3",
   "metadata": {},
   "outputs": [],
   "source": [
    "len({\"Cats\": \"beautiful\", \"Python\": \"ton meilleur ami\"})"
   ]
  },
  {
   "cell_type": "markdown",
   "id": "0abf6699",
   "metadata": {},
   "source": [
    "Vous connaissez `float`, et `int` et `str`"
   ]
  },
  {
   "cell_type": "code",
   "execution_count": null,
   "id": "8c830321",
   "metadata": {},
   "outputs": [],
   "source": [
    "float(1)"
   ]
  },
  {
   "cell_type": "code",
   "execution_count": null,
   "id": "cc886f98",
   "metadata": {},
   "outputs": [],
   "source": [
    "int(\"364\")"
   ]
  },
  {
   "cell_type": "code",
   "execution_count": null,
   "id": "fb3ed2e7",
   "metadata": {},
   "outputs": [],
   "source": [
    "str(1)"
   ]
  },
  {
   "cell_type": "markdown",
   "id": "225ed5de",
   "metadata": {},
   "source": [
    "Vous connaissez `str.lower` et bien d'autres"
   ]
  },
  {
   "cell_type": "code",
   "execution_count": null,
   "id": "112fa418",
   "metadata": {},
   "outputs": [],
   "source": [
    "str.lower(\"AAAAAAAAAAAH!\")"
   ]
  },
  {
   "cell_type": "markdown",
   "id": "1c9a73e4",
   "metadata": {},
   "source": [
    "Et vous connaissez les fonctions de `turtle` qu'on vient de voir.\n",
    "\n",
    "Mais c'est quoi, en vrai, une fonction ?\n",
    "\n",
    "Et est-ce qu'on peut en faire nous même ?"
   ]
  },
  {
   "cell_type": "markdown",
   "id": "e26c3044",
   "metadata": {},
   "source": [
    "### Définir des fonctions"
   ]
  },
  {
   "cell_type": "code",
   "execution_count": null,
   "id": "09c00268",
   "metadata": {},
   "outputs": [],
   "source": [
    "def say_hello():\n",
    "    print(\"Bonjour\")\n",
    "\n",
    "print(\"On va dire bonjour\")\n",
    "say_hello()\n",
    "print(\"Encore\")\n",
    "say_hello()\n",
    "print(\"Et encore\")"
   ]
  },
  {
   "cell_type": "markdown",
   "id": "b1a60622",
   "metadata": {},
   "source": [
    "Une fonction, c'est un bloc de code, une série d'instructions, un bout de programme auquel on donne\n",
    "un nom pour pouvoir le réutiliser. Dans le cellule ci-dessus, on a donné le nom `say_hello` à un\n",
    "morceau de code qui ne contient qu'une seule instruction `print(\"Bonjour\")`.\n",
    "\n",
    "Par la suite, à chaque fois qu'on écrit l'instruction `say_hello()`, c'est `print(\"Bonjour\")` qui\n",
    "est exécuté.On dit qu'on a **appelé** la fonction `say_hello`."
   ]
  },
  {
   "cell_type": "markdown",
   "id": "deedc5e2",
   "metadata": {},
   "source": [
    "On peut le faire pour plusieurs instructions"
   ]
  },
  {
   "cell_type": "code",
   "execution_count": null,
   "id": "e5310da2",
   "metadata": {},
   "outputs": [],
   "source": [
    "def sing():\n",
    "    print(\"Alo\")\n",
    "    print(\"Salut\")\n",
    "    print(\"Sunt eu\")\n",
    "    print(\"un haiduc\")\n",
    "\n",
    "sing()\n",
    "sing()"
   ]
  },
  {
   "cell_type": "markdown",
   "id": "adc0fb45",
   "metadata": {},
   "source": [
    "Note : dans un notebook, comme pour les variables, les fonctions définies dans une cellule sont\n",
    "accessibles dans les autres cellules :"
   ]
  },
  {
   "cell_type": "code",
   "execution_count": null,
   "id": "ebe156d2",
   "metadata": {},
   "outputs": [],
   "source": [
    "say_hello()"
   ]
  },
  {
   "cell_type": "markdown",
   "id": "3e3b528e",
   "metadata": {},
   "source": [
    "On définit une fonction à l'aide du mot-clé `def`, qui introduit un bloc d'instructions (le\n",
    "**corps** de la fonction), qui seront celles liées au nom donné. Formellement :\n",
    "\n",
    "```python\n",
    "def <nom de la fonction>():\n",
    "    <instruction 1>\n",
    "    <instruction 2>\n",
    "    …\n",
    "```"
   ]
  },
  {
   "cell_type": "markdown",
   "id": "6af10441",
   "metadata": {},
   "source": [
    "On peut mettre absolument n'importe quelle suite d'instructions dans le corps d'une fonction :"
   ]
  },
  {
   "cell_type": "markdown",
   "id": "0d83759e",
   "metadata": {},
   "source": [
    "Utiliser des variables"
   ]
  },
  {
   "cell_type": "code",
   "execution_count": null,
   "id": "32934555",
   "metadata": {},
   "outputs": [],
   "source": [
    "def calculer():\n",
    "    un_nombre = 2713\n",
    "    print(2*un_nombre)\n",
    "    \n",
    "calculer()"
   ]
  },
  {
   "cell_type": "markdown",
   "id": "d8cbdb48",
   "metadata": {},
   "source": [
    "Et des structures"
   ]
  },
  {
   "cell_type": "code",
   "execution_count": null,
   "id": "30372be2",
   "metadata": {},
   "outputs": [],
   "source": [
    "def tests():\n",
    "    print(\"On va calculer un truc\")\n",
    "    if 2713/2 < 1000:\n",
    "        print(\"lol\")\n",
    "    else:\n",
    "        print(\"mdr\")\n",
    "\n",
    "tests()\n",
    "tests()"
   ]
  },
  {
   "cell_type": "code",
   "execution_count": null,
   "id": "548ef9e6",
   "metadata": {},
   "outputs": [],
   "source": [
    "def boucles():\n",
    "    for mot in [\"Python\", \"c'est\", \"trop\", \"bien\"]:\n",
    "        print(mot)\n",
    "    print()\n",
    "\n",
    "boucles()\n",
    "boucles()\n",
    "boucles()"
   ]
  },
  {
   "cell_type": "markdown",
   "id": "4c01b551",
   "metadata": {},
   "source": [
    "**REMARQUE IMPORTANTE** comme tous les noms que vous donnez en Python, que ce soit a des variables\n",
    "ou à des fonctions, Python n'attache aucune signification au nom d'une fonction : du point de vue de\n",
    "Python, les trois fonctions suivantes sont complètement équivalentes."
   ]
  },
  {
   "cell_type": "code",
   "execution_count": null,
   "id": "9899fcb3",
   "metadata": {},
   "outputs": [],
   "source": [
    "def f():\n",
    "    print(\"machin\")\n",
    "\n",
    "def machin():\n",
    "    print(\"machin\")\n",
    "\n",
    "def une_fonction_nom_très_très_long():\n",
    "    print(\"machin\")\n",
    "    \n",
    "machin()\n",
    "f()\n",
    "une_fonction_nom_très_très_long()"
   ]
  },
  {
   "cell_type": "markdown",
   "id": "9f57a6ce",
   "metadata": {},
   "source": [
    "En général on essaie de donner aux fonctions — comme aux variables — un nom **descriptif**, qui dit\n",
    "ce que fait la fonction. Ça rend le code plus lisible pour les humains (dont vous) qui liront votre\n",
    "code. Mais Python n'en a absolument rien à cirer et son comportement sera toujours le même, quel que\n",
    "soit le nom que vous donnez."
   ]
  },
  {
   "cell_type": "markdown",
   "id": "4dbcb111",
   "metadata": {},
   "source": [
    "### 🟠 Entraînements 🟠\n",
    "\n",
    "1\\. Écrire un programme dans lequel\n",
    "\n",
    "- Vous définissez une fonction nommmée `dire_bonjour` qui affiche `\"Bonjour les amis !\"`.\n",
    "- Vous appellez trois fois cette fonction."
   ]
  },
  {
   "cell_type": "code",
   "execution_count": null,
   "id": "6d94aeaa",
   "metadata": {},
   "outputs": [],
   "source": [
    "def dire_bonjour():\n",
    "    print(\"Bonjour les amis !\")\n",
    "\n",
    "dire_bonjour()\n",
    "dire_bonjour()\n",
    "dire_bonjour()"
   ]
  },
  {
   "cell_type": "markdown",
   "id": "e4227b69",
   "metadata": {},
   "source": [
    "2\\. Écrire un programme dans lequel\n",
    "\n",
    "- Vous définissez une fonction (du nom que vous voulez) qui affiche mille fois `\"spam\"`\n",
    "- Vous appellez une fois cette fonction."
   ]
  },
  {
   "cell_type": "code",
   "execution_count": null,
   "id": "b6e6eaa1",
   "metadata": {},
   "outputs": [],
   "source": [
    "def spam():\n",
    "    for i in range(1000):\n",
    "        print(\"spam\")\n",
    "\n",
    "spam()"
   ]
  },
  {
   "cell_type": "markdown",
   "id": "b1a054a3",
   "metadata": {},
   "source": [
    "3\\. Écrire un programme dans lequel\n",
    "\n",
    "- Vous définissez une fonction (du nom que vous voulez) qui affiche une fois `\"spam\"`\n",
    "- Vous appellez mille fois cette fonction."
   ]
  },
  {
   "cell_type": "code",
   "execution_count": null,
   "id": "a35fede6",
   "metadata": {},
   "outputs": [],
   "source": [
    "def spam2():\n",
    "    print(\"spam\")\n",
    "    \n",
    "for i in range(1000):\n",
    "    spam2()"
   ]
  },
  {
   "cell_type": "markdown",
   "id": "b45c7a9e",
   "metadata": {},
   "source": [
    "4\\. Refaire l'exercice 4 précédent, mais en utilisant une fonction pour les instructions qui\n",
    "dessinent un carré."
   ]
  },
  {
   "cell_type": "markdown",
   "id": "c5fac67e",
   "metadata": {},
   "source": [
    "## Des paramètres\n",
    "\n",
    "Les fonctions natives que vous connaissez – comme `print` — acceptent souvent des **paramètres** :\n",
    "les deux appels suivants donnent des comportements différents parce qu'on a pas mis la même chose\n",
    "entre les parenthèses qui suivent `print`."
   ]
  },
  {
   "cell_type": "code",
   "execution_count": null,
   "id": "2c99031f",
   "metadata": {},
   "outputs": [],
   "source": [
    "print(\"Hello\")"
   ]
  },
  {
   "cell_type": "code",
   "execution_count": null,
   "id": "12d052c8",
   "metadata": {
    "slideshow": {
     "slide_type": ""
    }
   },
   "outputs": [],
   "source": [
    "print(\"felknmoizegnmoIFEN MOe fbMOZE FGNZEG OMINQZERGMOINQBZEGOMNIZERG\")"
   ]
  },
  {
   "cell_type": "markdown",
   "id": "f7abe027",
   "metadata": {},
   "source": [
    "Certaines fonctions acceptent même plusieurs paramètres, comme `circle` dans `turtle`.\n",
    "\n",
    "<small>`print` accepte même un nombre quelconque de paramètres, mais c'est hors sujet pour l'instant\n",
    "pour nous</small>"
   ]
  },
  {
   "cell_type": "markdown",
   "id": "4d6f2cf9",
   "metadata": {},
   "source": [
    "Est-ce qu'on peut avoir la même chose pour nos fonctions : bien sûr !"
   ]
  },
  {
   "cell_type": "code",
   "execution_count": null,
   "id": "c8f09cc2",
   "metadata": {},
   "outputs": [],
   "source": [
    "def dire_un_machin(truc):\n",
    "    print(truc)\n",
    "\n",
    "dire_un_machin(\"Obéron\")\n",
    "dire_un_machin(\"est un très beau chat\")"
   ]
  },
  {
   "cell_type": "markdown",
   "id": "4507baf6",
   "metadata": {},
   "source": [
    "Le principe est le suivant : au moment où on définit la fonction avec `def`, on peut donner dans les\n",
    "parenthèses une liste de noms de paramètres. Ces paramètres seront ensuite utilisable comme des\n",
    "variables dans le corps de la fonction :"
   ]
  },
  {
   "cell_type": "code",
   "execution_count": null,
   "id": "45ab1dc0",
   "metadata": {},
   "outputs": [],
   "source": [
    "def carre(n):\n",
    "    print(\"Le carré de\", n, \"est\", n**2)\n",
    "    \n",
    "carre(2)\n",
    "carre(4)\n",
    "carre(3)"
   ]
  },
  {
   "cell_type": "markdown",
   "id": "22c9d954",
   "metadata": {},
   "source": [
    "Une fonction peut avoir plusieurs arguments"
   ]
  },
  {
   "cell_type": "code",
   "execution_count": null,
   "id": "7975230d",
   "metadata": {},
   "outputs": [],
   "source": [
    "def somme(a, jerome):\n",
    "    som = a + jerome\n",
    "    print(som)\n",
    "    \n",
    "somme(4, 12)\n",
    "somme(7,100)\n",
    "somme(2712, 1)"
   ]
  },
  {
   "cell_type": "markdown",
   "id": "d4043059",
   "metadata": {},
   "source": [
    "Là encore, les noms des arguments, c'est vous qui les décidez. Ils ne portent pas de sens pour\n",
    "Python."
   ]
  },
  {
   "cell_type": "markdown",
   "id": "df7fb59f",
   "metadata": {},
   "source": [
    "Les arguments peuvent être utilisés dans les structures qu'on a vues :"
   ]
  },
  {
   "cell_type": "code",
   "execution_count": null,
   "id": "2e8abc20",
   "metadata": {},
   "outputs": [],
   "source": [
    "def bonjour(lang):\n",
    "    if lang == \"fr\":\n",
    "        print(\"Bonjour\")\n",
    "    elif lang == \"bzh\":\n",
    "        print(\"Demat\")\n",
    "    else:\n",
    "        print(\"LANGUE INCONNUE\")\n",
    "\n",
    "bonjour(\"fr\")\n",
    "bonjour(\"en\")"
   ]
  },
  {
   "cell_type": "code",
   "execution_count": null,
   "id": "444d67e1",
   "metadata": {
    "lines_to_next_cell": 2
   },
   "outputs": [],
   "source": [
    "def enumère(l):\n",
    "    print(\"Dans ta liste, il y a:\")\n",
    "    for elem in l:\n",
    "        print(\"L'élément\", elem)\n",
    "\n",
    "enumère([1, 2, 3, \"carbone\"])"
   ]
  },
  {
   "cell_type": "markdown",
   "id": "d5bea0d8",
   "metadata": {},
   "source": [
    "## 😺 Entraînements 😺\n",
    "\n",
    "(Pensez à tester vos fonctions)\n",
    "\n",
    "1\\. Définir une fonction nommée `triple` qui accepte un argument, supposé être un nombre, et affiche\n",
    "son triple."
   ]
  },
  {
   "cell_type": "code",
   "execution_count": null,
   "id": "2159fc2f",
   "metadata": {},
   "outputs": [],
   "source": [
    "def triple(n):\n",
    "    print(3*n)\n",
    "    \n",
    "triple(4)\n",
    "triple(-16)\n",
    "triple(14)"
   ]
  },
  {
   "cell_type": "markdown",
   "id": "afed2d8b",
   "metadata": {},
   "source": [
    "2\\. Définir une fonction nommée `crier` qui accepte un argument, supposé être une chaîne de\n",
    "caractères, et affiche cette chaîne mise tout en majuscules."
   ]
  },
  {
   "cell_type": "code",
   "execution_count": null,
   "id": "267eb2d4",
   "metadata": {},
   "outputs": [],
   "source": [
    "def crier(chn):\n",
    "    s = str.upper(chn)\n",
    "    print(s)\n",
    "\n",
    "crier(\"wesh\")"
   ]
  },
  {
   "cell_type": "markdown",
   "id": "2a7d5e3e",
   "metadata": {},
   "source": [
    "3\\. Définir une fonction nommée `produit` qui accepte deux arguments et affiche leur produit. Tester\n",
    "`produit(3, 4)` et `produit(\"spam \", 5)`."
   ]
  },
  {
   "cell_type": "code",
   "execution_count": null,
   "id": "8f4476fe",
   "metadata": {},
   "outputs": [],
   "source": [
    "def produit(a, b):\n",
    "    print(a*b)\n",
    "\n",
    "produit(3, 4)\n",
    "produit(\"spam \", 5)"
   ]
  },
  {
   "cell_type": "markdown",
   "id": "1c7d1366",
   "metadata": {},
   "source": [
    "4\\. Définir une fonction `carré`, qui accepte un argument `c`, supposé être un nombre entier et\n",
    "dessine à l'aide de `turtle` un carré de côté `c`."
   ]
  },
  {
   "cell_type": "markdown",
   "id": "5f91de2e",
   "metadata": {},
   "source": [
    "## (Optionnel) arguments nommés et valeurs par défaut\n",
    "\n",
    "Par défaut, les arguments sont lus dans l'ordre où ils apparaissent dans la définition"
   ]
  },
  {
   "cell_type": "code",
   "execution_count": null,
   "id": "ac996f2b",
   "metadata": {},
   "outputs": [],
   "source": [
    "def f(a, b):\n",
    "    print(\"a vaut\", a)\n",
    "    print(\"b vaut\", b)\n",
    "    \n",
    "f(1, 2)\n",
    "print()\n",
    "f(\"Bonjour\", 4)"
   ]
  },
  {
   "cell_type": "markdown",
   "id": "a07087db",
   "metadata": {},
   "source": [
    "Mais on peut forcer à les lire dans un autre ordre en les nommant dans l'appel"
   ]
  },
  {
   "cell_type": "code",
   "execution_count": null,
   "id": "64699092",
   "metadata": {},
   "outputs": [],
   "source": [
    "f(b=3, a=6)"
   ]
  },
  {
   "cell_type": "markdown",
   "id": "ccd8095c",
   "metadata": {},
   "source": [
    "Nommer les arguments dans l'appel est particulièrement utile quand une fonction a de nombreux\n",
    "arguments."
   ]
  },
  {
   "cell_type": "markdown",
   "id": "49b3f3bb",
   "metadata": {},
   "source": [
    "Enfin on peut avoir des arguments optionnels avec la syntaxe suivante"
   ]
  },
  {
   "cell_type": "code",
   "execution_count": null,
   "id": "f2518a87",
   "metadata": {},
   "outputs": [],
   "source": [
    "def ma_fonction(a, truc=\"salut\"):\n",
    "    print(\"a vaut\", a)\n",
    "    print(\"truc vaut\", truc)\n",
    "    \n",
    "ma_fonction(15, 19)\n",
    "print()\n",
    "ma_fonction(15)\n",
    "print()\n",
    "ma_fonction(a=\"machin\")"
   ]
  }
 ],
 "metadata": {
  "jupytext": {
   "formats": "ipynb,md",
   "split_at_heading": true
  },
  "kernelspec": {
   "display_name": "Python 3 (ipykernel)",
   "language": "python",
   "name": "python3"
  }
 },
 "nbformat": 4,
 "nbformat_minor": 5
}
