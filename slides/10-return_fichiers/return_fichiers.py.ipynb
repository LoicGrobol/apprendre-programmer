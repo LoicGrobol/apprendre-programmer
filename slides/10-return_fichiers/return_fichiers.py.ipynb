{
 "cells": [
  {
   "cell_type": "markdown",
   "id": "bc3daa64",
   "metadata": {
    "lines_to_next_cell": 0
   },
   "source": [
    "<!-- LTeX: language=fr -->"
   ]
  },
  {
   "cell_type": "markdown",
   "id": "ff83f92c",
   "metadata": {
    "slideshow": {
     "slide_type": "slide"
    }
   },
   "source": [
    "Cours 10 : valeur de retour et accès aux fichiers\n",
    "=================================================\n",
    "\n",
    "**Loïc Grobol** [<lgrobol@parisnanterre.fr>](mailto:lgrobol@parisnanterre.fr)\n",
    "\n",
    "2022-03-29"
   ]
  },
  {
   "cell_type": "markdown",
   "id": "42e23141",
   "metadata": {},
   "source": [
    "Dans ce notebook\n",
    "\n",
    "- Un nouveau pouvoir pour les fonctions\n",
    "- Accéder à des fichiers externes.\n",
    "\n",
    "Ce cours est inspiré du cours [*File\n",
    "IO*](https://github.com/aniellodesanto/Utah_CompLang21/blob/main/04b_file_io.ipynb) d'Aniello de\n",
    "Santo. Merci à lui."
   ]
  },
  {
   "cell_type": "markdown",
   "id": "6996414d",
   "metadata": {},
   "source": [
    "## Valeur de retour\n",
    "\n",
    "Pour l'instant, les fonctions qu'on a définies affichent toujours quelque chose. Ce n'est pas une\n",
    "obligation :"
   ]
  },
  {
   "cell_type": "code",
   "execution_count": null,
   "id": "65d51165",
   "metadata": {},
   "outputs": [],
   "source": [
    "def f():\n",
    "    print(\"hello\")"
   ]
  },
  {
   "cell_type": "code",
   "execution_count": null,
   "id": "06505666",
   "metadata": {},
   "outputs": [],
   "source": [
    "f()"
   ]
  },
  {
   "cell_type": "code",
   "execution_count": null,
   "id": "c3ef41c0",
   "metadata": {},
   "outputs": [],
   "source": [
    "def bonjour(nom):\n",
    "    print(\"Bonjour,\", nom)"
   ]
  },
  {
   "cell_type": "code",
   "execution_count": null,
   "id": "50c57f27",
   "metadata": {},
   "outputs": [],
   "source": [
    "bonjour(\"Loïc\")"
   ]
  },
  {
   "cell_type": "code",
   "execution_count": null,
   "id": "76e91971",
   "metadata": {},
   "outputs": [],
   "source": [
    "bonjour(\"Morgan\")"
   ]
  },
  {
   "cell_type": "code",
   "execution_count": null,
   "id": "0285bf10",
   "metadata": {},
   "outputs": [],
   "source": [
    "def ssss(arg):\n",
    "    bidule = arg*2\n",
    "    for i in range(10):\n",
    "        bidule = bidule + i\n",
    "        \n",
    "ssss(3)"
   ]
  },
  {
   "cell_type": "markdown",
   "id": "57506606",
   "metadata": {},
   "source": [
    "Ici, la fonction `ssss` a bien été exécutée, mais elle ne fait rien de visible."
   ]
  },
  {
   "cell_type": "markdown",
   "id": "eadf80fc",
   "metadata": {},
   "source": [
    "Par contre, remarquez un truc : parfois dans le passé, on a stocké le résultat de fonctions dans des\n",
    "variables. Par exemple"
   ]
  },
  {
   "cell_type": "code",
   "execution_count": null,
   "id": "075a417e",
   "metadata": {},
   "outputs": [],
   "source": [
    "longueur = len(\"anticonstitutionnellement\")"
   ]
  },
  {
   "cell_type": "markdown",
   "id": "4342cb25",
   "metadata": {},
   "source": [
    "On a bien appelé la fonction `len`, qui n'affiche rien. Donc rien ne s'affiche."
   ]
  },
  {
   "cell_type": "markdown",
   "id": "370bc324",
   "metadata": {},
   "source": [
    "En revanche, on a bien fait quelque chose ici : on a donnée une valeur à la variable `longueur`."
   ]
  },
  {
   "cell_type": "code",
   "execution_count": null,
   "id": "76809b71",
   "metadata": {},
   "outputs": [],
   "source": [
    "print(longueur)"
   ]
  },
  {
   "cell_type": "markdown",
   "id": "e3fa09ca",
   "metadata": {},
   "source": [
    "Autrement dit, `len` ne fait pas un affichage : elle transmet plutôt une information : la longueur\n",
    "de son argument.\n"
   ]
  },
  {
   "cell_type": "markdown",
   "id": "ed0ea192",
   "metadata": {},
   "source": [
    "Et nos fonctions, elles passent une information ?"
   ]
  },
  {
   "cell_type": "code",
   "execution_count": null,
   "id": "95bd3d68",
   "metadata": {},
   "outputs": [],
   "source": [
    "def bonjour():\n",
    "    print(\"Salut\")\n",
    "    \n",
    "varbl = bonjour()"
   ]
  },
  {
   "cell_type": "markdown",
   "id": "f7e8fdb7",
   "metadata": {},
   "source": [
    "Pas vraiment :"
   ]
  },
  {
   "cell_type": "code",
   "execution_count": null,
   "id": "346e62e5",
   "metadata": {},
   "outputs": [],
   "source": [
    "print(varbl)"
   ]
  },
  {
   "cell_type": "markdown",
   "id": "3e245d9f",
   "metadata": {},
   "source": [
    "Elles passent en fait toutes la valeur `None` : un objet spécial de Python qui signifie\n",
    "littéralement « rien »."
   ]
  },
  {
   "cell_type": "markdown",
   "id": "20892b64",
   "metadata": {},
   "source": [
    "Comment on fait alors ? On leur donne une **valeur de retour** avec le mot-clé `return` :"
   ]
  },
  {
   "cell_type": "code",
   "execution_count": null,
   "id": "99baee83",
   "metadata": {},
   "outputs": [],
   "source": [
    "def renvoi():\n",
    "    return \"Salut\"\n",
    "\n",
    "varbl = renvoi()"
   ]
  },
  {
   "cell_type": "markdown",
   "id": "02d4e740",
   "metadata": {},
   "source": [
    "Vous voyez la différence ? On a rien affiché ici. Par contre :"
   ]
  },
  {
   "cell_type": "code",
   "execution_count": null,
   "id": "5352be48",
   "metadata": {},
   "outputs": [],
   "source": [
    "print(varbl)"
   ]
  },
  {
   "cell_type": "markdown",
   "id": "16e846c7",
   "metadata": {},
   "source": [
    "on a bien **renvoyé** une valeur."
   ]
  },
  {
   "cell_type": "markdown",
   "id": "86970548",
   "metadata": {},
   "source": [
    "Renvoyer une valeur, c'est surtout utile quand on a des paramètres, on va pas se mentir (sinon on\n",
    "renvoie toujours la même chose, pas vraiment la peine de faire une fonction, une variable\n",
    "suffirait."
   ]
  },
  {
   "cell_type": "code",
   "execution_count": null,
   "id": "797945a3",
   "metadata": {},
   "outputs": [],
   "source": [
    "def somme(a, b):\n",
    "    return a+b\n",
    "\n",
    "a = somme(5, 10)\n",
    "print(a)"
   ]
  },
  {
   "cell_type": "markdown",
   "id": "1525d4da",
   "metadata": {},
   "source": [
    "Et comme d'habitude, vous pouvez mettre un appel de fonction partout où vous pouvez écrire une\n",
    "valeur littérale :"
   ]
  },
  {
   "cell_type": "code",
   "execution_count": null,
   "id": "5abece66",
   "metadata": {},
   "outputs": [],
   "source": [
    "print(somme(12, 75))"
   ]
  },
  {
   "cell_type": "code",
   "execution_count": null,
   "id": "28ecbfd9",
   "metadata": {},
   "outputs": [],
   "source": [
    "print(somme(\"ha\", \"ha\"))"
   ]
  },
  {
   "cell_type": "markdown",
   "id": "8fc8fd31",
   "metadata": {},
   "source": [
    "**Attention** maintenant à bien faire la différence :"
   ]
  },
  {
   "cell_type": "markdown",
   "id": "17045321",
   "metadata": {},
   "source": [
    "Cette fonction **affiche** quelque chose et ne **renvoie** rien (ou `None`)"
   ]
  },
  {
   "cell_type": "code",
   "execution_count": null,
   "id": "a62db632",
   "metadata": {},
   "outputs": [],
   "source": [
    "def affiche(arg):\n",
    "    print(\"Mon argument est \" + arg)\n",
    "\n",
    "ret = affiche(\"thing\")\n",
    "print(ret)"
   ]
  },
  {
   "cell_type": "markdown",
   "id": "829b8ad5",
   "metadata": {},
   "source": [
    "Celle-ci n'**affiche** rien et **renvoie** quelque chose"
   ]
  },
  {
   "cell_type": "code",
   "execution_count": null,
   "id": "19d72525",
   "metadata": {},
   "outputs": [],
   "source": [
    "def renvoie(arg):\n",
    "    return \"Mon argument est \" + arg\n",
    "\n",
    "ret = renvoie(\"thing\") # Ceci n'affiche rien\n",
    "print(ret)"
   ]
  },
  {
   "cell_type": "markdown",
   "id": "7d7d5ee4",
   "metadata": {},
   "source": [
    "Celle-ci fait les deux"
   ]
  },
  {
   "cell_type": "code",
   "execution_count": null,
   "id": "25826678",
   "metadata": {},
   "outputs": [],
   "source": [
    "def porquenolosdos(arg):\n",
    "    print(\"Voici mon argument: \" + arg)\n",
    "    return \"Mon argument est \" + arg\n",
    "\n",
    "ret = porquenolosdos(\"thing\")\n",
    "print(ret)"
   ]
  },
  {
   "cell_type": "markdown",
   "id": "ebf882c0",
   "metadata": {},
   "source": [
    "## ↩️ Entraînements ↩️\n",
    "\n",
    "1\\. Écrire une fonction sans arguments, qui renvoie le nombre `2713`\n",
    "\n",
    "2\\. Écrire une fonction qui accepte un argument et renvoie son double\n",
    "\n",
    "3\\. Écrire une fonction qui accepte deux arguments, affiche la valeur du premier et renvoie le\n",
    "triple du deuxième\n",
    "\n",
    "4\\. Écrire une fonction qui accepte un argument, supposé être une liste, qui affiche le premier\n",
    "élément de cette liste et renvoie la valeur du dernier.\n",
    "\n",
    "5\\. Écrire une fonction qui accepte un argument, supposé être une liste de chaînes de caractères,\n",
    "qui renvoie la plus longue chaîne de la liste."
   ]
  },
  {
   "cell_type": "markdown",
   "id": "e39538b9",
   "metadata": {},
   "source": [
    "1\\."
   ]
  },
  {
   "cell_type": "code",
   "execution_count": null,
   "id": "a3fcc3a5",
   "metadata": {},
   "outputs": [],
   "source": [
    "def mon_nombre_préféré():\n",
    "    return 2713"
   ]
  },
  {
   "cell_type": "code",
   "execution_count": null,
   "id": "3c1855fb",
   "metadata": {},
   "outputs": [],
   "source": [
    "print(mon_nombre_préféré())\n",
    "a = mon_nombre_préféré()\n",
    "print(a)"
   ]
  },
  {
   "cell_type": "markdown",
   "id": "b483b872",
   "metadata": {},
   "source": [
    "2\\."
   ]
  },
  {
   "cell_type": "code",
   "execution_count": null,
   "id": "9d0d8ad6",
   "metadata": {},
   "outputs": [],
   "source": [
    "def double(nombre):\n",
    "    d = 2*nombre\n",
    "    return d"
   ]
  },
  {
   "cell_type": "code",
   "execution_count": null,
   "id": "85abfdf4",
   "metadata": {},
   "outputs": [],
   "source": [
    "print(double(5))"
   ]
  },
  {
   "cell_type": "markdown",
   "id": "d51861d1",
   "metadata": {},
   "source": [
    "3\\."
   ]
  },
  {
   "cell_type": "code",
   "execution_count": null,
   "id": "93443ca5",
   "metadata": {},
   "outputs": [],
   "source": [
    "def trois(a, b):\n",
    "    print(a)\n",
    "    return 3*b"
   ]
  },
  {
   "cell_type": "code",
   "execution_count": null,
   "id": "62f949c0",
   "metadata": {},
   "outputs": [],
   "source": [
    "ret=trois(7, 9)"
   ]
  },
  {
   "cell_type": "code",
   "execution_count": null,
   "id": "4e6653ce",
   "metadata": {},
   "outputs": [],
   "source": [
    "print(ret+10)"
   ]
  },
  {
   "cell_type": "code",
   "execution_count": null,
   "id": "3e331cb2",
   "metadata": {},
   "outputs": [],
   "source": [
    "l=[ret, 2, ret]\n",
    "print(l)"
   ]
  },
  {
   "cell_type": "code",
   "execution_count": null,
   "id": "596aac11",
   "metadata": {},
   "outputs": [],
   "source": [
    "def quatre(lst):\n",
    "    print(lst[0])\n",
    "    i = len(lst) - 1\n",
    "    return lst[i]"
   ]
  },
  {
   "cell_type": "code",
   "execution_count": null,
   "id": "3d2d85ac",
   "metadata": {},
   "outputs": [],
   "source": [
    "c = quatre([\"ab\", \"c\", 2713])"
   ]
  },
  {
   "cell_type": "code",
   "execution_count": null,
   "id": "2696f771",
   "metadata": {},
   "outputs": [],
   "source": [
    "print(c)"
   ]
  },
  {
   "cell_type": "code",
   "execution_count": null,
   "id": "34b2790c",
   "metadata": {},
   "outputs": [],
   "source": [
    "def quatre(lst):\n",
    "    print(lst[0])\n",
    "    return lst[-1]\n",
    "\n",
    "c = quatre([\"ab\", \"c\", 2713])\n",
    "print(c)"
   ]
  },
  {
   "cell_type": "code",
   "execution_count": null,
   "id": "eafcc318",
   "metadata": {},
   "outputs": [],
   "source": [
    "def cinq(lst):\n",
    "    res = \"\"\n",
    "    for c in lst:\n",
    "        if len(c) > len(res):\n",
    "            res = c\n",
    "    return res"
   ]
  },
  {
   "cell_type": "code",
   "execution_count": null,
   "id": "3391adff",
   "metadata": {},
   "outputs": [],
   "source": [
    "plus_longue = cinq([\"abc\", \"a\", \"hallo\", \"truc\", \"oxygène\", \"p\"])"
   ]
  },
  {
   "cell_type": "code",
   "execution_count": null,
   "id": "777ccf91",
   "metadata": {},
   "outputs": [],
   "source": [
    "print(plus_longue)"
   ]
  },
  {
   "cell_type": "code",
   "execution_count": null,
   "id": "04afd40c",
   "metadata": {},
   "outputs": [],
   "source": [
    "def cinq(lst):\n",
    "    res = \"\"\n",
    "    for i in range(len(lst)):\n",
    "        c = lst[i]\n",
    "        if len(c) > len(res):\n",
    "            res = c\n",
    "    return res"
   ]
  },
  {
   "cell_type": "markdown",
   "id": "bff12d46",
   "metadata": {},
   "source": [
    "## Lire des fichiers\n",
    "\n",
    "En situation réelle, les programmes manipulent souvent des fichiers :\n",
    "\n",
    "- Pour y lire des données ou des configurations.\n",
    "- Pour y écrire le résultat d'opérations afin de les sauvegarder.\n",
    "- …\n",
    "\n",
    "En fait, un des usages les plus courants de Python, surtout comme outil pour les LSHS, c'est la\n",
    "manipulation de fichiers :\n",
    "\n",
    "- Pour établir des listes de vocabulaire dans des corpus.\n",
    "- Pour traiter des enregistrements sonores.\n",
    "- Pour manipuler des données sous forme tabulaire, comme des résultats d'expériences.\n",
    "\n",
    "On va donc maintenant voir comment on peut, en Python, manipuler des fichiers."
   ]
  },
  {
   "cell_type": "markdown",
   "id": "e3ac9b9a",
   "metadata": {},
   "source": [
    "### Bases\n",
    "\n",
    "Dans le même dossier que ce notebook, il y a un fichier : [`ada.txt`](ada.txt) qui va servir\n",
    "d'exemple pour cette partie.\n",
    "\n",
    "<!-- beginregion -->\n",
    "\n",
    "En Python, pour ouvrir un fichier, que ce soit pour lire son contenu, pour le modifier, ou pour\n",
    "créer un nouveau fichier, on utilise la syntaxe suivante :"
   ]
  },
  {
   "cell_type": "code",
   "execution_count": null,
   "id": "66efe361",
   "metadata": {
    "lines_to_next_cell": 0
   },
   "outputs": [],
   "source": [
    "with open(chemin_du_fichier, mode) as nom_du_flux:\n",
    "    # du code qui utilise le nom du flux pour le manipuler"
   ]
  },
  {
   "cell_type": "markdown",
   "id": "9226f959",
   "metadata": {},
   "source": [
    "<!-- endregion -->\n",
    "\n",
    "On fait bien la différence entre\n",
    "\n",
    "- Le **chemin** du fichier `chemin_du_fichier`\n",
    "  - Indique la position du fichier sur votre machine.\n",
    "  - Une chaîne de caractères\n",
    "  - `/home/lgrobol/monsupercorpus.txt`, ou\n",
    "    `C:\\Users\\Loïc\\Documents\\monsupercorpus.txt` (chemin **absolu**).\n",
    "  - `ada.txt` ou `sous_dossier/ada.txt` (chemin **relatif** au notebook ou au script en cours)\n",
    "- Le **flux** `nom_du_flux`, qui est un objet Python qui permet d'interagir avec le fichier tant\n",
    "  qu'il est ouvert.\n",
    "\n",
    "Enfin `mode` est une chaîne de caractères qui indique qu'on veut faire avec le fichier. Les options\n",
    "courantes sont :\n",
    "\n",
    "- `\"r\"` (*read*) pour ouvrir le fichier en lecture, ce qui permet d'accéder à son contenu.\n",
    "- `\"w\"` (*write*) pour ouvrir le fichier en écriture, ce qui efface son contenu et permet d'y écrire\n",
    "  de nouvelles données.\n",
    "- `\"a\"` (*append*) pour ouvrir le fichier en ajout, ce qui préserve son contenu et permet d'ajouter\n",
    "  des lignes à la fin.\n",
    "\n",
    "Pour `\"w\"` et `\"a\"`, le fichier ciblé n'existe pas, il est créé (vide). Pour `\"r\"`, c'est une\n",
    "erreur.\n",
    "\n",
    "Il y a d'autres options possibles, vous trouverez la liste dans la [doc]()."
   ]
  },
  {
   "cell_type": "code",
   "execution_count": null,
   "id": "6b6a3558",
   "metadata": {},
   "outputs": [],
   "source": [
    "with open(\"ada.txt\", \"r\") as flux_lecture:\n",
    "    print(type(flux_lecture))"
   ]
  },
  {
   "cell_type": "code",
   "execution_count": null,
   "id": "24e2ae4d",
   "metadata": {},
   "outputs": [],
   "source": [
    "with open(\"sous_dossier/maria.txt\", \"r\") as flux_lecture:\n",
    "    print(type(flux_lecture))"
   ]
  },
  {
   "cell_type": "markdown",
   "id": "f6feb640",
   "metadata": {},
   "source": [
    "Les flux vers des fichiers ouverts en lecture sont des itérables : on peut les parcourir à l'aide de\n",
    "la boucle de parcours `for`. Les éléments de l'itérable sont les lignes du fichier sous forme de\n",
    "chaînes de caractères."
   ]
  },
  {
   "cell_type": "code",
   "execution_count": null,
   "id": "5dda2e65",
   "metadata": {},
   "outputs": [],
   "source": [
    "with open(\"ada.txt\", \"r\") as xulf:\n",
    "    for l in xulf:\n",
    "        print(l)"
   ]
  },
  {
   "cell_type": "markdown",
   "id": "4b1534a8",
   "metadata": {},
   "source": [
    "Attention, il y a un truc pas forcément intuitif avec ces lignes :"
   ]
  },
  {
   "cell_type": "code",
   "execution_count": null,
   "id": "7230be78",
   "metadata": {},
   "outputs": [],
   "source": [
    "with open(\"ada.txt\", \"r\") as flux:\n",
    "    lst = []\n",
    "    for ligne in flux:\n",
    "        lst.append(ligne)\n",
    "lst"
   ]
  },
  {
   "cell_type": "markdown",
   "id": "66aab4eb",
   "metadata": {},
   "source": [
    "Vous voyez ?\n",
    "\n",
    "---\n",
    "\n",
    "Les lignes sont toutes terminées par le caractère `\"\\n\"` « fin de ligne ».\n",
    "\n",
    "En général on ne veut pas de ce caractère quand on traite les informations dans un fichier. On\n",
    "l'enlève donc avec la méthode de chaînes de caractères `strip()`, qui supprime les espaces (y\n",
    "compris les fins de lignes) en début et fin de chaîne."
   ]
  },
  {
   "cell_type": "code",
   "execution_count": null,
   "id": "a948c4e9",
   "metadata": {},
   "outputs": [],
   "source": [
    "s =\"    abzdfzef   \"\n",
    "print(s)\n",
    "print(s.strip())"
   ]
  },
  {
   "cell_type": "code",
   "execution_count": null,
   "id": "44f2de5c",
   "metadata": {},
   "outputs": [],
   "source": [
    "with open(\"ada.txt\", \"r\") as flux:\n",
    "    lst = []\n",
    "    for ligne in flux:\n",
    "        lst.append(ligne.strip())\n",
    "print(lst)"
   ]
  },
  {
   "cell_type": "markdown",
   "id": "1d44a0c8",
   "metadata": {},
   "source": [
    "### Lecture manuelle\n",
    "\n",
    "Si vous préférez récupérer les lignes une à une manuellement plutôt que d'utiliser une boucle, vous\n",
    "pouvez utiliser la méthode `readline()`."
   ]
  },
  {
   "cell_type": "code",
   "execution_count": null,
   "id": "5227ea83",
   "metadata": {},
   "outputs": [],
   "source": [
    "with open(\"ada.txt\", \"r\") as in_stream:\n",
    "    line = in_stream.readline()\n",
    "    print(line)\n",
    "    line = in_stream.readline()\n",
    "    print(line)"
   ]
  },
  {
   "cell_type": "markdown",
   "id": "92bddce3",
   "metadata": {},
   "source": [
    "Vous pouvez aussi récupérer en un coup tout le contenu du fichier dans une variable avec `read`"
   ]
  },
  {
   "cell_type": "code",
   "execution_count": null,
   "id": "910f0838",
   "metadata": {},
   "outputs": [],
   "source": [
    "with open(\"ada.txt\", \"r\") as stream:\n",
    "    line = stream.read()\n",
    "    print(line)"
   ]
  },
  {
   "cell_type": "markdown",
   "id": "ea344f3b",
   "metadata": {},
   "source": [
    "### Portée\n",
    "\n",
    "Attention, le fichier n'est accessible que dans le bloc introduit par `with open(fichier) as flux:`.\n",
    "Quand vous sortez du bloc, la variable `flux` n'est plus définie :"
   ]
  },
  {
   "cell_type": "code",
   "execution_count": null,
   "id": "36cbf13d",
   "metadata": {
    "tag": [
     "raises-exception"
    ]
   },
   "outputs": [],
   "source": [
    "with open(\"ada.txt\", 'r') as flllux:\n",
    "    line = flllux.readline().strip()\n",
    "    print(line)\n",
    "    \n",
    "line = flllux.readline()"
   ]
  },
  {
   "cell_type": "markdown",
   "id": "bd08f698",
   "metadata": {},
   "source": [
    "En revanche, si vous avez stocké sont contenu (ou une partie) dans une variable, ces valeurs restent\n",
    "accessibles (l'affectation les a copié en mémoire) :"
   ]
  },
  {
   "cell_type": "code",
   "execution_count": null,
   "id": "8c4d1543",
   "metadata": {},
   "outputs": [],
   "source": [
    "with open(\"ada.txt\", 'r') as flllux:\n",
    "    line = flllux.readline().strip()\n",
    "    print(line)\n",
    "\n",
    "print(line)"
   ]
  },
  {
   "cell_type": "markdown",
   "id": "f14db8ad",
   "metadata": {},
   "source": [
    "### 🍞 Entraînement 🍞\n",
    "\n",
    "1\\. Afficher ligne par ligne le contenu du fichier [`sous_dossier/maria.txt`](sous_dossier/maria.txt).\n",
    "\n",
    "2\\. Afficher la longueur en nombre de caractères de chacune des lignes du fichier\n",
    "[`ada.txt`](ada.txt)."
   ]
  },
  {
   "cell_type": "markdown",
   "id": "560ecbdb",
   "metadata": {},
   "source": [
    "## Écrire dans des fichiers\n",
    "\n",
    "Comme on l'a dit précédemment, le mode `\"w\"` ouvre les fichiers en écriture, en les créant si\n",
    "besoin."
   ]
  },
  {
   "cell_type": "code",
   "execution_count": null,
   "id": "e1692749",
   "metadata": {},
   "outputs": [],
   "source": [
    "with open(\"apprendre_a_programmer.txt\", \"w\") as out_stream:\n",
    "    out_stream.write(\"Clairement, le meilleur cours de la licence SDL.\")"
   ]
  },
  {
   "cell_type": "markdown",
   "id": "c2ecf11a",
   "metadata": {},
   "source": [
    "Allez maintenant voir [`apprendre_a_programmer.txt`](apprendre_a_programmer.txt).\n",
    "\n",
    "Attention : `open()` peut créer pour vous un fichier qui n'existerait pas encore, mais pas un\n",
    "dossier :"
   ]
  },
  {
   "cell_type": "code",
   "execution_count": null,
   "id": "586dcb61",
   "metadata": {
    "tags": [
     "raises-exception"
    ]
   },
   "outputs": [],
   "source": [
    "with open(\"bidule/apprendre_a_programmer.txt\", \"w\") as out_stream:\n",
    "    out_stream.write(\"Clairement, le meilleur cours de la licence SDL.\")"
   ]
  },
  {
   "cell_type": "markdown",
   "id": "e7259377",
   "metadata": {},
   "source": [
    "Attention aussi : si vous voulez des retours à la ligne, il faudra les donner explicitement :"
   ]
  },
  {
   "cell_type": "code",
   "execution_count": null,
   "id": "49c08e7f",
   "metadata": {},
   "outputs": [],
   "source": [
    "with open(\"apprendre_a_programmer.txt\", \"w\") as out_stream:\n",
    "    out_stream.write(\"Clairement, le meilleur cours de la licence SDL.\")\n",
    "    out_stream.write(\"Dans trois semaines, y en aura plus.\")\n",
    "\n",
    "with open(\"apprendre_a_programmer.txt\", \"r\") as in_stream:\n",
    "    print(in_stream.read())"
   ]
  },
  {
   "cell_type": "code",
   "execution_count": null,
   "id": "9585cca9",
   "metadata": {},
   "outputs": [],
   "source": [
    "with open(\"apprendre_a_programmer.txt\", \"w\") as out_stream:\n",
    "    out_stream.write(\"Clairement, le meilleur cours de la licence SDL.\\n\")\n",
    "    out_stream.write(\"Dans trois semaines, y en aura plus.\\n\")\n",
    "\n",
    "with open(\"apprendre_a_programmer.txt\", \"r\") as in_stream:\n",
    "    print(in_stream.read())"
   ]
  },
  {
   "cell_type": "markdown",
   "id": "ad376f89",
   "metadata": {},
   "source": [
    "De plus, `write` n'est pas aussi aimable que `print`, et ne fera pas de conversion pour vous : il\n",
    "écrit des chaînes de caractères et c'est tout."
   ]
  },
  {
   "cell_type": "code",
   "execution_count": null,
   "id": "05c5133d",
   "metadata": {
    "tag": [
     "raises-exception"
    ]
   },
   "outputs": [],
   "source": [
    "with open(\"apprendre_a_programmer.txt\", \"w\") as out_stream:\n",
    "    out_stream.write(131)"
   ]
  },
  {
   "cell_type": "markdown",
   "id": "504fd6cf",
   "metadata": {},
   "source": [
    "Si vous voulez faire ça, il faut convertir explicitement avec `str` :"
   ]
  },
  {
   "cell_type": "code",
   "execution_count": null,
   "id": "5caaf242",
   "metadata": {
    "tag": [
     "raises-exception"
    ]
   },
   "outputs": [],
   "source": [
    "with open(\"apprendre_a_programmer.txt\", \"w\") as out_stream:\n",
    "    out_stream.write(str(131))"
   ]
  },
  {
   "cell_type": "markdown",
   "id": "4e4e26e9",
   "metadata": {},
   "source": [
    "L'autre option, c'est cette technique secrète et mal vue :"
   ]
  },
  {
   "cell_type": "code",
   "execution_count": null,
   "id": "73c19ec9",
   "metadata": {},
   "outputs": [],
   "source": [
    "with open(\"apprendre_a_programmer.txt\", \"w\") as out_stream:\n",
    "    print(\"Clairement, le meilleur cours de la licence SDL.\", file=out_stream)\n",
    "    print(\"Dans trois semaines, y en aura plus.\", file=out_stream)\n",
    "    print(13, file=out_stream)\n",
    "\n",
    "with open(\"apprendre_a_programmer.txt\", \"r\") as in_stream:\n",
    "    print(in_stream.read())"
   ]
  },
  {
   "cell_type": "markdown",
   "id": "c7d27e77",
   "metadata": {},
   "source": [
    "## ✍🏻 Entraînement ✍🏻\n",
    "\n",
    "1\\. Écrire un programme qui copie dans `sortie.txt` le contenu de `ada.txt`\n",
    "\n",
    "2\\. Écrire une fonction `copie`, avec comme argument deux chaînes de caractères `chemin_entree` et\n",
    "`chemin_sortie`, qui copie dans le fichier dont le chemin est `chemin_sortie` le contenu du fichier\n",
    "dont le chemin est `chemin_entree`."
   ]
  }
 ],
 "metadata": {
  "jupytext": {
   "formats": "ipynb,md",
   "split_at_heading": true
  },
  "kernelspec": {
   "display_name": "Python 3 (ipykernel)",
   "language": "python",
   "name": "python3"
  }
 },
 "nbformat": 4,
 "nbformat_minor": 5
}
