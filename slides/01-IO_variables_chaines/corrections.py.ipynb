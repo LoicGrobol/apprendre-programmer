{
 "cells": [
  {
   "cell_type": "markdown",
   "id": "f431996f",
   "metadata": {
    "lines_to_next_cell": 0
   },
   "source": [
    "<!-- LTeX: language=fr -->"
   ]
  },
  {
   "cell_type": "markdown",
   "id": "604a0f99",
   "metadata": {
    "slideshow": {
     "slide_type": "slide"
    }
   },
   "source": [
    "Cours 1 : corrections\n",
    "=====================\n",
    "\n",
    "**Loïc Grobol** [<lgrobol@parisnanterre.fr>](mailto:lgrobol@parisnanterre.fr)\n",
    "\n",
    "2022-01-25"
   ]
  },
  {
   "cell_type": "markdown",
   "id": "daf69d45",
   "metadata": {},
   "source": [
    "## ⬜ Exo ⬜\n",
    "\n",
    "> Écrire dans la cellule ci-dessous un programme qui affiche votre prénom et votre nom de famille,\n",
    "> séparés par une ligne vide, comme ceci :\n",
    "> \n",
    "> ```text\n",
    "> Loïc\n",
    "> \n",
    "> Grobol\n",
    "> ```"
   ]
  },
  {
   "cell_type": "code",
   "execution_count": null,
   "id": "ebac1999",
   "metadata": {},
   "outputs": [],
   "source": [
    "print(\"Loïc\")\n",
    "print(\"\")\n",
    "print(\"Grobol\")"
   ]
  },
  {
   "cell_type": "code",
   "execution_count": null,
   "id": "d490b9e5",
   "metadata": {},
   "outputs": [],
   "source": [
    "print(\"Loïc\")\n",
    "print()\n",
    "print(\"Grobol\")"
   ]
  },
  {
   "cell_type": "code",
   "execution_count": null,
   "id": "7dbe5686",
   "metadata": {},
   "outputs": [],
   "source": [
    "print(\"Loïc\\n\\nGrobol\")"
   ]
  },
  {
   "cell_type": "markdown",
   "id": "2a5baedc",
   "metadata": {},
   "source": [
    "## 🦾 Exercices 🦾\n",
    "\n",
    "\n",
    "### Exercice 1\n",
    "\n",
    "> Étant donné le paragraphe suivant"
   ]
  },
  {
   "cell_type": "code",
   "execution_count": null,
   "id": "b1113136",
   "metadata": {},
   "outputs": [],
   "source": [
    "texte = \"Toi dont le trône étincelle, ô immortelle\" \\\n",
    "        \"Aphrodite, fille de Zeus, ourdisseuse de\" \\\n",
    "        \"trames, je t'implore : ne laisse pas, ô\" \\\n",
    "        \"souveraine, dégoûts ou chagrins affliger\" \\\n",
    "       \"mon âme,\" \\\n",
    "        \"Mais viens ici, si jamais autrefois\" \\\n",
    "        \"entendant de loin ma voix, tu m'as\" \\\n",
    "        \"écoutée, quand, quittant la demeure\" \\\n",
    "        \"dorée de ton père tu venais, Après avoir\" \\\n",
    "        \"attelé ton char,\" \\\n",
    "        \"de beaux passereaux rapides\" \\\n",
    "        \"t'entraînaient autour de la terre\" \\\n",
    "        \"sombre,secouant leurs ailes serrées et du\" \\\n",
    "        \"haut du ciel tirant droit à travers l'éther.\""
   ]
  },
  {
   "cell_type": "markdown",
   "id": "490f20dc",
   "metadata": {},
   "source": [
    "> Écrire un programme qui demande à l'utilisateurice de saisir un mot, puis vérifie si ce mot est\n",
    "> dans le texte."
   ]
  },
  {
   "cell_type": "code",
   "execution_count": null,
   "id": "50016d59",
   "metadata": {
    "tags": [
     "skip-execution"
    ]
   },
   "outputs": [],
   "source": [
    "mot = input(\"Saisir un mot : \")\n",
    "print(mot in texte)"
   ]
  },
  {
   "cell_type": "markdown",
   "id": "b3c78d51",
   "metadata": {},
   "source": [
    "### Exercice 2\n",
    "\n",
    "> Écrire un programme qui vérifie si le mot *banane* est contenue dans une entrée récupérée avec\n",
    "> `input`, en quelle que soit la casse."
   ]
  },
  {
   "cell_type": "code",
   "execution_count": null,
   "id": "6b06817a",
   "metadata": {
    "tags": [
     "skip-execution"
    ]
   },
   "outputs": [],
   "source": [
    "texte = input(\"Saisir un texte : \")\n",
    "print(\"banane\" in texte.lower())"
   ]
  },
  {
   "cell_type": "markdown",
   "id": "0afaf586",
   "metadata": {},
   "source": [
    "### Exercice 3\n",
    "\n",
    "> Écrire un programme qui demande à son utilisateurice son année de naissance et affiche l'âge\n",
    "> qu'aura cette personne en 2022.\n",
    ">\n",
    "> Indice : `int`"
   ]
  },
  {
   "cell_type": "code",
   "execution_count": null,
   "id": "6b7482e8",
   "metadata": {
    "tags": [
     "skip-execution"
    ]
   },
   "outputs": [],
   "source": [
    "annee_str = input(\"Tu es né⋅e quand ? \")\n",
    "annee_int = int(annee_str)\n",
    "age_2022 = 2022 - annee_int\n",
    "print(\"En 2022 tu auras\", age_2022, \"ans\")"
   ]
  },
  {
   "cell_type": "markdown",
   "id": "0c972278",
   "metadata": {},
   "source": [
    "ou encore"
   ]
  },
  {
   "cell_type": "code",
   "execution_count": null,
   "id": "4aee0841",
   "metadata": {
    "tags": [
     "skip-execution"
    ]
   },
   "outputs": [],
   "source": [
    "annee_str = input(\"Tu es né⋅e quand ? \")\n",
    "annee_int = int(annee_str)\n",
    "age_2022 = 2022 - annee_int\n",
    "print(\"En 2022 tu auras \" + str(age_2022) + \" ans\")"
   ]
  },
  {
   "cell_type": "markdown",
   "id": "6258917b",
   "metadata": {},
   "source": [
    "ou mieux"
   ]
  },
  {
   "cell_type": "code",
   "execution_count": null,
   "id": "94f7fa0a",
   "metadata": {
    "tags": [
     "skip-execution"
    ]
   },
   "outputs": [],
   "source": [
    "annee_str = input(\"Tu es né⋅e quand ? \")\n",
    "annee_int = int(annee_str)\n",
    "age_2022 = 2022 - annee_int\n",
    "print(f\"En 2022 tu auras {age_2022} ans\")"
   ]
  },
  {
   "cell_type": "markdown",
   "id": "3d90c4ee",
   "metadata": {},
   "source": [
    "### Exercice 4\n",
    "\n",
    "> Demander à l'utilisateurice d'entrer un nombre minimal de caractères pour qu'un mot soit considéré\n",
    "> comme long. Puis lui demander de saisir un mot et lui afficher `True` si le mot est long et\n",
    "> `False` sinon."
   ]
  },
  {
   "cell_type": "code",
   "execution_count": null,
   "id": "780541bf",
   "metadata": {},
   "outputs": [],
   "source": [
    "raw = input(\"Long, c'est combien de caractères ? \")\n",
    "long_len = int(raw)\n",
    "mot = input(\"Saisir un mot : \")\n",
    "print(len(mot) >= long_len)"
   ]
  },
  {
   "cell_type": "code",
   "execution_count": null,
   "id": "972b8bb6",
   "metadata": {
    "tags": [
     "skip-execution"
    ]
   },
   "outputs": [],
   "source": [
    "long_len = int(input(\"Long, c'est combien de caractères ? \"))\n",
    "mot = input(\"Saisir un mot : \")\n",
    "print(len(mot) >= long_len)"
   ]
  },
  {
   "cell_type": "markdown",
   "id": "b2a0aba5",
   "metadata": {},
   "source": [
    "> Bonus : alternativement, afficher `\"😱\"` si le mot est long et ne rien afficher sinon."
   ]
  },
  {
   "cell_type": "code",
   "execution_count": null,
   "id": "17edf77b",
   "metadata": {
    "tags": [
     "skip-execution"
    ]
   },
   "outputs": [],
   "source": [
    "long_len = int(input(\"Long, c'est combien de caractères ? \"))\n",
    "mot = input(\"Saisir un mot :\")\n",
    "print(\"😱\" * (len(mot) >= long_len))"
   ]
  },
  {
   "cell_type": "markdown",
   "id": "7bf479e9",
   "metadata": {},
   "source": [
    "Jeu : pourquoi ça marche ?\n",
    "\n",
    "**Ne faites pas ça dans du vrai code**, on va voir dans le cours 3 comment faire mieux."
   ]
  },
  {
   "cell_type": "markdown",
   "id": "16d84789",
   "metadata": {},
   "source": [
    "## Retour sur vos rendus\n",
    "\n",
    "Attention à ne pas confondre les rôles de `print` et `input`\n",
    "\n",
    "- `print` pour **afficher** du texte\n",
    "- `input` pour **récupérer** du texte\n",
    "\n",
    "---\n",
    "\n",
    "Si une question vous paraît difficile, pensez à vous poser avec du papier et un crayon. Noter les entrées et les sorties du programme (sans détailler comment est fait le traitement) peut vous aider.\n",
    "\n",
    "---\n",
    "\n",
    "Pensez à utiliser des variables pour stocker des résultats intermédiaires ou des entrées. Ne faites\n",
    "pas :"
   ]
  },
  {
   "cell_type": "code",
   "execution_count": null,
   "id": "c4ab46bd",
   "metadata": {
    "tags": [
     "skip-execution"
    ]
   },
   "outputs": [],
   "source": [
    "texte = input()\n",
    "print(\"banane\" in \"J'aime les bananes\")"
   ]
  },
  {
   "cell_type": "markdown",
   "id": "7dd4b6d0",
   "metadata": {},
   "source": [
    "Mais plutôt"
   ]
  },
  {
   "cell_type": "code",
   "execution_count": null,
   "id": "1de2143c",
   "metadata": {
    "tags": [
     "skip-execution"
    ]
   },
   "outputs": [],
   "source": [
    "texte = input()\n",
    "print(\"banane\" in texte)"
   ]
  },
  {
   "cell_type": "markdown",
   "id": "a8574962",
   "metadata": {},
   "source": [
    "---\n",
    "\n",
    "Quelques points de style\n",
    "\n",
    "- Pas d'espace entre le nom d'une fonction et les parenthèse : `print(\"Salut\")` et non `print (\"Salut\")`, `int(\"2713\")` et pas `int (\"2713\")`.\n",
    "- Quand la question demande un affichage, utilisez plutôt `print` que de simplement laisser Jupyter\n",
    "  afficher le dernier résultat.\n",
    "- On peut terminer une chaîne de caractère par une espace :"
   ]
  },
  {
   "cell_type": "code",
   "execution_count": null,
   "id": "80b7d322",
   "metadata": {},
   "outputs": [],
   "source": [
    "nom = \"Loïc\"\n",
    "print(\"Je m'appelle \" + nom)"
   ]
  },
  {
   "cell_type": "markdown",
   "id": "5c9c28f4",
   "metadata": {},
   "source": [
    "---\n",
    "\n",
    "Certaines consignes semblent avoir été mal comprises. On va collectivement essayer de mieux faire\n",
    "pour les suivantes."
   ]
  }
 ],
 "metadata": {
  "jupytext": {
   "formats": "ipynb,md",
   "split_at_heading": true
  },
  "kernelspec": {
   "display_name": "Python 3 (ipykernel)",
   "language": "python",
   "name": "python3"
  }
 },
 "nbformat": 4,
 "nbformat_minor": 5
}
