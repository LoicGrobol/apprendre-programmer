{
 "cells": [
  {
   "cell_type": "markdown",
   "id": "ad64f03f",
   "metadata": {
    "lines_to_next_cell": 0
   },
   "source": [
    "<!-- LTeX: language=fr -->"
   ]
  },
  {
   "cell_type": "markdown",
   "id": "a35905e1",
   "metadata": {
    "slideshow": {
     "slide_type": "slide"
    }
   },
   "source": [
    "Cours 1 : Entrée/Sortie, variables et manipulations de chaînes de caractères\n",
    "===========================================================================\n",
    "\n",
    "**Loïc Grobol** [<lgrobol@parisnanterre.fr>](mailto:lgrobol@parisnanterre.fr)\n",
    "\n",
    "2022-01-18"
   ]
  },
  {
   "cell_type": "markdown",
   "id": "5bf7590a",
   "metadata": {},
   "source": [
    "Dans ce notebook :\n",
    "\n",
    "- Introduction à Jupyter.\n",
    "- Terminologie de base : *fonction*, *argument*, *variable*, *types*…\n",
    "- Opérations d'entrée/sortie de base : `print` et `input`.\n",
    "- Types de données de base `str`, `int`, `float`, `bool`.\n",
    "- Opérations de base sur les chaînes de caractères.\n",
    "\n",
    "Ce cours est très largement inspiré du cours [*Basic IO, variables, boolean\n",
    "expressions*](https://github.com/aniellodesanto/Utah_CompLang21/blob/main/01_io_variables_booleans.ipynb)\n",
    "d'Aniello de Santo, merci infiniment à lui."
   ]
  },
  {
   "cell_type": "markdown",
   "id": "480267b8",
   "metadata": {},
   "source": [
    "## L'environnement Jupyter\n",
    "\n",
    "Dans ce cours, nous allons utiliser plusieurs environnements en Python. Celui dans lequel vous vous\n",
    "trouvez s'appelle un *notebook Jupyter*. Leur principal avantage est qu'ils permettent de mélanger\n",
    "du code, du texte formaté et des objets multimedia.\n",
    "\n",
    "Pour vous épargner la peine d'installer Jupyter sur vos machines, nous allons travailler dans\n",
    "Binder. Nous verrons plus tard dans le semestre comment installer Python et Jupyter, mais si vous\n",
    "êtes pressé⋅es et avez besoin d'aide, dites le moi et je vous expliquerai comment faire.\n",
    "\n",
    "Point technique : nous utiliserons uniquement Python 3 dans sa version au moins 3.8, quel que soit\n",
    "l'environnement que vous utilisez, vérifiez que la version de Python est la bonne.\n",
    "\n",
    "Rentrons dès maintenant dans le vif du sujet : le texte en dessous, dans une police différente est\n",
    "une cellule de code en Python. Pour l'exécuter, utilisez les boutons de la barre d'outil, le menu,\n",
    "ou simplement cliquez dedans pour la sélectionner et appuyez sur les touche `ctrl` et `entrée`."
   ]
  },
  {
   "cell_type": "code",
   "execution_count": null,
   "id": "398dfc70",
   "metadata": {},
   "outputs": [],
   "source": [
    "print(\"Hello, world!\")"
   ]
  },
  {
   "cell_type": "markdown",
   "id": "93fafd70",
   "metadata": {},
   "source": [
    "Si vous voyez un message s'afficher, vous avez correctement exécuté la cellule. Si c'est la première\n",
    "fois que vous exécutez un programme, félicitations ! J'espère que ce sera le premier d'une longue\n",
    "série d'aventures programmatiques."
   ]
  },
  {
   "cell_type": "markdown",
   "id": "3a9aa38b",
   "metadata": {},
   "source": [
    "### 🥳 Exo 🥳\n",
    "\n",
    "Stop à l'hégémonie de l'anglais ! Modifiez la cellule de code ci-dessous pour faire afficher un\n",
    "« bonjour, tout le monde ! » dans la langue de votre choix."
   ]
  },
  {
   "cell_type": "code",
   "execution_count": null,
   "id": "51e8b4fb",
   "metadata": {},
   "outputs": [],
   "source": [
    "print(\"Bonjour tout le monde !\")"
   ]
  },
  {
   "cell_type": "markdown",
   "id": "a2a70428",
   "metadata": {},
   "source": [
    "Vous l'avez ? C'est peut-être le premier programme que vous écrivez. Si c'est le cas, encore une\n",
    "fois, bravo !"
   ]
  },
  {
   "cell_type": "markdown",
   "id": "6fa4cc2d",
   "metadata": {},
   "source": [
    "## Fonctions\n",
    "\n",
    "Dans ce qui précède, `print` est un **appel de fonction**, et `\"Hello, world!\"` est un argument\n",
    "\n",
    "À ce stade, une **fonction** en Python ressemble au concept de fonction en sémantique, en logique ou\n",
    "en mathématiques. On ne va pas rentrer dans des détails formels, mais plutôt garder en tête un\n",
    "exemple : la phrase « Morgan mange une pomme », peut être vue comme l'action d'une **fonction**,\n",
    "`manger` sur deux **arguments**, `Morgan` et `une pomme`, qu'on écrit `manger(Morgan, une pomme)`.\n",
    "\n",
    "En Python, on peut penser aux fonctions comme la description d'actions et elles renvoient toutes un\n",
    "résultat, aussi dire **valeur de retour** :\n",
    "\n",
    "- Une fonction qui inverse une chaîne de caractères renvoie une chaîne de caractères.\n",
    "- Une fonction qui additionne deux nombres renvoie leur somme.\n",
    "- Une fonction qui compte le nombre de caractères renvoie un nombre.\n",
    "\n",
    "Et `print` ? Elle renvoie la valeur spéciale `None`, « rien ». Je vous laisse réfléchir aux\n",
    "implications philosophiques d'un tel objet.\n",
    "\n",
    "Les **arguments** (ou **paramètres**) d'une fonction servent à spécifier les éléments sur lesquels\n",
    "portent l'action. Il peut y en avoir un, plusieurs ou zéro. Par exemple :\n",
    "\n",
    "- Une fonction qui inverse une chaîne de caractères a un argument : cette chaîne de caractères.\n",
    "- Une fonction qui renvoie les $n$ premiers mots d'une phrase a deux arguments : la phrase et $n$.\n",
    "- Une fonction qui afficher « Bonjour, tout le monde ! » a zéro arguments : son exécution sera la\n",
    "  même à chaque fois.\n",
    "\n",
    "**Question** : combien faut-il d'arguments pour une fonction qui dessine un cercle ?"
   ]
  },
  {
   "cell_type": "markdown",
   "id": "556a412f",
   "metadata": {},
   "source": [
    "### `print`\n",
    "\n",
    "La fonction la plus commune (mais pas nécessaireemnt la plus simple) de Python est `print`. Elle\n",
    "affiche simplement sur l'écran son ou ses argument(s) :"
   ]
  },
  {
   "cell_type": "code",
   "execution_count": null,
   "id": "6e8f5fbd",
   "metadata": {},
   "outputs": [],
   "source": [
    "print(\"L'informatique c'est fantastique !\")"
   ]
  },
  {
   "cell_type": "markdown",
   "id": "6c660f15",
   "metadata": {},
   "source": [
    "En d'autres termes, elle affiche ce qu'elle a entre ses parenthèses. Si on lui donne plusieurs\n",
    "arguments (en les séparant par des virgules), elle les affiche à la suite"
   ]
  },
  {
   "cell_type": "code",
   "execution_count": null,
   "id": "4428bd6d",
   "metadata": {},
   "outputs": [],
   "source": [
    "print(\"Morgan\", \"Alex\")"
   ]
  },
  {
   "cell_type": "markdown",
   "id": "7ee20528",
   "metadata": {},
   "source": [
    "Et voici ce que donne une suite de plusieurs `print`"
   ]
  },
  {
   "cell_type": "code",
   "execution_count": null,
   "id": "954ae496",
   "metadata": {},
   "outputs": [],
   "source": [
    "print(\"Morgan\")\n",
    "print(\"Alex\")"
   ]
  },
  {
   "cell_type": "markdown",
   "id": "c32cdb2a",
   "metadata": {},
   "source": [
    "### ⬜ Exo ⬜\n",
    "\n",
    "Écrire dans la cellule ci-dessous un programme qui affiche votre prénom et votre nom de famille,\n",
    "séparés par une ligne vide, comme ceci :\n",
    "\n",
    "```text\n",
    "Loïc\n",
    "\n",
    "Grobol\n",
    "```"
   ]
  },
  {
   "cell_type": "code",
   "execution_count": null,
   "id": "fc4502cd",
   "metadata": {},
   "outputs": [],
   "source": [
    "print(\"Loïc\")\n",
    "print(\"\")\n",
    "print(\"Grobol\")"
   ]
  },
  {
   "cell_type": "code",
   "execution_count": null,
   "id": "22771a01",
   "metadata": {},
   "outputs": [],
   "source": [
    "print(\"Loïc\")\n",
    "print()\n",
    "print(\"Grobol\")"
   ]
  },
  {
   "cell_type": "code",
   "execution_count": null,
   "id": "69a74eb6",
   "metadata": {},
   "outputs": [],
   "source": [
    "print(\"Loïc\\n\\nGrobol\")"
   ]
  },
  {
   "cell_type": "markdown",
   "id": "a1811ce5",
   "metadata": {},
   "source": [
    "### Commentaires"
   ]
  },
  {
   "cell_type": "code",
   "execution_count": null,
   "id": "2e3923b3",
   "metadata": {},
   "outputs": [],
   "source": [
    "# Un affichage simple\n",
    "print(\"Salut les copaines !\")"
   ]
  },
  {
   "cell_type": "markdown",
   "id": "3fa7122c",
   "metadata": {},
   "source": [
    "Si vous exécutez la cellule précédente, vous devriez observer que la première ligne ne semble avoir\n",
    "aucun effet. Elle a de plus une couleur différente dans l'éditeur. Et pour cause : elle commence par\n",
    "un `#`, ce qui en fait un **commentaire**. Un morceau de code que Python n'essaie pas d'interpréter.\n",
    "\n",
    "À quoi ça sert ?\n",
    "\n",
    "Essentiellement à annoter votre code, afin d'en expliquer les points délicats à d'autres personnes\n",
    "(y compris votre vous futur), ou à noter les choses à faire plus tard."
   ]
  },
  {
   "cell_type": "code",
   "execution_count": null,
   "id": "66ff27ba",
   "metadata": {},
   "outputs": [],
   "source": [
    "# TODO: mettre des accents et des majuscules\n",
    "print(\"c'etait a megara, faubourg de carthage\")"
   ]
  },
  {
   "cell_type": "markdown",
   "id": "3f0a65bc",
   "metadata": {},
   "source": [
    "C'est **important**, pensez à le faire judicieusement."
   ]
  },
  {
   "cell_type": "markdown",
   "id": "1299a874",
   "metadata": {},
   "source": [
    "## Types de données élémentaires\n",
    "\n",
    "Les **types de données** sont des des éléments fondamentaux de la programmation. On va les aborder\n",
    "en étudiant les types **primitifs** de Python dans la suite. Si vous aimez les vidéos, vous pouvez\n",
    "aussi regardez celle qui apparaît quand vous exécutez la cellule suivante"
   ]
  },
  {
   "cell_type": "code",
   "execution_count": null,
   "id": "9f8d6c87",
   "metadata": {},
   "outputs": [],
   "source": [
    "from IPython.display import IFrame\n",
    "IFrame('https://www.youtube.com/embed/A37-3lflh8I', width=700, height=350)"
   ]
  },
  {
   "cell_type": "markdown",
   "id": "980c4498",
   "metadata": {},
   "source": [
    "Regardez la cellule de code suivante :"
   ]
  },
  {
   "cell_type": "code",
   "execution_count": null,
   "id": "0e2e654d",
   "metadata": {},
   "outputs": [],
   "source": [
    "print(\"9\", 9, 9.9)"
   ]
  },
  {
   "cell_type": "markdown",
   "id": "bd46c63b",
   "metadata": {},
   "source": [
    "Vous pouvez voir que les arguments de `print` sont colorés différemment. C'est parce que la\n",
    "coloration syntaxique de Jupyter vous indique qu'ils sont de **types** différents."
   ]
  },
  {
   "cell_type": "markdown",
   "id": "6a44a2d1",
   "metadata": {},
   "source": [
    "### Types numériques\n",
    "\n",
    "- Les *integers* (`int`) représentent des nombres *entiers*. Ainsi, `8`, `0`, `-1` and `-2713` sont\n",
    "  des `int` mais pas `3.14` ou `-1.333\\.\n",
    "- Les *floating point numbers* (`float`), « nombres en virgule flottante » représentent des nombres\n",
    "  avec une partie entière et une partie fractionnaire.\n",
    "\n",
    "La distinction entre les deux est importante : ils sont stockés différemments dans la mémoire de\n",
    "votre machine. Ainsi, en utilisant la fonction `type`, qui renvoie le type de son argument, on peut\n",
    "constater que `8` est un `int` et `8.5` un `float` :"
   ]
  },
  {
   "cell_type": "code",
   "execution_count": null,
   "id": "a11da256",
   "metadata": {},
   "outputs": [],
   "source": [
    "type(8)"
   ]
  },
  {
   "cell_type": "code",
   "execution_count": null,
   "id": "edc544e9",
   "metadata": {},
   "outputs": [],
   "source": [
    "type(8.5)"
   ]
  },
  {
   "cell_type": "markdown",
   "id": "5436d50b",
   "metadata": {},
   "source": [
    "Attention :"
   ]
  },
  {
   "cell_type": "code",
   "execution_count": null,
   "id": "78d03a5a",
   "metadata": {},
   "outputs": [],
   "source": [
    "type(8.0)"
   ]
  },
  {
   "cell_type": "markdown",
   "id": "8e7cde4a",
   "metadata": {},
   "source": [
    "`8` et `8.0` sont deux représentations du nombre $8$, dans deux types de données, dont on verra\n",
    "qu'ils n'ont pas les mêmes propriétés ni les mêmes usage.\n",
    "\n",
    "On peut utiliser en Python les opérations arithmétiques classiques avec `int`s et `float`s :"
   ]
  },
  {
   "cell_type": "code",
   "execution_count": null,
   "id": "d820caba",
   "metadata": {},
   "outputs": [],
   "source": [
    "# addition\n",
    "6 + 9"
   ]
  },
  {
   "cell_type": "code",
   "execution_count": null,
   "id": "28e239ac",
   "metadata": {},
   "outputs": [],
   "source": [
    "# soustraction\n",
    "99 - 0.5"
   ]
  },
  {
   "cell_type": "code",
   "execution_count": null,
   "id": "f237c17b",
   "metadata": {},
   "outputs": [],
   "source": [
    "# multiplication\n",
    "5 * 2"
   ]
  },
  {
   "cell_type": "code",
   "execution_count": null,
   "id": "435e2eb8",
   "metadata": {},
   "outputs": [],
   "source": [
    "# division\n",
    "115 / 2"
   ]
  },
  {
   "cell_type": "code",
   "execution_count": null,
   "id": "30dccde1",
   "metadata": {},
   "outputs": [],
   "source": [
    "# division entière (le quotient dans la division euclidienne)\n",
    "115 // 2"
   ]
  },
  {
   "cell_type": "code",
   "execution_count": null,
   "id": "af620138",
   "metadata": {},
   "outputs": [],
   "source": [
    "# modulo(le reste dans la division euclidienne)\n",
    "115 % 2"
   ]
  },
  {
   "cell_type": "code",
   "execution_count": null,
   "id": "4b280f22",
   "metadata": {},
   "outputs": [],
   "source": [
    "# Élévation à une puissance\n",
    "5 ** 10"
   ]
  },
  {
   "cell_type": "code",
   "execution_count": null,
   "id": "34600531",
   "metadata": {},
   "outputs": [],
   "source": [
    "5 * (3+2)"
   ]
  },
  {
   "cell_type": "markdown",
   "id": "15cd83b8",
   "metadata": {},
   "source": [
    "### Affichage\n",
    "\n",
    "Vous avez remarqué ?"
   ]
  },
  {
   "cell_type": "markdown",
   "id": "0be42372",
   "metadata": {},
   "source": [
    "Dans les cellules précédentes."
   ]
  },
  {
   "cell_type": "markdown",
   "id": "6ff20876",
   "metadata": {},
   "source": [
    "On a pas utilisé `print`."
   ]
  },
  {
   "cell_type": "markdown",
   "id": "96636654",
   "metadata": {},
   "source": [
    "Mais on a quand même un affichage."
   ]
  },
  {
   "cell_type": "markdown",
   "id": "56cb7ec8",
   "metadata": {},
   "source": [
    "🤔"
   ]
  },
  {
   "cell_type": "markdown",
   "id": "f738cff2",
   "metadata": {},
   "source": [
    "Il s'agit d'une particularité de l'environnement Jupyter : le résultat de la dernière opération\n",
    "s'affiche à l'écran. À votre avis que se passe-t-il donc si on exécute la cellule suivante ?"
   ]
  },
  {
   "cell_type": "code",
   "execution_count": null,
   "id": "61d70d33",
   "metadata": {
    "lines_to_next_cell": 2
   },
   "outputs": [],
   "source": [
    "5 + 8\n",
    "9 + 2"
   ]
  },
  {
   "cell_type": "markdown",
   "id": "0d2142c9",
   "metadata": {},
   "source": [
    "Le résultat est-il celui que vous attendiez ?"
   ]
  },
  {
   "cell_type": "markdown",
   "id": "58191dca",
   "metadata": {},
   "source": [
    "Ça nous montre que *seulement* la dernière opération donne un affichage automatique. Si on veut\n",
    "afficher autre chose, il faut le demander explicitement avec `print`."
   ]
  },
  {
   "cell_type": "code",
   "execution_count": null,
   "id": "ceab10fd",
   "metadata": {},
   "outputs": [],
   "source": [
    "print(5 + 8)\n",
    "print(9 + 2)"
   ]
  },
  {
   "cell_type": "markdown",
   "id": "52dc25e1",
   "metadata": {},
   "source": [
    "### Chaînes de caractères\n",
    "\n",
    "Revenons aux types, avec le type le plus important pour nous, linguistes, TAListes et humanistes."
   ]
  },
  {
   "cell_type": "markdown",
   "id": "d3d16efb",
   "metadata": {},
   "source": [
    "Les *chaînes de caractères* (`str`, *strings*) sont… des séquences de caractères, comme `\"machin\"`,\n",
    "`'Bonjour, tout le monde !'` ou `\"supercalifragillisticexpialidocious\"`. Elles sont notées entre\n",
    "simple quotes `'` ou double quotes `\"`. Vous pouvez choisir l'une ou l'autre option."
   ]
  },
  {
   "cell_type": "code",
   "execution_count": null,
   "id": "ac8b796a",
   "metadata": {},
   "outputs": [],
   "source": [
    "type(\"La linguistique est fantastique.\")"
   ]
  },
  {
   "cell_type": "code",
   "execution_count": null,
   "id": "618ceb7e",
   "metadata": {},
   "outputs": [],
   "source": [
    "type('Tout le monde déteste les polices de caractères')"
   ]
  },
  {
   "cell_type": "markdown",
   "id": "6d22e768",
   "metadata": {},
   "source": [
    "Que se passe-t-il si on mélange les deux ?"
   ]
  },
  {
   "cell_type": "code",
   "execution_count": null,
   "id": "545d0ed3",
   "metadata": {},
   "outputs": [],
   "source": [
    "type(\"My phone number is 123.')"
   ]
  },
  {
   "cell_type": "markdown",
   "id": "187d2af0",
   "metadata": {},
   "source": [
    "En général, c'est plus pratique d'utiliser des double quotes, notamment parce que c'est plus\n",
    "agréable d'y utiliser `'` comme apostrophe"
   ]
  },
  {
   "cell_type": "code",
   "execution_count": null,
   "id": "5557e06c",
   "metadata": {},
   "outputs": [],
   "source": [
    "print(\"J'aime les humanités\")"
   ]
  },
  {
   "cell_type": "markdown",
   "id": "0e376687",
   "metadata": {},
   "source": [
    "On peut le faire aussi avec des simple quotes, mais dans ce cas, il faut le déspécialiser"
   ]
  },
  {
   "cell_type": "code",
   "execution_count": null,
   "id": "ddac5ed5",
   "metadata": {},
   "outputs": [],
   "source": [
    "print('Le TAL, c\\'est génial.')"
   ]
  },
  {
   "cell_type": "markdown",
   "id": "6f941a82",
   "metadata": {},
   "source": [
    "À l'inverse, si on veut utiliser des doubles quotes dans la chaîne, on peut la délimiter avec des\n",
    "simples."
   ]
  },
  {
   "cell_type": "code",
   "execution_count": null,
   "id": "24769677",
   "metadata": {},
   "outputs": [],
   "source": [
    "print('\"Apprendre à programmer\" est mon cours préféré')"
   ]
  },
  {
   "cell_type": "markdown",
   "id": "c6280bf3",
   "metadata": {},
   "source": [
    "Attention, un nombre entre quotes, c'est une chaîne de caractères :"
   ]
  },
  {
   "cell_type": "code",
   "execution_count": null,
   "id": "b93bd9e6",
   "metadata": {
    "lines_to_next_cell": 2
   },
   "outputs": [],
   "source": [
    "print(type(5))\n",
    "print(type(\"5\"))"
   ]
  },
  {
   "cell_type": "markdown",
   "id": "fa8dae2e",
   "metadata": {},
   "source": [
    "Dans la cellule précédente, quand on note `print(type(5))` ça signifie « passer comme argument à\n",
    "`print` la valeur de retour de `type` appliquée à `5` : on peut ainsi enchaîner des appels de\n",
    "fonctions.\n",
    "\n",
    "Pour les chaînes des caractères, `+` désigne la concaténation"
   ]
  },
  {
   "cell_type": "code",
   "execution_count": null,
   "id": "8d5ee575",
   "metadata": {},
   "outputs": [],
   "source": [
    "\"artificiel\" + \"le\""
   ]
  },
  {
   "cell_type": "markdown",
   "id": "aeadcb87",
   "metadata": {},
   "source": [
    "À votre avis, quel est le résultat de la cellule suivante ?"
   ]
  },
  {
   "cell_type": "code",
   "execution_count": null,
   "id": "1f91f190",
   "metadata": {},
   "outputs": [],
   "source": [
    "\"15\" + \"1\""
   ]
  },
  {
   "cell_type": "markdown",
   "id": "0d47bc42",
   "metadata": {},
   "source": [
    "À votre avis, peut-on utiliser les autres opérateurs arithmétiques avec des chaînes de caractères ?\n",
    "Testez ci-dessous. Vous pouvez aussi créer de nouvelles cellules dans le notebook."
   ]
  },
  {
   "cell_type": "code",
   "execution_count": null,
   "id": "9b4589a3",
   "metadata": {},
   "outputs": [],
   "source": []
  },
  {
   "cell_type": "code",
   "execution_count": null,
   "id": "5c4e7fc8",
   "metadata": {},
   "outputs": [],
   "source": [
    "\"ab\" - \"b\""
   ]
  },
  {
   "cell_type": "code",
   "execution_count": null,
   "id": "57af5d5d",
   "metadata": {},
   "outputs": [],
   "source": [
    "\"aaaaa\" / \"a\""
   ]
  },
  {
   "cell_type": "code",
   "execution_count": null,
   "id": "79a2db24",
   "metadata": {},
   "outputs": [],
   "source": [
    "\"a\" % \"b\""
   ]
  },
  {
   "cell_type": "code",
   "execution_count": null,
   "id": "0231acde",
   "metadata": {},
   "outputs": [],
   "source": [
    "\"abx\"*4"
   ]
  },
  {
   "cell_type": "markdown",
   "id": "a1c67de9",
   "metadata": {},
   "source": [
    "Il est fréquent de devoir convertir une variable d'un type à l'autre. Par exemple pour effectuer des\n",
    "opérations arithmétiques sur un nombre contenu dans une chaîne de caractères. Pour celà, on peut\n",
    "utiliser les fonctions de conversion `int` et `float`."
   ]
  },
  {
   "cell_type": "code",
   "execution_count": null,
   "id": "dcf05f51",
   "metadata": {},
   "outputs": [],
   "source": [
    "print(\"Type d'origine:\", type(\"55\"))\n",
    "print(\"Nouveau type:\", type(int(\"55\")))"
   ]
  },
  {
   "cell_type": "markdown",
   "id": "9ac64f12",
   "metadata": {},
   "source": [
    "L'opération inverse — convertir un nombre en chaîne de caractères — se fait avec `str`"
   ]
  },
  {
   "cell_type": "code",
   "execution_count": null,
   "id": "b2b7735b",
   "metadata": {},
   "outputs": [],
   "source": [
    "print(\"Type d'origine:\", type(55))\n",
    "print(\"Nouveau type:\", type(str(55)))"
   ]
  },
  {
   "cell_type": "markdown",
   "id": "425d3742",
   "metadata": {},
   "source": [
    "On peut ainsi intégrer le résultat d'un calcul dans un message"
   ]
  },
  {
   "cell_type": "code",
   "execution_count": null,
   "id": "483e8430",
   "metadata": {},
   "outputs": [],
   "source": [
    "print(\"Le double de 5 est \" + str(2*5) + \". Étonnant, non\")"
   ]
  },
  {
   "cell_type": "markdown",
   "id": "16e8cbac",
   "metadata": {},
   "source": [
    "Qu'on préfère écrire ainsi :"
   ]
  },
  {
   "cell_type": "code",
   "execution_count": null,
   "id": "8f89f902",
   "metadata": {},
   "outputs": [],
   "source": [
    "print(f\"Le double de 5 est {2*5}. Étonnant, non\")"
   ]
  },
  {
   "cell_type": "markdown",
   "id": "5f01f70e",
   "metadata": {},
   "source": [
    "Le `f` devant les quotes signales qu'on utilise un *format string* pour une *interpolation*. On en\n",
    "reparlera.\n",
    "\n",
    "On peut aussi, convertir des `int` en `float`"
   ]
  },
  {
   "cell_type": "code",
   "execution_count": null,
   "id": "dd7a9ca0",
   "metadata": {},
   "outputs": [],
   "source": [
    "float(2713)"
   ]
  },
  {
   "cell_type": "markdown",
   "id": "ae149744",
   "metadata": {},
   "source": [
    "Et vice-versa, mais qu'est-ce que ça va donner d'après vous ?"
   ]
  },
  {
   "cell_type": "code",
   "execution_count": null,
   "id": "8c61d423",
   "metadata": {},
   "outputs": [],
   "source": [
    "int(7.9)"
   ]
  },
  {
   "cell_type": "markdown",
   "id": "e09191a5",
   "metadata": {},
   "source": [
    "### Booléens\n",
    "\n",
    "Un dernier type : les **booléens** (*boolean*, `bool`), qui ne peuvent prendre que deux valeurs\n",
    "`True` (vrai) et `False` (faux)."
   ]
  },
  {
   "cell_type": "markdown",
   "id": "8a64936e",
   "metadata": {},
   "source": [
    "(Pourquoi « booléen », d'ailleurs ?)"
   ]
  },
  {
   "cell_type": "code",
   "execution_count": null,
   "id": "2ae89a28",
   "metadata": {},
   "outputs": [],
   "source": [
    "print(type(True))\n",
    "print(type(False))\n",
    "print(type(\"False\"))"
   ]
  },
  {
   "cell_type": "markdown",
   "id": "29861dcf",
   "metadata": {},
   "source": [
    "Les booléens sont les réponses aux questions comme\n",
    "\n",
    "- « Est-ce que cette phrase contient le mot *linguistique* ? »\n",
    "- « Est-ce que la somme de ces deux nombres est plus grande que 420 ? »\n",
    "- « Est-ce que j'ai déjà entendu cette phrase ? »\n",
    "\n",
    "Nous verrons bientôt à quoi ils peuvent servir.\n"
   ]
  },
  {
   "cell_type": "markdown",
   "id": "12afa608",
   "metadata": {},
   "source": [
    "## Variables\n",
    "\n",
    "Pour l'instant on a travaillé avec des instructions indépendantes. Mais comment faire si on peut\n",
    "utiliser le résultat d'une instruction dans une instruction qui suit ?"
   ]
  },
  {
   "cell_type": "markdown",
   "id": "c4d89e71",
   "metadata": {},
   "source": [
    "On a vu"
   ]
  },
  {
   "cell_type": "code",
   "execution_count": null,
   "id": "ee7d875e",
   "metadata": {},
   "outputs": [],
   "source": [
    "print(type(8))"
   ]
  },
  {
   "cell_type": "markdown",
   "id": "55984212",
   "metadata": {},
   "source": [
    "Mais ça va devenir très pénible très vite. Ça serait bien d'avoir un moyen de stocker des données en\n",
    "mémoire et de les récupérer plus tard."
   ]
  },
  {
   "cell_type": "markdown",
   "id": "be284bfd",
   "metadata": {},
   "source": [
    "Ce moyen, ce sont les **variables** qui vont nous les donner. Une variable, c'est un emplacement\n",
    "qu'on réserve dans la mémoire de la machine, avec un nom qui nous permet de la réutiliser. Comme\n",
    "ceci :"
   ]
  },
  {
   "cell_type": "code",
   "execution_count": null,
   "id": "57d98cd0",
   "metadata": {},
   "outputs": [],
   "source": [
    "nom = \"Loïc\"\n",
    "print(\"Salut, \", nom)"
   ]
  },
  {
   "cell_type": "markdown",
   "id": "82047105",
   "metadata": {},
   "source": [
    "Une variable peut être de n'importe lequel des types qu'on a vu jusqu'à présent :"
   ]
  },
  {
   "cell_type": "code",
   "execution_count": null,
   "id": "4ddc585c",
   "metadata": {
    "lines_to_next_cell": 2
   },
   "outputs": [],
   "source": [
    "fruit = \"banane\"\n",
    "un_nombre = 9\n",
    "un_autre_nombre = 0.2\n",
    "machin = True\n",
    "un_hotel = \"Trivago\"\n",
    "\n",
    "print(\"Le type de fruit est\", type(fruit))\n",
    "print(\"Le type de un_nombre est\", type(un_nombre))\n",
    "print(\"Le type de un_autre_nombre est\", type(un_autre_nombre))\n",
    "print(\"Le type de machin est\", type(machin))"
   ]
  },
  {
   "cell_type": "markdown",
   "id": "f4dbea7d",
   "metadata": {},
   "source": [
    "Les lignes de la forme `nom_de_variable = <quelque chose>` sont des instructions d'**affectation**,\n",
    "qui *affectent* une valeur à une variable."
   ]
  },
  {
   "cell_type": "markdown",
   "id": "5df82229",
   "metadata": {},
   "source": [
    "Si on affecte plusieurs valeurs successivement à une variable, elle change de valeur à chaque fois."
   ]
  },
  {
   "cell_type": "code",
   "execution_count": null,
   "id": "dda4147a",
   "metadata": {},
   "outputs": [],
   "source": [
    "nom = \"Loïc\"\n",
    "print(nom)\n",
    "nom = \"Alex\"\n",
    "print(nom)\n",
    "nom = \"Morgan\"\n",
    "print(nom)"
   ]
  },
  {
   "cell_type": "markdown",
   "id": "c57bed0c",
   "metadata": {},
   "source": [
    "### Noms de variables\n",
    "\n",
    "Les règles à retenir\n",
    "\n",
    "- Les noms de variables ne sont pas des chaînes de caractères : pas de quotes autour !\n",
    "- Les noms de variables ne peuvent pas commencer par un chiffre.\n",
    "- Les noms de variables ne contiennent pas d'espaces (utilisez `_` à la place) ni certains symboles\n",
    "  comme `$`, `!`, `+`…\n",
    "- Les caractères Unicodes correspondant à des lettres sont utilisables."
   ]
  },
  {
   "cell_type": "code",
   "execution_count": null,
   "id": "49c8042f",
   "metadata": {},
   "outputs": [],
   "source": [
    "ééééééé = 1\n",
    "Δ = -0.5"
   ]
  },
  {
   "cell_type": "markdown",
   "id": "a600ee59",
   "metadata": {},
   "source": [
    "Mais comme ce n'est pas toujours facile à entrer au clavier, on conseille en général d'éviter."
   ]
  },
  {
   "cell_type": "markdown",
   "id": "8fe9a8b1",
   "metadata": {},
   "source": [
    "Quelques noms de variables sont interdits car ils correspondent à des mots-clés de Python"
   ]
  },
  {
   "cell_type": "code",
   "execution_count": null,
   "id": "f6c54ed5",
   "metadata": {},
   "outputs": [],
   "source": [
    "def = \"nope\""
   ]
  },
  {
   "cell_type": "markdown",
   "id": "df378a1a",
   "metadata": {},
   "source": [
    "Et certains autres comme `print`, `int`, `type` sont *techniquement* utilisables comme noms de\n",
    "variables, mais c'est plutôt une mauvaise idée. À votre avis pourquoi ?"
   ]
  },
  {
   "cell_type": "markdown",
   "id": "1f12ea0c",
   "metadata": {},
   "source": [
    "On peut donc maintenant réutiliser les résultats d'instructions."
   ]
  },
  {
   "cell_type": "code",
   "execution_count": null,
   "id": "3c45f622",
   "metadata": {},
   "outputs": [],
   "source": [
    "large_number = 193425 + 32532513\n",
    "print(large_number)"
   ]
  },
  {
   "cell_type": "code",
   "execution_count": null,
   "id": "1b20420d",
   "metadata": {
    "lines_to_next_cell": 2
   },
   "outputs": [],
   "source": [
    "partenaire1 = \"Morgan\"\n",
    "partenaire2 = \"Alex\"\n",
    "partenaires = partenaire1 + \" et \" + partenaire2\n",
    "print(partenaires)"
   ]
  },
  {
   "cell_type": "markdown",
   "id": "ee26d954",
   "metadata": {},
   "source": [
    "Ça marche aussi avec des interpolations"
   ]
  },
  {
   "cell_type": "code",
   "execution_count": null,
   "id": "aac0d5be",
   "metadata": {
    "lines_to_next_cell": 2
   },
   "outputs": [],
   "source": [
    "ship = f\"{partenaire1} et {partenaire2}\"\n",
    "print(ship)"
   ]
  },
  {
   "cell_type": "markdown",
   "id": "0e575540",
   "metadata": {},
   "source": [
    "On peut redéfinir une variable en faisant référence à sa valeur actuelle"
   ]
  },
  {
   "cell_type": "code",
   "execution_count": null,
   "id": "65e6a1e6",
   "metadata": {},
   "outputs": [],
   "source": [
    "compteur = 0\n",
    "print(\"Première valeur\", compteur)\n",
    "compteur = compteur + 1\n",
    "print(\"Deuxième valeur\", compteur)"
   ]
  },
  {
   "cell_type": "code",
   "execution_count": null,
   "id": "2426778a",
   "metadata": {},
   "outputs": [],
   "source": [
    "mot = \"machinal\"\n",
    "print(mot)\n",
    "mot = f\"{mot}ement\"\n",
    "print(mot)"
   ]
  },
  {
   "cell_type": "markdown",
   "id": "41ddf484",
   "metadata": {},
   "source": [
    "### Cellules et exécutions\n",
    "\n",
    "À présent qu'on travaille avec des variables, vous allez de plus en plus écrire du code dans une\n",
    "cellule qui utilise des variables définies dans une autre cellule. Faites attention à l'ordre dans\n",
    "lequel vous les exécutez.\n",
    "\n",
    "Regardez par exemple les deux cellules suivantes : que se passe-t-il si on exécute la deuxième sans\n",
    "exécuter la première"
   ]
  },
  {
   "cell_type": "code",
   "execution_count": null,
   "id": "76dabb09",
   "metadata": {},
   "outputs": [],
   "source": [
    "un_nombre = 5"
   ]
  },
  {
   "cell_type": "code",
   "execution_count": null,
   "id": "cbce73b2",
   "metadata": {},
   "outputs": [],
   "source": [
    "un_autre_nombre = 8\n",
    "un_troisieme_nombre = un_nombre + un_autre_nombre\n",
    "print(un_troisieme_nombre)"
   ]
  },
  {
   "cell_type": "markdown",
   "id": "619d4c2d",
   "metadata": {},
   "source": [
    "## Entrées et sorties de base\n",
    "\n",
    "On a vu comment afficher des valeurs à l'écran avec `print`. Mais pour beaucoup d'applications\n",
    "(pensez à un chatbot par exemple), il est utile de demander à un⋅e utilisateurice une entrée. En\n",
    "Python, on fait ça avec `input`."
   ]
  },
  {
   "cell_type": "code",
   "execution_count": null,
   "id": "e9ae2911",
   "metadata": {
    "tags": [
     "skip-execution"
    ]
   },
   "outputs": [],
   "source": [
    "print(\"Comment tu t'appelles ?\")\n",
    "nom = input()\n",
    "print(\"Salut, \", nom)"
   ]
  },
  {
   "cell_type": "markdown",
   "id": "4f8e6748",
   "metadata": {},
   "source": [
    "`input` donne la main à l'utilisateurice pour saisir une chaîne de caractère (terminée en\n",
    "appuyant sur entrée) et renvoie cette chaîne de caractères. On peut aussi préciser un message à\n",
    "afficher directement à côté de la zone de saisie."
   ]
  },
  {
   "cell_type": "code",
   "execution_count": null,
   "id": "e607f699",
   "metadata": {
    "tags": [
     "skip-execution"
    ]
   },
   "outputs": [],
   "source": [
    "nom = input(\"Comment tu t'appelles ?\")\n",
    "print(f\"Salut, {nom}\")"
   ]
  },
  {
   "cell_type": "markdown",
   "id": "1f59fa0b",
   "metadata": {},
   "source": [
    "## Expressions booléennes\n",
    "\n",
    "Les **expressions booléennes** sont les expressions qui ont une valeur de vérité, `True` or `False`.\n",
    "Elles peuvent se construire à l'aide d'opérateurs de comparaison :\n",
    "\n",
    "`==` est vrai si et seulement si ses termes gauches et droits sont égaux"
   ]
  },
  {
   "cell_type": "code",
   "execution_count": null,
   "id": "a43bf2a6",
   "metadata": {},
   "outputs": [],
   "source": [
    "10 + 5 == 15"
   ]
  },
  {
   "cell_type": "code",
   "execution_count": null,
   "id": "c4a3706f",
   "metadata": {},
   "outputs": [],
   "source": [
    "10 == 15"
   ]
  },
  {
   "cell_type": "code",
   "execution_count": null,
   "id": "1aafa6f5",
   "metadata": {},
   "outputs": [],
   "source": [
    "\"Apple\" == \"apple\""
   ]
  },
  {
   "cell_type": "code",
   "execution_count": null,
   "id": "79c1d933",
   "metadata": {},
   "outputs": [],
   "source": [
    "(10 + 5 == 20) == False"
   ]
  },
  {
   "cell_type": "markdown",
   "id": "ab3d53e9",
   "metadata": {},
   "source": [
    "**Attention** il y a bien **deux** signes « égal », pour le différencier de l'opérateur d'affectation\n",
    "\n",
    "L'opérateur inverse, qui vérifie la différence, est `!=` (≠ en ASCII art quoi)"
   ]
  },
  {
   "cell_type": "code",
   "execution_count": null,
   "id": "02ddaca9",
   "metadata": {},
   "outputs": [],
   "source": [
    "1 != 10"
   ]
  },
  {
   "cell_type": "markdown",
   "id": "d5d917f8",
   "metadata": {},
   "source": [
    "Les opérateurs `<`, `>`, `<=` et `>=` fonctionnent comme vous imaginez"
   ]
  },
  {
   "cell_type": "code",
   "execution_count": null,
   "id": "8ee87772",
   "metadata": {},
   "outputs": [],
   "source": [
    "7 < 9"
   ]
  },
  {
   "cell_type": "code",
   "execution_count": null,
   "id": "eac8fa79",
   "metadata": {},
   "outputs": [],
   "source": [
    "8 >= 8"
   ]
  },
  {
   "cell_type": "markdown",
   "id": "0405d20c",
   "metadata": {},
   "source": [
    "L'opérateur `in` vérifie l'inclusion"
   ]
  },
  {
   "cell_type": "code",
   "execution_count": null,
   "id": "7597a2c4",
   "metadata": {},
   "outputs": [],
   "source": [
    "\"world\" in \"Hello world!\""
   ]
  },
  {
   "cell_type": "code",
   "execution_count": null,
   "id": "6e0f8a45",
   "metadata": {},
   "outputs": [],
   "source": [
    "\"Apple\" in \"I love apples\""
   ]
  },
  {
   "cell_type": "markdown",
   "id": "51c67a03",
   "metadata": {},
   "source": [
    "Et `not in` vérifie la non-inclusion"
   ]
  },
  {
   "cell_type": "code",
   "execution_count": null,
   "id": "ffb702da",
   "metadata": {},
   "outputs": [],
   "source": [
    "\"peach\" not in \"I love apples\""
   ]
  },
  {
   "cell_type": "markdown",
   "id": "e50e17d1",
   "metadata": {},
   "source": [
    "L'opérateur `not` inverse la polarité d'un booléen"
   ]
  },
  {
   "cell_type": "code",
   "execution_count": null,
   "id": "cd0799ae",
   "metadata": {},
   "outputs": [],
   "source": [
    "not True"
   ]
  },
  {
   "cell_type": "code",
   "execution_count": null,
   "id": "e8e1f228",
   "metadata": {},
   "outputs": [],
   "source": [
    "not False"
   ]
  },
  {
   "cell_type": "code",
   "execution_count": null,
   "id": "7ec18f35",
   "metadata": {},
   "outputs": [],
   "source": [
    "not (10 + 5 == 15)"
   ]
  },
  {
   "cell_type": "markdown",
   "id": "b7738b3d",
   "metadata": {},
   "source": [
    "On peut donc aussi écrire"
   ]
  },
  {
   "cell_type": "code",
   "execution_count": null,
   "id": "3caf0989",
   "metadata": {},
   "outputs": [],
   "source": [
    "not (\"peach\" in \"I love apples\")"
   ]
  },
  {
   "cell_type": "markdown",
   "id": "7c75d1e5",
   "metadata": {},
   "source": [
    "Mais c'est plus laid et moins efficace que d'utiliser `not in`.\n",
    "\n",
    "On peut également combiner des expressions booléennes avec les opérateurs logiques `and` et `or`\n",
    "\n",
    "- `A and B` est vrai si `A` et `B` sont vraies toutes les deux.\n",
    "- `A or B` est vrai si au moins une des deux expressions `A` et `B` est vraie."
   ]
  },
  {
   "cell_type": "markdown",
   "id": "f13d00d0",
   "metadata": {},
   "source": [
    "### 🤷🏻 Exo 🤷🏻\n",
    "\n",
    "Déterminer sans les exécuter les valeurs de retour de ces instructions :"
   ]
  },
  {
   "cell_type": "markdown",
   "id": "26d90097",
   "metadata": {},
   "source": [
    "```python\n",
    "True and True\n",
    "```\n",
    "\n",
    "```python\n",
    "True and False\n",
    "```\n",
    "\n",
    "```python\n",
    "False or False\n",
    "```\n",
    "\n",
    "```python\n",
    "(False and True) or True\n",
    "```\n",
    "\n",
    "```python\n",
    "False and (True or True)\n",
    "```\n",
    "\n",
    "```python\n",
    "(\"apple\" in \"apples\") and (1 + 1 == 2)\n",
    "```\n",
    "\n",
    "```python\n",
    "(\"apple\" in \"apples\") or (1 + 1 == 5)\n",
    "```\n",
    "\n",
    "```python\n",
    "((\"apple\" in \"apples\") and (1 + 1 == 3)) or (5 < 10)\n",
    "```"
   ]
  },
  {
   "cell_type": "markdown",
   "id": "2630672e",
   "metadata": {},
   "source": [
    "**Puis** vérifiez vos réponses"
   ]
  },
  {
   "cell_type": "code",
   "execution_count": null,
   "id": "a8926f16",
   "metadata": {},
   "outputs": [],
   "source": []
  },
  {
   "cell_type": "markdown",
   "id": "d122791a",
   "metadata": {},
   "source": [
    "Si vous peinez, vous pouvez aller regarder cette vidéo, qui vous donnera peut-être une meilleure\n",
    "intuition des opérateurs booléens"
   ]
  },
  {
   "cell_type": "code",
   "execution_count": null,
   "id": "a20c90ce",
   "metadata": {},
   "outputs": [],
   "source": [
    "IFrame('https://www.youtube.com/embed/sdx9dACkvyI', width=700, height=350)"
   ]
  },
  {
   "cell_type": "markdown",
   "id": "405a9e3e",
   "metadata": {},
   "source": [
    "Une autre façon de voir les opérateurs booléens est d'y penser en termes de tables de vérité. Si\n",
    "vous êtes intéressé⋅es, voici une vidéo sur le sujet :"
   ]
  },
  {
   "cell_type": "code",
   "execution_count": null,
   "id": "c1e00a3a",
   "metadata": {},
   "outputs": [],
   "source": [
    "IFrame('https://www.youtube.com/embed/jbete3iXbdM', width=700, height=350)"
   ]
  },
  {
   "cell_type": "markdown",
   "id": "96fa19d0",
   "metadata": {},
   "source": [
    "## Méthodes des chaînes de caractères\n",
    "\n",
    "Un concept important en TAL est celui de « sac de mots ». Il s'agit d'un modèle sémantique très\n",
    "simple où on fait l'hypothèse que le sens d'un texte peut être représenté par la liste des mots\n",
    "qu'il contient et leurs nombres d'occurrence. Intuitivement, si un texte par d'animaux de compagnie,\n",
    "on s'attend à rencontre plus souvent les mots *chat* ou *chien* que s'il s'agit d'un texte sur la\n",
    "politique française.\n",
    "\n",
    "Certains mots, cependant, apparaissent à peu près avec la même fréquence dans tous les types de\n",
    "textes : *et*, *un*, *la*… On les appelle parfois « mots vides » ou « *stop words* », puisqu'ils\n",
    "n'apportent pas d'information pour ce modèle, et on commence en général par les enlever des textes à\n",
    "représenter.\n",
    "\n",
    "De même, pour beaucoup d'applications en linguistique, la casse (majuscules et minuscules) n'est pas\n",
    "informative. Par exemple pour enlever les *stop words* d'un texte, on veut les enlever peu importe\n",
    "leur casse (*Un*, *un*, *UN*…). Cependant, pour Python, *Un* et *un* des chaînes de caractères\n",
    "différentes."
   ]
  },
  {
   "cell_type": "code",
   "execution_count": null,
   "id": "926295eb",
   "metadata": {},
   "outputs": [],
   "source": [
    "\"un\" == \"UN\""
   ]
  },
  {
   "cell_type": "markdown",
   "id": "7f6540c3",
   "metadata": {},
   "source": [
    "Pour nous aider, il existe une façon de mettre tout en minuscules"
   ]
  },
  {
   "cell_type": "code",
   "execution_count": null,
   "id": "dcf3457a",
   "metadata": {},
   "outputs": [],
   "source": [
    "str.lower(\"UN\")"
   ]
  },
  {
   "cell_type": "code",
   "execution_count": null,
   "id": "f48b32d1",
   "metadata": {},
   "outputs": [],
   "source": [
    "\"un\" == str.lower(\"uN\")"
   ]
  },
  {
   "cell_type": "markdown",
   "id": "cfcf4c28",
   "metadata": {},
   "source": [
    "Les fonctions `str.upper` et `str.title` permettent d'autres normalisations."
   ]
  },
  {
   "cell_type": "code",
   "execution_count": null,
   "id": "68243b2a",
   "metadata": {},
   "outputs": [],
   "source": [
    "print(\"The uppercase of 'the' is '\" + str.upper(\"the\") + \"'.\")"
   ]
  },
  {
   "cell_type": "code",
   "execution_count": null,
   "id": "c8848f99",
   "metadata": {},
   "outputs": [],
   "source": [
    "print(\"The title version of 'hello world' is '\" + str.title(\"hello world\") + \"'.\")"
   ]
  },
  {
   "cell_type": "markdown",
   "id": "0258fb34",
   "metadata": {},
   "source": [
    "Et il existe des fonctions pour vérifier si une chaîne de caractères est normalisée"
   ]
  },
  {
   "cell_type": "markdown",
   "id": "20f31b92",
   "metadata": {},
   "source": [
    "- `str.isupper` vérifie qu'une chaîne de caractères est en majusculese;\n",
    "- `str.islower` vérifie qu'une chaîne de caractères est en minuscules;\n",
    "- `str.istitle` vérifie qu'une chaîne de caractères est en casse de titre.\n"
   ]
  },
  {
   "cell_type": "code",
   "execution_count": null,
   "id": "304d2f3c",
   "metadata": {},
   "outputs": [],
   "source": [
    "str.isupper(\"HELLO WORLD!\")"
   ]
  },
  {
   "cell_type": "code",
   "execution_count": null,
   "id": "9afb62e5",
   "metadata": {},
   "outputs": [],
   "source": [
    "str.islower(\"hello world!\")"
   ]
  },
  {
   "cell_type": "code",
   "execution_count": null,
   "id": "4bafb04f",
   "metadata": {},
   "outputs": [],
   "source": [
    "str.istitle(\"Hello World!\")"
   ]
  },
  {
   "cell_type": "markdown",
   "id": "1624cfb9",
   "metadata": {},
   "source": [
    "Une autre fonction utile est `len`. Pouvez-vous deviner ce qu'elle fait …"
   ]
  },
  {
   "cell_type": "code",
   "execution_count": null,
   "id": "6de244e7",
   "metadata": {
    "lines_to_next_cell": 2
   },
   "outputs": [],
   "source": [
    "len(\"Hello world!\")"
   ]
  },
  {
   "cell_type": "code",
   "execution_count": null,
   "id": "16ba4769",
   "metadata": {},
   "outputs": [],
   "source": [
    "len(\"computational linguistics\")"
   ]
  },
  {
   "cell_type": "code",
   "execution_count": null,
   "id": "3b67d47b",
   "metadata": {},
   "outputs": [],
   "source": [
    "len(25)"
   ]
  },
  {
   "cell_type": "markdown",
   "id": "6ee67320",
   "metadata": {},
   "source": [
    "## 🦾 Exercices 🦾\n",
    "\n",
    "Répondre à ces exercices directement dans le notebook, le sauvegarder sous un nom de la forme\n",
    "`01_io_variables_chaines_PRENOM_NOM.ipynb` (pour Morgan Lefeuvre par exemple, ce serait\n",
    "`01_io_variables_chaines_Morgan_Lefeuvre.ipynb`) et me l'envoyer avant le prochain cours à\n",
    "`<lgrobol@parisnanterre.fr>`.\n",
    "\n",
    "**Assurez-vous bien que l'extension du fichier est `ipynb`.**"
   ]
  },
  {
   "cell_type": "markdown",
   "id": "9cc2fe49",
   "metadata": {},
   "source": [
    "### Exercice 1\n",
    "\n",
    "Étant donné le paragraphe suivant"
   ]
  },
  {
   "cell_type": "code",
   "execution_count": null,
   "id": "c4cbd382",
   "metadata": {},
   "outputs": [],
   "source": [
    "texte = \"Toi dont le trône étincelle, ô immortelle\" \\\n",
    "        \"Aphrodite, fille de Zeus, ourdisseuse de\" \\\n",
    "        \"trames, je t'implore : ne laisse pas, ô\" \\\n",
    "        \"souveraine, dégoûts ou chagrins affliger\" \\\n",
    "        \"mon âme,\" \\\n",
    "        \"Mais viens ici, si jamais autrefois\" \\\n",
    "        \"entendant de loin ma voix, tu m'as\" \\\n",
    "        \"écoutée, quand, quittant la demeure\" \\\n",
    "        \"dorée de ton père tu venais, Après avoir\" \\\n",
    "        \"attelé ton char,\" \\\n",
    "        \"de beaux passereaux rapides\" \\\n",
    "        \"t'entraînaient autour de la terre\" \\\n",
    "        \"sombre,secouant leurs ailes serrées et du\" \\\n",
    "        \"haut du ciel tirant droit à travers l'éther.\""
   ]
  },
  {
   "cell_type": "markdown",
   "id": "efcfc3ac",
   "metadata": {},
   "source": [
    "Écrire un programme qui demande à l'utilisateurice de saisir un mot, puis vérifie si ce mot est dans\n",
    "le texte."
   ]
  },
  {
   "cell_type": "markdown",
   "id": "49f283df",
   "metadata": {},
   "source": [
    "### Exercice 2\n",
    "\n",
    "Écrire un programme qui vérifie si le mot *banane* est contenue dans une entrée récupérée avec\n",
    "`input`, en quelle que soit la casse."
   ]
  },
  {
   "cell_type": "markdown",
   "id": "defc6283",
   "metadata": {},
   "source": [
    "### Exercice 3\n",
    "\n",
    "Écrire un programme qui demande à son utilisateurice son année de naissance et affiche l'âge qu'aura\n",
    "cette personne en 2022.\n",
    "\n",
    "Indice : `int`"
   ]
  },
  {
   "cell_type": "markdown",
   "id": "bd49b005",
   "metadata": {},
   "source": [
    "### Exercice 4\n",
    "\n",
    "Demander à l'utilisateurice d'entrer un nombre minimal de caractères pour qu'un mot soit considéré\n",
    "comme long. Puis lui demander de saisir un mot et lui afficher `True` si le mot est long et `False`\n",
    "sinon.\n",
    "\n",
    "Bonus : alternativement, afficher `\"😱\"` si le mot est long et ne rien afficher sinon."
   ]
  },
  {
   "cell_type": "markdown",
   "id": "cde1323e",
   "metadata": {},
   "source": [
    "### Réflexion\n",
    "\n",
    "Quelques points auxquels réfléchir\n",
    "\n",
    "- Combien de temps avez-vous passé à faire ces exercices ?\n",
    "- Qu'est-ce qui vous a paru le plus compliqué ?\n",
    "- À votre avis, pourquoi ?"
   ]
  }
 ],
 "metadata": {
  "jupytext": {
   "formats": "ipynb,md",
   "split_at_heading": true
  },
  "kernelspec": {
   "display_name": "Python 3 (ipykernel)",
   "language": "python",
   "name": "python3"
  }
 },
 "nbformat": 4,
 "nbformat_minor": 5
}
