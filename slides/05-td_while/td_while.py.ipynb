{
 "cells": [
  {
   "cell_type": "markdown",
   "id": "27ea776e",
   "metadata": {
    "lines_to_next_cell": 0
   },
   "source": [
    "<!-- LTeX: language=fr -->"
   ]
  },
  {
   "cell_type": "markdown",
   "id": "202029a7",
   "metadata": {
    "slideshow": {
     "slide_type": "slide"
    }
   },
   "source": [
    "Cours 5 : Exercices et compléments sur les boucles\n",
    "==================================================\n",
    "\n",
    "**Loïc Grobol** [<lgrobol@parisnanterre.fr>](mailto:lgrobol@parisnanterre.fr)\n",
    "\n",
    "2022-02-08"
   ]
  },
  {
   "cell_type": "markdown",
   "id": "ba7ca5de",
   "metadata": {},
   "source": [
    "Dans ce notebook\n",
    "\n",
    "- Des exercices.\n",
    "- La boucle conditionnelle `while`.\n",
    "- Encore des exercices.\n",
    "- *Mutabilité* des listes.\n",
    "- Toujours des exercices ?"
   ]
  },
  {
   "cell_type": "markdown",
   "id": "d37f714f",
   "metadata": {},
   "source": [
    "## 🔄 Exo 🔄\n",
    "\n",
    "Voici une liste"
   ]
  },
  {
   "cell_type": "code",
   "execution_count": null,
   "id": "6ac28bca",
   "metadata": {},
   "outputs": [],
   "source": [
    "fruits = [\"pomme\", \"poire\", \"kiwi\", \"maracuja\"]"
   ]
  },
  {
   "cell_type": "markdown",
   "id": "7d7b8db6",
   "metadata": {},
   "source": [
    "Demandez à l'utilisateurice un nom de fruit et affichez `\"😋\"` s'il est dans la liste et `\"🤨\"`\n",
    "sinon."
   ]
  },
  {
   "cell_type": "code",
   "execution_count": null,
   "id": "8f8d4e0c",
   "metadata": {},
   "outputs": [],
   "source": [
    "reponse = input(\"Quel fruit ? \")\n",
    "\n",
    "if reponse in fruits:\n",
    "    print(\"😋\")\n",
    "else:\n",
    "    print(\"🤨\")"
   ]
  },
  {
   "cell_type": "markdown",
   "id": "abadb2ae",
   "metadata": {},
   "source": [
    "## Blockly games\n",
    "\n",
    "- [Le labyrinthe](https://blockly.games/maze?lang=fr)\n",
    "- Si vous vous ennuyez : [turtle dans Blockly](https://blockly.games/turtle?lang=fr), vous pouvez\n",
    "  aussi faire les mêmes exercices avec `turtle` en Python, ce sont des bons entraînements."
   ]
  },
  {
   "cell_type": "markdown",
   "id": "a3c0c34c",
   "metadata": {},
   "source": [
    "## Boucle conditionnelle `while`\n",
    "\n",
    "Les boucles **itératives** `for` permettent de parcourir une séquence, en accédant à ses éléments\n",
    "les uns à la suite des autres et en exécutant à chaque itération (chaque « tour ») une même série\n",
    "d'instructions.\n",
    "\n",
    "La boucle **conditionnelle** `while` (« tant que ») permet elle aussi de répéter plusieurs fois une\n",
    "série d'instructions, mais au lieu d'être contrôlée par une séquence, elle est contrôlée par une\n",
    "condition :"
   ]
  },
  {
   "cell_type": "code",
   "execution_count": null,
   "id": "7205036c",
   "metadata": {},
   "outputs": [],
   "source": [
    "nombre = 0\n",
    "while nombre <= 10:\n",
    "    print(nombre)\n",
    "    nombre = nombre + 1"
   ]
  },
  {
   "cell_type": "markdown",
   "id": "ff762cd7",
   "metadata": {},
   "source": [
    "Pouvez-vous expliquer le comportement de cette cellule ?\n",
    "\n",
    "---"
   ]
  },
  {
   "cell_type": "markdown",
   "id": "ff2fae44",
   "metadata": {},
   "source": [
    "La structure introduite par `while` permet d'exécuter une série d'instructions, un *bloc*,\n",
    "matérialisé comme d'habitude par l'indentation tant qu'une certaine condition est vraie. Sa syntaxe,\n",
    "qui ressemble à celle de l'instruction conditionnelle `if` est la suivante :\n",
    "\n",
    "```python\n",
    "while condition:\n",
    "    # code that will be executed while condition is true\n",
    "```\n"
   ]
  },
  {
   "cell_type": "markdown",
   "id": "c4aafd9b",
   "metadata": {},
   "source": [
    "La différence cruciale avec `if`, est que, avec `while`, le bloc est exécuté autant de fois que la\n",
    "condition est vraie, et pas seulement une fois. Comparez ainsi :"
   ]
  },
  {
   "cell_type": "code",
   "execution_count": null,
   "id": "6bf31dc8",
   "metadata": {},
   "outputs": [],
   "source": [
    "n = 5\n",
    "if n < 7:\n",
    "    print(n)\n",
    "    n = n+1"
   ]
  },
  {
   "cell_type": "markdown",
   "id": "d8b5aa31",
   "metadata": {},
   "source": [
    "avec :"
   ]
  },
  {
   "cell_type": "code",
   "execution_count": null,
   "id": "8452e347",
   "metadata": {},
   "outputs": [],
   "source": [
    "n = 5\n",
    "while n < 7:\n",
    "    print(n)\n",
    "    n = n + 1"
   ]
  },
  {
   "cell_type": "markdown",
   "id": "55add82d",
   "metadata": {},
   "source": [
    "En Python, on préfère en général utiliser des boucles `for` — qui sont plus adaptée à l'organisation\n",
    "du langage — et les boucle `while` ont tendance à être moins utilisées. Cependant, on peut\n",
    "facilement simuler une boucle `for` avec une boucle `while`. Ainsi :"
   ]
  },
  {
   "cell_type": "code",
   "execution_count": null,
   "id": "f4cc0213",
   "metadata": {},
   "outputs": [],
   "source": [
    "l = [\"spam\", \"spam\", \"lovely spam\", \"wonderful spam\"]\n",
    "for s in l:\n",
    "    print(s)"
   ]
  },
  {
   "cell_type": "markdown",
   "id": "4a4aa5b5",
   "metadata": {},
   "source": [
    "est équivalent à"
   ]
  },
  {
   "cell_type": "code",
   "execution_count": null,
   "id": "62df742e",
   "metadata": {},
   "outputs": [],
   "source": [
    "l = [\"spam\", \"spam\", \"lovely spam\", \"wonderful spam\"]\n",
    "i = 0\n",
    "while i < len(l):\n",
    "    print(l[i])\n",
    "    i = i + 1"
   ]
  },
  {
   "cell_type": "markdown",
   "id": "1867b923",
   "metadata": {},
   "source": [
    "Inversement, il n'est pas évident de simuler le comportement suivant avec une boucle `for`"
   ]
  },
  {
   "cell_type": "code",
   "execution_count": null,
   "id": "b3b39810",
   "metadata": {
    "tags": [
     "skip-execution"
    ]
   },
   "outputs": [],
   "source": [
    "ingredients_disponibles = [\"piment\", \"poireau\", \"champignon\", \"carotte\"]\n",
    "ingredient = input(\"Donne-moi un ingrédient: \")\n",
    "\n",
    "while ingredient not in ingredients_disponibles:\n",
    "    ingredient = input(\"Donne-moi un ingrédient: \")\n",
    "    \n",
    "print(\"Ah, oui,\", ingredient, \"j'en ai\")"
   ]
  },
  {
   "cell_type": "markdown",
   "id": "8a07084c",
   "metadata": {},
   "source": [
    "---\n",
    "\n",
    "Que se passe-t-il si la condition est fausse dès le début ?"
   ]
  },
  {
   "cell_type": "code",
   "execution_count": null,
   "id": "7ce59bba",
   "metadata": {},
   "outputs": [],
   "source": [
    "n = 8\n",
    "while n < 7:\n",
    "    print(n)\n",
    "    n = n + 1"
   ]
  },
  {
   "cell_type": "markdown",
   "id": "66a04a0b",
   "metadata": {},
   "source": [
    "Pouvez-vous en déduire ce qui se passe dans ce cas ?"
   ]
  },
  {
   "cell_type": "code",
   "execution_count": null,
   "id": "b9a06963",
   "metadata": {},
   "outputs": [],
   "source": [
    "while False:\n",
    "    print(\"Bonjour !\")"
   ]
  },
  {
   "cell_type": "markdown",
   "id": "4d8ca7ac",
   "metadata": {},
   "source": [
    "Et dans ce cas ? **Attention, réfléchissez avant d'exécuter la cellule.**"
   ]
  },
  {
   "cell_type": "code",
   "execution_count": null,
   "id": "e3f8bf45",
   "metadata": {
    "tags": [
     "skip-execution"
    ]
   },
   "outputs": [],
   "source": [
    "while True:\n",
    "    print(\"spam\")"
   ]
  },
  {
   "cell_type": "markdown",
   "id": "37248e03",
   "metadata": {},
   "source": [
    "Vous pouvez interrompre l'exécution en appuyant deux fois sur `i`. Redémarrez ensuite le kernel.\n",
    "\n",
    "---\n",
    "\n",
    "Quand on utilise `while`, il faut toujours s'assurer que la condition peut devenir fausse (qu'on\n",
    "puisse la **falsifier**), autrement il s'agira d'une **boucle infinie**. On peut vouloir le faire\n",
    "exprès, mais il faut quand même un mécanisme pour sortir d'une telle boucle, sinon le programme ne\n",
    "s'arrête jamais.\n",
    "\n",
    "Enfin, il peut arriver qu'on veuille interrompre l'exécution d'une boucle avant que la condition\n",
    "soit falsifiée. C'est possible avec l'instruction `break` :"
   ]
  },
  {
   "cell_type": "code",
   "execution_count": null,
   "id": "f28114df",
   "metadata": {},
   "outputs": [],
   "source": [
    "n = 0\n",
    "while n < 9:\n",
    "    print(n)\n",
    "    if n == 7:\n",
    "        break\n",
    "    n = n + 1"
   ]
  },
  {
   "cell_type": "markdown",
   "id": "0cfafcee",
   "metadata": {},
   "source": [
    "On peut toujours faire sans et pour l'instant ça ne nous sera pas trop utile, mais si jamais vous\n",
    "tombez dessus vous saurez de quoi il s'agit."
   ]
  },
  {
   "cell_type": "markdown",
   "id": "90861096",
   "metadata": {},
   "source": [
    "## Codingame\n",
    "\n",
    "- [Onboarding](https://www.codingame.com/training/easy/onboarding)\n",
    "- [Power of Thor E01](https://www.codingame.com/training/easy/power-of-thor-episode-1)"
   ]
  },
  {
   "cell_type": "markdown",
   "id": "edbc96bc",
   "metadata": {},
   "source": [
    "## 🤔 Exo 🤔\n",
    "\n",
    "On peut obtenir un entier aléatoire en utilisant la fonction `randint` du module `random` :"
   ]
  },
  {
   "cell_type": "code",
   "execution_count": null,
   "id": "abf71488",
   "metadata": {},
   "outputs": [],
   "source": [
    "import random"
   ]
  },
  {
   "cell_type": "code",
   "execution_count": null,
   "id": "79aef2e3",
   "metadata": {},
   "outputs": [],
   "source": [
    "random.randint(4, 8)"
   ]
  },
  {
   "cell_type": "markdown",
   "id": "57583e8f",
   "metadata": {},
   "source": [
    "Écrivez un programme qui :\n",
    "\n",
    "- Choisit aléatoirement un nombre entre $1$ et $10$\n",
    "- Demande à l'utilisateurice de deviner le nombre en lui proposant de réessayer tant que le nombre\n",
    "  n'a pas été trouvé.\n",
    "\n",
    "Exemple de sortie :\n",
    "\n",
    "```text\n",
    "J'ai choisi un nombre entre 1 et 10. Essaie de le deviner !\n",
    "Fais ton choix: 1\n",
    "Essaie encore: 5\n",
    "Essaie encore: 7\n",
    "Essaie encore: 2\n",
    "Bravo! C'était bien 2\n",
    "```"
   ]
  }
 ],
 "metadata": {
  "jupytext": {
   "formats": "ipynb,md",
   "split_at_heading": true
  },
  "kernelspec": {
   "display_name": "Python 3 (ipykernel)",
   "language": "python",
   "name": "python3"
  }
 },
 "nbformat": 4,
 "nbformat_minor": 5
}
