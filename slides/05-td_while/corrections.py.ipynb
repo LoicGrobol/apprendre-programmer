{
 "cells": [
  {
   "cell_type": "markdown",
   "id": "2817881b",
   "metadata": {
    "lines_to_next_cell": 0
   },
   "source": [
    "<!-- LTeX: language=fr -->"
   ]
  },
  {
   "cell_type": "markdown",
   "id": "6c9cccf6",
   "metadata": {
    "slideshow": {
     "slide_type": "slide"
    }
   },
   "source": [
    "Cours 5 : Corrections\n",
    "=====================\n",
    "\n",
    "**Loïc Grobol** [<lgrobol@parisnanterre.fr>](mailto:lgrobol@parisnanterre.fr)\n",
    "\n",
    "2022-02-21"
   ]
  },
  {
   "cell_type": "markdown",
   "id": "fe3419a3",
   "metadata": {},
   "source": [
    "## 🔄 Exo 🔄\n",
    "\n",
    "Voici une liste"
   ]
  },
  {
   "cell_type": "code",
   "execution_count": null,
   "id": "69a28d43",
   "metadata": {},
   "outputs": [],
   "source": [
    "fruits = [\"pomme\", \"poire\", \"kiwi\", \"maracuja\"]"
   ]
  },
  {
   "cell_type": "markdown",
   "id": "1aba807b",
   "metadata": {},
   "source": [
    "Demandez à l'utilisateurice un nom de fruit et affichez `\"😋\"` s'il est dans la liste et `\"🤨\"`\n",
    "sinon."
   ]
  },
  {
   "cell_type": "code",
   "execution_count": null,
   "id": "44c945fa",
   "metadata": {
    "tags": [
     "skip-execution"
    ]
   },
   "outputs": [],
   "source": [
    "reponse = input(\"Quel fruit ? \")\n",
    "\n",
    "if reponse in fruits:\n",
    "    print(\"😋\")\n",
    "else:\n",
    "    print(\"🤨\")"
   ]
  },
  {
   "cell_type": "markdown",
   "id": "b92b3ab0",
   "metadata": {},
   "source": [
    "## Blockly games\n",
    "\n",
    "→ Voir par exemple les solutions sur\n",
    "<https://s4scoding.com/googles-blockly-games-maze-1-10-solutions>."
   ]
  },
  {
   "cell_type": "markdown",
   "id": "84bc98b2",
   "metadata": {},
   "source": [
    "## Power of Thor\n",
    "\n",
    "> [Power of Thor E01](https://www.codingame.com/training/easy/power-of-thor-episode-1)"
   ]
  },
  {
   "cell_type": "markdown",
   "id": "375ab920",
   "metadata": {},
   "source": [
    "\n",
    "On peut penser à une première version basique : on cherche d'abord à avoir la bonne abscisse, puis\n",
    "la bonne ordonnée :\n",
    "\n",
    "```python\n",
    "# Code original pour réupérer les positions\n",
    "light_x, light_y, initial_tx, initial_ty = [int(i) for i in input().split()]\n",
    "\n",
    "# **AJOUTS** on garde en mémoire la position actuelle\n",
    "current_tx = initial_tx\n",
    "current_ty = initial_ty\n",
    "\n",
    "while True:\n",
    "    # À conserver pour faire plaisir à CodinGame\n",
    "    remaining_turns = int(input())\n",
    "\n",
    "    if light_x > current_tx:\n",
    "        print(\"E\")\n",
    "        current_tx = current_tx + 1\n",
    "    elif light_x < current_tx:\n",
    "        print(\"W\")\n",
    "        current_tx = current_tx - 1\n",
    "    # Attention : les ordonnées vont de haut en bas\n",
    "    elif light_y > current_ty:\n",
    "        print(\"S\")\n",
    "        current_ty = current_ty + 1\n",
    "    else:\n",
    "        print(\"N\")\n",
    "        current_ty = current_ty - 1\n",
    "```\n",
    "\n",
    "Problème, ça ne marche pas pour le test 4 « *optimal angle* ». Ce qui cloche c'est qu'on utilise pas\n",
    "les diagonales, ce qui nous fait perdre du temps. On peut arranger ça en combinant les cas quand on\n",
    "doit changer à la fois d'abscisse et d'ordonnée :\n",
    "\n",
    "```python\n",
    "light_x, light_y, initial_tx, initial_ty = [int(i) for i in input().split()]\n",
    "\n",
    "current_tx = initial_tx\n",
    "current_ty = initial_ty\n",
    "\n",
    "while True:\n",
    "    remaining_turns = int(input())\n",
    "\n",
    "    if light_x > current_tx:\n",
    "        if light_y > current_ty:\n",
    "            print(\"SE\")\n",
    "            current_ty = current_ty + 1\n",
    "        elif light_y < current_ty:\n",
    "            print(\"NE\")\n",
    "            current_ty = current_ty - 1\n",
    "        else:\n",
    "            print(\"E\")\n",
    "        current_tx = current_tx + 1\n",
    "    elif light_x < current_tx:\n",
    "        if light_y > current_ty:\n",
    "            print(\"SW\")\n",
    "            current_ty = current_ty + 1\n",
    "        elif light_y < current_ty:\n",
    "            print(\"NW\")\n",
    "            current_ty = current_ty - 1\n",
    "        else:\n",
    "            print(\"W\")\n",
    "        current_tx = current_tx - 1\n",
    "    elif light_y > current_ty:\n",
    "        print(\"S\")\n",
    "        current_ty = current_ty + 1\n",
    "    else:\n",
    "        print(\"N\")\n",
    "        current_ty = current_ty - 1\n",
    "```\n",
    "\n",
    "Ce coup-ci ça marche, par contre, c'est très verbeux : on se répète beaucoup. Voici une solution\n",
    "plus compacte en déterminant indépendamment les déplacements sur chacun des axes et en combinant les\n",
    "résultats à la fin :\n",
    "\n",
    "```python\n",
    "light_x, light_y, initial_tx, initial_ty = [int(i) for i in input().split()]\n",
    "\n",
    "current_tx = initial_tx\n",
    "current_ty = initial_ty\n",
    "\n",
    "while True:\n",
    "    remaining_turns = int(input())\n",
    "    \n",
    "    if light_x > current_tx:\n",
    "        direction_ew = \"E\"\n",
    "        current_tx = current_tx + 1\n",
    "    elif light_x < current_tx:\n",
    "        direction_ew = \"W\"\n",
    "        current_tx = current_tx - 1\n",
    "    else:\n",
    "        direction_ew = \"\"\n",
    "    \n",
    "    if light_y > current_ty:\n",
    "        direction_sw = \"S\"\n",
    "        current_ty = current_ty + 1\n",
    "    elif light_y < current_ty\n",
    "        direction_sw = \"N\"\n",
    "        current_ty = current_ty - 1\n",
    "    else:\n",
    "        direction_sw = \"\"\n",
    "\n",
    "    print(direction_sw + direction_ew)\n",
    "```\n",
    "\n",
    "Comme d'habitude, il y a beaucoup d'autres solutions et en particulier des beaucoup plus compactes. C'est un bon entraînement de chercher la façon de résoudre ce problème en un minimum de caractères, on dit qu'on fait du *Code Golf*.\n"
   ]
  },
  {
   "cell_type": "markdown",
   "id": "6dc8dc59",
   "metadata": {},
   "source": [
    "## 🤔 Exo 🤔\n",
    "\n",
    "> On peut obtenir un entier aléatoire en utilisant la fonction `randint` du module `random` :"
   ]
  },
  {
   "cell_type": "code",
   "execution_count": null,
   "id": "1319d1ea",
   "metadata": {},
   "outputs": [],
   "source": [
    "import random"
   ]
  },
  {
   "cell_type": "code",
   "execution_count": null,
   "id": "50ca1291",
   "metadata": {},
   "outputs": [],
   "source": [
    "random.randint(4, 8)"
   ]
  },
  {
   "cell_type": "markdown",
   "id": "cb218591",
   "metadata": {},
   "source": [
    "> Écrivez un programme qui :\n",
    "\n",
    "> - Choisit aléatoirement un nombre entre $1$ et $10$\n",
    "> - Demande à l'utilisateurice de deviner le nombre en lui proposant de réessayer tant que le nombre\n",
    ">   n'a pas été trouvé.\n",
    ">\n",
    "> Exemple de sortie :\n",
    ">\n",
    "> ```text\n",
    "> J'ai choisi un nombre entre 1 et 10. Essaie de le deviner !\n",
    "> Fais ton choix: 1\n",
    "> Essaie encore: 5\n",
    "> Essaie encore: 7\n",
    "> Essaie encore: 2\n",
    "> Bravo! C'était bien 2\n",
    "> ```"
   ]
  },
  {
   "cell_type": "code",
   "execution_count": null,
   "id": "cf4566fa",
   "metadata": {
    "tags": [
     "skip-execution"
    ]
   },
   "outputs": [],
   "source": [
    "nombre_secret = random.randint(1, 10)\n",
    "print(\"J'ai choisi un nombre entre 1 et 10. Essaie de le deviner !\")\n",
    "essai = int(input(\"Fais ton choix: \"))\n",
    "while essai != nombre_secret:\n",
    "    essai = int(input(\"Essaie encore:\"))\n",
    "print(\"Bravo! C'était bien\", nombre_secret)"
   ]
  }
 ],
 "metadata": {
  "jupytext": {
   "formats": "ipynb,md",
   "split_at_heading": true
  },
  "kernelspec": {
   "display_name": "Python 3 (ipykernel)",
   "language": "python",
   "name": "python3"
  }
 },
 "nbformat": 4,
 "nbformat_minor": 5
}
