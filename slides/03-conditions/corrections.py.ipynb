{
 "cells": [
  {
   "cell_type": "markdown",
   "id": "4a3745ee",
   "metadata": {
    "lines_to_next_cell": 0
   },
   "source": [
    "<!-- LTeX: language=fr -->"
   ]
  },
  {
   "cell_type": "markdown",
   "id": "432fedaf",
   "metadata": {
    "slideshow": {
     "slide_type": "slide"
    }
   },
   "source": [
    "Cours 3 : Corrections\n",
    "=====================\n",
    "\n",
    "**Loïc Grobol** [<lgrobol@parisnanterre.fr>](mailto:lgrobol@parisnanterre.fr)\n",
    "\n",
    "2022-01-25"
   ]
  },
  {
   "cell_type": "markdown",
   "id": "bf039962",
   "metadata": {},
   "source": [
    "## 🐁 Exo 🐁\n",
    "\n",
    "Pouvez-vous simplifier le code précédent de telle sorte qu'il soit équivalent (c'est-à-dire qu'il\n",
    "donne les mêmes sorties si on lui donne les mêmes entrées), mais en utilisant moins d'instructions ?\n",
    "\n",
    "Vous pouvez faire des tests dans la cellule de code ci-dessous :"
   ]
  },
  {
   "cell_type": "code",
   "execution_count": null,
   "id": "a3e58b61",
   "metadata": {
    "tags": [
     "skip-execution"
    ]
   },
   "outputs": [],
   "source": [
    "print(\"Tu aimes bavarder ?\")\n",
    "answer = input()\n",
    "\n",
    "talkative = (answer == \"oui\")\n",
    "\n",
    "if talkative:\n",
    "    print(\"On discute ?\")\n",
    "    \n",
    "print(\"Ravie de te connaître en tout cas.\")"
   ]
  },
  {
   "cell_type": "code",
   "execution_count": null,
   "id": "cf24947f",
   "metadata": {
    "tags": [
     "skip-execution"
    ]
   },
   "outputs": [],
   "source": [
    "print(\"Tu aimes bavarder ?\")\n",
    "answer = input()\n",
    "\n",
    "if answer == \"oui\":\n",
    "    print(\"On discute ?\")\n",
    "    \n",
    "print(\"Ravie de te connaître en tout cas.\")"
   ]
  },
  {
   "cell_type": "markdown",
   "id": "0db7530d",
   "metadata": {},
   "source": [
    "Dernière version, un peu **trop** synthétique :"
   ]
  },
  {
   "cell_type": "code",
   "execution_count": null,
   "id": "6006c4c6",
   "metadata": {
    "tags": [
     "skip-execution"
    ]
   },
   "outputs": [],
   "source": [
    "print(\"Tu aimes bavarder ?\")\n",
    "\n",
    "if input() == \"oui\":\n",
    "    print(\"On discute ?\")\n",
    "    \n",
    "print(\"Ravie de te connaître en tout cas.\")"
   ]
  },
  {
   "cell_type": "markdown",
   "id": "85e30914",
   "metadata": {},
   "source": [
    "## 🦾 Entraînement 🦾\n",
    "\n",
    "> Réécrire le code précédent en utilisant `elif` et une expression booléenne complexe, comme dans ce\n",
    "> qui suit"
   ]
  },
  {
   "cell_type": "code",
   "execution_count": null,
   "id": "94f12189",
   "metadata": {},
   "outputs": [],
   "source": [
    "test = \"Le chat est content\"\n",
    "\n",
    "if \"chat\" in test and \"content\" in test:\n",
    "    print(\"Hello\")\n",
    "else:\n",
    "    print(\"bye\")"
   ]
  },
  {
   "cell_type": "code",
   "execution_count": null,
   "id": "72803b2e",
   "metadata": {
    "tags": [
     "skip-execution"
    ]
   },
   "outputs": [],
   "source": [
    "user_mood = input(\"Quelle est ton humeur: \")\n",
    "\n",
    "if \"heureu\" in user_mood and \"relax\" in user_mood:\n",
    "    print(\"😄\")\n",
    "    print(\"😌\")\n",
    "elif\"heureu\" in user_mood:\n",
    "    print(\"😄\")\n",
    "    print(\"🫂\")\n",
    "else:\n",
    "    print(\"💜\")"
   ]
  },
  {
   "cell_type": "markdown",
   "id": "24c56b56",
   "metadata": {},
   "source": [
    "## 💬 Entraînement 💬 : un chatbot basique\n",
    "\n",
    "Demandez à votre utilisateurice si son humeur est bavarde. Si la réponse n'est pas « oui »,\n",
    "souhaitez-lui une bonne journée. Sinon, demandez lui comment ça va et répondez différemment suivant\n",
    "que sa réponse contient les mots\n",
    "\n",
    "- « bien » ou « bon »\n",
    "- « mal » ou « mauvais » ou « horrible »\n",
    "- n'importe quoi d'autres"
   ]
  },
  {
   "cell_type": "code",
   "execution_count": null,
   "id": "10fcfc04",
   "metadata": {
    "tags": [
     "skip-execution"
    ]
   },
   "outputs": [],
   "source": [
    "talkative = input(\"Es-tu d'humeur bavarde ? \")\n",
    "\n",
    "if talkative.lower() == \"oui\":\n",
    "    mood = input(\"Et de quelle humeur es-tu ? \").lower()\n",
    "    if \"bien\" in mood or \"bon\" in mood:\n",
    "        print(\"Ah, top, ça fait plaisir !\")\n",
    "    elif \"mal\" in mood or \"mauvais\" in mood:\n",
    "        print(\"Oh non, je suis vraiment désolé⋅e !\")\n",
    "    else:\n",
    "        print(\"Je ne sais pas ce que ça veut dire, pardon.\")"
   ]
  },
  {
   "cell_type": "markdown",
   "id": "54d0d4dc",
   "metadata": {},
   "source": [
    "## Exercices"
   ]
  },
  {
   "cell_type": "markdown",
   "id": "90eae728",
   "metadata": {},
   "source": [
    "### Exercice 1"
   ]
  },
  {
   "cell_type": "markdown",
   "id": "322a1167",
   "metadata": {},
   "source": [
    "> Demander à l'utilisateurice d'entrer un nombre minimal de caractères pour qu'un mot soit considéré\n",
    "> comme long. Puis lui demander de saisir un mot et afficher `\"😱\"` si le mot est long et `\"😌\"`\n",
    "> sinon."
   ]
  },
  {
   "cell_type": "code",
   "execution_count": null,
   "id": "90a77074",
   "metadata": {
    "tags": [
     "skip-execution"
    ]
   },
   "outputs": [],
   "source": [
    "long_len = int(input(\"Long, c'est combien de caractères ? \"))\n",
    "mot = input(\"Saisir un mot :\")\n",
    "if len(mot) >= long_len:\n",
    "    print(\"😱\")\n",
    "else:\n",
    "    print(\"😌\")"
   ]
  },
  {
   "cell_type": "markdown",
   "id": "ff31198a",
   "metadata": {},
   "source": [
    "### 🐉 Exercice 2 🐉\n",
    "\n",
    "> Dans le jeu de rôle Donjons et Dragons, les personnages ont un alignement qui les positionne sur\n",
    "> deux axes : loyal—neutre—chaotique et bon—neutre—mauvais. Le choix d'un alignement détermine les\n",
    "> classes possibles pour ce personnage :\n",
    ">\n",
    "> - Les paladins sont loyal bon\n",
    "> - Les antipaladins sont chaotiques mauvais\n",
    "> - Les moines sont de n'importe quel alignement loyal\n",
    "> - Les roublards sont de n'importe quel alignement qui n'est pas loyal\n",
    "> - Les druides sont de n'importe quel alignement neutre (sur n'import lequel des deux axes)\n",
    "> - Les guerriers peuvent être de n'importe quel alignement\n",
    ">\n",
    "> Écrire un programme qui demande de choisir un alignement et affiche les classes de personnages\n",
    "> disponibles. Voici un exemple d'à quoi pourrait ressembler une session d'utilisation de ce\n",
    "> programme\n",
    ">\n",
    "> ```text\n",
    "> Choisir un alignement parmis loyal—neutre—chaotique: chaotique\n",
    "> Choisir un alignement parmis bon—neutre—mauvais: bon\n",
    ">\n",
    "> Vous êtes chaotique bon. Vous pouvez être :\n",
    ">\n",
    "> - Roublard\n",
    "> - Guerrier\n",
    "> ```\n",
    ">\n",
    "> La liste affichée ne doit pas contenir de doublons.\n",
    ">\n",
    "> **Conseil** avant de commencer à coder, commencez par dessiner ou écrire sur papier la structure\n",
    "> qu'aura votre programme\n",
    ">\n",
    "> - Combien de branches conditionnelles y aura-t-il ?\n",
    "> - Quelles conditions dépendent les unes des autres ?\n",
    "> - Comment vais-je gérer les imbrications ?"
   ]
  },
  {
   "cell_type": "code",
   "execution_count": null,
   "id": "c335f781",
   "metadata": {
    "lines_to_next_cell": 2,
    "tags": [
     "skip-execution"
    ]
   },
   "outputs": [],
   "source": [
    "law = input(\"Choisir un alignement parmis loyal—neutre—chaotique : \")\n",
    "moral = input(\"Choisir un alignement parmis bon—neutre—mauvais : \")\n",
    "\n",
    "print(\"Vous êtes\", law, moral, \"Vous pouvez être :\")\n",
    "\n",
    "print(\"- Guerrier\")\n",
    "\n",
    "if law == \"loyal\":\n",
    "    if moral == \"bon\":\n",
    "        print(\"- Paladin\")\n",
    "    print(\"- Moine\")\n",
    "else:\n",
    "    print(\"- Roublard⋅e\")\n",
    "\n",
    "# On aurait pû imbriquer ceci dans le `else` précédent mais ça n'apporte pas grand chose\n",
    "if law == \"chaotique\" and moral == \"mauvais\":\n",
    "    print(\"- Antipaladin\")\n",
    "\n",
    "# Imbriquer ceci dans les tests précédents nous obligerait à dupliquer du code\n",
    "if law == \"neutre\" or moral == \"neutre\":\n",
    "    print(\"- Druide\")"
   ]
  },
  {
   "cell_type": "markdown",
   "id": "f106592b",
   "metadata": {},
   "source": [
    "### 📅 Exercice 3 📅\n",
    "\n",
    "> Une année est bissextile si son numéro est divisible par $4$, sauf si c'est la dernière d'un siècle\n",
    "> (i.e. elle est divisible par $100$, par exemple 1900), auquel cas, elle est bissextile\n",
    "> seulement si son numéro est divisible par $400$.\n",
    "> \n",
    "> Écrire un programme qui indique si une année entrée par l'utilisateurice est bissextile ou non.\n",
    "> \n",
    "> **Indice** l'opérateur modulo `%`, qu'on a vu dans le cours 1 peut vous être utile. En particulier,\n",
    "> un nombre $a$ est divisible par un nombre $b$ si et seulement si `a % b == 0`.\n"
   ]
  },
  {
   "cell_type": "code",
   "execution_count": null,
   "id": "1a9d9284",
   "metadata": {
    "tags": [
     "skip-execution"
    ]
   },
   "outputs": [],
   "source": [
    "year = int(input(\"On parle de quelle année ? \"))\n",
    "\n",
    "divisible_par_4 = (year % 4 == 0)\n",
    "\n",
    "if divisible_par_4:\n",
    "    divisible_par_100 = (year % 100 == 0)\n",
    "    if divisible_par_100:\n",
    "        divisible_par_400 = (year % 400 == 0)\n",
    "        if divisible_par_400:\n",
    "            print(\"Bissextile !\")\n",
    "        else:\n",
    "            print(\"Non-bissextile\")\n",
    "    else:\n",
    "        print(\"Bissextile !\")\n",
    "else:\n",
    "    print(\"Non-bissextile\")"
   ]
  },
  {
   "cell_type": "markdown",
   "id": "b27e6742",
   "metadata": {},
   "source": [
    "On peut faire plus compact sans les variables"
   ]
  },
  {
   "cell_type": "code",
   "execution_count": null,
   "id": "88ce5329",
   "metadata": {
    "tags": [
     "skip-execution"
    ]
   },
   "outputs": [],
   "source": [
    "year = int(input(\"On parle de quelle année ? \"))\n",
    "\n",
    "if year % 4 == 0:\n",
    "    if year % 100 == 0:\n",
    "        if year % 400 == 0:\n",
    "            print(\"Bissextile !\")\n",
    "        else:\n",
    "            print(\"Non-bissextile\")\n",
    "    else:\n",
    "        print(\"Bissextile !\")\n",
    "else:\n",
    "    print(\"Non-bissextile\")"
   ]
  },
  {
   "cell_type": "markdown",
   "id": "67706503",
   "metadata": {},
   "source": [
    "On peut aussi combiner les conditions"
   ]
  },
  {
   "cell_type": "code",
   "execution_count": null,
   "id": "9b3794d9",
   "metadata": {
    "tags": [
     "skip-execution"
    ]
   },
   "outputs": [],
   "source": [
    "year = int(input(\"On parle de quelle année ? \"))\n",
    "\n",
    "divisible_par_4 = (year % 4 == 0)\n",
    "divisible_par_100 = (year % 100 == 0)\n",
    "divisible_par_400 = (year % 400 == 0)\n",
    "\n",
    "if divisible_par_4 and (not divisible_par_100 or divisible_par_400):\n",
    "    print(\"Bissextile !\")\n",
    "else:\n",
    "    print(\"Non-bissextile\")"
   ]
  },
  {
   "cell_type": "markdown",
   "id": "09fe5883",
   "metadata": {},
   "source": [
    "et resupprimer les variables"
   ]
  },
  {
   "cell_type": "code",
   "execution_count": null,
   "id": "c838e249",
   "metadata": {
    "tags": [
     "skip-execution"
    ]
   },
   "outputs": [],
   "source": [
    "year = int(input(\"On parle de quelle année ? \"))\n",
    "\n",
    "if (year % 4 == 0) and ((year % 100 != 0) or (year % 400 == 0)):\n",
    "    print(\"Bissextile !\")\n",
    "else:\n",
    "    print(\"Non-bissextile\")"
   ]
  },
  {
   "cell_type": "markdown",
   "id": "d5ccfd06",
   "metadata": {},
   "source": [
    "voire exploiter le fait que `0` est le seul entier `False`, mais ça devient vraiment\n",
    "désagréable"
   ]
  },
  {
   "cell_type": "code",
   "execution_count": null,
   "id": "5a50b5df",
   "metadata": {
    "tags": [
     "skip-execution"
    ]
   },
   "outputs": [],
   "source": [
    "year = int(input(\"On parle de quelle année ? \"))\n",
    "\n",
    "if not year % 4 and (year % 100 or not year % 400):\n",
    "    print(\"Bissextile !\")\n",
    "else:\n",
    "    print(\"Non-bissextile\")"
   ]
  },
  {
   "cell_type": "markdown",
   "id": "87da7b1e",
   "metadata": {},
   "source": [
    "## Retour sur vos rendus\n",
    "\n",
    "En général :\n",
    "\n",
    "- Un certain nombre d'entre vous n'a rien rendu.\n",
    "  - En soi ce n'est pas dramatique : les exercices ne sont pas obligatoires, mais s'astreindre à\n",
    "    rendre quelque chose devrait vous aider à revenir sur le cours et à vous entraîner.\n",
    "  - Tous les rendus, même partiels, sont utiles.\n",
    "  - Vous n'avez rien à perdre à rendre quelque chose : au pire ça ne compte pas, mais si vous\n",
    "    réussissez des exercices, vous validez des compétences, ce qui peut permettre de rattraper un\n",
    "    raté sur le projet ou le partiel.\n",
    "- Pensez à bien remplir la partie réflexion à la fin des exercices !\n",
    "- Si des consignes vous paraissent peu claires, ou si vous ne comprenez pas quelque chose, n'héistez\n",
    "  **vraiment** pas à m'écrire.\n",
    "- Attention au format et au nom des fichiers : je vous refais en cours une démonstration de comment\n",
    "  bien exporter vos travaux.\n",
    "\n",
    "En particulier :\n",
    "\n",
    "- Les exercices qui ont été rendus ont été dans l'ensemble bien réussi (ou l'inverse)\n",
    "- Pour l'exercice 2, on pouvait certes faire par force brute, et c'est tout à fait correct, mais il\n",
    "  y avait plus simple.\n"
   ]
  }
 ],
 "metadata": {
  "jupytext": {
   "formats": "ipynb,md",
   "split_at_heading": true
  },
  "kernelspec": {
   "display_name": "Python 3 (ipykernel)",
   "language": "python",
   "name": "python3"
  }
 },
 "nbformat": 4,
 "nbformat_minor": 5
}
