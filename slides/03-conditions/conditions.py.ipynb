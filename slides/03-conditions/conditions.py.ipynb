{
 "cells": [
  {
   "cell_type": "markdown",
   "id": "2197ed11",
   "metadata": {
    "lines_to_next_cell": 0
   },
   "source": [
    "<!-- LTeX: language=fr -->"
   ]
  },
  {
   "cell_type": "markdown",
   "id": "bd515302",
   "metadata": {
    "slideshow": {
     "slide_type": "slide"
    }
   },
   "source": [
    "Cours 3 : Instructions conditionnelles\n",
    "======================================\n",
    "\n",
    "**Loïc Grobol** [<lgrobol@parisnanterre.fr>](mailto:lgrobol@parisnanterre.fr)\n",
    "\n",
    "2022-01-25"
   ]
  },
  {
   "cell_type": "markdown",
   "id": "ea39d59a",
   "metadata": {},
   "source": [
    "Dans ce notebook , on présente les instructions conditionnelles `if`, `elif` et `else` et comment\n",
    "elles permettent de changer l'exécution d'un programme avec des expressions booléennes.\n",
    "\n",
    "Ce cours est inspiré du cours [*Control flow and\n",
    "indexing*](https://github.com/aniellodesanto/Utah_CompLang21/blob/main/02_control_flow_and_indexing.ipynb)\n",
    "d'Aniello de Santo, merci infiniment à lui."
   ]
  },
  {
   "cell_type": "markdown",
   "id": "f57abc84",
   "metadata": {},
   "source": [
    "---\n",
    "\n",
    "Pour l'instant, nos programmes fonctionnent **séquentiellement** et de façon **déterministe** : les\n",
    "instructions sont exécutées ligne de code par ligne de code, dans l'ordre où elles ont été écrite.\n",
    "\n",
    "Pour la plupart des applications, c'est trop limité et on aimerait pouvoir n'exécuter certaines\n",
    "instructions que si une certaine condition est remplie. Par exemple, un assistant vocal ne s'active\n",
    "que quand une certaine phrase (« Ok, Google », « Dit, Siri »…)."
   ]
  },
  {
   "cell_type": "markdown",
   "id": "6b188ae7",
   "metadata": {},
   "source": [
    "## Instruction `if`"
   ]
  },
  {
   "cell_type": "markdown",
   "id": "ce02e0b1",
   "metadata": {},
   "source": [
    "### Principe général\n",
    "\n",
    "En Python, l'opérateur conditionnel `if` (« si »), introduit un **bloc de code** qui sera exécuté si\n",
    "et seulement si une condition est remplie. En pseudo-code\n",
    "\n",
    "```text\n",
    "Instruction 0\n",
    "if condition:\n",
    "    Instruction 1\n",
    "    Instruction 2\n",
    "Instruction 3\n",
    "```\n",
    "\n",
    "Ici, si la condition est vérifiée, les instructions 0, 1, 2 et 3 seront exécutées ; mais si elle ne\n",
    "l'est pas, alors seules les instructions 0 et 3 le seront.\n",
    "\n",
    "Notez les points suivants :\n",
    "\n",
    "- L'ordre dans lequel les instructions sont effectuées est le même dans les deux cas. Simplement,\n",
    "  certaines ne sont pas toujours exécutées.\n",
    "- Notez l'alinéa : les quatre espaces avant `Instruction 1` et `Instruction 2` sont ce qui indique à\n",
    "  Python quelles instructions sont concernées par `if`.\n",
    "  - On définit ainsi un bloc de code, on en verra d'autres dans ce cours\n",
    "\n",
    "Voici un exemple concret"
   ]
  },
  {
   "cell_type": "code",
   "execution_count": null,
   "id": "a6a48e2b",
   "metadata": {},
   "outputs": [],
   "source": [
    "user_1_age = 99\n",
    "user_2_age = 30\n",
    "\n",
    "print(\"Salut !\")\n",
    "\n",
    "if user_1_age > 90:\n",
    "    print(\"Tu n'es plus tout jeune , numéro 1!\")\n",
    "\n",
    "if user_2_age > 90:\n",
    "    print(\"Tu n'es plus tout jeune , numéro 2!\")\n",
    "\n",
    "print(\"Ciao\")"
   ]
  },
  {
   "cell_type": "markdown",
   "id": "4ff668c8",
   "metadata": {},
   "source": [
    "**Rappel** : en Python, les lignes vides sont ignorées et ne servent qu'à rendre votre code plus\n",
    "lisible. Écrire"
   ]
  },
  {
   "cell_type": "code",
   "execution_count": null,
   "id": "8c9522ff",
   "metadata": {},
   "outputs": [],
   "source": [
    "user_1_age = 99\n",
    "user_2_age = 30\n",
    "print(\"Salut !\")\n",
    "if user_1_age > 90:\n",
    "    print(\"Tu n'es plus tout jeune , numéro 1!\")\n",
    "if user_2_age > 90:\n",
    "    print(\"Tu n'es plus tout jeune , numéro 2!\")\n",
    "print(\"Ciao !\")"
   ]
  },
  {
   "cell_type": "markdown",
   "id": "3b638f21",
   "metadata": {},
   "source": [
    "est donc exactement équivalent pour Python."
   ]
  },
  {
   "cell_type": "code",
   "execution_count": null,
   "id": "dc998187",
   "metadata": {},
   "outputs": [],
   "source": [
    "#talkative = True\n",
    "talkative = False\n",
    "\n",
    "if talkative:\n",
    "    print(\"On discute ?\")\n",
    "    \n",
    "print(\"Ravie de te connaître en tout cas.\")"
   ]
  },
  {
   "cell_type": "markdown",
   "id": "37bc04ee",
   "metadata": {},
   "source": [
    "Dans l'exemple ci-dessus, la variable `talkative` est utilisée comme un *flag* (on ne parle pas\n",
    "vraiment de *drapeau*). On peut le faire dépendre d'une entrée de l'utilisateurice, ou d'une autre\n",
    "partie du code"
   ]
  },
  {
   "cell_type": "code",
   "execution_count": null,
   "id": "da6e99f3",
   "metadata": {
    "tags": [
     "skip-execution"
    ]
   },
   "outputs": [],
   "source": [
    "talkative = False\n",
    "\n",
    "print(\"Tu aimes bavarder ?\")\n",
    "answer = input()\n",
    "\n",
    "if answer == \"oui\":\n",
    "    talkative = True\n",
    "\n",
    "if talkative:\n",
    "    print(\"On discute ?\")\n",
    "    \n",
    "print(\"Ravie de te connaître en tout cas.\")"
   ]
  },
  {
   "cell_type": "markdown",
   "id": "ea2e31f9",
   "metadata": {},
   "source": [
    "Le code ci-dessus est un peu redondant : il y a plus d'instruction que ce qui est strictement\n",
    "nécessaire, mais il devrait vous montrer clairement comment faire dépendre l'exécution du code d'une\n",
    "entrée."
   ]
  },
  {
   "cell_type": "markdown",
   "id": "a1076574",
   "metadata": {},
   "source": [
    "### 🐁 Exo 🐁\n",
    "\n",
    "Pouvez-vous simplifier le code précédent de telle sorte qu'il soit équivalent (c'est-à-dire qu'il\n",
    "donne les mêmes sorties si on lui donne les mêmes entrées), mais en utilisant moins d'instructions ?\n",
    "\n",
    "Vous pouvez faire des tests dans la cellule de code ci-dessous :"
   ]
  },
  {
   "cell_type": "code",
   "execution_count": null,
   "id": "2d3ad4d0",
   "metadata": {},
   "outputs": [],
   "source": [
    "print(\"Tu aimes bavarder ?\")\n",
    "answer = input()\n",
    "\n",
    "talkative = (answer == \"oui\")\n",
    "\n",
    "if talkative:\n",
    "    print(\"On discute ?\")\n",
    "    \n",
    "print(\"Ravie de te connaître en tout cas.\")"
   ]
  },
  {
   "cell_type": "code",
   "execution_count": null,
   "id": "fb9a1d38",
   "metadata": {},
   "outputs": [],
   "source": [
    "print(\"Tu aimes bavarder ?\")\n",
    "answer = input()\n",
    "\n",
    "if answer == \"oui\":\n",
    "    print(\"On discute ?\")\n",
    "    \n",
    "print(\"Ravie de te connaître en tout cas.\")"
   ]
  },
  {
   "cell_type": "code",
   "execution_count": null,
   "id": "6241655f",
   "metadata": {},
   "outputs": [],
   "source": [
    "print(\"Tu aimes bavarder ?\")\n",
    "\n",
    "if input() == \"oui\":\n",
    "    print(\"On discute ?\")\n",
    "    \n",
    "print(\"Ravie de te connaître en tout cas.\")"
   ]
  },
  {
   "cell_type": "markdown",
   "id": "faaab9c2",
   "metadata": {},
   "source": [
    "### Des blocs plus longs\n",
    "\n",
    "On a dit qu'on pouvait inclure plusieurs instructions dans le bloc de code qui suit `if`. Voici ce\n",
    "que ça donne :"
   ]
  },
  {
   "cell_type": "code",
   "execution_count": null,
   "id": "dc1b796c",
   "metadata": {
    "tags": [
     "skip-execution"
    ]
   },
   "outputs": [],
   "source": [
    "# Avant d'exécuter cette cellule, essayer de deviner les résultats en fonction des entrées\n",
    "\n",
    "answer = input(\"Tu aimes bavarder ?\")\n",
    "\n",
    "if answer == \"Oui\":\n",
    "    print(\"Top ! On discute, alors ?\")\n",
    "    print(\"Tu aimes le chocolat ? Oui/Non\")\n",
    "    answer2 = input()\n",
    "    if answer2 == \"Non\":\n",
    "        print(\"Monstre !\")\n",
    "        print(\"Adieu !\")\n",
    "print(\"Ciao !\")"
   ]
  },
  {
   "cell_type": "markdown",
   "id": "a67b1cc0",
   "metadata": {},
   "source": [
    "Vous pouvez aussi voir qu'on peut non seulement mettre plusieurs instructions dans un bloc `if`,\n",
    "mais qu'on peut aussi les imbriquer.\n",
    "\n",
    "Comment Python sait-il à quel bloc appartient chaque instruction ? Avec la longueur des alinéas !\n",
    "L'**indentation** joue un rôle très important en Python (on y reviendra. Plusieurs fois.)."
   ]
  },
  {
   "cell_type": "markdown",
   "id": "970fc539",
   "metadata": {},
   "source": [
    "### 🔎 Tests 🔎\n",
    "\n",
    "Essayez d'exécuter le programme précédent avec différentes combinaisons d'entrée. Assurez-vous de\n",
    "bien comprendre à quelles conditions chacune des instructions est exécutée.\n",
    "\n",
    "---\n",
    "\n",
    "Est-ce qu'il est possible d'avoir une instruction `if` sans condition ? Un `if` qui ne serait pas\n",
    "suivi par un bloc ? Essayez ces différentes options dans la cellule suivante."
   ]
  },
  {
   "cell_type": "code",
   "execution_count": null,
   "id": "67f94360",
   "metadata": {},
   "outputs": [],
   "source": []
  },
  {
   "cell_type": "markdown",
   "id": "a00419ef",
   "metadata": {},
   "source": [
    "## `else`\n",
    "\n",
    "Reprenons le code précédent : dans le deuxième `if`, on pose une question dont la réponse est soit\n",
    "« oui », soit « non », mais on exécute du code que si c'est « non ». Comment faire pour exécuter\n",
    "d'autres instructions si c'est « oui » ?.\n",
    "\n",
    "Voici une solution :"
   ]
  },
  {
   "cell_type": "code",
   "execution_count": null,
   "id": "3037cec9",
   "metadata": {
    "tags": [
     "skip-execution"
    ]
   },
   "outputs": [],
   "source": [
    "print(\"Tu aimes le chocolat ? Oui/Non\")\n",
    "answer = input()\n",
    "if answer == \"Non\":\n",
    "    print(\"Monstre !\")\n",
    "    print(\"Adieu !\")\n",
    "if answer == \"Oui\":\n",
    "    print(\"On va bien s'entendre, alors !\")\n",
    "    print(\"Mon préféré c'est le chocolat aux noisettes.\")"
   ]
  },
  {
   "cell_type": "markdown",
   "id": "fb49af49",
   "metadata": {},
   "source": [
    "Mais c'est un peu redondant : puisque la réponse est soit `\"Oui\"` soit `\"Non\"`, si l'utilisateurice\n",
    "a répondu correctement et qu'on sait que la réponse n'est pas `\"Non\"`, c'est forcément que c'est\n",
    "`\"Oui\"` et on a donc pas besoin du deuxième test. Il nous faudrait juste une instruction « sinon ».\n",
    "\n",
    "Cette instruction c'est `else`. Voici comment on l'utilise. D'abord en pseudo-code\n",
    "\n",
    "```text\n",
    "if condition:\n",
    "    code à exécuter si la condition est vraie\n",
    "else:\n",
    "    code à exécuter si la condition est fausse\n",
    "```\n",
    "\n",
    "Et en Python"
   ]
  },
  {
   "cell_type": "code",
   "execution_count": null,
   "id": "fa1b5520",
   "metadata": {
    "tags": [
     "skip-execution"
    ]
   },
   "outputs": [],
   "source": [
    "print(\"Tu aimes le chocolat ? Oui/Non\")\n",
    "answer = input()\n",
    "if answer == \"Non\":\n",
    "    print(\"Monstre !\")\n",
    "    print(\"Adieu !\")\n",
    "else:\n",
    "    print(\"On va bien s'entendre, alors !\")\n",
    "    print(\"Mon préféré c'est le chocolat aux noisettes.\")"
   ]
  },
  {
   "cell_type": "markdown",
   "id": "b9e7b7bc",
   "metadata": {},
   "source": [
    "`else` est liée au `if` qui le précède et ne permet pas d'ajouter une condition. On peut donc avoir\n",
    "un `if` sans `else`, mais pas l'inverse.\n"
   ]
  },
  {
   "cell_type": "code",
   "execution_count": null,
   "id": "87fea5c2",
   "metadata": {
    "tags": [
     "raises-exception"
    ]
   },
   "outputs": [],
   "source": [
    "sentence = \"Les idées vertes incolores dorment furieusemen\"\n",
    "\n",
    "else:\n",
    "    print(\"machin\")"
   ]
  },
  {
   "cell_type": "markdown",
   "id": "9d9d54f5",
   "metadata": {},
   "source": [
    "**Attention**, `else` est lié **seulement** au `if` précédent"
   ]
  },
  {
   "cell_type": "code",
   "execution_count": null,
   "id": "19d9faa1",
   "metadata": {},
   "outputs": [],
   "source": [
    "sentence = \"Les idées vertes incolores dorment furieusement\"\n",
    "\n",
    "if \"rouge\" in sentence:\n",
    "    print(\"Rouge !\")\n",
    "\n",
    "if \"vert\" in sentence:\n",
    "    print(\"Vert !\")\n",
    "\n",
    "else:\n",
    "    print(\"Aucune couleur n'a été trouvée\")"
   ]
  },
  {
   "cell_type": "code",
   "execution_count": null,
   "id": "95ecb115",
   "metadata": {
    "tags": [
     "skip-execution"
    ]
   },
   "outputs": [],
   "source": [
    "answer = input(\"Tu aimes bavarder ?\")\n",
    "\n",
    "if answer == \"Oui\":\n",
    "    print(\"Top ! On discute, alors ?\")\n",
    "    print(\"Tu aimes le chocolat ? Oui/Non\")\n",
    "    answer2 = input()\n",
    "    if answer2 == \"Non\":\n",
    "        print(\"Monstre !\")\n",
    "        print(\"Adieu !\")\n",
    "    else:\n",
    "        print(\"Bravo\")\n",
    "print(\"Ciao !\")"
   ]
  },
  {
   "cell_type": "code",
   "execution_count": null,
   "id": "7736e880",
   "metadata": {
    "tags": [
     "skip-execution"
    ]
   },
   "outputs": [],
   "source": [
    "answer = input(\"Tu aimes bavarder ?\")\n",
    "\n",
    "if answer == \"Oui\":\n",
    "    print(\"Top ! On discute, alors ?\")\n",
    "    print(\"Tu aimes le chocolat ? Oui/Non\")\n",
    "    answer2 = input()\n",
    "    if answer2 == \"Non\":\n",
    "        print(\"Monstre !\")\n",
    "        print(\"Adieu !\")\n",
    "else:\n",
    "    print(\"Dommage\")\n",
    "print(\"Ciao !\")"
   ]
  },
  {
   "cell_type": "markdown",
   "id": "2be98272",
   "metadata": {},
   "source": [
    "## `elif`\n",
    "\n",
    "Comme on l'a vu précédemment, des `if` peuvent être imbriqués. Imaginez par exemple qu'on veuille\n",
    "tester une condition, mais seulement si une première condition est fausse. Comment faire ?\n",
    "\n",
    "Le plus simple est d'utiliser une combinaison de `if` et `else` :"
   ]
  },
  {
   "cell_type": "code",
   "execution_count": null,
   "id": "3c01d70e",
   "metadata": {},
   "outputs": [],
   "source": [
    "sentence = \"Les idées vertes incolores dorment furieusement\"\n",
    "\n",
    "if \"rouge\" in sentence:\n",
    "    print(\"Rouge !\")\n",
    "else:\n",
    "    if \"vert\" in sentence:\n",
    "        print(\"Vert !\")\n",
    "    else:\n",
    "        if \"incolore\" in sentence:\n",
    "            print(\"Incolore !\")"
   ]
  },
  {
   "cell_type": "markdown",
   "id": "83cf57ec",
   "metadata": {},
   "source": [
    "Il est assez fréquent de rencontrer ce type de structures, et même plus profondément imbriquée, ce\n",
    "qui rend le code plus difficile à lire.\n",
    "\n",
    "Il y a cependant une alternative : `elif` (« sinon, si »), qui nous permet de réécrire le code\n",
    "précédent plus lisiblement :"
   ]
  },
  {
   "cell_type": "code",
   "execution_count": null,
   "id": "c7c5e0f1",
   "metadata": {},
   "outputs": [],
   "source": [
    "sentence = \"Les idées vertes incolores dorment furieusement\"\n",
    "\n",
    "if \"rouge\" in sentence:\n",
    "    print(\"Rouge !\")\n",
    "elif \"vert\" in sentence:\n",
    "    print(\"Vert !\")\n",
    "elif \"incolore\" in sentence:\n",
    "    print(\"Incolore !\")"
   ]
  },
  {
   "cell_type": "markdown",
   "id": "936938d3",
   "metadata": {},
   "source": [
    "`elif` vérifie à la fois qu'une condition est vraie, et que toutes les conditions précédentes sont\n",
    "fausses. En pseudo-code\n",
    "\n",
    "```text\n",
    "if condition1:\n",
    "    code exécuté si la condition 1 est vraie\n",
    "elif condition2:\n",
    "    code exécuté si la condition 1 est fausse et la condition 2 est vraie\n",
    "elif condition3:\n",
    "    code exécuté si les condition 1 et 2 sont fausses et la condition 3 est vraie\n",
    "⋮\n",
    "```\n",
    "\n",
    "Évidemment, ça n'a du sens que si vous voulez tester des conditions mutuellement exclusives. Si vous\n",
    "voulez tester indépendamment lesquels de ces mots apparaissent dans la phrase, il faut des blocs\n",
    "`if` différents :"
   ]
  },
  {
   "cell_type": "code",
   "execution_count": null,
   "id": "6533199c",
   "metadata": {},
   "outputs": [],
   "source": [
    "sentence = \"Les idées vertes incolores dorment furieusement\"\n",
    "\n",
    "if \"rouge\" in sentence:\n",
    "    print(\"Rouge !\")\n",
    "\n",
    "if \"vert\" in sentence:\n",
    "    print(\"Vert !\")\n",
    "\n",
    "if \"incolore\" in sentence:\n",
    "    print(\"Incolore !\")"
   ]
  },
  {
   "cell_type": "markdown",
   "id": "a3a36928",
   "metadata": {},
   "source": [
    "Enfin, on peut ajouter un `else` à la fin d'une suite de `elif`, pour indiquer du code à exécuter si\n",
    "aucune des conditions n'est remplie\n"
   ]
  },
  {
   "cell_type": "code",
   "execution_count": null,
   "id": "6650afcb",
   "metadata": {},
   "outputs": [],
   "source": [
    "sentence = \"Les idées vertes incolores dorment furieusement\"\n",
    "\n",
    "if \"rouge\" in sentence:\n",
    "    print(\"Rouge !\")\n",
    "elif \"violet\" in sentence:\n",
    "    print(\"Violet !\")\n",
    "elif \"indigo\" in sentence:\n",
    "    print(\"Indigo!\")\n",
    "else:\n",
    "    print(\"😠\")"
   ]
  },
  {
   "cell_type": "markdown",
   "id": "38450796",
   "metadata": {},
   "source": [
    "Et on peut continuer à imbriquer des blocs arbitrairement."
   ]
  },
  {
   "cell_type": "code",
   "execution_count": null,
   "id": "c65a1eb2",
   "metadata": {
    "tags": [
     "skip-execution"
    ]
   },
   "outputs": [],
   "source": [
    "user_mood = input(\"Quelle est ton humeur: \")\n",
    "\n",
    "if \"heureu\" in user_mood:\n",
    "    print(\"😄\")\n",
    "    if \"relax\" in user_mood:\n",
    "        print(\"😌\")\n",
    "    else:\n",
    "        print(\"🫂\")\n",
    "else:\n",
    "    print(\"💜\")"
   ]
  },
  {
   "cell_type": "markdown",
   "id": "2ce5712f",
   "metadata": {},
   "source": [
    "### 🦾 Entraînement 🦾\n",
    "\n",
    "Réécrire le code précédent en utilisant `elif` et une expression booléenne complexe, comme dans ce\n",
    "qui suit"
   ]
  },
  {
   "cell_type": "code",
   "execution_count": null,
   "id": "9bbf7ebc",
   "metadata": {},
   "outputs": [],
   "source": [
    "test = \"Le chat est content\"\n",
    "\n",
    "if \"chat\" in test and \"content\" in test:\n",
    "    print(\"Hello\")\n",
    "else:\n",
    "    print(\"bye\")"
   ]
  },
  {
   "cell_type": "markdown",
   "id": "c874e90e",
   "metadata": {},
   "source": [
    "## Des conditions inattendues\n",
    "\n",
    "Essayez d'expliquer les résultats des cellules suivantes"
   ]
  },
  {
   "cell_type": "code",
   "execution_count": null,
   "id": "93afe716",
   "metadata": {},
   "outputs": [],
   "source": [
    "if \"spam\":\n",
    "    print(\"machin\")\n",
    "else:\n",
    "    print(\"bidule\")"
   ]
  },
  {
   "cell_type": "code",
   "execution_count": null,
   "id": "44a1d169",
   "metadata": {},
   "outputs": [],
   "source": [
    "if \"\":\n",
    "    print(\"machin\")\n",
    "else:\n",
    "    print(\"bidule\")"
   ]
  },
  {
   "cell_type": "code",
   "execution_count": null,
   "id": "d94660d3",
   "metadata": {},
   "outputs": [],
   "source": [
    "if 2713:\n",
    "    print(\"machin\")\n",
    "else:\n",
    "    print(\"bidule\")"
   ]
  },
  {
   "cell_type": "code",
   "execution_count": null,
   "id": "53b3b812",
   "metadata": {},
   "outputs": [],
   "source": [
    "if -1:\n",
    "    print(\"machin\")\n",
    "else:\n",
    "    print(\"bidule\")"
   ]
  },
  {
   "cell_type": "code",
   "execution_count": null,
   "id": "d86ab524",
   "metadata": {},
   "outputs": [],
   "source": [
    "if 0:\n",
    "    print(\"machin\")\n",
    "else:\n",
    "    print(\"bidule\")"
   ]
  },
  {
   "cell_type": "markdown",
   "id": "7f5c238b",
   "metadata": {},
   "source": [
    "Outre les booléens `True` et `False`, la plupart des objets en Python ont une valeur de vérité\n",
    "(*truthiness*). La plupart sont vrais, ceux qui sont faux étant en général d'une façon ou d'une\n",
    "autre vides, nuls… Nous verrons d'autres exemples."
   ]
  },
  {
   "cell_type": "markdown",
   "id": "3e2591ce",
   "metadata": {},
   "source": [
    "## 💬 Entraînement 💬 : un chatbot basique\n",
    "\n",
    "Demandez à votre utilisateurice si son humeur est bavarde. Si la réponse n'est pas « oui »,\n",
    "souhaitez-lui une bonne journée. Sinon, demandez lui comment ça va et répondez différemment suivant\n",
    "que sa réponse contient les mots\n",
    "\n",
    "- « bien » ou « bon »\n",
    "- « mal » ou « mauvais » ou « horrible »\n",
    "- n'importe quoi d'autre"
   ]
  },
  {
   "cell_type": "markdown",
   "id": "596d1ff0",
   "metadata": {},
   "source": [
    "## Exercices\n",
    "\n",
    "Répondre à ces exercices directement dans le notebook, le sauvegarder sous un nom de la forme\n",
    "`02_conditions_PRENOM_NOM.ipynb` (pour Morgan Lefeuvre par exemple, ce serait\n",
    "`02_conditions_Morgan_Lefeuvre.ipynb`) et me le transmettre avant dimanche soir prochain\n",
    "(2022-01-30).\n",
    "\n",
    "- De préférence via [Cours en Ligne](https://coursenligne.parisnanterre.fr/course/view.php?id=7694)\n",
    "  (clé d'inscription `rossum`)\n",
    "- À défaut, par mail, à `<lgrobol@parisnanterre.fr>`\n"
   ]
  },
  {
   "cell_type": "markdown",
   "id": "fbfea447",
   "metadata": {},
   "source": [
    "### Exercice 1"
   ]
  },
  {
   "cell_type": "markdown",
   "id": "ede9f29d",
   "metadata": {},
   "source": [
    "Demander à l'utilisateurice d'entrer un nombre minimal de caractères pour qu'un mot soit considéré\n",
    "comme long. Puis lui demander de saisir un mot et afficher `\"😱\"` si le mot est long et `\"😌\"` sinon."
   ]
  },
  {
   "cell_type": "markdown",
   "id": "79ac9cc0",
   "metadata": {},
   "source": [
    "### 🐉 Exercice 2 🐉\n",
    "\n",
    "Dans le jeu de rôle Donjons et Dragons, les personnages ont un alignement qui les positionne sur\n",
    "deux axes : loyal—neutre—chaotique et bon—neutre—mauvais. Le choix d'un alignement détermine les\n",
    "classes possibles pour ce personnage :\n",
    "\n",
    "- Les paladins sont loyal bon\n",
    "- Les antipaladins sont chaotiques mauvais\n",
    "- Les moines sont de n'importe quel alignement loyal\n",
    "- Les roublards sont de n'importe quel alignement qui n'est pas loyal\n",
    "- Les druides sont de n'importe quel alignement neutre (sur n'import lequel des deux axes)\n",
    "- Les guerriers peuvent être de n'importe quel alignement\n",
    "\n",
    "Écrire un programme qui demande de choisir un alignement et affiche les classes de personnages\n",
    "disponibles. Voici un exemple d'à quoi pourrait ressembler une session d'utilisation de ce programme\n",
    "\n",
    "```text\n",
    "Choisir un alignement parmis loyal—neutre—chaotique: chaotique\n",
    "Choisir un alignement parmis bon—neutre—mauvais: bon\n",
    "\n",
    "Vous êtes chaotique bon. Vous pouvez être :\n",
    "\n",
    "- Roublard\n",
    "- Guerrier\n",
    "```\n",
    "\n",
    "La liste affichée ne doit pas contenir de doublons.\n",
    "\n",
    "**Conseil** avant de commencer à coder, commencez par dessiner ou écrire sur papier la structure\n",
    "qu'aura votre programme\n",
    "\n",
    "- Combien de branches conditionnelles y aura-t-il ?\n",
    "- Quelles conditions dépendent les unes des autres ?\n",
    "- Comment vais-je gérer les imbrications ?"
   ]
  },
  {
   "cell_type": "markdown",
   "id": "e5270310",
   "metadata": {},
   "source": [
    "### 📅 Exercice 3 📅\n",
    "\n",
    "Une année est bissextile si son numéro est divisible par $4$, sauf si c'est la dernière d'un siècle\n",
    "(i.e. elle est divisible par $100$, par exemple 1900), auquel cas, elle est bissextile\n",
    "seulement si son numéro est divisible par $400$.\n",
    "\n",
    "Écrire un programme qui indique si une année entrée par l'utilisateurice est bissextile ou non.\n",
    "\n",
    "**Indice** l'opérateur modulo `%`, qu'on a vu dans le cours 1 peut vous être utile. En particulier,\n",
    "un nombre $a$ est divisible par un nombre $b$ si et seulement si `a % b == 0`.\n"
   ]
  },
  {
   "cell_type": "markdown",
   "id": "e7865680",
   "metadata": {},
   "source": [
    "### Réflexion\n",
    "\n",
    "Quelques points auxquels réfléchir\n",
    "\n",
    "- Combien de temps avez-vous passé à faire ces exercices ?\n",
    "- Qu'est-ce qui vous a paru le plus compliqué ?\n",
    "- À votre avis, pourquoi ?\n"
   ]
  }
 ],
 "metadata": {
  "jupytext": {
   "formats": "ipynb,md",
   "split_at_heading": true
  },
  "kernelspec": {
   "display_name": "Python 3 (ipykernel)",
   "language": "python",
   "name": "python3"
  }
 },
 "nbformat": 4,
 "nbformat_minor": 5
}
