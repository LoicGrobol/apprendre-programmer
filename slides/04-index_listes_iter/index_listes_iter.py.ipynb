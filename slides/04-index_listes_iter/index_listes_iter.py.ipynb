{
 "cells": [
  {
   "cell_type": "markdown",
   "id": "583969b0",
   "metadata": {
    "lines_to_next_cell": 0
   },
   "source": [
    "<!-- LTeX: language=fr -->"
   ]
  },
  {
   "cell_type": "markdown",
   "id": "167902bf",
   "metadata": {
    "slideshow": {
     "slide_type": "slide"
    }
   },
   "source": [
    "Cours 4 : Indexation, listes et itération\n",
    "=========================================\n",
    "\n",
    "**Loïc Grobol** [<lgrobol@parisnanterre.fr>](mailto:lgrobol@parisnanterre.fr)\n",
    "\n",
    "2022-02-01"
   ]
  },
  {
   "cell_type": "markdown",
   "id": "2664ac59",
   "metadata": {},
   "source": [
    "Dans ce notebook, on introduit les concepts suivants :\n",
    "\n",
    "- L'opération *index* et les types de données indicés\n",
    "- Le type de donnée `list`\n",
    "- La boucle de parcours `for`\n",
    "\n",
    "Ce cours est inspiré des cours [*Control flow and\n",
    "indexing*](https://github.com/aniellodesanto/Utah_CompLang21/blob/main/02_control_flow_and_indexing.ipynb)\n",
    "et [*Lists and for\n",
    "loops*](https://github.com/aniellodesanto/Utah_CompLang21/blob/main/03_lists_and_for_loops.ipynb)\n",
    "d'Aniello de Santo, merci infiniment à lui."
   ]
  },
  {
   "cell_type": "markdown",
   "id": "c3732d43",
   "metadata": {},
   "source": [
    "## Index"
   ]
  },
  {
   "cell_type": "code",
   "execution_count": null,
   "id": "d9d0f4dd",
   "metadata": {},
   "outputs": [],
   "source": [
    "\"Bonjour\"[0]"
   ]
  },
  {
   "cell_type": "code",
   "execution_count": null,
   "id": "bdd3c9db",
   "metadata": {
    "lines_to_next_cell": 2
   },
   "outputs": [],
   "source": [
    "\"Bonjour\"[3]"
   ]
  },
  {
   "cell_type": "code",
   "execution_count": null,
   "id": "038ddf7b",
   "metadata": {},
   "outputs": [],
   "source": [
    "print(\"Bonjour\"[4])"
   ]
  },
  {
   "cell_type": "markdown",
   "id": "3071cc83",
   "metadata": {},
   "source": [
    "D'après vous, qu'afficherait le programme suivant ?\n",
    "\n",
    "```python\n",
    "print(\"Bonjour\"[2])\n",
    "```"
   ]
  },
  {
   "cell_type": "markdown",
   "id": "055fa0c2",
   "metadata": {},
   "source": [
    "### Principe de base\n",
    "\n",
    "L'opération notée par des crochets, qu'on appelle en anglais _**indexing**_ (et qui en français n'a\n",
    "pas vraiment de nom conventionnel, mais on dira *indexer*), permet d'extraire des éléments à partir\n",
    "d'objets composites.\n",
    "\n",
    "En l'occurrence, une chaîne de caractère est bien un objet **composite** : c'est une suite de\n",
    "caractères. Elle possède également un **ordre** : `\"bestial\"` et `\"baliste\"`, ce n'est pas la même\n",
    "chose :"
   ]
  },
  {
   "cell_type": "code",
   "execution_count": null,
   "id": "33e36aa7",
   "metadata": {},
   "outputs": [],
   "source": [
    "\"bestial\" == \"baliste\""
   ]
  },
  {
   "cell_type": "markdown",
   "id": "f39dad5e",
   "metadata": {},
   "source": [
    "Ces deux propriétés font qu'il est possible d'accéder à n'importe lequel des caractères d'une chaîne\n",
    "de caractère via sa **position** : `\"Bonjour\"[i]` renvoie le `i`-ème caractère de la chaîne, le\n",
    "caractère dont l'**indice** (ou *index*) est `i`.\n",
    "\n",
    "On dit que les chaînes de caractères sont des **séquences**, ou encore que ce sont des types (ou\n",
    "structures) de données **indicées**.\n",
    "\n",
    "Les entiers, les flottants et les booléens ne sont pas des séquences :"
   ]
  },
  {
   "cell_type": "code",
   "execution_count": null,
   "id": "e934e735",
   "metadata": {
    "tags": [
     "raises-exception"
    ]
   },
   "outputs": [],
   "source": [
    "1964[2]"
   ]
  },
  {
   "cell_type": "markdown",
   "id": "9b45ca93",
   "metadata": {},
   "source": [
    "On peut bien sûr indexer dans une variable contenant une chaîne de caractères :"
   ]
  },
  {
   "cell_type": "code",
   "execution_count": null,
   "id": "dd3d4886",
   "metadata": {},
   "outputs": [],
   "source": [
    "ma_chaine = \"Je reconnais l'existence du kiwi.\"\n",
    "print(ma_chaine[0])\n",
    "print(ma_chaine[1])\n",
    "print(ma_chaine[2])\n",
    "print(ma_chaine[3])\n",
    "print(ma_chaine[4])"
   ]
  },
  {
   "cell_type": "markdown",
   "id": "e54e3bb2",
   "metadata": {},
   "source": [
    "Et on peut utiliser une variable ou une expression comme indice :"
   ]
  },
  {
   "cell_type": "code",
   "execution_count": null,
   "id": "57a86757",
   "metadata": {},
   "outputs": [],
   "source": [
    "ma_chaine = \"Je reconnais l'existence du kiwi.\"\n",
    "position = 11\n",
    "print(ma_chaine[position])\n",
    "print(ma_chaine[position-1])"
   ]
  },
  {
   "cell_type": "markdown",
   "id": "948ab557",
   "metadata": {},
   "source": [
    "Dernier point : **en Python, les indices commencent à `0`**.\n",
    "\n",
    "Ce n'est pas forcément intuitif, et d'ailleurs ce n'est pas le cas de tous les langages de\n",
    "programmation. Tout le monde se plante de temps en temps, mais il faut le retenir.\n"
   ]
  },
  {
   "cell_type": "markdown",
   "id": "c212fbed",
   "metadata": {},
   "source": [
    "### 🔭 Entraînement 🔭\n",
    "\n",
    "Demandez un mot et un indice `i` à l'utilisateurice. Si le mot a un `i`-ème caractère, affichez ce caractère,\n",
    "sinon affichez un message d'erreur.\n",
    "\n",
    "Indice : vous savez déterminer la longueur d'une chaîne de caractères."
   ]
  },
  {
   "cell_type": "code",
   "execution_count": null,
   "id": "e98c6c83",
   "metadata": {
    "tags": [
     "skip-execution"
    ]
   },
   "outputs": [],
   "source": [
    "mot = input(\"Dis-moi un mot : \")\n",
    "position = int(input(\"Dis-moi un nombre : \"))\n",
    "\n",
    "# À vous de jouer : ajoutez du code ici pour répondre à la question."
   ]
  },
  {
   "cell_type": "code",
   "execution_count": null,
   "id": "3e0a2795",
   "metadata": {
    "tags": [
     "skip-execution"
    ]
   },
   "outputs": [],
   "source": [
    "mot = input(\"Dis-moi un mot : \")\n",
    "position = int(input(\"Dis-moi un nombre : \"))\n",
    "\n",
    "if position >= len(mot) or position < 0:\n",
    "    print(\"Indice\", position, \"incorrect pour un mot de longueur\", len(mot))\n",
    "else:\n",
    "    print(mot[position])"
   ]
  },
  {
   "cell_type": "markdown",
   "id": "893f30e2",
   "metadata": {},
   "source": [
    "### *Slices*\n",
    "\n",
    "À votre avis, que va afficher la cellule suivante ? Essayez de deviner avant de tester."
   ]
  },
  {
   "cell_type": "code",
   "execution_count": null,
   "id": "98fc7ce1",
   "metadata": {},
   "outputs": [],
   "source": [
    "print(\"Bonjour\"[2:5])"
   ]
  },
  {
   "cell_type": "markdown",
   "id": "9b79c542",
   "metadata": {},
   "source": [
    "Et celle-ci ?"
   ]
  },
  {
   "cell_type": "code",
   "execution_count": null,
   "id": "3a0de4d7",
   "metadata": {},
   "outputs": [],
   "source": [
    "print(\"Université Paris Nanterre\"[5:10])"
   ]
  },
  {
   "cell_type": "markdown",
   "id": "f5ce4118",
   "metadata": {},
   "source": [
    "À votre avis que signifie cette syntaxe ?\n",
    "\n",
    "---\n",
    "\n",
    "L'opération dite _**slice**_ (*tranche*) est une extension de l'indexage : au lieu d'extraire un\n",
    "élément de la séquence, on en extrait une plage, un intervalle, une **sous-séquence**. Précisément :\n",
    "\n",
    "`ma_chaine[start:end]`, c'est la sous-chaine composée des caractères de `ma_chaine` dont les indices\n",
    "sont compris entre `start` (inclus) et `end` (exclus)."
   ]
  },
  {
   "cell_type": "code",
   "execution_count": null,
   "id": "bed3c84e",
   "metadata": {},
   "outputs": [],
   "source": [
    "print(\"Merveilleux\"[3:8])"
   ]
  },
  {
   "cell_type": "markdown",
   "id": "30b8c2db",
   "metadata": {},
   "source": [
    "Si `start` vaut `0`, ou que `end` est supérieur ou égal à la longueur de la chaîne, on peut les\n",
    "omettre :"
   ]
  },
  {
   "cell_type": "code",
   "execution_count": null,
   "id": "69af0c69",
   "metadata": {},
   "outputs": [],
   "source": [
    "print(\"Merveilleux\"[:8])"
   ]
  },
  {
   "cell_type": "code",
   "execution_count": null,
   "id": "7ffcb8f0",
   "metadata": {},
   "outputs": [],
   "source": [
    "print(\"Merveilleux\"[3:])"
   ]
  },
  {
   "cell_type": "markdown",
   "id": "0e72f68b",
   "metadata": {},
   "source": [
    "### Indices négatifs\n",
    "\n",
    "Python autorise aussi les indices négatifs. Pouvez-vous en deviner le sens et dire ce que va\n",
    "afficher la cellule suivante ?"
   ]
  },
  {
   "cell_type": "code",
   "execution_count": null,
   "id": "3aba4f77",
   "metadata": {},
   "outputs": [],
   "source": [
    "print(\"Pomme\"[-1])"
   ]
  },
  {
   "cell_type": "markdown",
   "id": "788718fc",
   "metadata": {},
   "source": [
    "On peut également faire des tranches avec des indices négatifs, Même si ça devient rapidement prise\n",
    "de tête :"
   ]
  },
  {
   "cell_type": "code",
   "execution_count": null,
   "id": "765806ba",
   "metadata": {},
   "outputs": [],
   "source": [
    "print(\"Pomme\"[-4:-1])\n",
    "print(\"Pomme\"[1:4])"
   ]
  },
  {
   "cell_type": "markdown",
   "id": "99b059fa",
   "metadata": {},
   "source": [
    "En revanche, ceci est fréquent"
   ]
  },
  {
   "cell_type": "code",
   "execution_count": null,
   "id": "951df2e0",
   "metadata": {},
   "outputs": [],
   "source": [
    "print(\"supercallifragilisticexpialidocious\"[-3:])"
   ]
  },
  {
   "cell_type": "markdown",
   "id": "64797f3c",
   "metadata": {},
   "source": [
    "### *Step*\n",
    "\n",
    "En plus des paramètres `start` et `end`, il y a aussi un paramètre optionnel `step` (le *pas*) qui\n",
    "permet de sélectionner des sous-chaînes discontinues."
   ]
  },
  {
   "cell_type": "code",
   "execution_count": null,
   "id": "1e7a5d62",
   "metadata": {},
   "outputs": [],
   "source": [
    "\"Merveilleux\"[2:5:3]"
   ]
  },
  {
   "cell_type": "code",
   "execution_count": null,
   "id": "5f6e1507",
   "metadata": {},
   "outputs": [],
   "source": [
    "\"Merveilleux\"[::3]"
   ]
  },
  {
   "cell_type": "markdown",
   "id": "ca35662f",
   "metadata": {},
   "source": [
    "Ce pas peut être négatif, auquel cas on parcourt la chaîne à l'envers :"
   ]
  },
  {
   "cell_type": "code",
   "execution_count": null,
   "id": "c2792c06",
   "metadata": {},
   "outputs": [],
   "source": [
    "\"Merveilleux\"[8:2:-3]"
   ]
  },
  {
   "cell_type": "markdown",
   "id": "86cd098e",
   "metadata": {},
   "source": [
    "Est-ce que vous pouvez en déduire une façon d'inverser une chaîne en utilisant que la syntaxe de\n",
    "*slice* ?"
   ]
  },
  {
   "cell_type": "code",
   "execution_count": null,
   "id": "2554940c",
   "metadata": {},
   "outputs": [],
   "source": [
    "# À vous de jouer"
   ]
  },
  {
   "cell_type": "markdown",
   "id": "bf3a95c7",
   "metadata": {},
   "source": [
    "(C'est en vérité de loin l'usage le plus fréquent de `step`)."
   ]
  },
  {
   "cell_type": "markdown",
   "id": "6be6bb1b",
   "metadata": {},
   "source": [
    "### La méthode `find`\n",
    "\n",
    "La fonction `str.find(chaine, sous_chaine)` renvoie l'indice de départ de `sous_chaine` dans\n",
    "`chaine` ou `-1` si on ne l'y trouve pas."
   ]
  },
  {
   "cell_type": "code",
   "execution_count": null,
   "id": "9cc18288",
   "metadata": {},
   "outputs": [],
   "source": [
    "str.find(\"Une pomme\", \"pom\")"
   ]
  },
  {
   "cell_type": "code",
   "execution_count": null,
   "id": "ff28814b",
   "metadata": {},
   "outputs": [],
   "source": [
    "str.find(\"Une pomme\", \"poi\")"
   ]
  },
  {
   "cell_type": "markdown",
   "id": "b9584bb7",
   "metadata": {},
   "source": [
    "Si la sous-chaîne est présente plusieurs fois, seule la première sera prise en compte :"
   ]
  },
  {
   "cell_type": "code",
   "execution_count": null,
   "id": "e51548ba",
   "metadata": {},
   "outputs": [],
   "source": [
    "str.find(\"rock and roll\", \"ro\")"
   ]
  },
  {
   "cell_type": "markdown",
   "id": "1005fa08",
   "metadata": {},
   "source": [
    "**Note** Les fonctions comme `find`, `upper`… sont plus précisément des **méthodes**, c'est-à-dire\n",
    "des fonctions attachées à un type d'objet en particulier (ici les chaînes de caractères). On peut\n",
    "les appeler via leur type (`str`) ou via un objet :"
   ]
  },
  {
   "cell_type": "code",
   "execution_count": null,
   "id": "8fefce77",
   "metadata": {},
   "outputs": [],
   "source": [
    "\"Une pomme\".find(\"pom\")"
   ]
  },
  {
   "cell_type": "markdown",
   "id": "8c45d4ff",
   "metadata": {},
   "source": [
    "On reviendra plus en détails sur ces notions plus tard dans le cours."
   ]
  },
  {
   "cell_type": "markdown",
   "id": "00b848b4",
   "metadata": {},
   "source": [
    "## Listes\n",
    "\n",
    "On a vu qu'une chaîne de caractères était une **séquence** de caractères.\n",
    "\n",
    "Il existe d'autres types de séquences en Python. Le plus élémentaire est la **liste**, un objet du\n",
    "type `list`.\n",
    "\n",
    "Il s'agit d'un conteneur générique qui peut contenir des séquences de n'importe quel type d'objets.\n",
    "\n",
    "On crée une liste avec la syntaxe suivante (oui, encore des crochets)"
   ]
  },
  {
   "cell_type": "code",
   "execution_count": null,
   "id": "c49d6191",
   "metadata": {},
   "outputs": [],
   "source": [
    "a = [1, 2, 3]\n",
    "print(a)"
   ]
  },
  {
   "cell_type": "code",
   "execution_count": null,
   "id": "3d48ec45",
   "metadata": {},
   "outputs": [],
   "source": [
    "type(a)"
   ]
  },
  {
   "cell_type": "code",
   "execution_count": null,
   "id": "ea3274bc",
   "metadata": {},
   "outputs": [],
   "source": [
    "a = [0.1, 12.5, 13.0]\n",
    "print(a)\n",
    "print(type(a))"
   ]
  },
  {
   "cell_type": "code",
   "execution_count": null,
   "id": "54373085",
   "metadata": {},
   "outputs": [],
   "source": [
    "a = [\"Je\", \"reconnais\", \"l'\", \"existence\", \"du\", \"kiwi\"]\n",
    "print(a)\n",
    "print(type(a))"
   ]
  },
  {
   "cell_type": "markdown",
   "id": "4b8ff379",
   "metadata": {},
   "source": [
    "On peut également mélanger les types"
   ]
  },
  {
   "cell_type": "code",
   "execution_count": null,
   "id": "ba3f7ca4",
   "metadata": {},
   "outputs": [],
   "source": [
    "l = [1, \"machin\", True, 0.000001]\n",
    "print(l)\n",
    "print(type(l))"
   ]
  },
  {
   "cell_type": "markdown",
   "id": "486f034b",
   "metadata": {},
   "source": [
    "Et les éléments peuvent eux-aussi être des listes. Dans l'exemple suivant, `l` est une liste de\n",
    "trois éléments, le dernier se trouvant être une liste lui-même."
   ]
  },
  {
   "cell_type": "code",
   "execution_count": null,
   "id": "75d05cab",
   "metadata": {},
   "outputs": [],
   "source": [
    "l = [1, \"machin\", [0, 2]]\n",
    "print(l)\n",
    "print(type(l))"
   ]
  },
  {
   "cell_type": "markdown",
   "id": "43d01334",
   "metadata": {},
   "source": [
    "Comme les chaînes de caractères, les listes sont **ordonnées**"
   ]
  },
  {
   "cell_type": "code",
   "execution_count": null,
   "id": "704ef07e",
   "metadata": {},
   "outputs": [],
   "source": [
    "[1, 2, 3] == [3, 1, 2]"
   ]
  },
  {
   "cell_type": "markdown",
   "id": "4be328ef",
   "metadata": {},
   "source": [
    "Elles sont donc également indicées :"
   ]
  },
  {
   "cell_type": "code",
   "execution_count": null,
   "id": "c66e2ed4",
   "metadata": {},
   "outputs": [],
   "source": [
    "ma_liste= [\"Je\", \"reconnais\", \"l'\", \"existence\", \"du\", \"kiwi\"]\n",
    "\n",
    "print(ma_liste[0])\n",
    "print(ma_liste[1])\n",
    "print(ma_liste[-1])\n",
    "print(ma_liste[1:4])"
   ]
  },
  {
   "cell_type": "markdown",
   "id": "cf91b8e7",
   "metadata": {},
   "source": [
    "Et on peut obtenir leur longueur"
   ]
  },
  {
   "cell_type": "code",
   "execution_count": null,
   "id": "30d60aa9",
   "metadata": {},
   "outputs": [],
   "source": [
    "ma_liste= [\"J'\", \"aime\", \"les\", \"épinards\"]\n",
    "len(ma_liste)"
   ]
  },
  {
   "cell_type": "markdown",
   "id": "fe22cd95",
   "metadata": {},
   "source": [
    "Et donc vérifier que je n'ai pas menti"
   ]
  },
  {
   "cell_type": "code",
   "execution_count": null,
   "id": "2cf0cbe1",
   "metadata": {},
   "outputs": [],
   "source": [
    "len([1, \"machin\", [0, 2]])"
   ]
  },
  {
   "cell_type": "markdown",
   "id": "1e376424",
   "metadata": {},
   "source": [
    "À votre avis, qu'affiche la cellule suivante ?"
   ]
  },
  {
   "cell_type": "code",
   "execution_count": null,
   "id": "36ce8608",
   "metadata": {},
   "outputs": [],
   "source": [
    "ma_liste = [1, \"machin\", [9, 2]]\n",
    "print(ma_liste[2][0])"
   ]
  },
  {
   "cell_type": "markdown",
   "id": "b79dbff7",
   "metadata": {},
   "source": [
    "Enfin, une liste peut avoir un seul élément"
   ]
  },
  {
   "cell_type": "code",
   "execution_count": null,
   "id": "1f086b07",
   "metadata": {},
   "outputs": [],
   "source": [
    "une_autre_liste = [\"tout seul\"]"
   ]
  },
  {
   "cell_type": "markdown",
   "id": "2e8e31e4",
   "metadata": {},
   "source": [
    "voire être vide"
   ]
  },
  {
   "cell_type": "code",
   "execution_count": null,
   "id": "ce05b6a3",
   "metadata": {},
   "outputs": [],
   "source": [
    "une_autre_liste = []"
   ]
  },
  {
   "cell_type": "markdown",
   "id": "db59ca3d",
   "metadata": {},
   "source": [
    "Attention donc à bien identifier les éléments : qu'affiche la cellule suivante ?"
   ]
  },
  {
   "cell_type": "code",
   "execution_count": null,
   "id": "690365c8",
   "metadata": {},
   "outputs": [],
   "source": [
    "ma_liste= [\"J', aime, les, épinards\"]\n",
    "print(len(ma_liste))"
   ]
  },
  {
   "cell_type": "markdown",
   "id": "2eb3ff1b",
   "metadata": {},
   "source": [
    "### Modifier des listes\n",
    "\n",
    "Les listes sont **mutables**, on peut les modifier avec les méthodes suivantes"
   ]
  },
  {
   "cell_type": "markdown",
   "id": "c037fab6",
   "metadata": {},
   "source": [
    "#### `append`\n",
    "\n",
    "`append` ajoute un nouvel élément à une liste existante :"
   ]
  },
  {
   "cell_type": "code",
   "execution_count": null,
   "id": "33f39615",
   "metadata": {
    "lines_to_next_cell": 2
   },
   "outputs": [],
   "source": [
    "ma_liste = [1, 2, 3]\n",
    "ma_liste.append(\"un de plus\")\n",
    "print(ma_liste)"
   ]
  },
  {
   "cell_type": "code",
   "execution_count": null,
   "id": "03d63994",
   "metadata": {},
   "outputs": [],
   "source": [
    "one_list = [1, 2, 3]\n",
    "another_list = [True, \"linguistique\"]\n",
    "one_list.append(another_list)\n",
    "print(one_list)"
   ]
  },
  {
   "cell_type": "markdown",
   "id": "572313c3",
   "metadata": {},
   "source": [
    "Combien d'éléments a `one_list` ?"
   ]
  },
  {
   "cell_type": "code",
   "execution_count": null,
   "id": "b81f8ff7",
   "metadata": {},
   "outputs": [],
   "source": [
    "print(one_list, \"a\", len(one_list), \"éléments\")"
   ]
  },
  {
   "cell_type": "markdown",
   "id": "28d30ad7",
   "metadata": {},
   "source": [
    "#### `extend`\n",
    "\n",
    "`extend` ajoute à une liste tous les éléments d'une autre liste :"
   ]
  },
  {
   "cell_type": "code",
   "execution_count": null,
   "id": "1189e02f",
   "metadata": {},
   "outputs": [],
   "source": [
    "one_list = [1, 2, 3]\n",
    "another_list = [True, \"linguistique\"]\n",
    "one_list.extend(another_list)\n",
    "print(one_list)"
   ]
  },
  {
   "cell_type": "markdown",
   "id": "ab576a14",
   "metadata": {},
   "source": [
    "est donc équivalent à"
   ]
  },
  {
   "cell_type": "code",
   "execution_count": null,
   "id": "8d9511bf",
   "metadata": {},
   "outputs": [],
   "source": [
    "one_list = [1, 2, 3]\n",
    "another_list = [True, \"linguistique\"]\n",
    "one_list.append(another_list[0])\n",
    "one_list.append(another_list[1])\n",
    "print(one_list)"
   ]
  },
  {
   "cell_type": "markdown",
   "id": "d05ac3df",
   "metadata": {},
   "source": [
    "#### `insert`\n",
    "\n",
    "Enfin, `insert` permet d'insérer des éléments à une position arbitraire dans une liste"
   ]
  },
  {
   "cell_type": "code",
   "execution_count": null,
   "id": "3f309827",
   "metadata": {},
   "outputs": [],
   "source": [
    "states = [\"California\", \"New York\", \"Arizona\"]\n",
    "states.insert(1, \"Colorado\")\n",
    "print(states)"
   ]
  },
  {
   "cell_type": "markdown",
   "id": "353c626c",
   "metadata": {},
   "source": [
    "On évite en général de s'en servir quand on peut utiliser `append` à la place."
   ]
  },
  {
   "cell_type": "markdown",
   "id": "685108cf",
   "metadata": {},
   "source": [
    "#### `remove` et `pop`\n",
    "\n",
    "`remove` ôte la première occurrence d'un élément"
   ]
  },
  {
   "cell_type": "code",
   "execution_count": null,
   "id": "151beac6",
   "metadata": {},
   "outputs": [],
   "source": [
    "states = [\"California\", \"New York\", \"Arizona\"]\n",
    "states.remove(\"Arizona\")\n",
    "print(states)"
   ]
  },
  {
   "cell_type": "markdown",
   "id": "95989df2",
   "metadata": {},
   "source": [
    "Mais **seulement** la première :"
   ]
  },
  {
   "cell_type": "code",
   "execution_count": null,
   "id": "0527e2cd",
   "metadata": {},
   "outputs": [],
   "source": [
    "states = [\"California\", \"New York\", \"Arizona\", \"New York\"]\n",
    "states.remove(\"New York\")\n",
    "print(states)"
   ]
  },
  {
   "cell_type": "markdown",
   "id": "ddce590e",
   "metadata": {},
   "source": [
    "Pour supprimer un élément en donnant sa position on utilise `pop` :"
   ]
  },
  {
   "cell_type": "code",
   "execution_count": null,
   "id": "086af451",
   "metadata": {},
   "outputs": [],
   "source": [
    "print(states)\n",
    "states.pop(1)\n",
    "print(states)"
   ]
  },
  {
   "cell_type": "markdown",
   "id": "da6fe905",
   "metadata": {},
   "source": [
    "On peut aussi modifier la valeur d'un élément par position de la façon suivante :"
   ]
  },
  {
   "cell_type": "code",
   "execution_count": null,
   "id": "3feee616",
   "metadata": {},
   "outputs": [],
   "source": [
    "cities = [\"NYC\", \"LA\"]\n",
    "cities[0] = \"SF\"\n",
    "print(cities)"
   ]
  },
  {
   "cell_type": "markdown",
   "id": "328b7728",
   "metadata": {},
   "source": [
    "### 🛠️ Entraînement 🛠️\n",
    "\n",
    "Voici une liste de lettres :"
   ]
  },
  {
   "cell_type": "code",
   "execution_count": null,
   "id": "d3f4826c",
   "metadata": {},
   "outputs": [],
   "source": [
    "letters = [\"d\", \"b\", \"c\", \"n\"]"
   ]
  },
  {
   "cell_type": "markdown",
   "id": "f3797977",
   "metadata": {},
   "source": [
    "Insérez `\"x\"` en position `3`, puis retirez `\"c\"`, ajoutez `\"e\"` à la fin, supprimez l'élément\n",
    "d'indice `2`, et, finalement remplacez l'élément en position `1` par `\"o\"`. Puis affichez le contenu\n",
    "de la liste"
   ]
  },
  {
   "cell_type": "code",
   "execution_count": null,
   "id": "7fb2059f",
   "metadata": {},
   "outputs": [],
   "source": []
  },
  {
   "cell_type": "markdown",
   "id": "c8104f54",
   "metadata": {},
   "source": [
    "## Boucle `for`\n",
    "\n",
    "Nous disposons à présent de **séquences** : les chaînes de caractères et les listes. Il nous manque\n",
    "un outil pour pouvoir faire des choses vraiment intéressantes avec.\n",
    "\n",
    "Observez les cellules suivantes"
   ]
  },
  {
   "cell_type": "code",
   "execution_count": null,
   "id": "8f3e1d8c",
   "metadata": {},
   "outputs": [],
   "source": [
    "for char in \"Chocolat\":\n",
    "    print(char)  "
   ]
  },
  {
   "cell_type": "code",
   "execution_count": null,
   "id": "4e21f2c5",
   "metadata": {},
   "outputs": [],
   "source": [
    "for el in [\"a\", \"e\", \"i\", \"o\", \"u\"]:\n",
    "    print(el)"
   ]
  },
  {
   "cell_type": "markdown",
   "id": "c67639bb",
   "metadata": {},
   "source": [
    "Pouvez-vous en déduire ce qu'affichent les cellules suivantes ?"
   ]
  },
  {
   "cell_type": "code",
   "execution_count": null,
   "id": "a1ed5b67",
   "metadata": {},
   "outputs": [],
   "source": [
    "for c in \"Seitan\":\n",
    "    print(c)"
   ]
  },
  {
   "cell_type": "code",
   "execution_count": null,
   "id": "0f3cdbb9",
   "metadata": {},
   "outputs": [],
   "source": [
    "for i in [1, 2, 3, 4, 5]:\n",
    "    print(i)"
   ]
  },
  {
   "cell_type": "markdown",
   "id": "ccb95ea2",
   "metadata": {},
   "source": [
    "Et la cellule suivante ?"
   ]
  },
  {
   "cell_type": "code",
   "execution_count": null,
   "id": "a88c2752",
   "metadata": {},
   "outputs": [],
   "source": [
    "for i in [1, 2, 3, 4, 5]:\n",
    "    j = 2*i\n",
    "    print(j)\n",
    "print(\"hello\")"
   ]
  },
  {
   "cell_type": "markdown",
   "id": "b098c6b3",
   "metadata": {},
   "source": [
    "---\n",
    "\n",
    "Le mot-clé `for` permet de définir une **boucle** (spécifiquement une boucle d'itérateur) : un bloc\n",
    "de code qui sera exécuté pour chacun des éléments d'une séquence, et dans lequel on a accès à la\n",
    "valeur de cet élément.\n",
    "\n",
    "Il s'agit comme pour les blocs `if`-`elif`-`else` d'une **structure de contrôle**.\n",
    "\n",
    "Le bloc de code qui est répété (le **corps de la boucle**) est marqué là encore par des alinéas.\n",
    "\n",
    "La syntaxe formelle exacte est\n",
    "\n",
    "```text\n",
    "for <nom-de-variable> in <sequence>:\n",
    "    Instruction 1\n",
    "    Instruction 2\n",
    "    …\n",
    "```\n",
    "\n",
    "Notez bien les `:` à la fin de la ligne `for`. Là encore, c'est comme pour `if`."
   ]
  },
  {
   "cell_type": "markdown",
   "id": "030c1078",
   "metadata": {},
   "source": [
    "On peut combiner boucles et tests"
   ]
  },
  {
   "cell_type": "code",
   "execution_count": null,
   "id": "72286632",
   "metadata": {},
   "outputs": [],
   "source": [
    "voyelles = [\"a\", \"e\", \"i\", \"o\", \"u\"]\n",
    "for char in \"linguistique\":\n",
    "    if char in voyelles:\n",
    "        print(\"J'ai trouvé une voyelle :\", char)"
   ]
  },
  {
   "cell_type": "markdown",
   "id": "799948e1",
   "metadata": {},
   "source": [
    "Et les boucles peuvent être imbriquées :\n"
   ]
  },
  {
   "cell_type": "code",
   "execution_count": null,
   "id": "4ce95db1",
   "metadata": {},
   "outputs": [],
   "source": [
    "cities = [\"NYC\", \"LA\", \"SF\"]\n",
    "\n",
    "for city in cities:\n",
    "    print(\"La ville est\", city)\n",
    "    print(\"Ses lettres sont :\")\n",
    "\n",
    "    for letter in city:\n",
    "        print(\"\\t\", letter)"
   ]
  },
  {
   "cell_type": "markdown",
   "id": "b64181ea",
   "metadata": {},
   "source": [
    "## Exercices\n",
    "\n",
    "Répondre à ces exercices directement dans le notebook, le sauvegarder sous un nom de la forme\n",
    "`03_index_listes_iter_PRENOM_NOM.ipynb` (pour Morgan Lefeuvre par exemple, ce serait\n",
    "`03_index_listes_iter_Morgan_Lefeuvre.ipynb`) et me le transmettre avant dimanche soir prochain\n",
    "(2022-02-06).\n",
    "\n",
    "- De préférence via [Cours en Ligne](https://coursenligne.parisnanterre.fr/course/view.php?id=7694)\n",
    "  (clé d'inscription `rossum`)\n",
    "- À défaut, par mail, à `<lgrobol@parisnanterre.fr>`\n",
    "\n",
    "Attention : **l'extension doit être `.ipynb`**."
   ]
  },
  {
   "cell_type": "markdown",
   "id": "393369bb",
   "metadata": {},
   "source": [
    "## Exercice 1\n",
    "\n",
    "Voici deux listes"
   ]
  },
  {
   "cell_type": "code",
   "execution_count": null,
   "id": "b6ccae1d",
   "metadata": {},
   "outputs": [],
   "source": [
    "cities = [\"NYC\", \"LA\", \"SF\"]\n",
    "small_cities = [\"Stony Brook\", \"Provo\"]\n",
    "\n",
    "# Codez ici"
   ]
  },
  {
   "cell_type": "markdown",
   "id": "4772816a",
   "metadata": {},
   "source": [
    "Modifiez la cellule suivante de sorte à modifier `cities` pour que son contenu soit `[\"NYC\", \"LA\",\n",
    "\"Stony Brook\", \"Provo\", \"SF\"]`"
   ]
  },
  {
   "cell_type": "markdown",
   "id": "fa742c15",
   "metadata": {},
   "source": [
    "## Exercice 2\n",
    "\n",
    "Voici une liste"
   ]
  },
  {
   "cell_type": "code",
   "execution_count": null,
   "id": "50f50792",
   "metadata": {},
   "outputs": [],
   "source": [
    "villes = [\"Paris\", \"Nanterre\", \"Orléans\", \"Uppsala\"]"
   ]
  },
  {
   "cell_type": "markdown",
   "id": "8b455e40",
   "metadata": {},
   "source": [
    "En utilisant cette liste, écrivez un programme qui affiche la sortie suivante\n",
    "\n",
    "```text\n",
    "Paris Paris\n",
    "Paris Nanterre\n",
    "Paris Orléans\n",
    "Paris Uppsala\n",
    "Nanterre Paris\n",
    "Nanterre Nanterre\n",
    "Nanterre Orléans\n",
    "Nanterre Uppsala\n",
    "Orléans Paris\n",
    "Orléans Nanterre\n",
    "Orléans Orléans\n",
    "Orléans Uppsala\n",
    "Uppsala Paris\n",
    "Uppsala Nanterre\n",
    "Uppsala Orléans\n",
    "Uppsala Uppsala\n",
    "```\n"
   ]
  },
  {
   "cell_type": "code",
   "execution_count": null,
   "id": "42d72ff9",
   "metadata": {},
   "outputs": [],
   "source": [
    "# codez ici"
   ]
  },
  {
   "cell_type": "markdown",
   "id": "992dba69",
   "metadata": {},
   "source": [
    "### Exercice 3\n",
    "\n",
    "Voici quelques mots de la [Liste Swadesh](https://fr.wikipedia.org/wiki/Liste_Swadesh)."
   ]
  },
  {
   "cell_type": "code",
   "execution_count": null,
   "id": "243352a9",
   "metadata": {},
   "outputs": [],
   "source": [
    "words = [\"soleil\", \"lune\", \"terre\", \"eau\", \"nouriture\", \"ciel\"]"
   ]
  },
  {
   "cell_type": "markdown",
   "id": "7198c975",
   "metadata": {},
   "source": [
    "Imaginez que vous êtes un⋅e linguiste de terrain en train de collecter du vocabulaire pour\n",
    "documenter une langue :\n",
    "\n",
    "- Créez une liste vide dans une variable `traduction`.\n",
    "- Pour chacun des mots de la liste `words`, demandez à l'utilisateurice d'entrer sa traduction et\n",
    "  sauvegardez cette entrée dans `traductions`.\n",
    "- Une fois que vous avez terminé, affichez la valeur de `traductions`."
   ]
  },
  {
   "cell_type": "code",
   "execution_count": null,
   "id": "7fa1da9c",
   "metadata": {},
   "outputs": [],
   "source": []
  },
  {
   "cell_type": "markdown",
   "id": "2a668a0f",
   "metadata": {},
   "source": [
    "### Réflexion\n",
    "\n",
    "Quelques questions sur votre travail :\n",
    "\n",
    "- Combien de temps avez-vous passé à faire ces exercices ?\n",
    "- Combien de temps avez-vous passé à relire le cours (ou les cours précédents) ?\n",
    "- Avez-vous l'impression d'avoir bien mémorisé les concepts et les techniques vus jusqu'ici ?\n",
    "- Qu'est-ce qui vous paraît le plus compliqué ?\n",
    "- À votre avis, pourquoi ?\n",
    "\n",
    "Merci de bien répondre à chacune de ces questions : elles me permettent d'ajuster le cours en\n",
    "fonction de vos besoins, avec un peu de chance, elles devraient également vous aider à guider votre\n",
    "travail et à apprécier votre progression."
   ]
  }
 ],
 "metadata": {
  "jupytext": {
   "formats": "ipynb,md",
   "split_at_heading": true
  },
  "kernelspec": {
   "display_name": "Python 3 (ipykernel)",
   "language": "python",
   "name": "python3"
  }
 },
 "nbformat": 4,
 "nbformat_minor": 5
}
