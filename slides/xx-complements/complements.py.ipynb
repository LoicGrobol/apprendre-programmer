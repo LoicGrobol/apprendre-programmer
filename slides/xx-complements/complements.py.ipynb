{
 "cells": [
  {
   "cell_type": "markdown",
   "id": "3556a976",
   "metadata": {
    "lines_to_next_cell": 0
   },
   "source": [
    "<!-- LTeX: language=fr -->"
   ]
  },
  {
   "cell_type": "markdown",
   "id": "82d2f587",
   "metadata": {
    "slideshow": {
     "slide_type": "slide"
    }
   },
   "source": [
    "Cours XX : Complements\n",
    "=================================================\n",
    "\n",
    "**Loïc Grobol** [<lgrobol@parisnanterre.fr>](mailto:lgrobol@parisnanterre.fr)\n",
    "\n",
    "xxxx-xx-xx"
   ]
  },
  {
   "cell_type": "markdown",
   "id": "9b10f449",
   "metadata": {},
   "source": [
    "Dans ce notebook, tous les trucs qu'on a pas vu dans le cours faute de temps."
   ]
  },
  {
   "cell_type": "markdown",
   "id": "bd7ab2c5",
   "metadata": {},
   "source": [
    "## Compléments"
   ]
  },
  {
   "cell_type": "markdown",
   "id": "7551509b",
   "metadata": {},
   "source": [
    "### Immutabilité des chaînes de caractères\n",
    "\n",
    "String indexes cannot be reassigned, i.e. the existent parts of the string cannot be modified directly:\n"
   ]
  },
  {
   "cell_type": "code",
   "execution_count": null,
   "id": "8a718be8",
   "metadata": {},
   "outputs": [],
   "source": [
    "string = \"hello\"\n",
    "string[-1] = \"a\""
   ]
  },
  {
   "cell_type": "markdown",
   "id": "312d408a",
   "metadata": {},
   "source": [
    "If we have a task to \"mask\" all vowels from a text, we will need to create a new string based on the old one.\n",
    "\n",
    "**Practice** Withouth looking at the code in the next cell, can you think of how to do it?\n"
   ]
  },
  {
   "cell_type": "code",
   "execution_count": null,
   "id": "3fba57d5",
   "metadata": {
    "lines_to_next_cell": 2
   },
   "outputs": [],
   "source": [
    "vowels = \"aoiue\"\n",
    "text = \"This is a sentence that should contain no vowels.\"\n",
    "\n",
    "#try it here by yoursel!"
   ]
  },
  {
   "cell_type": "code",
   "execution_count": null,
   "id": "bb0bb178",
   "metadata": {},
   "outputs": [],
   "source": [
    "vowels = \"aoiue\"\n",
    "text = \"This is a sentence that should contain no vowels.\"\n",
    "\n",
    "masked_text = \"\"\n",
    "for char in text:\n",
    "    if char not in vowels:\n",
    "        masked_text += char\n",
    "    else:\n",
    "        masked_text += \"*\"\n",
    "print(masked_text)"
   ]
  },
  {
   "cell_type": "markdown",
   "id": "23d9dbf3",
   "metadata": {},
   "source": [
    "**Practice:** You are given a string `alphabet` that contains all English letters, and a string `text`.\n"
   ]
  },
  {
   "cell_type": "code",
   "execution_count": null,
   "id": "ff1ec46f",
   "metadata": {},
   "outputs": [],
   "source": [
    "alphabet = \"abcdefghijklmnopqrstuvwxyz\"\n",
    "text = \"A chessboard appeared, but it was triangular, and so big that only the nearest point could be seen.\""
   ]
  },
  {
   "cell_type": "markdown",
   "id": "fb2b89c7",
   "metadata": {},
   "source": [
    "Write code that makes this string lowercase and deletes punctuations from the text."
   ]
  },
  {
   "cell_type": "code",
   "execution_count": null,
   "id": "9e0e7d83",
   "metadata": {},
   "outputs": [],
   "source": []
  },
  {
   "cell_type": "markdown",
   "id": "5599b418",
   "metadata": {},
   "source": [
    "### Mutabilité des listes\n",
    "\n",
    "Les méthodes de listes qu'on a vu **modifient** les listes directement (*in-place*)."
   ]
  },
  {
   "cell_type": "code",
   "execution_count": null,
   "id": "192a92a4",
   "metadata": {},
   "outputs": [],
   "source": [
    "ma_liste = [\"a\"]\n",
    "ma_liste.append(\"b\")\n",
    "print(ma_liste)"
   ]
  },
  {
   "cell_type": "markdown",
   "id": "70310d22",
   "metadata": {},
   "source": [
    "Ce n'était pas le cas des méthodes de chaînes de caractères"
   ]
  },
  {
   "cell_type": "code",
   "execution_count": null,
   "id": "854c5f88",
   "metadata": {},
   "outputs": [],
   "source": [
    "str1 = \"a\"\n",
    "print(str.upper(str1))\n",
    "print(str1)"
   ]
  },
  {
   "cell_type": "markdown",
   "id": "31d70ef7",
   "metadata": {},
   "source": [
    "En Python, les `str` sont **immutables** et les listes sont **mutables**. Ça a d'autres conséquences\n",
    "peu intuitives. Comparez ainsi :"
   ]
  },
  {
   "cell_type": "code",
   "execution_count": null,
   "id": "6f3ba8ec",
   "metadata": {},
   "outputs": [],
   "source": [
    "a = 1\n",
    "b = a\n",
    "a = a + 1\n",
    "print(\"a vaut \", a)\n",
    "print(\"b vaut \", b)"
   ]
  },
  {
   "cell_type": "markdown",
   "id": "81cc0a0a",
   "metadata": {},
   "source": [
    "et"
   ]
  },
  {
   "cell_type": "code",
   "execution_count": null,
   "id": "7d58c3b4",
   "metadata": {},
   "outputs": [],
   "source": [
    "a = [1, 2, 3]\n",
    "b = a\n",
    "a[1] = 2713\n",
    "print(\"a vaut \", a)\n",
    "print(\"b vaut \", b)"
   ]
  },
  {
   "cell_type": "markdown",
   "id": "3110bcdf",
   "metadata": {},
   "source": [
    "Pour faire une **copie** indépendante d'une liste, on peut utiliser la fonction `list` :"
   ]
  },
  {
   "cell_type": "code",
   "execution_count": null,
   "id": "6827b39d",
   "metadata": {},
   "outputs": [],
   "source": [
    "a = [1, 2, 3]\n",
    "b = list(a)\n",
    "a[1] = 2713\n",
    "print(\"a vaut \", a)\n",
    "print(\"b vaut \", b)"
   ]
  },
  {
   "cell_type": "markdown",
   "id": "e47228fb",
   "metadata": {},
   "source": [
    "On peut également utiliser ceci :"
   ]
  },
  {
   "cell_type": "code",
   "execution_count": null,
   "id": "8dcac220",
   "metadata": {
    "lines_to_next_cell": 2
   },
   "outputs": [],
   "source": [
    "a = [1, 2, 3]\n",
    "b = a[:]  # ← notez la différence\n",
    "a[1] = 2713\n",
    "print(\"a vaut \", a)\n",
    "print(\"b vaut \", b)"
   ]
  },
  {
   "cell_type": "markdown",
   "id": "3908ed7d",
   "metadata": {},
   "source": [
    "## Fichiers tabulaires\n",
    "\n",
    "It is in fact possible to engineer a way to work with csv files using the same methods we already discussed.\n"
   ]
  },
  {
   "cell_type": "code",
   "execution_count": null,
   "id": "01d0130e",
   "metadata": {},
   "outputs": [],
   "source": [
    "with open('files/grades.csv', 'r') as file:\n",
    "    for line in file:\n",
    "        print(line.strip())"
   ]
  },
  {
   "cell_type": "markdown",
   "id": "f37a0b86",
   "metadata": {},
   "source": [
    "Every line of the file is still a string, and therefore to represent them as a list of values, we will need to split them.\n"
   ]
  },
  {
   "cell_type": "code",
   "execution_count": null,
   "id": "9a0abffd",
   "metadata": {},
   "outputs": [],
   "source": [
    "with open('files/grades.csv', 'r') as file:\n",
    "    for line in file:\n",
    "        print(line.strip().split(\",\"))"
   ]
  },
  {
   "cell_type": "markdown",
   "id": "cf936528",
   "metadata": {},
   "source": [
    "A simpler way to read csv files in Python is to use `csv` package."
   ]
  },
  {
   "cell_type": "markdown",
   "id": "8cd1fb6e",
   "metadata": {},
   "source": [
    "### Bonus : le module `csv`"
   ]
  },
  {
   "cell_type": "code",
   "execution_count": null,
   "id": "59113012",
   "metadata": {},
   "outputs": [],
   "source": [
    "import csv"
   ]
  },
  {
   "cell_type": "markdown",
   "id": "2fcac671",
   "metadata": {},
   "source": [
    "In order to read a csv file using the `csv` package, right after opening the file, we need to define a `csv.reader` for it. It will parse the rows automatically!\n"
   ]
  },
  {
   "cell_type": "code",
   "execution_count": null,
   "id": "e10e66be",
   "metadata": {},
   "outputs": [],
   "source": [
    "with open('files/grades.csv', 'r') as file:\n",
    "    csvreader = csv.reader(file)\n",
    "    for row in csvreader:\n",
    "        print(row)"
   ]
  },
  {
   "cell_type": "markdown",
   "id": "fce52bc4",
   "metadata": {},
   "source": [
    "Similarly, to write files, we want to define a `scv.writer` and change the editing mode to `w`. Then we will be able to write rows of the csv one-by-one by applying `writerow` method to the `csv.writer` object.\n"
   ]
  },
  {
   "cell_type": "code",
   "execution_count": null,
   "id": "a73f3260",
   "metadata": {},
   "outputs": [],
   "source": [
    "with open('files/greetings.csv', 'w') as file:\n",
    "    csvwriter = csv.writer(file)\n",
    "    csvwriter.writerow([\"hello\", \"hi\", \"howdy\"])\n",
    "    csvwriter.writerow([\"zdravstvujte\", \"privet\", \"hej\"])"
   ]
  },
  {
   "cell_type": "markdown",
   "id": "7829c4d9",
   "metadata": {},
   "source": [
    "You can read more about the functionality of the `csv` package [here](https://docs.python.org/3/library/csv.html).\n",
    "\n"
   ]
  }
 ],
 "metadata": {
  "jupytext": {
   "formats": "ipynb,md",
   "split_at_heading": true
  },
  "kernelspec": {
   "display_name": "Python 3 (ipykernel)",
   "language": "python",
   "name": "python3"
  }
 },
 "nbformat": 4,
 "nbformat_minor": 5
}
