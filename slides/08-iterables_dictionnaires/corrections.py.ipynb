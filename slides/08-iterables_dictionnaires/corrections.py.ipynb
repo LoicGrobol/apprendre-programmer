{
 "cells": [
  {
   "cell_type": "markdown",
   "id": "14b0e401",
   "metadata": {
    "lines_to_next_cell": 0
   },
   "source": [
    "<!-- LTeX: language=fr -->"
   ]
  },
  {
   "cell_type": "markdown",
   "id": "a6e0927e",
   "metadata": {
    "slideshow": {
     "slide_type": "slide"
    }
   },
   "source": [
    "Cours 8 : Corrections\n",
    "=====================\n",
    "\n",
    "**Loïc Grobol** [<lgrobol@parisnanterre.fr>](mailto:lgrobol@parisnanterre.fr)\n",
    "\n",
    "2022-03-22"
   ]
  },
  {
   "cell_type": "markdown",
   "id": "b1b02f61",
   "metadata": {},
   "source": [
    "## `zip`\n",
    "\n",
    "> Est-ce que vous voyez comment simuler `enumerate` en utilisant `zip` ?\n",
    "\n",
    "Avec `zip` et `range`"
   ]
  },
  {
   "cell_type": "code",
   "execution_count": null,
   "id": "055d5e89",
   "metadata": {},
   "outputs": [],
   "source": [
    "l = [\"spam\", \"sausages\", \"eggs\", \"ham\", \"spam\"]\n",
    "for idx, elem in zip(l, range(len(l))):\n",
    "    print(\"L'élément en position\", idx, \"est\", elem)"
   ]
  },
  {
   "cell_type": "markdown",
   "id": "eed58052",
   "metadata": {},
   "source": [
    "## Étude de cas : les codes ISO 639\n",
    "\n",
    "<!-- TODO: commencer plutôt par un Dict[str, str] et passer aux listes dans un second temps -->\n",
    "\n",
    "Voici un dictionnaire qui contient une liste de quelques langues indexées par leur code [ISO 639](https://en.wikipedia.org/wiki/List_of_ISO_639-1_codes)."
   ]
  },
  {
   "cell_type": "code",
   "execution_count": null,
   "id": "f07009d3",
   "metadata": {},
   "outputs": [],
   "source": [
    "iso_639 = {\n",
    "    \"ny\": [\"Chichewa\", \"Chewa\", \"Nyanja\"], \n",
    "    \"zh\": [\"Chinese\"], \n",
    "    \"cs\": [\"Czech\"], \n",
    "    \"da\": [\"Danish\"], \n",
    "    \"dv\": [\"Divehi\", \"Maldivian\"],\n",
    "}"
   ]
  },
  {
   "cell_type": "markdown",
   "id": "a231eb62",
   "metadata": {},
   "source": [
    "### Accéder aux éléments\n",
    "\n",
    "On peut accéder aux listes de langues en utilisant leur clé"
   ]
  },
  {
   "cell_type": "code",
   "execution_count": null,
   "id": "9d6f8959",
   "metadata": {},
   "outputs": [],
   "source": [
    "print(\"La valeur de 'ny' est\", iso_639[\"ny\"])\n",
    "print(\"La valeur de 'da' est\", iso_639[\"da\"])"
   ]
  },
  {
   "cell_type": "markdown",
   "id": "50cc80a1",
   "metadata": {},
   "source": [
    "> **Question** En utilisant ce dictionnaire, modifier la cellule suivante pour afficher la chaîne\n",
    "> `\"Chewa\"`"
   ]
  },
  {
   "cell_type": "code",
   "execution_count": null,
   "id": "7595938e",
   "metadata": {},
   "outputs": [],
   "source": [
    "print(iso_639[\"ny\"][1])"
   ]
  },
  {
   "cell_type": "markdown",
   "id": "33d32c9d",
   "metadata": {},
   "source": [
    "### Parcourir un dictionnaire\n",
    "\n",
    "Les dictionnaires sont des **itérables**, et on peut les parcourir dans une boucle `for`."
   ]
  },
  {
   "cell_type": "code",
   "execution_count": null,
   "id": "c72cf4cb",
   "metadata": {},
   "outputs": [],
   "source": [
    "for language in iso_639:\n",
    "    print(language)"
   ]
  },
  {
   "cell_type": "markdown",
   "id": "139184bc",
   "metadata": {},
   "source": [
    "**Attention** : ce sont les **clés** qu'on parcourt"
   ]
  },
  {
   "cell_type": "markdown",
   "id": "76dc11e8",
   "metadata": {},
   "source": [
    "### Entraînement\n",
    "\n",
    "> Modifier la boucle `for` ci-dessous pour qu'elle affiche la sortie suivante :\n",
    ">\n",
    "> ```text\n",
    "> ny -> ['Chichewa', 'Chewa', 'Nyanja']\n",
    "> zh -> ['Chinese']\n",
    "> cs -> ['Czech']\n",
    "> da -> ['Danish']\n",
    "> dv -> ['Divehi', 'Maldivian']\n",
    "> ru -> ['Russian']\n",
    "> ```"
   ]
  },
  {
   "cell_type": "code",
   "execution_count": null,
   "id": "619ea912",
   "metadata": {},
   "outputs": [],
   "source": [
    "# Coder ici\n",
    "for language in iso_639:\n",
    "    print(language, \"->\", iso_639[language])"
   ]
  },
  {
   "cell_type": "markdown",
   "id": "6f2b6b41",
   "metadata": {},
   "source": [
    "## Exercices"
   ]
  },
  {
   "cell_type": "markdown",
   "id": "80ccab94",
   "metadata": {},
   "source": [
    "### Présence et absence\n",
    "\n",
    "> Voici deux listes."
   ]
  },
  {
   "cell_type": "code",
   "execution_count": null,
   "id": "15d131c6",
   "metadata": {},
   "outputs": [],
   "source": [
    "text = ['a', 'infinity', 'reflection', 'with', 'like', 'big', 'briefly', 'into', 'children', 'which', \n",
    "        'fruit', 'picking', 'there', 'try', 'little', 'around', 'appearances', 'appeared', 'all', \n",
    "        'crossed', 'basis', 'improbability', 'their', 'discworld', 'black', 'to', 'death', 'future', \n",
    "        'only', 'my', 'robe', 'things', 'for', 'it', 'existed', 'said', 'sake', 'sometimes', 'right', \n",
    "        'way', 'that', 'country', 'chessboard', 'quoth', 'well', 'domestic', 'skull', 'wonderful', \n",
    "        'hooded', 'or', 'empty', 'bottom', 'mirror', 'himself', 'rather', 'over', 'every', 'triangle', \n",
    "        'roses', 'border', 'orbiting', 'was', 'from', 'show', 'be', 'pecked', 'bones', 'just', 'universe', \n",
    "        'me', 'triangular', 'gets', 'worth', 'have', 'climbed', 'service', 'fluttered', 'top', 'but', \n",
    "        'grey', 'claws', 'at', 'rats', 'creep', 'own', 'pattern', 'point', 'white', 'than', 'dark', \n",
    "        'therefore', 'frame', 'this', 'not', 'the', 'could', 'mind', 'turtle', 'scrabble', 'better', \n",
    "        'industries', 'looked', 'an', 'cherubs', 'life', 'anything', 'more', 'small', 'and', 'of', 'his', \n",
    "        'on', 'skulls', 'elephants', 'in', 'thoughts', 'seen', 'nearest', 'expectantly', 'other', 'side', \n",
    "        'shape', 'total', 'so', 'world', 'look', 'sun']\n",
    "\n",
    "words = [\"shape\", \"linguistics\", \"every\", \"even\", \"world\", \"chessboard\", \"water\", \"sake\"]"
   ]
  },
  {
   "cell_type": "markdown",
   "id": "eed2bac2",
   "metadata": {},
   "source": [
    "> Créer un dictionnaire dont les clés sont les mots de la liste `words` et les valeurs associées\n",
    "> sont `True` si le mot est dans `text` et `False` sinon. Vous devriez obtenir quelque chose comme\n",
    "> \n",
    "> ```text\n",
    "> {'shape': True, 'linguistics': False, 'every': True, 'even': False, 'world': True, \n",
    "> 'chessboard': True, 'water': False, 'sake': True}\n",
    "> ```"
   ]
  },
  {
   "cell_type": "code",
   "execution_count": null,
   "id": "984d88cf",
   "metadata": {},
   "outputs": [],
   "source": [
    "res = dict()\n",
    "for w in words:\n",
    "    if w in text:\n",
    "        res[w] = True\n",
    "    else:\n",
    "        res[w] = False"
   ]
  },
  {
   "cell_type": "markdown",
   "id": "bb027c4a",
   "metadata": {},
   "source": [
    "Ou en plus synthétique"
   ]
  },
  {
   "cell_type": "code",
   "execution_count": null,
   "id": "9ad425e1",
   "metadata": {},
   "outputs": [],
   "source": [
    "res = dict()\n",
    "for w in words:\n",
    "    res[w] = w in words"
   ]
  },
  {
   "cell_type": "markdown",
   "id": "aaa2e71f",
   "metadata": {},
   "source": [
    "## Encore des bigrammes\n",
    "\n",
    "> Voici un texte"
   ]
  },
  {
   "cell_type": "code",
   "execution_count": null,
   "id": "539df581",
   "metadata": {},
   "outputs": [],
   "source": [
    "text = \"It was dark, like the bottom of a well. There was a pattern of skulls and bones around \\\n",
    "the frame, for the sake of appearances; Death could not look himself in the skull in a mirror \\\n",
    "with cherubs and roses around it. The Death of Rats climbed the frame in a scrabble of claws and \\\n",
    "looked at Death expectantly from the top. Quoth fluttered over and pecked briefly at his own \\\n",
    "reflection, on the basis that anything was worth a try. Show me, said Death, show me my thoughts. \\\n",
    "A chessboard appeared, but it was triangular, and so big that only the nearest point could be seen. \\\n",
    "Right on this point was the world - turtle, elephants, the little orbiting sun and all. It was the \\\n",
    "Discworld, which existed only just this side of total improbability and, therefore, in border country. \\\n",
    "In border country the border gets crossed, and sometimes things creep into the universe that have \\\n",
    "rather more on their mind than a better life for their children and a wonderful future in the \\\n",
    "fruit picking and domestic service industries. On every other black or white triangle of the \\\n",
    "chessboard, all the way to infinity, was a small grey shape, rather like an empty hooded robe.\""
   ]
  },
  {
   "cell_type": "markdown",
   "id": "b695f1af",
   "metadata": {},
   "source": [
    "> 1\\. Écrire un programme qui génère la liste `unique_words`, qui contient tous les mots du texte,\n",
    "> sans doublons, et en minuscules. Le résultat devrait être le suivant (l'ordre peut être\n",
    "> différent) :\n",
    ">\n",
    "> ```python\n",
    "> ['a', 'infinity', 'reflection', 'with', 'like', 'big', 'briefly', 'into', 'children', 'which', > 'fruit', 'picking', 'there', 'try', 'little', 'around', 'appearances', 'appeared', 'all', 'crossed', > 'basis', 'improbability', 'their', 'discworld', 'black', 'to', 'death', 'future', 'only', 'my', > 'robe', 'things', 'for', 'it', 'existed', 'said', 'sake', 'sometimes', 'right', 'way', 'that', > 'country', 'chessboard', 'quoth', 'well', 'domestic', 'skull', 'wonderful', 'hooded', 'or', 'empty', > 'bottom', 'mirror', 'himself', 'rather', 'over', 'every', 'triangle', 'roses', 'border', 'orbiting', > 'was', 'from', 'show', 'be', 'pecked', 'bones', 'just', 'universe', 'me', 'triangular', 'gets', > 'worth', 'have', 'climbed', 'service', 'fluttered', 'top', 'but', 'grey', 'claws', 'at', 'rats', > 'creep', 'own', 'pattern', 'point', 'white', 'than', 'dark', 'therefore', 'frame', 'this', 'not', > 'the', 'could', 'mind', 'turtle', 'scrabble', 'better', 'industries', 'looked', 'an', 'cherubs', > 'life', 'anything', 'more', 'small', 'and', 'of', 'his', 'on', 'skulls', 'elephants', 'in', > 'thoughts', 'seen', 'nearest', 'expectantly', 'other', 'side', 'shape', 'total', 'so', 'world', > 'look', 'sun']\n",
    "> ```\n",
    ">\n",
    "> (évidemment ne faites pas juste un copier-coller)\n"
   ]
  },
  {
   "cell_type": "code",
   "execution_count": null,
   "id": "cfeb531f",
   "metadata": {},
   "outputs": [],
   "source": [
    "unique_words = []\n",
    "for word in text.split():\n",
    "    word_low = word.lower()\n",
    "    if word_low not in res:\n",
    "        unique_words.append(word_low)\n",
    "print(unique_words)"
   ]
  },
  {
   "cell_type": "markdown",
   "id": "2519a5cc",
   "metadata": {},
   "source": [
    "> 2\\. Écrire un programme qui extrait à partir de la liste `unique_words` la liste\n",
    "> `attested_bigrams` des bigrammes de caractères qui apparaissent dans le texte.\n",
    ">\n",
    "> **Indice** On a déjà écrit du code pour extraire des bigrammes dans une séance précédente.\n",
    "\n",
    "En utilisant le code des exercices de la séance 76"
   ]
  },
  {
   "cell_type": "code",
   "execution_count": null,
   "id": "30d6abea",
   "metadata": {},
   "outputs": [],
   "source": [
    "attested_bigrams = []\n",
    "for mot in unique_words:\n",
    "    for i in range(len(mot)-1):\n",
    "        b = mot[i:i+2]\n",
    "        if b not in attested_bigrams:\n",
    "            attested_bigrams.append(b)\n",
    "print(attested_bigrams)\n",
    "print(len(attested_bigrams))"
   ]
  },
  {
   "cell_type": "markdown",
   "id": "82237ad1",
   "metadata": {},
   "source": [
    "> 3\\. Voici une liste des lettres de l'alphabet anglais. Utilisez-la pour générer une liste\n",
    "> `possible_bigrams` de tous les bigrammes de caractères théoriquement possibles en anglais."
   ]
  },
  {
   "cell_type": "code",
   "execution_count": null,
   "id": "2a0a92a0",
   "metadata": {},
   "outputs": [],
   "source": [
    "alphabet = \"abcdefghijklmnopqrstuvwxyz\""
   ]
  },
  {
   "cell_type": "code",
   "execution_count": null,
   "id": "c07adb8d",
   "metadata": {},
   "outputs": [],
   "source": [
    "possible_bigrams = []\n",
    "for c1 in alphabet:\n",
    "    for c2 in alphabet:\n",
    "        possible_bigrams.append(c1+c2)\n",
    "print(possible_bigrams)\n",
    "print(len(possible_bigrams))"
   ]
  },
  {
   "cell_type": "markdown",
   "id": "f41e1199",
   "metadata": {},
   "source": [
    "> 4\\. Écrire un programme qui génère la liste `unattested_bigrams` des bigrammes de caractères\n",
    "> non attestés, c'est-à-dire de tous les bigrammes qui sont possibles, mais qu'on ne trouve pas dans\n",
    "> ce texte."
   ]
  },
  {
   "cell_type": "code",
   "execution_count": null,
   "id": "5a9105eb",
   "metadata": {},
   "outputs": [],
   "source": [
    "unattested_bigrams = []\n",
    "for possible in possible_bigrams:\n",
    "    if possible not in attested_bigrams:\n",
    "        unattested_bigrams.append(possible)\n",
    "print(unattested_bigrams)\n",
    "print(len(unattested_bigrams))"
   ]
  }
 ],
 "metadata": {
  "jupytext": {
   "formats": "ipynb,md",
   "split_at_heading": true
  },
  "kernelspec": {
   "display_name": "Python 3 (ipykernel)",
   "language": "python",
   "name": "python3"
  }
 },
 "nbformat": 4,
 "nbformat_minor": 5
}
