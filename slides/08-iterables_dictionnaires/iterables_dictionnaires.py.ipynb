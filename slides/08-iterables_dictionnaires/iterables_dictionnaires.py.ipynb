{
 "cells": [
  {
   "cell_type": "markdown",
   "id": "79f7d49f",
   "metadata": {
    "lines_to_next_cell": 0
   },
   "source": [
    "<!-- LTeX: language=fr -->"
   ]
  },
  {
   "cell_type": "markdown",
   "id": "7eb79b08",
   "metadata": {
    "slideshow": {
     "slide_type": "slide"
    }
   },
   "source": [
    "Cours 8 : Manipulations de chaînes, itérables composites et dictionnaires\n",
    "=========================================================================\n",
    "\n",
    "**Loïc Grobol** [<lgrobol@parisnanterre.fr>](mailto:lgrobol@parisnanterre.fr)\n",
    "\n",
    "2022-03-15"
   ]
  },
  {
   "cell_type": "markdown",
   "id": "d6a08c71",
   "metadata": {},
   "source": [
    "Dans ce notebook\n",
    "\n",
    "- Des méthodes pour convertir des chaînes de caractères en listes et *vice-versa*\n",
    "- Des nouveaux itérables pour des boucles plus agréables\n",
    "- Un nouveau type de données : les dictionnaires"
   ]
  },
  {
   "cell_type": "markdown",
   "id": "7169470b",
   "metadata": {},
   "source": [
    "## Encore des manipulations de chaînes 😤\n",
    "\n",
    "Quelques nouvelles méthodes de manipulations de chaînes de caractères. On peut faire sans mais elles\n",
    "sont très utiles."
   ]
  },
  {
   "cell_type": "markdown",
   "id": "c41c6f98",
   "metadata": {},
   "source": [
    "### `replace`\n",
    "\n",
    "`replace` **remplace** une chaîne de caractère dans une autre :"
   ]
  },
  {
   "cell_type": "code",
   "execution_count": null,
   "id": "43daa323",
   "metadata": {},
   "outputs": [],
   "source": [
    "message = \"Salut poto. Ça fait plaisir de te voir, poto !\"\n",
    "nouveau_message = str.replace(message, \"poto\", \"Alex\")\n",
    "print(message)\n",
    "print(nouveau_message)"
   ]
  },
  {
   "cell_type": "markdown",
   "id": "ba60c5b6",
   "metadata": {},
   "source": [
    "**Entraînement** : en utilisant les variables ci-dessous, affichez un message de bienvenue pour\n",
    "chaque personne dans la liste `guests` :"
   ]
  },
  {
   "cell_type": "code",
   "execution_count": null,
   "id": "e6dfbc02",
   "metadata": {},
   "outputs": [],
   "source": [
    "template = \"Salut, [invité], ravi⋅e de te rencontrer !\"\n",
    "guests = [\"Glimmer\", \"Bow\", \"Catra\",]\n",
    "\n",
    "# À toi de coder !"
   ]
  },
  {
   "cell_type": "code",
   "execution_count": null,
   "id": "7b894033",
   "metadata": {},
   "outputs": [],
   "source": [
    "template = \"Salut, [invité], ravi⋅e de te rencontrer !\"\n",
    "guests = [\"Glimmer\", \"Bow\", \"Catra\",]\n",
    "\n",
    "print(str.replace(template, \"[invité]\", guests[0]))\n",
    "print(str.replace(template, \"[invité]\", guests[1]))\n",
    "print(str.replace(template, \"[invité]\", guests[2]))"
   ]
  },
  {
   "cell_type": "code",
   "execution_count": null,
   "id": "c8074aec",
   "metadata": {},
   "outputs": [],
   "source": [
    "template = \"Salut, [invité], ravi⋅e de te rencontrer !\"\n",
    "guests = [\"Glimmer\", \"Bow\", \"Catra\",]\n",
    "\n",
    "for g in guests:\n",
    "    print(str.replace(template, \"[invité]\", g))"
   ]
  },
  {
   "cell_type": "markdown",
   "id": "4806b342",
   "metadata": {},
   "source": [
    "### `split`\n",
    "\n",
    "`split` découpe, tronçonne, une chaîne de caractères"
   ]
  },
  {
   "cell_type": "code",
   "execution_count": null,
   "id": "2fc1928c",
   "metadata": {},
   "outputs": [],
   "source": [
    "texte = \"You ever have that feeling, where you’re not sure if you’re awake or still dreaming?\"\n",
    "tokens = str.split(texte)\n",
    "print(tokens)"
   ]
  },
  {
   "cell_type": "markdown",
   "id": "7a080176",
   "metadata": {},
   "source": [
    "C'est une façon rapide et simple (simpliste ?) de découper un texte en *tokens*.\n",
    "\n",
    "Vous pouvez aussi utiliser un autre séparateur que les espaces :"
   ]
  },
  {
   "cell_type": "code",
   "execution_count": null,
   "id": "fe5bfcb4",
   "metadata": {},
   "outputs": [],
   "source": [
    "texte = \"bleu|rouge|indigo|vert\"\n",
    "colours = str.split(texte, \"|\")\n",
    "print(colours)"
   ]
  },
  {
   "cell_type": "markdown",
   "id": "36c16013",
   "metadata": {},
   "source": [
    "et les séparateurs peuvent être des chaînes arbitraires :"
   ]
  },
  {
   "cell_type": "code",
   "execution_count": null,
   "id": "9a34c40d",
   "metadata": {},
   "outputs": [],
   "source": [
    "texte = \"bleu et rouge et indigo et vert\"\n",
    "colours = str.split(texte, \" et \")\n",
    "print(colours)"
   ]
  },
  {
   "cell_type": "markdown",
   "id": "c08a0e2e",
   "metadata": {},
   "source": [
    "### `join`\n",
    "\n",
    "`join` est d'une certaine façon l'inverse de `split` :"
   ]
  },
  {
   "cell_type": "code",
   "execution_count": null,
   "id": "a7c7bf09",
   "metadata": {},
   "outputs": [],
   "source": [
    "names = ['Anna', 'Mary', 'John', 'Sebastian']\n",
    "text = str.join(\" and \", names)\n",
    "print(text)"
   ]
  },
  {
   "cell_type": "code",
   "execution_count": null,
   "id": "14ce4523",
   "metadata": {},
   "outputs": [],
   "source": [
    "letters = ['P', 'y', 't', 'h', 'o', 'n']\n",
    "print(str.join(\"\", letters))"
   ]
  },
  {
   "cell_type": "markdown",
   "id": "aa8dccd4",
   "metadata": {},
   "source": [
    "### Utiliser les méthodes de chaîne\n",
    "\n",
    "Ces méthodes peuvent aussi être utilisées directement, sans faire appel à `str` :"
   ]
  },
  {
   "cell_type": "code",
   "execution_count": null,
   "id": "e7a1f135",
   "metadata": {},
   "outputs": [],
   "source": [
    "texte = \"bleu,rouge,indigo,vert\"\n",
    "colours = str.split(texte, \",\")\n",
    "print(colours)"
   ]
  },
  {
   "cell_type": "markdown",
   "id": "004d5617",
   "metadata": {},
   "source": [
    "est équivalent à"
   ]
  },
  {
   "cell_type": "code",
   "execution_count": null,
   "id": "094f57d1",
   "metadata": {},
   "outputs": [],
   "source": [
    "texte = \"bleu,rouge,indigo,vert\"\n",
    "colours = texte.split(\",\")\n",
    "print(colours)"
   ]
  },
  {
   "cell_type": "markdown",
   "id": "fc2d1894",
   "metadata": {},
   "source": [
    "et"
   ]
  },
  {
   "cell_type": "code",
   "execution_count": null,
   "id": "3a029653",
   "metadata": {},
   "outputs": [],
   "source": [
    "names = ['Anna', 'Mary', 'John', 'Sebastian']\n",
    "text = str.join(\" and \", names)\n",
    "print(text)"
   ]
  },
  {
   "cell_type": "markdown",
   "id": "8cfc1c10",
   "metadata": {},
   "source": [
    "à"
   ]
  },
  {
   "cell_type": "code",
   "execution_count": null,
   "id": "bc430b21",
   "metadata": {},
   "outputs": [],
   "source": [
    "names = ['Anna', 'Mary', 'John', 'Sebastian']\n",
    "text = \" and \".join(names)\n",
    "print(text)"
   ]
  },
  {
   "cell_type": "markdown",
   "id": "d7c16149",
   "metadata": {},
   "source": [
    "## D'autres façons d'itérer\n",
    "\n",
    "Deux nouvelles fonctions qu'on utilise très souvent en Python. Là encore, on peut faire sans (par\n",
    "exemple en utilisant `range`), mais elles rendent votre code plus lisible."
   ]
  },
  {
   "cell_type": "markdown",
   "id": "3c637ec4",
   "metadata": {},
   "source": [
    "### `enumerate`"
   ]
  },
  {
   "cell_type": "code",
   "execution_count": null,
   "id": "b7f94108",
   "metadata": {},
   "outputs": [],
   "source": [
    "liste = [\"le\", \"petit\", \"chat\", \"est\", \"content\"]\n",
    "for truc in enumerate(liste):\n",
    "    print(truc)"
   ]
  },
  {
   "cell_type": "markdown",
   "id": "31be08a4",
   "metadata": {},
   "source": [
    "La fonction `enumerate`, appliqué à une séquence renvoie une **itérable** (comme `range`) dont les\n",
    "éléments sont des couples `(indice, élément)` composés des éléments de la séquence. Ça permet de\n",
    "remplacer ceci :"
   ]
  },
  {
   "cell_type": "code",
   "execution_count": null,
   "id": "e9845a63",
   "metadata": {},
   "outputs": [],
   "source": [
    "mot = \"linguistique\"\n",
    "for i in range(len(mot)):\n",
    "    print(mot[i], \" indice :\", i)"
   ]
  },
  {
   "cell_type": "markdown",
   "id": "bdfc17c6",
   "metadata": {},
   "source": [
    "par ceci"
   ]
  },
  {
   "cell_type": "code",
   "execution_count": null,
   "id": "431dd4cb",
   "metadata": {},
   "outputs": [],
   "source": [
    "mot = \"linguistique\"\n",
    "for couple in enumerate(mot):\n",
    "    print(couple[1], \" indice :\", couple[0])"
   ]
  },
  {
   "cell_type": "markdown",
   "id": "bc02ff8a",
   "metadata": {},
   "source": [
    "qui est *un peu* plus lisible. On peut aussi utiliser la syntaxe suivante :"
   ]
  },
  {
   "cell_type": "code",
   "execution_count": null,
   "id": "409f0e21",
   "metadata": {},
   "outputs": [],
   "source": [
    "mot = \"linguistique\"\n",
    "for idx, lettre in enumerate(mot):\n",
    "    print(lettre, \" indice :\", idx)"
   ]
  },
  {
   "cell_type": "markdown",
   "id": "00076922",
   "metadata": {},
   "source": [
    "C'est encore plus lisible et c'est le style recommandé en Python."
   ]
  },
  {
   "cell_type": "markdown",
   "id": "dcd9ec39",
   "metadata": {},
   "source": [
    "### `zip`"
   ]
  },
  {
   "cell_type": "code",
   "execution_count": null,
   "id": "5a66c1cf",
   "metadata": {},
   "outputs": [],
   "source": [
    "villes = [\"Orléans\", \"Tours\", \"Nanterre\"]\n",
    "cp = [\"45000\", \"37000\", \"92000\"]\n",
    "for truc in zip(villes, cp):\n",
    "    print(truc)"
   ]
  },
  {
   "cell_type": "markdown",
   "id": "4c89e74c",
   "metadata": {},
   "source": [
    "`zip` permet d'itérer sur plusieurs séquences en parallèle"
   ]
  },
  {
   "cell_type": "code",
   "execution_count": null,
   "id": "19300dc8",
   "metadata": {},
   "outputs": [],
   "source": [
    "villes = [\"Orléans\", \"Tours\", \"Nanterre\"]\n",
    "cp = [\"45000\", \"37000\", \"92000\"]\n",
    "appreciation = [\"cool\", \"génial\", \"super\"]\n",
    "for truc in zip(villes, cp, appreciation):\n",
    "    print(truc)"
   ]
  },
  {
   "cell_type": "code",
   "execution_count": null,
   "id": "fc80996c",
   "metadata": {},
   "outputs": [],
   "source": [
    "villes = [\"Orléans\", \"Tours\", \"Nanterre\"]\n",
    "annee = [\"1991\", \"2014\", \"2021\"]\n",
    "appreciation = [\"cool\", \"génial\", \"super\"]\n",
    "for truc in zip(villes, annee, appreciation):\n",
    "    print(\"Où:\", truc[0], \"Quand:\", truc[1], \"Comment:\", truc[2])"
   ]
  },
  {
   "cell_type": "markdown",
   "id": "1683c727",
   "metadata": {},
   "source": [
    "Là aussi on peut utiliser cette nouvelle syntaxe pour que ce soit plus lisible :"
   ]
  },
  {
   "cell_type": "code",
   "execution_count": null,
   "id": "0cb806fd",
   "metadata": {},
   "outputs": [],
   "source": [
    "villes = [\"Orléans\", \"Tours\", \"Nanterre\"]\n",
    "annee = [\"1991\", \"2014\", \"2021\"]\n",
    "appreciation = [\"cool\", \"génial\", \"super\"]\n",
    "for ou, quand, comment in zip(villes, annee, appreciation):\n",
    "    print(\"Où:\", ou, \"Quand:\", quand, \"Comment:\", comment)"
   ]
  },
  {
   "cell_type": "markdown",
   "id": "f809deb7",
   "metadata": {},
   "source": [
    "Est-ce que vous voyez comment simuler `enumerate` en utilisant `zip` ?\n"
   ]
  },
  {
   "cell_type": "markdown",
   "id": "47ef00e9",
   "metadata": {},
   "source": [
    "### Tuples\n",
    "\n",
    "Un dernier point : c'est quoi exactement ces éléments que renvoient `zip` et `enumerate`, ça\n",
    "ressemble à des listes mais avec des parenthèses ?"
   ]
  },
  {
   "cell_type": "code",
   "execution_count": null,
   "id": "445fb32d",
   "metadata": {},
   "outputs": [],
   "source": [
    "villes = [\"Orléans\", \"Tours\", \"Nanterre\"]\n",
    "annee = [\"1991\", \"2014\", \"2021\"]\n",
    "appreciation = [\"cool\", \"génial\", \"super\"]\n",
    "for truc in zip(villes, annee, appreciation):\n",
    "    print(type(truc))"
   ]
  },
  {
   "cell_type": "markdown",
   "id": "f5290c19",
   "metadata": {},
   "source": [
    "Ce sont des `tuple`s, effectivement ça ressemble à des listes, mais pas tout à fait."
   ]
  },
  {
   "cell_type": "code",
   "execution_count": null,
   "id": "51d3c6a6",
   "metadata": {},
   "outputs": [],
   "source": [
    "un_tuple = (1, 2, 3, 4)\n",
    "print(un_tuple)\n",
    "print(type(un_tuple))"
   ]
  },
  {
   "cell_type": "code",
   "execution_count": null,
   "id": "f6d41fa0",
   "metadata": {},
   "outputs": [],
   "source": [
    "un_tuple = (1, \"uh\", \"sense\", 8, \"machin\", \"truc\")\n",
    "print(un_tuple[0])\n",
    "print(un_tuple[2:4])"
   ]
  },
  {
   "cell_type": "markdown",
   "id": "caa2c9de",
   "metadata": {},
   "source": [
    "La différence principale, c'est qu'ils sont **immutables**.\n",
    "\n",
    "Ceci ne pose pas de problème :"
   ]
  },
  {
   "cell_type": "code",
   "execution_count": null,
   "id": "e86ff4e7",
   "metadata": {},
   "outputs": [],
   "source": [
    "une_liste = [1, \"uh\", \"sense\", 8, \"machin\", \"truc\"]\n",
    "une_liste[1] = \"hey!\"\n",
    "print(une_liste)"
   ]
  },
  {
   "cell_type": "markdown",
   "id": "d1e1a5f4",
   "metadata": {},
   "source": [
    "Ceci est une erreur"
   ]
  },
  {
   "cell_type": "code",
   "execution_count": null,
   "id": "cb82093d",
   "metadata": {
    "tags": [
     "raises-exception"
    ]
   },
   "outputs": [],
   "source": [
    "un_tuple = (1, \"uh\", \"sense\", 8, \"machin\", \"truc\")\n",
    "un_tuple[1] = \"hey!\"\n",
    "print(un_tuple)"
   ]
  },
  {
   "cell_type": "markdown",
   "id": "29bcdb09",
   "metadata": {},
   "source": [
    "## Dictionnaires\n",
    "\n",
    "On va faire une (brève) pause avec les boucles pour parler d'une nouvelle structure de données\n",
    "omniprésente en Python : les dictionnaires.\n",
    "\n",
    "On a vu des structures de données ordonnées comme les listes et les chaînes de caractères qui\n",
    "permettent d'accéder à leurs éléments *via* des indices numériques.\n",
    "\n",
    "Les dictionnaires sont une extension de ce concept à une situation où les indices ne sont pas des\n",
    "entiers, mais peuvent être des données arbitraires, on parle alors de **clés**.\n",
    "\n",
    "On crée un dictionnaire (du type `dict`) avec la syntaxe suivante :"
   ]
  },
  {
   "cell_type": "code",
   "execution_count": null,
   "id": "5faa7b70",
   "metadata": {},
   "outputs": [],
   "source": [
    "dico = {\"éclair\": \"une pâtisserie\", \"Python\": \"un langage\", \"mot de passe\": 2048, 8: \"sense\"}\n",
    "print(type(dico))\n",
    "print(dico)"
   ]
  },
  {
   "cell_type": "markdown",
   "id": "d4ab341d",
   "metadata": {},
   "source": [
    "Quand ils sont longs, on peut les noter sur plusieurs lignes :"
   ]
  },
  {
   "cell_type": "code",
   "execution_count": null,
   "id": "c4d19311",
   "metadata": {},
   "outputs": [],
   "source": [
    "dico = {\n",
    "    \"éclair\": \"une pâtisserie de forme longue et de courte durée\",\n",
    "    \"Python\": \"un langage de programmation créé par Guido van Rossum\",\n",
    "    \"mot de passe\": 15331,\n",
    "    8: \"the number of sensates in a cluster\",\n",
    "}\n",
    "print(dico)"
   ]
  },
  {
   "cell_type": "markdown",
   "id": "bf27d2bc",
   "metadata": {},
   "source": [
    "Dans la notation `{k: v}`, on dit que `k` est une **clé** et `v` est la **valeur** associée à `k`.\n",
    "On peut accéder à la valeur associé à une clé avec l'opération d'indexation dont vous avez\n",
    "l'habitude :"
   ]
  },
  {
   "cell_type": "code",
   "execution_count": null,
   "id": "4a919718",
   "metadata": {},
   "outputs": [],
   "source": [
    "dico = {\"éclair\": \"une pâtisserie\", \"Python\": \"un langage\", \"mot de passe\": 2048, 8: \"sense\"}\n",
    "v = dico[\"éclair\"]\n",
    "print(v)\n",
    "print(dico[\"Python\"])\n",
    "print(dico[8])"
   ]
  },
  {
   "cell_type": "markdown",
   "id": "a3cb8925",
   "metadata": {},
   "source": [
    "Et on peut ajouter un couple clé/valeur ou modifier le dictionnaire de la même façon"
   ]
  },
  {
   "cell_type": "code",
   "execution_count": null,
   "id": "677871d3",
   "metadata": {},
   "outputs": [],
   "source": [
    "mon_dictionnaire = {\"machin\": 3, \"truc\": \"bidule\"}\n",
    "print(mon_dictionnaire)\n",
    "mon_dictionnaire[\"machin\"] = \"chose\"\n",
    "print(mon_dictionnaire)\n",
    "mon_dictionnaire[\"Horizon\"] = \"Zero Dawn\"\n",
    "print(mon_dictionnaire)"
   ]
  },
  {
   "cell_type": "markdown",
   "id": "80bf8351",
   "metadata": {},
   "source": [
    "Pour créer un dictionnaire vide, on utilise `dict()` :"
   ]
  },
  {
   "cell_type": "code",
   "execution_count": null,
   "id": "9d0dd5ea",
   "metadata": {},
   "outputs": [],
   "source": [
    "mon_dictionnaire = dict()\n",
    "print(mon_dictionnaire)\n",
    "mon_dictionnaire[\"machin\"] = \"chose\"\n",
    "print(mon_dictionnaire)\n",
    "mon_dictionnaire[\"Horizon\"] = \"Zero Dawn\"\n",
    "print(mon_dictionnaire)"
   ]
  },
  {
   "cell_type": "markdown",
   "id": "266a91c7",
   "metadata": {},
   "source": [
    "### Clés et valeurs\n",
    "\n",
    "Les **valeurs** stockées dans un dictionnaire peuvent être n'importe quel objet, et une même valeur\n",
    "peut apparaître plusieurs fois"
   ]
  },
  {
   "cell_type": "code",
   "execution_count": null,
   "id": "ea7cc176",
   "metadata": {},
   "outputs": [],
   "source": [
    "mon_dict = {\n",
    "    \"a\": 1,\n",
    "    \"b\": [1, 2, 3, 4, \"hello\"],\n",
    "    \"c\": 1,\n",
    "    \"d\": {\"un dict\": \"dans un dict !\"},\n",
    "}"
   ]
  },
  {
   "cell_type": "markdown",
   "id": "f57af96b",
   "metadata": {},
   "source": [
    "Les clés en revanche sont uniques (ou plus exactement, chaque clé n'est associée qu'à une seule\n",
    "valeur) :"
   ]
  },
  {
   "cell_type": "code",
   "execution_count": null,
   "id": "41051f7e",
   "metadata": {},
   "outputs": [],
   "source": [
    "mon_dict = {\n",
    "    \"a\": \"truc\",\n",
    "    \"b\": \"machin\",\n",
    "    \"a\": \"chose\",\n",
    "}\n",
    "print(mon_dict)"
   ]
  },
  {
   "cell_type": "markdown",
   "id": "3089d9d3",
   "metadata": {},
   "source": [
    "De plus les clés ne peuvent pas être des objets **mutables** — dont on peut modifier la valeur —\n",
    "comme les listes ou les dictionnaires :"
   ]
  },
  {
   "cell_type": "code",
   "execution_count": null,
   "id": "1408b885",
   "metadata": {
    "tag": [
     "raises-exception"
    ]
   },
   "outputs": [],
   "source": [
    "mon_dict = {\n",
    "    [\"a\", \"b\"]: \"truc\",\n",
    "    \"b\": \"machin\",\n",
    "}"
   ]
  },
  {
   "cell_type": "markdown",
   "id": "d66e3e75",
   "metadata": {},
   "source": [
    "À votre avis pourquoi ?\n",
    "\n",
    "Ça vous laisse quand même une grande latitude :"
   ]
  },
  {
   "cell_type": "code",
   "execution_count": null,
   "id": "de4045db",
   "metadata": {},
   "outputs": [],
   "source": [
    "int_keys = {37: \"hello\", 9: \"world\"}\n",
    "float_keys = {48.2: \"hello\", 3.0: \"world\"}\n",
    "string_keys = {\"hello\": \"world\", \"goodbye\": \"earth\"}\n",
    "bool_keys = {True: \"hello\", False: \"world\"}"
   ]
  },
  {
   "cell_type": "markdown",
   "id": "965a1b52",
   "metadata": {},
   "source": [
    "Quelle est la taille maximale que peut atteindre un dictionnaire dont toutes les clés sont de type\n",
    "`bool`."
   ]
  },
  {
   "cell_type": "markdown",
   "id": "d6ad8733",
   "metadata": {},
   "source": [
    "## Étude de cas : les codes ISO 639\n",
    "\n",
    "<!-- TODO: commencer plutôt par un Dict[str, str] et passer aux listes dans un second temps -->\n",
    "\n",
    "Voici un dictionnaire qui contient une liste de quelques langues indexées par leur code [ISO 639](https://en.wikipedia.org/wiki/List_of_ISO_639-1_codes)."
   ]
  },
  {
   "cell_type": "code",
   "execution_count": null,
   "id": "645f153c",
   "metadata": {},
   "outputs": [],
   "source": [
    "iso_639 = {\n",
    "    \"ny\": [\"Chichewa\", \"Chewa\", \"Nyanja\"], \n",
    "    \"zh\": [\"Chinese\"], \n",
    "    \"cs\": [\"Czech\"], \n",
    "    \"da\": [\"Danish\"], \n",
    "    \"dv\": [\"Divehi\", \"Maldivian\"],\n",
    "}"
   ]
  },
  {
   "cell_type": "markdown",
   "id": "2edd477f",
   "metadata": {},
   "source": [
    "### Accéder aux éléments\n",
    "\n",
    "On peut accéder aux listes de langues en utilisant leur clé"
   ]
  },
  {
   "cell_type": "code",
   "execution_count": null,
   "id": "6252a802",
   "metadata": {},
   "outputs": [],
   "source": [
    "print(\"La valeur de 'ny' est\", iso_639[\"ny\"])\n",
    "print(\"La valeur de 'da' est\", iso_639[\"da\"])"
   ]
  },
  {
   "cell_type": "markdown",
   "id": "64161efb",
   "metadata": {},
   "source": [
    "**Question** En utilisant ce dictionnaire, modifier la cellule suivante pour afficher la chaîne\n",
    "`\"Chewa\"`\n"
   ]
  },
  {
   "cell_type": "code",
   "execution_count": null,
   "id": "c129703e",
   "metadata": {},
   "outputs": [],
   "source": []
  },
  {
   "cell_type": "markdown",
   "id": "ee13f338",
   "metadata": {},
   "source": [
    "Si on veut simplement tester si une clé est présente, on peut utiliser l'opérateur `in` :"
   ]
  },
  {
   "cell_type": "code",
   "execution_count": null,
   "id": "a53e9f12",
   "metadata": {},
   "outputs": [],
   "source": [
    "print(\"ny\" in iso_639)\n",
    "print(\"fr\" in iso_639)"
   ]
  },
  {
   "cell_type": "markdown",
   "id": "58bcc239",
   "metadata": {},
   "source": [
    "### Ajouter et supprimer des éléments\n",
    "\n",
    "On peut facilement ajouter un nouvel élément au dictionnaire :"
   ]
  },
  {
   "cell_type": "code",
   "execution_count": null,
   "id": "86b0767b",
   "metadata": {},
   "outputs": [],
   "source": [
    "iso_639[\"ru\"] = [\"Russian\"]\n",
    "print(iso_639)"
   ]
  },
  {
   "cell_type": "markdown",
   "id": "19abecf9",
   "metadata": {},
   "source": [
    "On peut aussi en supprimer, en utilisant le mot clé `del`"
   ]
  },
  {
   "cell_type": "code",
   "execution_count": null,
   "id": "4c56efef",
   "metadata": {},
   "outputs": [],
   "source": [
    "iso_639[\"fr\"] = [\"French\"]\n",
    "print(iso_639)\n",
    "del iso_639[\"fr\"]\n",
    "print(iso_639)"
   ]
  },
  {
   "cell_type": "markdown",
   "id": "19420b77",
   "metadata": {},
   "source": [
    "### Parcourir un dictionnaire\n",
    "\n",
    "Les dictionnaires sont des **itérables**, et on peut les parcourir dans une boucle `for`."
   ]
  },
  {
   "cell_type": "code",
   "execution_count": null,
   "id": "13fd03cb",
   "metadata": {},
   "outputs": [],
   "source": [
    "for language in iso_639:\n",
    "    print(language)"
   ]
  },
  {
   "cell_type": "markdown",
   "id": "1ad084fd",
   "metadata": {},
   "source": [
    "**Attention** : ce sont les **clés** qu'on parcourt"
   ]
  },
  {
   "cell_type": "markdown",
   "id": "f4eb2c21",
   "metadata": {},
   "source": [
    "### Entraînement\n",
    "\n",
    "Modifier la boucle `for` ci-dessous pour qu'elle affiche la sortie suivante :\n",
    "\n",
    "```text\n",
    "ny -> ['Chichewa', 'Chewa', 'Nyanja']\n",
    "zh -> ['Chinese']\n",
    "cs -> ['Czech']\n",
    "da -> ['Danish']\n",
    "dv -> ['Divehi', 'Maldivian']\n",
    "ru -> ['Russian']\n",
    "```"
   ]
  },
  {
   "cell_type": "code",
   "execution_count": null,
   "id": "fdc31756",
   "metadata": {},
   "outputs": [],
   "source": [
    "# Coder ici\n",
    "for language in iso_639:\n",
    "    print(language)"
   ]
  },
  {
   "cell_type": "markdown",
   "id": "ac669a04",
   "metadata": {},
   "source": [
    "### Parcourir les paires clé/valeur\n",
    "\n",
    "Si on veut parcourir un dictionnaire en accédant aux couples clé/valeur (ce qui arrive souvent), on\n",
    "peut utiliser la méthode `items`."
   ]
  },
  {
   "cell_type": "code",
   "execution_count": null,
   "id": "bb21e962",
   "metadata": {},
   "outputs": [],
   "source": [
    "for pair in iso_639.items():\n",
    "    print(\"Paire:\", pair)\n",
    "    print(\"Clé:\", pair[0])\n",
    "    print(\"Valeur:\", pair[1])\n",
    "    print()"
   ]
  },
  {
   "cell_type": "markdown",
   "id": "2bc9acc6",
   "metadata": {},
   "source": [
    "Quel est le type de `pair` dans la boucle ci-dessus ?"
   ]
  },
  {
   "cell_type": "code",
   "execution_count": null,
   "id": "37c2337f",
   "metadata": {
    "lines_to_next_cell": 2
   },
   "outputs": [],
   "source": [
    "for cle, valeur in iso_639.items():\n",
    "    print(\"Clé:\", cle)\n",
    "    print(\"Valeur:\", valeur)\n",
    "    print()"
   ]
  },
  {
   "cell_type": "markdown",
   "id": "a37d115f",
   "metadata": {},
   "source": [
    "### Créer un dictionnaire\n",
    "\n",
    "Une recette courante consiste à créer un dictionnaire dans une boucle à partir du contenu\n",
    "d'itérables, par exemple ici pour une liste de fruits avec leurs prix :"
   ]
  },
  {
   "cell_type": "code",
   "execution_count": null,
   "id": "0701b63c",
   "metadata": {},
   "outputs": [],
   "source": [
    "fruits = [\"pomme\", \"poire\", \"banane\", \"maracuja\"]\n",
    "prix = [0.50, 0.75, 1.0, 1.2]\n",
    "tarifs = dict()\n",
    "for i in range(len(fruits)):\n",
    "    f = fruits[i]\n",
    "    p = prix[i]\n",
    "    tarifs[f] = p\n",
    "print(tarifs)"
   ]
  },
  {
   "cell_type": "markdown",
   "id": "5a200c02",
   "metadata": {},
   "source": [
    "Qu'on peut écrire plus proprement soit comme ceci"
   ]
  },
  {
   "cell_type": "code",
   "execution_count": null,
   "id": "2daac4db",
   "metadata": {},
   "outputs": [],
   "source": [
    "fruits = [\"pomme\", \"poire\", \"banane\", \"maracuja\"]\n",
    "prix = [0.50, 0.75, 1.0, 1.2]\n",
    "tarifs = dict()\n",
    "for i, f in enumerate(fruits):\n",
    "    tarifs[f] = prix[i]\n",
    "print(tarifs)"
   ]
  },
  {
   "cell_type": "markdown",
   "id": "8e7f50f3",
   "metadata": {},
   "source": [
    "Ou encore mieux"
   ]
  },
  {
   "cell_type": "code",
   "execution_count": null,
   "id": "406c7148",
   "metadata": {},
   "outputs": [],
   "source": [
    "fruits = [\"pomme\", \"poire\", \"banane\", \"maracuja\"]\n",
    "prix = [0.50, 0.75, 1.0, 1.2]\n",
    "tarifs = dict()\n",
    "for f, p in zip(fruits, prix):\n",
    "    tarifs[f] = p\n",
    "print(tarifs)"
   ]
  },
  {
   "cell_type": "markdown",
   "id": "12c98922",
   "metadata": {},
   "source": [
    "On peut aussi le faire avec n'importe quelle expression"
   ]
  },
  {
   "cell_type": "code",
   "execution_count": null,
   "id": "f5f384f2",
   "metadata": {},
   "outputs": [],
   "source": [
    "mots = [\"il\", \"y\", \"a\", \"un\", \"lama\", \"dans\", \"mon\", \"salon\"]\n",
    "commence_par_une_voyelle = dict()\n",
    "for le_mot in mots:\n",
    "    if le_mot[0] in \"aeiouyàéèêïôùÿ\":\n",
    "        commence_par_une_voyelle[le_mot] = True\n",
    "    else:\n",
    "        commence_par_une_voyelle[le_mot] = False\n",
    "print(commence_par_une_voyelle)"
   ]
  },
  {
   "cell_type": "markdown",
   "id": "fdf63bef",
   "metadata": {},
   "source": [
    "## Exercices\n",
    "\n",
    "Répondre à ces exercices directement dans le notebook, le sauvegarder sous un nom de la forme\n",
    "`08_iterables_dictionnaires_PRENOM_NOM.ipynb` (pour Morgan Lefeuvre par exemple, ce serait\n",
    "`08_iterables_dictionnaires_Morgan_Lefeuvre.ipynb`) et me le transmettre avant dimanche 2022-03-20\n",
    "au soir.\n",
    "\n",
    "- De préférence via [Cours en Ligne](https://coursenligne.parisnanterre.fr/course/view.php?id=7694)\n",
    "  (clé d'inscription `rossum`)\n",
    "- À défaut, par mail, à `<lgrobol@parisnanterre.fr>`\n",
    "\n",
    "Attention : **l'extension doit être `.ipynb`**."
   ]
  },
  {
   "cell_type": "markdown",
   "id": "4ef05097",
   "metadata": {},
   "source": [
    "### Présence et absence\n",
    "\n",
    "Voici deux listes."
   ]
  },
  {
   "cell_type": "code",
   "execution_count": null,
   "id": "226bcd9d",
   "metadata": {},
   "outputs": [],
   "source": [
    "text = ['a', 'infinity', 'reflection', 'with', 'like', 'big', 'briefly', 'into', 'children', 'which', \n",
    "        'fruit', 'picking', 'there', 'try', 'little', 'around', 'appearances', 'appeared', 'all', \n",
    "        'crossed', 'basis', 'improbability', 'their', 'discworld', 'black', 'to', 'death', 'future', \n",
    "        'only', 'my', 'robe', 'things', 'for', 'it', 'existed', 'said', 'sake', 'sometimes', 'right', \n",
    "        'way', 'that', 'country', 'chessboard', 'quoth', 'well', 'domestic', 'skull', 'wonderful', \n",
    "        'hooded', 'or', 'empty', 'bottom', 'mirror', 'himself', 'rather', 'over', 'every', 'triangle', \n",
    "        'roses', 'border', 'orbiting', 'was', 'from', 'show', 'be', 'pecked', 'bones', 'just', 'universe', \n",
    "        'me', 'triangular', 'gets', 'worth', 'have', 'climbed', 'service', 'fluttered', 'top', 'but', \n",
    "        'grey', 'claws', 'at', 'rats', 'creep', 'own', 'pattern', 'point', 'white', 'than', 'dark', \n",
    "        'therefore', 'frame', 'this', 'not', 'the', 'could', 'mind', 'turtle', 'scrabble', 'better', \n",
    "        'industries', 'looked', 'an', 'cherubs', 'life', 'anything', 'more', 'small', 'and', 'of', 'his', \n",
    "        'on', 'skulls', 'elephants', 'in', 'thoughts', 'seen', 'nearest', 'expectantly', 'other', 'side', \n",
    "        'shape', 'total', 'so', 'world', 'look', 'sun']\n",
    "\n",
    "words = [\"shape\", \"linguistics\", \"every\", \"even\", \"world\", \"chessboard\", \"water\", \"sake\"]"
   ]
  },
  {
   "cell_type": "markdown",
   "id": "421e7d6d",
   "metadata": {},
   "source": [
    "Créer un dictionnaire dont les clés sont les mots de la liste `words` et les valeurs associées sont\n",
    "`True` si le mot est dans `text` et `False` sinon. Vous devriez obtenir quelque chose comme\n",
    "\n",
    "```text\n",
    "{'shape': True, 'linguistics': False, 'every': True, 'even': False, 'world': True, \n",
    "'chessboard': True, 'water': False, 'sake': True}\n",
    "```"
   ]
  },
  {
   "cell_type": "code",
   "execution_count": null,
   "id": "3ec8713f",
   "metadata": {},
   "outputs": [],
   "source": []
  },
  {
   "cell_type": "markdown",
   "id": "073e6e63",
   "metadata": {},
   "source": [
    "## Encore des bigrammes\n",
    "\n",
    "Voici un texte"
   ]
  },
  {
   "cell_type": "code",
   "execution_count": null,
   "id": "466d0a7d",
   "metadata": {},
   "outputs": [],
   "source": [
    "text = \"It was dark, like the bottom of a well. There was a pattern of skulls and bones around \\\n",
    "the frame, for the sake of appearances; Death could not look himself in the skull in a mirror \\\n",
    "with cherubs and roses around it. The Death of Rats climbed the frame in a scrabble of claws and \\\n",
    "looked at Death expectantly from the top. Quoth fluttered over and pecked briefly at his own \\\n",
    "reflection, on the basis that anything was worth a try. Show me, said Death, show me my thoughts. \\\n",
    "A chessboard appeared, but it was triangular, and so big that only the nearest point could be seen. \\\n",
    "Right on this point was the world - turtle, elephants, the little orbiting sun and all. It was the \\\n",
    "Discworld, which existed only just this side of total improbability and, therefore, in border country. \\\n",
    "In border country the border gets crossed, and sometimes things creep into the universe that have \\\n",
    "rather more on their mind than a better life for their children and a wonderful future in the \\\n",
    "fruit picking and domestic service industries. On every other black or white triangle of the \\\n",
    "chessboard, all the way to infinity, was a small grey shape, rather like an empty hooded robe.\""
   ]
  },
  {
   "cell_type": "markdown",
   "id": "69db832d",
   "metadata": {},
   "source": [
    "1\\. Écrire un programme qui génère la liste `unique_words`, qui contient tous les mots du texte,\n",
    "sans doublons, et en minuscules. Le résultat devrait être le suivant (l'ordre peut être différent) :\n",
    "\n",
    "```python\n",
    "['a', 'infinity', 'reflection', 'with', 'like', 'big', 'briefly', 'into', 'children', 'which', 'fruit', 'picking', 'there', 'try', 'little', 'around', 'appearances', 'appeared', 'all', 'crossed', 'basis', 'improbability', 'their', 'discworld', 'black', 'to', 'death', 'future', 'only', 'my', 'robe', 'things', 'for', 'it', 'existed', 'said', 'sake', 'sometimes', 'right', 'way', 'that', 'country', 'chessboard', 'quoth', 'well', 'domestic', 'skull', 'wonderful', 'hooded', 'or', 'empty', 'bottom', 'mirror', 'himself', 'rather', 'over', 'every', 'triangle', 'roses', 'border', 'orbiting', 'was', 'from', 'show', 'be', 'pecked', 'bones', 'just', 'universe', 'me', 'triangular', 'gets', 'worth', 'have', 'climbed', 'service', 'fluttered', 'top', 'but', 'grey', 'claws', 'at', 'rats', 'creep', 'own', 'pattern', 'point', 'white', 'than', 'dark', 'therefore', 'frame', 'this', 'not', 'the', 'could', 'mind', 'turtle', 'scrabble', 'better', 'industries', 'looked', 'an', 'cherubs', 'life', 'anything', 'more', 'small', 'and', 'of', 'his', 'on', 'skulls', 'elephants', 'in', 'thoughts', 'seen', 'nearest', 'expectantly', 'other', 'side', 'shape', 'total', 'so', 'world', 'look', 'sun']\n",
    "```\n",
    "\n",
    "(évidemment ne faites pas juste un copier-coller)\n"
   ]
  },
  {
   "cell_type": "code",
   "execution_count": null,
   "id": "4ace0314",
   "metadata": {},
   "outputs": [],
   "source": []
  },
  {
   "cell_type": "markdown",
   "id": "807b1858",
   "metadata": {},
   "source": [
    "2\\. Écrire un programme qui extrait à partir de la liste `unique_words` la liste `attested_bigrams`\n",
    "des bigrammes de caractères qui apparaissent dans le texte.\n",
    "\n",
    "**Indice** On a déjà écrit du code pour extraire des bigrammes dans une séance précédente."
   ]
  },
  {
   "cell_type": "code",
   "execution_count": null,
   "id": "7eea7d92",
   "metadata": {},
   "outputs": [],
   "source": []
  },
  {
   "cell_type": "markdown",
   "id": "fec80bfd",
   "metadata": {},
   "source": [
    "3\\. Voici une liste des lettres de l'alphabet anglais. Utilisez-la pour générer une liste\n",
    "`possible_bigrams` de tous les bigrammes de caractères théoriquement possibles en anglais.\n"
   ]
  },
  {
   "cell_type": "code",
   "execution_count": null,
   "id": "9d64b747",
   "metadata": {},
   "outputs": [],
   "source": [
    "alphabet = \"abcdefghijklmnopqrstuvwxyz\""
   ]
  },
  {
   "cell_type": "markdown",
   "id": "7b5d32ec",
   "metadata": {},
   "source": [
    "4\\. Écrire un programme qui génère la liste `unattested_bigrams` des bigrammes de caractères\n",
    "non attestés, c'est-à-dire de tous les bigrammes qui sont possibles, mais qu'on ne trouve pas dans\n",
    "ce texte."
   ]
  },
  {
   "cell_type": "code",
   "execution_count": null,
   "id": "56415535",
   "metadata": {},
   "outputs": [],
   "source": []
  },
  {
   "cell_type": "markdown",
   "id": "26a51f38",
   "metadata": {},
   "source": [
    "### Réflexion\n",
    "\n",
    "Quelques questions sur votre travail :\n",
    "\n",
    "- Combien de temps avez-vous passé à faire ces exercices ?\n",
    "- Combien de temps avez-vous passé à relire le cours (ou les cours précédents) ?\n",
    "- Avez-vous l'impression d'avoir bien mémorisé les concepts et les techniques vus jusqu'ici ?\n",
    "- Qu'est-ce qui vous paraît le plus compliqué ?\n",
    "- À votre avis, pourquoi ?\n",
    "\n",
    "Merci de bien répondre à chacune de ces questions dans la cellule de texte ci-dessous (n'oubliez pas\n",
    "de l'exécuter avant de sauvegarder) : elles me permettent d'ajuster le cours en fonction de vos\n",
    "besoins, avec un peu de chance, elles devraient également vous aider à guider votre travail et à\n",
    "apprécier votre progression."
   ]
  },
  {
   "cell_type": "markdown",
   "id": "f791f90f",
   "metadata": {},
   "source": [
    "*Écrivez ici*"
   ]
  }
 ],
 "metadata": {
  "jupytext": {
   "formats": "ipynb,md",
   "split_at_heading": true
  },
  "kernelspec": {
   "display_name": "Python 3 (ipykernel)",
   "language": "python",
   "name": "python3"
  }
 },
 "nbformat": 4,
 "nbformat_minor": 5
}
